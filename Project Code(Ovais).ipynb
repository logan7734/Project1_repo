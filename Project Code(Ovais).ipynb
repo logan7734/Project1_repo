{
 "cells": [
  {
   "cell_type": "markdown",
   "metadata": {},
   "source": [
    "#### Dependencies\n",
    "***"
   ]
  },
  {
   "cell_type": "code",
   "execution_count": 2,
   "metadata": {},
   "outputs": [],
   "source": [
    "#Dependencies\n",
    "import pandas as pd\n",
    "import numpy as np\n",
    "import matplotlib.pyplot as plt\n",
    "\n"
   ]
  },
  {
   "cell_type": "markdown",
   "metadata": {},
   "source": [
    "#### Data Sets\n",
    "***"
   ]
  },
  {
   "cell_type": "code",
   "execution_count": 3,
   "metadata": {},
   "outputs": [],
   "source": [
    "#get Data files and turn into DataFrames\n",
    "\n",
    "nba_data_excel = \"NBA_Data_2000.xlsx\"\n",
    "player_data_excel = \"player_heightweight_data(cleanedinches).xlsm\"\n",
    "\n",
    "nba_data_df = pd.read_excel(nba_data_excel)\n",
    "height_weight_df = pd.read_excel(player_data_excel)\n"
   ]
  },
  {
   "cell_type": "markdown",
   "metadata": {},
   "source": [
    "#### DataFrame and DataFrame Manipulation\n",
    "***"
   ]
  },
  {
   "cell_type": "code",
   "execution_count": 4,
   "metadata": {},
   "outputs": [],
   "source": [
    "#preview DataFrames\n",
    "#print(nba_data_df.count())\n",
    "#print(height_weight_df.count())"
   ]
  },
  {
   "cell_type": "code",
   "execution_count": 5,
   "metadata": {},
   "outputs": [
    {
     "data": {
      "text/html": [
       "<div>\n",
       "<style scoped>\n",
       "    .dataframe tbody tr th:only-of-type {\n",
       "        vertical-align: middle;\n",
       "    }\n",
       "\n",
       "    .dataframe tbody tr th {\n",
       "        vertical-align: top;\n",
       "    }\n",
       "\n",
       "    .dataframe thead th {\n",
       "        text-align: right;\n",
       "    }\n",
       "</style>\n",
       "<table border=\"1\" class=\"dataframe\">\n",
       "  <thead>\n",
       "    <tr style=\"text-align: right;\">\n",
       "      <th></th>\n",
       "      <th>Year</th>\n",
       "      <th>name</th>\n",
       "      <th>Pos</th>\n",
       "      <th>Age</th>\n",
       "      <th>Tm</th>\n",
       "      <th>G</th>\n",
       "      <th>GS</th>\n",
       "      <th>MP</th>\n",
       "      <th>PER</th>\n",
       "      <th>TS%</th>\n",
       "      <th>...</th>\n",
       "      <th>FT%</th>\n",
       "      <th>ORB</th>\n",
       "      <th>DRB</th>\n",
       "      <th>TRB</th>\n",
       "      <th>AST</th>\n",
       "      <th>STL</th>\n",
       "      <th>BLK</th>\n",
       "      <th>TOV</th>\n",
       "      <th>PF</th>\n",
       "      <th>PTS</th>\n",
       "    </tr>\n",
       "  </thead>\n",
       "  <tbody>\n",
       "    <tr>\n",
       "      <th>0</th>\n",
       "      <td>2000</td>\n",
       "      <td>Tariq Abdul-Wahad</td>\n",
       "      <td>SG</td>\n",
       "      <td>25.0</td>\n",
       "      <td>TOT</td>\n",
       "      <td>61.0</td>\n",
       "      <td>56.0</td>\n",
       "      <td>1578.0</td>\n",
       "      <td>13.6</td>\n",
       "      <td>0.477</td>\n",
       "      <td>...</td>\n",
       "      <td>0.756</td>\n",
       "      <td>101.0</td>\n",
       "      <td>190.0</td>\n",
       "      <td>291.0</td>\n",
       "      <td>98.0</td>\n",
       "      <td>59.0</td>\n",
       "      <td>28.0</td>\n",
       "      <td>106.0</td>\n",
       "      <td>147.0</td>\n",
       "      <td>697.0</td>\n",
       "    </tr>\n",
       "    <tr>\n",
       "      <th>1</th>\n",
       "      <td>2000</td>\n",
       "      <td>Tariq Abdul-Wahad</td>\n",
       "      <td>SG</td>\n",
       "      <td>25.0</td>\n",
       "      <td>ORL</td>\n",
       "      <td>46.0</td>\n",
       "      <td>46.0</td>\n",
       "      <td>1205.0</td>\n",
       "      <td>14.4</td>\n",
       "      <td>0.484</td>\n",
       "      <td>...</td>\n",
       "      <td>0.762</td>\n",
       "      <td>77.0</td>\n",
       "      <td>162.0</td>\n",
       "      <td>239.0</td>\n",
       "      <td>72.0</td>\n",
       "      <td>53.0</td>\n",
       "      <td>16.0</td>\n",
       "      <td>87.0</td>\n",
       "      <td>116.0</td>\n",
       "      <td>563.0</td>\n",
       "    </tr>\n",
       "    <tr>\n",
       "      <th>2</th>\n",
       "      <td>2000</td>\n",
       "      <td>Tariq Abdul-Wahad</td>\n",
       "      <td>SG</td>\n",
       "      <td>25.0</td>\n",
       "      <td>DEN</td>\n",
       "      <td>15.0</td>\n",
       "      <td>10.0</td>\n",
       "      <td>373.0</td>\n",
       "      <td>10.8</td>\n",
       "      <td>0.448</td>\n",
       "      <td>...</td>\n",
       "      <td>0.738</td>\n",
       "      <td>24.0</td>\n",
       "      <td>28.0</td>\n",
       "      <td>52.0</td>\n",
       "      <td>26.0</td>\n",
       "      <td>6.0</td>\n",
       "      <td>12.0</td>\n",
       "      <td>19.0</td>\n",
       "      <td>31.0</td>\n",
       "      <td>134.0</td>\n",
       "    </tr>\n",
       "    <tr>\n",
       "      <th>3</th>\n",
       "      <td>2000</td>\n",
       "      <td>Shareef Abdur-Rahim</td>\n",
       "      <td>SF</td>\n",
       "      <td>23.0</td>\n",
       "      <td>VAN</td>\n",
       "      <td>82.0</td>\n",
       "      <td>82.0</td>\n",
       "      <td>3223.0</td>\n",
       "      <td>20.2</td>\n",
       "      <td>0.547</td>\n",
       "      <td>...</td>\n",
       "      <td>0.809</td>\n",
       "      <td>218.0</td>\n",
       "      <td>607.0</td>\n",
       "      <td>825.0</td>\n",
       "      <td>271.0</td>\n",
       "      <td>89.0</td>\n",
       "      <td>87.0</td>\n",
       "      <td>249.0</td>\n",
       "      <td>244.0</td>\n",
       "      <td>1663.0</td>\n",
       "    </tr>\n",
       "    <tr>\n",
       "      <th>4</th>\n",
       "      <td>2000</td>\n",
       "      <td>Cory Alexander</td>\n",
       "      <td>PG</td>\n",
       "      <td>26.0</td>\n",
       "      <td>DEN</td>\n",
       "      <td>29.0</td>\n",
       "      <td>2.0</td>\n",
       "      <td>329.0</td>\n",
       "      <td>8.8</td>\n",
       "      <td>0.381</td>\n",
       "      <td>...</td>\n",
       "      <td>0.773</td>\n",
       "      <td>8.0</td>\n",
       "      <td>34.0</td>\n",
       "      <td>42.0</td>\n",
       "      <td>58.0</td>\n",
       "      <td>24.0</td>\n",
       "      <td>2.0</td>\n",
       "      <td>28.0</td>\n",
       "      <td>39.0</td>\n",
       "      <td>82.0</td>\n",
       "    </tr>\n",
       "  </tbody>\n",
       "</table>\n",
       "<p>5 rows × 52 columns</p>\n",
       "</div>"
      ],
      "text/plain": [
       "   Year                 name Pos   Age   Tm     G    GS      MP   PER    TS%  \\\n",
       "0  2000    Tariq Abdul-Wahad  SG  25.0  TOT  61.0  56.0  1578.0  13.6  0.477   \n",
       "1  2000    Tariq Abdul-Wahad  SG  25.0  ORL  46.0  46.0  1205.0  14.4  0.484   \n",
       "2  2000    Tariq Abdul-Wahad  SG  25.0  DEN  15.0  10.0   373.0  10.8  0.448   \n",
       "3  2000  Shareef Abdur-Rahim  SF  23.0  VAN  82.0  82.0  3223.0  20.2  0.547   \n",
       "4  2000       Cory Alexander  PG  26.0  DEN  29.0   2.0   329.0   8.8  0.381   \n",
       "\n",
       "    ...      FT%    ORB    DRB    TRB    AST   STL   BLK    TOV     PF     PTS  \n",
       "0   ...    0.756  101.0  190.0  291.0   98.0  59.0  28.0  106.0  147.0   697.0  \n",
       "1   ...    0.762   77.0  162.0  239.0   72.0  53.0  16.0   87.0  116.0   563.0  \n",
       "2   ...    0.738   24.0   28.0   52.0   26.0   6.0  12.0   19.0   31.0   134.0  \n",
       "3   ...    0.809  218.0  607.0  825.0  271.0  89.0  87.0  249.0  244.0  1663.0  \n",
       "4   ...    0.773    8.0   34.0   42.0   58.0  24.0   2.0   28.0   39.0    82.0  \n",
       "\n",
       "[5 rows x 52 columns]"
      ]
     },
     "execution_count": 5,
     "metadata": {},
     "output_type": "execute_result"
    }
   ],
   "source": [
    "#drop N/A values in year: nba_data_df\n",
    "nba_data_df['Year'] = nba_data_df.Year.fillna(0)\n",
    "\n",
    "#convert year into integer value\n",
    "nba_data_df['Year'] = nba_data_df.Year.astype(int)\n",
    "\n",
    "#Change 'Player' column to 'name'\n",
    "nba_data_df = nba_data_df.rename(columns={\"Player\":\"name\"})\n",
    "\n",
    "#Preview nba_data_df\n",
    "\n",
    "nba_data_df.head()"
   ]
  },
  {
   "cell_type": "code",
   "execution_count": 6,
   "metadata": {
    "scrolled": true
   },
   "outputs": [
    {
     "data": {
      "text/html": [
       "<div>\n",
       "<style scoped>\n",
       "    .dataframe tbody tr th:only-of-type {\n",
       "        vertical-align: middle;\n",
       "    }\n",
       "\n",
       "    .dataframe tbody tr th {\n",
       "        vertical-align: top;\n",
       "    }\n",
       "\n",
       "    .dataframe thead th {\n",
       "        text-align: right;\n",
       "    }\n",
       "</style>\n",
       "<table border=\"1\" class=\"dataframe\">\n",
       "  <thead>\n",
       "    <tr style=\"text-align: right;\">\n",
       "      <th></th>\n",
       "      <th>name</th>\n",
       "      <th>position</th>\n",
       "      <th>weight</th>\n",
       "      <th>height (inches)</th>\n",
       "      <th>height(feet)</th>\n",
       "    </tr>\n",
       "  </thead>\n",
       "  <tbody>\n",
       "    <tr>\n",
       "      <th>0</th>\n",
       "      <td>Alaa Abdelnaby</td>\n",
       "      <td>F-C</td>\n",
       "      <td>240</td>\n",
       "      <td>82</td>\n",
       "      <td>6ft 10in</td>\n",
       "    </tr>\n",
       "    <tr>\n",
       "      <th>1</th>\n",
       "      <td>Zaid Abdul-Aziz</td>\n",
       "      <td>NaN</td>\n",
       "      <td>235</td>\n",
       "      <td>81</td>\n",
       "      <td>6ft 9in</td>\n",
       "    </tr>\n",
       "    <tr>\n",
       "      <th>2</th>\n",
       "      <td>Kareem Abdul-Jabbar</td>\n",
       "      <td>C</td>\n",
       "      <td>225</td>\n",
       "      <td>86</td>\n",
       "      <td>7ft 2in</td>\n",
       "    </tr>\n",
       "    <tr>\n",
       "      <th>3</th>\n",
       "      <td>Mahmoud Abdul-Rauf</td>\n",
       "      <td>G</td>\n",
       "      <td>162</td>\n",
       "      <td>73</td>\n",
       "      <td>6ft 1in</td>\n",
       "    </tr>\n",
       "    <tr>\n",
       "      <th>4</th>\n",
       "      <td>Tariq Abdul-Wahad</td>\n",
       "      <td>F</td>\n",
       "      <td>223</td>\n",
       "      <td>78</td>\n",
       "      <td>6ft 6in</td>\n",
       "    </tr>\n",
       "  </tbody>\n",
       "</table>\n",
       "</div>"
      ],
      "text/plain": [
       "                  name position  weight  height (inches) height(feet)\n",
       "0       Alaa Abdelnaby      F-C     240               82     6ft 10in\n",
       "1      Zaid Abdul-Aziz      NaN     235               81      6ft 9in\n",
       "2  Kareem Abdul-Jabbar        C     225               86      7ft 2in\n",
       "3   Mahmoud Abdul-Rauf        G     162               73      6ft 1in\n",
       "4    Tariq Abdul-Wahad        F     223               78      6ft 6in"
      ]
     },
     "execution_count": 6,
     "metadata": {},
     "output_type": "execute_result"
    }
   ],
   "source": [
    "#drop N/A values in year: nba_data_df\n",
    "height_weight_df['weight'] = height_weight_df.weight.fillna(0)\n",
    "\n",
    "#Convert weight into integer value: height_weight_df\n",
    "height_weight_df['weight'] = height_weight_df.weight.astype(int)\n",
    "\n",
    "#Preview\n",
    "height_weight_df.head()"
   ]
  },
  {
   "cell_type": "code",
   "execution_count": 7,
   "metadata": {},
   "outputs": [
    {
     "data": {
      "text/html": [
       "<div>\n",
       "<style scoped>\n",
       "    .dataframe tbody tr th:only-of-type {\n",
       "        vertical-align: middle;\n",
       "    }\n",
       "\n",
       "    .dataframe tbody tr th {\n",
       "        vertical-align: top;\n",
       "    }\n",
       "\n",
       "    .dataframe thead th {\n",
       "        text-align: right;\n",
       "    }\n",
       "</style>\n",
       "<table border=\"1\" class=\"dataframe\">\n",
       "  <thead>\n",
       "    <tr style=\"text-align: right;\">\n",
       "      <th></th>\n",
       "      <th>Year</th>\n",
       "      <th>name</th>\n",
       "      <th>Pos</th>\n",
       "      <th>Age</th>\n",
       "      <th>Tm</th>\n",
       "      <th>G</th>\n",
       "      <th>GS</th>\n",
       "      <th>MP</th>\n",
       "      <th>PER</th>\n",
       "      <th>TS%</th>\n",
       "      <th>...</th>\n",
       "      <th>AST</th>\n",
       "      <th>STL</th>\n",
       "      <th>BLK</th>\n",
       "      <th>TOV</th>\n",
       "      <th>PF</th>\n",
       "      <th>PTS</th>\n",
       "      <th>position</th>\n",
       "      <th>weight</th>\n",
       "      <th>height (inches)</th>\n",
       "      <th>height(feet)</th>\n",
       "    </tr>\n",
       "  </thead>\n",
       "  <tbody>\n",
       "    <tr>\n",
       "      <th>0</th>\n",
       "      <td>2000</td>\n",
       "      <td>Tariq Abdul-Wahad</td>\n",
       "      <td>SG</td>\n",
       "      <td>25.0</td>\n",
       "      <td>TOT</td>\n",
       "      <td>61.0</td>\n",
       "      <td>56.0</td>\n",
       "      <td>1578.0</td>\n",
       "      <td>13.6</td>\n",
       "      <td>0.477</td>\n",
       "      <td>...</td>\n",
       "      <td>98.0</td>\n",
       "      <td>59.0</td>\n",
       "      <td>28.0</td>\n",
       "      <td>106.0</td>\n",
       "      <td>147.0</td>\n",
       "      <td>697.0</td>\n",
       "      <td>F</td>\n",
       "      <td>223</td>\n",
       "      <td>78</td>\n",
       "      <td>6ft 6in</td>\n",
       "    </tr>\n",
       "    <tr>\n",
       "      <th>1</th>\n",
       "      <td>2000</td>\n",
       "      <td>Tariq Abdul-Wahad</td>\n",
       "      <td>SG</td>\n",
       "      <td>25.0</td>\n",
       "      <td>ORL</td>\n",
       "      <td>46.0</td>\n",
       "      <td>46.0</td>\n",
       "      <td>1205.0</td>\n",
       "      <td>14.4</td>\n",
       "      <td>0.484</td>\n",
       "      <td>...</td>\n",
       "      <td>72.0</td>\n",
       "      <td>53.0</td>\n",
       "      <td>16.0</td>\n",
       "      <td>87.0</td>\n",
       "      <td>116.0</td>\n",
       "      <td>563.0</td>\n",
       "      <td>F</td>\n",
       "      <td>223</td>\n",
       "      <td>78</td>\n",
       "      <td>6ft 6in</td>\n",
       "    </tr>\n",
       "    <tr>\n",
       "      <th>2</th>\n",
       "      <td>2000</td>\n",
       "      <td>Tariq Abdul-Wahad</td>\n",
       "      <td>SG</td>\n",
       "      <td>25.0</td>\n",
       "      <td>DEN</td>\n",
       "      <td>15.0</td>\n",
       "      <td>10.0</td>\n",
       "      <td>373.0</td>\n",
       "      <td>10.8</td>\n",
       "      <td>0.448</td>\n",
       "      <td>...</td>\n",
       "      <td>26.0</td>\n",
       "      <td>6.0</td>\n",
       "      <td>12.0</td>\n",
       "      <td>19.0</td>\n",
       "      <td>31.0</td>\n",
       "      <td>134.0</td>\n",
       "      <td>F</td>\n",
       "      <td>223</td>\n",
       "      <td>78</td>\n",
       "      <td>6ft 6in</td>\n",
       "    </tr>\n",
       "    <tr>\n",
       "      <th>3</th>\n",
       "      <td>2001</td>\n",
       "      <td>Tariq Abdul-Wahad</td>\n",
       "      <td>SG</td>\n",
       "      <td>26.0</td>\n",
       "      <td>DEN</td>\n",
       "      <td>29.0</td>\n",
       "      <td>12.0</td>\n",
       "      <td>420.0</td>\n",
       "      <td>5.8</td>\n",
       "      <td>0.438</td>\n",
       "      <td>...</td>\n",
       "      <td>22.0</td>\n",
       "      <td>14.0</td>\n",
       "      <td>13.0</td>\n",
       "      <td>34.0</td>\n",
       "      <td>54.0</td>\n",
       "      <td>111.0</td>\n",
       "      <td>F</td>\n",
       "      <td>223</td>\n",
       "      <td>78</td>\n",
       "      <td>6ft 6in</td>\n",
       "    </tr>\n",
       "    <tr>\n",
       "      <th>4</th>\n",
       "      <td>2002</td>\n",
       "      <td>Tariq Abdul-Wahad</td>\n",
       "      <td>SG</td>\n",
       "      <td>27.0</td>\n",
       "      <td>TOT</td>\n",
       "      <td>24.0</td>\n",
       "      <td>12.0</td>\n",
       "      <td>441.0</td>\n",
       "      <td>9.8</td>\n",
       "      <td>0.418</td>\n",
       "      <td>...</td>\n",
       "      <td>24.0</td>\n",
       "      <td>20.0</td>\n",
       "      <td>10.0</td>\n",
       "      <td>27.0</td>\n",
       "      <td>56.0</td>\n",
       "      <td>135.0</td>\n",
       "      <td>F</td>\n",
       "      <td>223</td>\n",
       "      <td>78</td>\n",
       "      <td>6ft 6in</td>\n",
       "    </tr>\n",
       "  </tbody>\n",
       "</table>\n",
       "<p>5 rows × 56 columns</p>\n",
       "</div>"
      ],
      "text/plain": [
       "   Year               name Pos   Age   Tm     G    GS      MP   PER    TS%  \\\n",
       "0  2000  Tariq Abdul-Wahad  SG  25.0  TOT  61.0  56.0  1578.0  13.6  0.477   \n",
       "1  2000  Tariq Abdul-Wahad  SG  25.0  ORL  46.0  46.0  1205.0  14.4  0.484   \n",
       "2  2000  Tariq Abdul-Wahad  SG  25.0  DEN  15.0  10.0   373.0  10.8  0.448   \n",
       "3  2001  Tariq Abdul-Wahad  SG  26.0  DEN  29.0  12.0   420.0   5.8  0.438   \n",
       "4  2002  Tariq Abdul-Wahad  SG  27.0  TOT  24.0  12.0   441.0   9.8  0.418   \n",
       "\n",
       "       ...        AST   STL   BLK    TOV     PF    PTS  position  weight  \\\n",
       "0      ...       98.0  59.0  28.0  106.0  147.0  697.0         F     223   \n",
       "1      ...       72.0  53.0  16.0   87.0  116.0  563.0         F     223   \n",
       "2      ...       26.0   6.0  12.0   19.0   31.0  134.0         F     223   \n",
       "3      ...       22.0  14.0  13.0   34.0   54.0  111.0         F     223   \n",
       "4      ...       24.0  20.0  10.0   27.0   56.0  135.0         F     223   \n",
       "\n",
       "   height (inches)  height(feet)  \n",
       "0               78       6ft 6in  \n",
       "1               78       6ft 6in  \n",
       "2               78       6ft 6in  \n",
       "3               78       6ft 6in  \n",
       "4               78       6ft 6in  \n",
       "\n",
       "[5 rows x 56 columns]"
      ]
     },
     "execution_count": 7,
     "metadata": {},
     "output_type": "execute_result"
    }
   ],
   "source": [
    "#Merge Both DataFrames on: 'name' column\n",
    "\n",
    "merged_df = pd.merge(nba_data_df, height_weight_df)\n",
    "merged_df.head()"
   ]
  },
  {
   "cell_type": "code",
   "execution_count": 8,
   "metadata": {},
   "outputs": [
    {
     "data": {
      "text/plain": [
       "<pandas.core.groupby.groupby.DataFrameGroupBy object at 0x0000016A5A4AA128>"
      ]
     },
     "execution_count": 8,
     "metadata": {},
     "output_type": "execute_result"
    }
   ],
   "source": [
    "#remove 'unnamed' and position columns; groupby year and position\n",
    "\n",
    "complete_df = merged_df.drop([\"position\"],axis=1)\n",
    "complete_df = complete_df.sort_values(by=\"Year\")\n",
    "\n",
    "grouped_df = complete_df.groupby([\"Year\", \"Pos\"])\n",
    "grouped_df"
   ]
  },
  {
   "cell_type": "code",
   "execution_count": 9,
   "metadata": {},
   "outputs": [
    {
     "data": {
      "text/plain": [
       "Index(['Year', 'name', 'Pos', 'Age', 'Tm', 'G', 'GS', 'MP', 'PER', 'TS%',\n",
       "       '3PAr', 'FTr', 'ORB%', 'DRB%', 'TRB%', 'AST%', 'STL%', 'BLK%', 'TOV%',\n",
       "       'USG%', 'blanl', 'OWS', 'DWS', 'WS', 'WS/48', 'blank2', 'OBPM', 'DBPM',\n",
       "       'BPM', 'VORP', 'FG', 'FGA', 'FG%', '3P', '3PA', '3P%', '2P', '2PA',\n",
       "       '2P%', 'eFG%', 'FT', 'FTA', 'FT%', 'ORB', 'DRB', 'TRB', 'AST', 'STL',\n",
       "       'BLK', 'TOV', 'PF', 'PTS', 'weight', 'height (inches)', 'height(feet)'],\n",
       "      dtype='object')"
      ]
     },
     "execution_count": 9,
     "metadata": {},
     "output_type": "execute_result"
    }
   ],
   "source": [
    "#Find out column names of original dataframe\n",
    "complete_df.columns"
   ]
  },
  {
   "cell_type": "markdown",
   "metadata": {},
   "source": [
    "#### Data Analysis\n",
    "***"
   ]
  },
  {
   "cell_type": "markdown",
   "metadata": {},
   "source": [
    "##### Average minutes played "
   ]
  },
  {
   "cell_type": "code",
   "execution_count": 10,
   "metadata": {},
   "outputs": [
    {
     "data": {
      "text/html": [
       "<div>\n",
       "<style scoped>\n",
       "    .dataframe tbody tr th:only-of-type {\n",
       "        vertical-align: middle;\n",
       "    }\n",
       "\n",
       "    .dataframe tbody tr th {\n",
       "        vertical-align: top;\n",
       "    }\n",
       "\n",
       "    .dataframe thead th {\n",
       "        text-align: right;\n",
       "    }\n",
       "</style>\n",
       "<table border=\"1\" class=\"dataframe\">\n",
       "  <thead>\n",
       "    <tr style=\"text-align: right;\">\n",
       "      <th></th>\n",
       "      <th>Year</th>\n",
       "      <th>Pos</th>\n",
       "      <th>MP</th>\n",
       "    </tr>\n",
       "  </thead>\n",
       "  <tbody>\n",
       "    <tr>\n",
       "      <th>0</th>\n",
       "      <td>2000</td>\n",
       "      <td>C</td>\n",
       "      <td>1035.475000</td>\n",
       "    </tr>\n",
       "    <tr>\n",
       "      <th>1</th>\n",
       "      <td>2000</td>\n",
       "      <td>PF</td>\n",
       "      <td>1096.312500</td>\n",
       "    </tr>\n",
       "    <tr>\n",
       "      <th>2</th>\n",
       "      <td>2000</td>\n",
       "      <td>PF-SF</td>\n",
       "      <td>1305.000000</td>\n",
       "    </tr>\n",
       "    <tr>\n",
       "      <th>3</th>\n",
       "      <td>2000</td>\n",
       "      <td>PG</td>\n",
       "      <td>1104.943396</td>\n",
       "    </tr>\n",
       "    <tr>\n",
       "      <th>4</th>\n",
       "      <td>2000</td>\n",
       "      <td>SF</td>\n",
       "      <td>1296.846154</td>\n",
       "    </tr>\n",
       "  </tbody>\n",
       "</table>\n",
       "</div>"
      ],
      "text/plain": [
       "   Year    Pos           MP\n",
       "0  2000      C  1035.475000\n",
       "1  2000     PF  1096.312500\n",
       "2  2000  PF-SF  1305.000000\n",
       "3  2000     PG  1104.943396\n",
       "4  2000     SF  1296.846154"
      ]
     },
     "execution_count": 10,
     "metadata": {},
     "output_type": "execute_result"
    }
   ],
   "source": [
    "#Get the average minutes played for each position and each year\n",
    "\n",
    "avg_minutes_df = grouped_df.MP.mean()\n",
    "type(avg_minutes_df)\n",
    "\n",
    "#Turn into DataFrame\n",
    "\n",
    "avg_minutes_df = avg_minutes_df.to_frame()\n",
    "type(avg_minutes_df)\n",
    "\n",
    "#Reset index of DataFrame\n",
    "avg_minutes_df = avg_minutes_df.reset_index()\n",
    "avg_minutes_df.head()"
   ]
  },
  {
   "cell_type": "code",
   "execution_count": 19,
   "metadata": {},
   "outputs": [
    {
     "data": {
      "text/plain": [
       "Text(0.5,1,'Average Minutes Played by Centers')"
      ]
     },
     "execution_count": 19,
     "metadata": {},
     "output_type": "execute_result"
    },
    {
     "data": {
      "image/png": "[encoded data removed]",
      "text/plain": [
       "<Figure size 432x288 with 1 Axes>"
      ]
     },
     "metadata": {
      "needs_background": "light"
     },
     "output_type": "display_data"
    }
   ],
   "source": [
    "#Centers Minutes\n",
    "centers_min = avg_minutes_df.loc[avg_minutes_df[\"Pos\"] == \"C\"]\n",
    "\n",
    "plt.bar(centers_min[\"Year\"], centers_min[\"MP\"], color='Blue')\n",
    "\n",
    "\n",
    "#Set Axis Labels and Titles\n",
    "plt.xlabel(\"Years\")\n",
    "plt.ylabel(\"Average Minutes Played\")\n",
    "plt.title(\"Average Minutes Played by Centers\")"
   ]
  },
  {
   "cell_type": "code",
   "execution_count": 18,
   "metadata": {},
   "outputs": [
    {
     "data": {
      "text/plain": [
       "Text(0.5,1,'Average Minutes Played by Power Forwards')"
      ]
     },
     "execution_count": 18,
     "metadata": {},
     "output_type": "execute_result"
    },
    {
     "data": {
      "image/png": "[encoded data removed]",
      "text/plain": [
       "<Figure size 432x288 with 1 Axes>"
      ]
     },
     "metadata": {
      "needs_background": "light"
     },
     "output_type": "display_data"
    }
   ],
   "source": [
    "#Power Forward Minutes\n",
    "pf_min = avg_minutes_df.loc[avg_minutes_df[\"Pos\"] == \"PF\"]\n",
    "\n",
    "plt.bar(pf_min[\"Year\"],pf_min[\"MP\"],color=\"Green\")\n",
    "\n",
    "#Set Axis Labels and Titles\n",
    "plt.xlabel(\"Years\")\n",
    "plt.ylabel(\"Average Minutes Played\")\n",
    "plt.title(\"Average Minutes Played by Power Forwards\")"
   ]
  },
  {
   "cell_type": "code",
   "execution_count": 17,
   "metadata": {},
   "outputs": [
    {
     "data": {
      "text/plain": [
       "Text(0.5,1,'Average Minutes Played by Power Forward/Center(s)')"
      ]
     },
     "execution_count": 17,
     "metadata": {},
     "output_type": "execute_result"
    },
    {
     "data": {
      "image/png": "[encoded data removed]",
      "text/plain": [
       "<Figure size 432x288 with 1 Axes>"
      ]
     },
     "metadata": {
      "needs_background": "light"
     },
     "output_type": "display_data"
    }
   ],
   "source": [
    "#Power Forward-Center Minutes\n",
    "pf_c_min = avg_minutes_df.loc[avg_minutes_df[\"Pos\"] == \"PF-C\"]\n",
    "\n",
    "plt.bar(pf_c_min[\"Year\"],pf_c_min[\"MP\"],color=\"orange\")\n",
    "\n",
    "#Set Axis Labels and Titles\n",
    "plt.xlabel(\"Years\")\n",
    "plt.ylabel(\"Average Minutes Played\")\n",
    "plt.title(\"Average Minutes Played by Power Forward/Center(s)\")"
   ]
  },
  {
   "cell_type": "code",
   "execution_count": 14,
   "metadata": {},
   "outputs": [
    {
     "data": {
      "text/plain": [
       "Text(0.5,1,'Average Minutes Played by Center-Power Forward(s)')"
      ]
     },
     "execution_count": 14,
     "metadata": {},
     "output_type": "execute_result"
    },
    {
     "data": {
      "image/png": "[encoded data removed]",
      "text/plain": [
       "<Figure size 432x288 with 1 Axes>"
      ]
     },
     "metadata": {
      "needs_background": "light"
     },
     "output_type": "display_data"
    }
   ],
   "source": [
    "#Center-Power Forward Minutes\n",
    "c_pfmin = avg_minutes_df.loc[avg_minutes_df[\"Pos\"] == \"C-PF\"]\n",
    "\n",
    "plt.bar(c_pfmin[\"Year\"],c_pfmin[\"MP\"],color=\"purple\")\n",
    "\n",
    "#Set Axis Labels and Titles\n",
    "#Set Axis Labels and Titles\n",
    "plt.xlabel(\"Years\")\n",
    "plt.ylabel(\"Average Minutes Played\")\n",
    "plt.title(\"Average Minutes Played by Center-Power Forward(s)\")"
   ]
  },
  {
   "cell_type": "code",
   "execution_count": 15,
   "metadata": {},
   "outputs": [
    {
     "data": {
      "text/plain": [
       "<matplotlib.collections.PathCollection at 0x16a5b64f7f0>"
      ]
     },
     "execution_count": 15,
     "metadata": {},
     "output_type": "execute_result"
    },
    {
     "data": {
      "image/png": "[encoded data removed]",
      "text/plain": [
       "<Figure size 432x288 with 1 Axes>"
      ]
     },
     "metadata": {
      "needs_background": "light"
     },
     "output_type": "display_data"
    }
   ],
   "source": [
    "#all Together\n",
    "\n",
    "plt.scatter(centers_min[\"Year\"], centers_min[\"MP\"], c='Blue')\n",
    "plt.scatter(pf_min[\"Year\"],pf_min[\"MP\"],c=\"Green\")\n",
    "plt.scatter(pf_c_min[\"Year\"],pf_c_min[\"MP\"],c=\"orange\")\n",
    "plt.scatter(c_pfmin[\"Year\"],c_pfmin[\"MP\"],c=\"purple\")\n"
   ]
  },
  {
   "cell_type": "code",
   "execution_count": null,
   "metadata": {},
   "outputs": [],
   "source": []
  },
  {
   "cell_type": "code",
   "execution_count": 16,
   "metadata": {},
   "outputs": [],
   "source": [
    "#Disregard\n",
    "\n",
    "#set multi-index by year and name: year_name_df\n",
    "#year_pos_df = complete_df.set_index(['Year',('Pos')])\n",
    "#year_pos_df = year_pos_df.sort_index()\n",
    "#year_pos_df.mean()\n",
    "\n",
    "\n",
    "\n",
    "#Disregard\n",
    "\n",
    "#Create a DataFrame only containing big men\n",
    "#year_2000 = year_pos_df[np.in1d(year_pos_df.index.get_level_values(0), [2000])]\n",
    "#big_men_df_2000 = year_2000[np.in1d(year_2000.index.get_level_values(1), ['C','C-PF','PF', 'PF-C'])]\n",
    "#big_men_df_2000\n"
   ]
  }
 ],
 "metadata": {
  "kernelspec": {
   "display_name": "Python 3",
   "language": "python",
   "name": "python3"
  },
  "language_info": {
   "codemirror_mode": {
    "name": "ipython",
    "version": 3
   },
   "file_extension": ".py",
   "mimetype": "text/x-python",
   "name": "python",
   "nbconvert_exporter": "python",
   "pygments_lexer": "ipython3",
   "version": "3.7.1"
  }
 },
 "nbformat": 4,
 "nbformat_minor": 2
}
