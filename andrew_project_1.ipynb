{
 "cells": [
  {
   "cell_type": "code",
   "execution_count": 1,
   "metadata": {},
   "outputs": [],
   "source": [
    "import pandas as pd\n",
    "import numpy as np\n",
    "from pandas import ExcelFile\n",
    "import datetime as dt\n",
    "import matplotlib.pyplot as plt"
   ]
  },
  {
   "cell_type": "code",
   "execution_count": 2,
   "metadata": {},
   "outputs": [
    {
     "data": {
      "text/html": [
       "<div>\n",
       "<style scoped>\n",
       "    .dataframe tbody tr th:only-of-type {\n",
       "        vertical-align: middle;\n",
       "    }\n",
       "\n",
       "    .dataframe tbody tr th {\n",
       "        vertical-align: top;\n",
       "    }\n",
       "\n",
       "    .dataframe thead th {\n",
       "        text-align: right;\n",
       "    }\n",
       "</style>\n",
       "<table border=\"1\" class=\"dataframe\">\n",
       "  <thead>\n",
       "    <tr style=\"text-align: right;\">\n",
       "      <th></th>\n",
       "      <th>Year</th>\n",
       "      <th>Player</th>\n",
       "      <th>Pos</th>\n",
       "      <th>Age</th>\n",
       "      <th>Tm</th>\n",
       "      <th>G</th>\n",
       "      <th>GS</th>\n",
       "      <th>MP</th>\n",
       "      <th>PER</th>\n",
       "      <th>TS%</th>\n",
       "      <th>...</th>\n",
       "      <th>FT%</th>\n",
       "      <th>ORB</th>\n",
       "      <th>DRB</th>\n",
       "      <th>TRB</th>\n",
       "      <th>AST</th>\n",
       "      <th>STL</th>\n",
       "      <th>BLK</th>\n",
       "      <th>TOV</th>\n",
       "      <th>PF</th>\n",
       "      <th>PTS</th>\n",
       "    </tr>\n",
       "  </thead>\n",
       "  <tbody>\n",
       "    <tr>\n",
       "      <th>0</th>\n",
       "      <td>1950.0</td>\n",
       "      <td>Curly Armstrong</td>\n",
       "      <td>G-F</td>\n",
       "      <td>31.0</td>\n",
       "      <td>FTW</td>\n",
       "      <td>63.0</td>\n",
       "      <td>NaN</td>\n",
       "      <td>NaN</td>\n",
       "      <td>NaN</td>\n",
       "      <td>0.368</td>\n",
       "      <td>...</td>\n",
       "      <td>0.705</td>\n",
       "      <td>NaN</td>\n",
       "      <td>NaN</td>\n",
       "      <td>NaN</td>\n",
       "      <td>176.0</td>\n",
       "      <td>NaN</td>\n",
       "      <td>NaN</td>\n",
       "      <td>NaN</td>\n",
       "      <td>217.0</td>\n",
       "      <td>458.0</td>\n",
       "    </tr>\n",
       "    <tr>\n",
       "      <th>1</th>\n",
       "      <td>1950.0</td>\n",
       "      <td>Cliff Barker</td>\n",
       "      <td>SG</td>\n",
       "      <td>29.0</td>\n",
       "      <td>INO</td>\n",
       "      <td>49.0</td>\n",
       "      <td>NaN</td>\n",
       "      <td>NaN</td>\n",
       "      <td>NaN</td>\n",
       "      <td>0.435</td>\n",
       "      <td>...</td>\n",
       "      <td>0.708</td>\n",
       "      <td>NaN</td>\n",
       "      <td>NaN</td>\n",
       "      <td>NaN</td>\n",
       "      <td>109.0</td>\n",
       "      <td>NaN</td>\n",
       "      <td>NaN</td>\n",
       "      <td>NaN</td>\n",
       "      <td>99.0</td>\n",
       "      <td>279.0</td>\n",
       "    </tr>\n",
       "    <tr>\n",
       "      <th>2</th>\n",
       "      <td>1950.0</td>\n",
       "      <td>Leo Barnhorst</td>\n",
       "      <td>SF</td>\n",
       "      <td>25.0</td>\n",
       "      <td>CHS</td>\n",
       "      <td>67.0</td>\n",
       "      <td>NaN</td>\n",
       "      <td>NaN</td>\n",
       "      <td>NaN</td>\n",
       "      <td>0.394</td>\n",
       "      <td>...</td>\n",
       "      <td>0.698</td>\n",
       "      <td>NaN</td>\n",
       "      <td>NaN</td>\n",
       "      <td>NaN</td>\n",
       "      <td>140.0</td>\n",
       "      <td>NaN</td>\n",
       "      <td>NaN</td>\n",
       "      <td>NaN</td>\n",
       "      <td>192.0</td>\n",
       "      <td>438.0</td>\n",
       "    </tr>\n",
       "    <tr>\n",
       "      <th>3</th>\n",
       "      <td>1950.0</td>\n",
       "      <td>Ed Bartels</td>\n",
       "      <td>F</td>\n",
       "      <td>24.0</td>\n",
       "      <td>TOT</td>\n",
       "      <td>15.0</td>\n",
       "      <td>NaN</td>\n",
       "      <td>NaN</td>\n",
       "      <td>NaN</td>\n",
       "      <td>0.312</td>\n",
       "      <td>...</td>\n",
       "      <td>0.559</td>\n",
       "      <td>NaN</td>\n",
       "      <td>NaN</td>\n",
       "      <td>NaN</td>\n",
       "      <td>20.0</td>\n",
       "      <td>NaN</td>\n",
       "      <td>NaN</td>\n",
       "      <td>NaN</td>\n",
       "      <td>29.0</td>\n",
       "      <td>63.0</td>\n",
       "    </tr>\n",
       "    <tr>\n",
       "      <th>4</th>\n",
       "      <td>1950.0</td>\n",
       "      <td>Ed Bartels</td>\n",
       "      <td>F</td>\n",
       "      <td>24.0</td>\n",
       "      <td>DNN</td>\n",
       "      <td>13.0</td>\n",
       "      <td>NaN</td>\n",
       "      <td>NaN</td>\n",
       "      <td>NaN</td>\n",
       "      <td>0.308</td>\n",
       "      <td>...</td>\n",
       "      <td>0.548</td>\n",
       "      <td>NaN</td>\n",
       "      <td>NaN</td>\n",
       "      <td>NaN</td>\n",
       "      <td>20.0</td>\n",
       "      <td>NaN</td>\n",
       "      <td>NaN</td>\n",
       "      <td>NaN</td>\n",
       "      <td>27.0</td>\n",
       "      <td>59.0</td>\n",
       "    </tr>\n",
       "  </tbody>\n",
       "</table>\n",
       "<p>5 rows × 52 columns</p>\n",
       "</div>"
      ],
      "text/plain": [
       "     Year           Player  Pos   Age   Tm     G  GS  MP  PER    TS%  ...    \\\n",
       "0  1950.0  Curly Armstrong  G-F  31.0  FTW  63.0 NaN NaN  NaN  0.368  ...     \n",
       "1  1950.0     Cliff Barker   SG  29.0  INO  49.0 NaN NaN  NaN  0.435  ...     \n",
       "2  1950.0    Leo Barnhorst   SF  25.0  CHS  67.0 NaN NaN  NaN  0.394  ...     \n",
       "3  1950.0       Ed Bartels    F  24.0  TOT  15.0 NaN NaN  NaN  0.312  ...     \n",
       "4  1950.0       Ed Bartels    F  24.0  DNN  13.0 NaN NaN  NaN  0.308  ...     \n",
       "\n",
       "     FT%  ORB  DRB  TRB    AST  STL  BLK  TOV     PF    PTS  \n",
       "0  0.705  NaN  NaN  NaN  176.0  NaN  NaN  NaN  217.0  458.0  \n",
       "1  0.708  NaN  NaN  NaN  109.0  NaN  NaN  NaN   99.0  279.0  \n",
       "2  0.698  NaN  NaN  NaN  140.0  NaN  NaN  NaN  192.0  438.0  \n",
       "3  0.559  NaN  NaN  NaN   20.0  NaN  NaN  NaN   29.0   63.0  \n",
       "4  0.548  NaN  NaN  NaN   20.0  NaN  NaN  NaN   27.0   59.0  \n",
       "\n",
       "[5 rows x 52 columns]"
      ]
     },
     "execution_count": 2,
     "metadata": {},
     "output_type": "execute_result"
    }
   ],
   "source": [
    "#Overarching objective: view the average number of 2's vs 3's taken by big men (power forwards\n",
    "#and centers) from 2000 to 2017\n",
    "\n",
    "hoops_data = pd.read_excel(\"NBA+Data.xlsx\", sheet_name =\"NBA+Data\")\n",
    "hoops_data.head()\n",
    "\n",
    "\n"
   ]
  },
  {
   "cell_type": "code",
   "execution_count": 3,
   "metadata": {},
   "outputs": [
    {
     "data": {
      "text/html": [
       "<div>\n",
       "<style scoped>\n",
       "    .dataframe tbody tr th:only-of-type {\n",
       "        vertical-align: middle;\n",
       "    }\n",
       "\n",
       "    .dataframe tbody tr th {\n",
       "        vertical-align: top;\n",
       "    }\n",
       "\n",
       "    .dataframe thead th {\n",
       "        text-align: right;\n",
       "    }\n",
       "</style>\n",
       "<table border=\"1\" class=\"dataframe\">\n",
       "  <thead>\n",
       "    <tr style=\"text-align: right;\">\n",
       "      <th></th>\n",
       "      <th>Year</th>\n",
       "      <th>Player</th>\n",
       "      <th>Pos</th>\n",
       "      <th>Age</th>\n",
       "      <th>Tm</th>\n",
       "      <th>G</th>\n",
       "      <th>GS</th>\n",
       "      <th>MP</th>\n",
       "      <th>PER</th>\n",
       "      <th>TS%</th>\n",
       "      <th>...</th>\n",
       "      <th>FT%</th>\n",
       "      <th>ORB</th>\n",
       "      <th>DRB</th>\n",
       "      <th>TRB</th>\n",
       "      <th>AST</th>\n",
       "      <th>STL</th>\n",
       "      <th>BLK</th>\n",
       "      <th>TOV</th>\n",
       "      <th>PF</th>\n",
       "      <th>PTS</th>\n",
       "    </tr>\n",
       "  </thead>\n",
       "  <tbody>\n",
       "    <tr>\n",
       "      <th>14470</th>\n",
       "      <td>2000.0</td>\n",
       "      <td>Tariq Abdul-Wahad</td>\n",
       "      <td>SG</td>\n",
       "      <td>25.0</td>\n",
       "      <td>TOT</td>\n",
       "      <td>61.0</td>\n",
       "      <td>56.0</td>\n",
       "      <td>1578.0</td>\n",
       "      <td>13.6</td>\n",
       "      <td>0.477</td>\n",
       "      <td>...</td>\n",
       "      <td>0.756</td>\n",
       "      <td>101.0</td>\n",
       "      <td>190.0</td>\n",
       "      <td>291.0</td>\n",
       "      <td>98.0</td>\n",
       "      <td>59.0</td>\n",
       "      <td>28.0</td>\n",
       "      <td>106.0</td>\n",
       "      <td>147.0</td>\n",
       "      <td>697.0</td>\n",
       "    </tr>\n",
       "    <tr>\n",
       "      <th>14471</th>\n",
       "      <td>2000.0</td>\n",
       "      <td>Tariq Abdul-Wahad</td>\n",
       "      <td>SG</td>\n",
       "      <td>25.0</td>\n",
       "      <td>ORL</td>\n",
       "      <td>46.0</td>\n",
       "      <td>46.0</td>\n",
       "      <td>1205.0</td>\n",
       "      <td>14.4</td>\n",
       "      <td>0.484</td>\n",
       "      <td>...</td>\n",
       "      <td>0.762</td>\n",
       "      <td>77.0</td>\n",
       "      <td>162.0</td>\n",
       "      <td>239.0</td>\n",
       "      <td>72.0</td>\n",
       "      <td>53.0</td>\n",
       "      <td>16.0</td>\n",
       "      <td>87.0</td>\n",
       "      <td>116.0</td>\n",
       "      <td>563.0</td>\n",
       "    </tr>\n",
       "    <tr>\n",
       "      <th>14472</th>\n",
       "      <td>2000.0</td>\n",
       "      <td>Tariq Abdul-Wahad</td>\n",
       "      <td>SG</td>\n",
       "      <td>25.0</td>\n",
       "      <td>DEN</td>\n",
       "      <td>15.0</td>\n",
       "      <td>10.0</td>\n",
       "      <td>373.0</td>\n",
       "      <td>10.8</td>\n",
       "      <td>0.448</td>\n",
       "      <td>...</td>\n",
       "      <td>0.738</td>\n",
       "      <td>24.0</td>\n",
       "      <td>28.0</td>\n",
       "      <td>52.0</td>\n",
       "      <td>26.0</td>\n",
       "      <td>6.0</td>\n",
       "      <td>12.0</td>\n",
       "      <td>19.0</td>\n",
       "      <td>31.0</td>\n",
       "      <td>134.0</td>\n",
       "    </tr>\n",
       "    <tr>\n",
       "      <th>14473</th>\n",
       "      <td>2000.0</td>\n",
       "      <td>Shareef Abdur-Rahim</td>\n",
       "      <td>SF</td>\n",
       "      <td>23.0</td>\n",
       "      <td>VAN</td>\n",
       "      <td>82.0</td>\n",
       "      <td>82.0</td>\n",
       "      <td>3223.0</td>\n",
       "      <td>20.2</td>\n",
       "      <td>0.547</td>\n",
       "      <td>...</td>\n",
       "      <td>0.809</td>\n",
       "      <td>218.0</td>\n",
       "      <td>607.0</td>\n",
       "      <td>825.0</td>\n",
       "      <td>271.0</td>\n",
       "      <td>89.0</td>\n",
       "      <td>87.0</td>\n",
       "      <td>249.0</td>\n",
       "      <td>244.0</td>\n",
       "      <td>1663.0</td>\n",
       "    </tr>\n",
       "    <tr>\n",
       "      <th>14474</th>\n",
       "      <td>2000.0</td>\n",
       "      <td>Cory Alexander</td>\n",
       "      <td>PG</td>\n",
       "      <td>26.0</td>\n",
       "      <td>DEN</td>\n",
       "      <td>29.0</td>\n",
       "      <td>2.0</td>\n",
       "      <td>329.0</td>\n",
       "      <td>8.8</td>\n",
       "      <td>0.381</td>\n",
       "      <td>...</td>\n",
       "      <td>0.773</td>\n",
       "      <td>8.0</td>\n",
       "      <td>34.0</td>\n",
       "      <td>42.0</td>\n",
       "      <td>58.0</td>\n",
       "      <td>24.0</td>\n",
       "      <td>2.0</td>\n",
       "      <td>28.0</td>\n",
       "      <td>39.0</td>\n",
       "      <td>82.0</td>\n",
       "    </tr>\n",
       "    <tr>\n",
       "      <th>14475</th>\n",
       "      <td>2000.0</td>\n",
       "      <td>Ray Allen</td>\n",
       "      <td>SG</td>\n",
       "      <td>24.0</td>\n",
       "      <td>MIL</td>\n",
       "      <td>82.0</td>\n",
       "      <td>82.0</td>\n",
       "      <td>3070.0</td>\n",
       "      <td>20.6</td>\n",
       "      <td>0.570</td>\n",
       "      <td>...</td>\n",
       "      <td>0.887</td>\n",
       "      <td>83.0</td>\n",
       "      <td>276.0</td>\n",
       "      <td>359.0</td>\n",
       "      <td>308.0</td>\n",
       "      <td>110.0</td>\n",
       "      <td>19.0</td>\n",
       "      <td>183.0</td>\n",
       "      <td>187.0</td>\n",
       "      <td>1809.0</td>\n",
       "    </tr>\n",
       "    <tr>\n",
       "      <th>14476</th>\n",
       "      <td>2000.0</td>\n",
       "      <td>Rafer Alston</td>\n",
       "      <td>PG</td>\n",
       "      <td>23.0</td>\n",
       "      <td>MIL</td>\n",
       "      <td>27.0</td>\n",
       "      <td>0.0</td>\n",
       "      <td>361.0</td>\n",
       "      <td>4.3</td>\n",
       "      <td>0.310</td>\n",
       "      <td>...</td>\n",
       "      <td>0.750</td>\n",
       "      <td>5.0</td>\n",
       "      <td>18.0</td>\n",
       "      <td>23.0</td>\n",
       "      <td>70.0</td>\n",
       "      <td>12.0</td>\n",
       "      <td>0.0</td>\n",
       "      <td>29.0</td>\n",
       "      <td>29.0</td>\n",
       "      <td>60.0</td>\n",
       "    </tr>\n",
       "    <tr>\n",
       "      <th>14477</th>\n",
       "      <td>2000.0</td>\n",
       "      <td>John Amaechi</td>\n",
       "      <td>C</td>\n",
       "      <td>29.0</td>\n",
       "      <td>ORL</td>\n",
       "      <td>80.0</td>\n",
       "      <td>53.0</td>\n",
       "      <td>1684.0</td>\n",
       "      <td>13.2</td>\n",
       "      <td>0.505</td>\n",
       "      <td>...</td>\n",
       "      <td>0.766</td>\n",
       "      <td>62.0</td>\n",
       "      <td>204.0</td>\n",
       "      <td>266.0</td>\n",
       "      <td>95.0</td>\n",
       "      <td>35.0</td>\n",
       "      <td>37.0</td>\n",
       "      <td>139.0</td>\n",
       "      <td>161.0</td>\n",
       "      <td>836.0</td>\n",
       "    </tr>\n",
       "    <tr>\n",
       "      <th>14478</th>\n",
       "      <td>2000.0</td>\n",
       "      <td>Derek Anderson</td>\n",
       "      <td>SG</td>\n",
       "      <td>25.0</td>\n",
       "      <td>LAC</td>\n",
       "      <td>64.0</td>\n",
       "      <td>58.0</td>\n",
       "      <td>2201.0</td>\n",
       "      <td>16.9</td>\n",
       "      <td>0.542</td>\n",
       "      <td>...</td>\n",
       "      <td>0.877</td>\n",
       "      <td>80.0</td>\n",
       "      <td>178.0</td>\n",
       "      <td>258.0</td>\n",
       "      <td>220.0</td>\n",
       "      <td>90.0</td>\n",
       "      <td>11.0</td>\n",
       "      <td>167.0</td>\n",
       "      <td>149.0</td>\n",
       "      <td>1080.0</td>\n",
       "    </tr>\n",
       "    <tr>\n",
       "      <th>14479</th>\n",
       "      <td>2000.0</td>\n",
       "      <td>Kenny Anderson</td>\n",
       "      <td>PG</td>\n",
       "      <td>29.0</td>\n",
       "      <td>BOS</td>\n",
       "      <td>82.0</td>\n",
       "      <td>82.0</td>\n",
       "      <td>2593.0</td>\n",
       "      <td>17.4</td>\n",
       "      <td>0.524</td>\n",
       "      <td>...</td>\n",
       "      <td>0.775</td>\n",
       "      <td>55.0</td>\n",
       "      <td>170.0</td>\n",
       "      <td>225.0</td>\n",
       "      <td>420.0</td>\n",
       "      <td>139.0</td>\n",
       "      <td>8.0</td>\n",
       "      <td>130.0</td>\n",
       "      <td>230.0</td>\n",
       "      <td>1149.0</td>\n",
       "    </tr>\n",
       "  </tbody>\n",
       "</table>\n",
       "<p>10 rows × 52 columns</p>\n",
       "</div>"
      ],
      "text/plain": [
       "         Year               Player Pos   Age   Tm     G    GS      MP   PER  \\\n",
       "14470  2000.0    Tariq Abdul-Wahad  SG  25.0  TOT  61.0  56.0  1578.0  13.6   \n",
       "14471  2000.0    Tariq Abdul-Wahad  SG  25.0  ORL  46.0  46.0  1205.0  14.4   \n",
       "14472  2000.0    Tariq Abdul-Wahad  SG  25.0  DEN  15.0  10.0   373.0  10.8   \n",
       "14473  2000.0  Shareef Abdur-Rahim  SF  23.0  VAN  82.0  82.0  3223.0  20.2   \n",
       "14474  2000.0       Cory Alexander  PG  26.0  DEN  29.0   2.0   329.0   8.8   \n",
       "14475  2000.0            Ray Allen  SG  24.0  MIL  82.0  82.0  3070.0  20.6   \n",
       "14476  2000.0         Rafer Alston  PG  23.0  MIL  27.0   0.0   361.0   4.3   \n",
       "14477  2000.0         John Amaechi   C  29.0  ORL  80.0  53.0  1684.0  13.2   \n",
       "14478  2000.0       Derek Anderson  SG  25.0  LAC  64.0  58.0  2201.0  16.9   \n",
       "14479  2000.0       Kenny Anderson  PG  29.0  BOS  82.0  82.0  2593.0  17.4   \n",
       "\n",
       "         TS%   ...      FT%    ORB    DRB    TRB    AST    STL   BLK    TOV  \\\n",
       "14470  0.477   ...    0.756  101.0  190.0  291.0   98.0   59.0  28.0  106.0   \n",
       "14471  0.484   ...    0.762   77.0  162.0  239.0   72.0   53.0  16.0   87.0   \n",
       "14472  0.448   ...    0.738   24.0   28.0   52.0   26.0    6.0  12.0   19.0   \n",
       "14473  0.547   ...    0.809  218.0  607.0  825.0  271.0   89.0  87.0  249.0   \n",
       "14474  0.381   ...    0.773    8.0   34.0   42.0   58.0   24.0   2.0   28.0   \n",
       "14475  0.570   ...    0.887   83.0  276.0  359.0  308.0  110.0  19.0  183.0   \n",
       "14476  0.310   ...    0.750    5.0   18.0   23.0   70.0   12.0   0.0   29.0   \n",
       "14477  0.505   ...    0.766   62.0  204.0  266.0   95.0   35.0  37.0  139.0   \n",
       "14478  0.542   ...    0.877   80.0  178.0  258.0  220.0   90.0  11.0  167.0   \n",
       "14479  0.524   ...    0.775   55.0  170.0  225.0  420.0  139.0   8.0  130.0   \n",
       "\n",
       "          PF     PTS  \n",
       "14470  147.0   697.0  \n",
       "14471  116.0   563.0  \n",
       "14472   31.0   134.0  \n",
       "14473  244.0  1663.0  \n",
       "14474   39.0    82.0  \n",
       "14475  187.0  1809.0  \n",
       "14476   29.0    60.0  \n",
       "14477  161.0   836.0  \n",
       "14478  149.0  1080.0  \n",
       "14479  230.0  1149.0  \n",
       "\n",
       "[10 rows x 52 columns]"
      ]
     },
     "execution_count": 3,
     "metadata": {},
     "output_type": "execute_result"
    }
   ],
   "source": [
    "#isolating only the years 2000-2017\n",
    "\n",
    "hoops_data = hoops_data[hoops_data.Year >= 2000]\n",
    "hoops_data.head(10)"
   ]
  },
  {
   "cell_type": "code",
   "execution_count": 4,
   "metadata": {},
   "outputs": [
    {
     "data": {
      "text/plain": [
       "array(['SG', 'SF', 'PG', 'C', 'PF', 'SF-SG', 'SF-PF', 'PF-SF', 'C-PF',\n",
       "       'SG-PG', 'PG-SG', 'SG-SF', 'PF-C', 'PG-SF', 'SG-PF', 'C-SF'],\n",
       "      dtype=object)"
      ]
     },
     "execution_count": 4,
     "metadata": {},
     "output_type": "execute_result"
    }
   ],
   "source": [
    "#finding all different ways big men are listed (anything w/ C or PF)\n",
    "hoops_data['Pos'].unique()"
   ]
  },
  {
   "cell_type": "code",
   "execution_count": 5,
   "metadata": {},
   "outputs": [],
   "source": [
    "#creating a variable for ever different position\n",
    "c = hoops_data.loc[hoops_data['Pos'] == 'C']\n",
    "pf = hoops_data.loc[hoops_data['Pos'] == 'PF']\n",
    "c_pf = hoops_data.loc[hoops_data['Pos'] == 'C-PF']\n",
    "pf_c = hoops_data.loc[hoops_data['Pos'] == 'PF-C']"
   ]
  },
  {
   "cell_type": "code",
   "execution_count": 6,
   "metadata": {},
   "outputs": [],
   "source": [
    "#creating the mean 2 pt attempts for each position, including all of '00-'17\n",
    "c_mean = c['2PA'].mean()\n",
    "pf_mean = pf['2PA'].mean()\n",
    "c_pf_mean = c_pf['2PA'].mean()\n",
    "pf_c_mean = pf_c['2PA'].mean()"
   ]
  },
  {
   "cell_type": "code",
   "execution_count": 7,
   "metadata": {},
   "outputs": [
    {
     "data": {
      "text/html": [
       "<div>\n",
       "<style scoped>\n",
       "    .dataframe tbody tr th:only-of-type {\n",
       "        vertical-align: middle;\n",
       "    }\n",
       "\n",
       "    .dataframe tbody tr th {\n",
       "        vertical-align: top;\n",
       "    }\n",
       "\n",
       "    .dataframe thead th {\n",
       "        text-align: right;\n",
       "    }\n",
       "</style>\n",
       "<table border=\"1\" class=\"dataframe\">\n",
       "  <thead>\n",
       "    <tr style=\"text-align: right;\">\n",
       "      <th></th>\n",
       "      <th>C</th>\n",
       "      <th>PF</th>\n",
       "      <th>C/PF</th>\n",
       "      <th>PF/C</th>\n",
       "    </tr>\n",
       "  </thead>\n",
       "  <tbody>\n",
       "    <tr>\n",
       "      <th>0</th>\n",
       "      <td>278.197052</td>\n",
       "      <td>318.230288</td>\n",
       "      <td>234.0</td>\n",
       "      <td>241.733333</td>\n",
       "    </tr>\n",
       "  </tbody>\n",
       "</table>\n",
       "</div>"
      ],
      "text/plain": [
       "            C          PF   C/PF        PF/C\n",
       "0  278.197052  318.230288  234.0  241.733333"
      ]
     },
     "execution_count": 7,
     "metadata": {},
     "output_type": "execute_result"
    }
   ],
   "source": [
    "#creating a DF for the values to sit into\n",
    "gross_mean_df = pd.DataFrame({'C':c_mean, \"PF\": pf_mean,\n",
    "                             'C/PF': c_pf_mean, 'PF/C': pf_c_mean},\n",
    "                             index = [0])\n",
    "gross_mean_df"
   ]
  },
  {
   "cell_type": "code",
   "execution_count": 8,
   "metadata": {},
   "outputs": [
    {
     "data": {
      "image/png": "[encoded data removed]",
      "text/plain": [
       "<Figure size 432x288 with 1 Axes>"
      ]
     },
     "metadata": {
      "needs_background": "light"
     },
     "output_type": "display_data"
    }
   ],
   "source": [
    "height = [278,318,292,238,234,241,643,87]\n",
    "x = ('C', 'PF', 'SF/PF','PF/SF','C/PF','PF/C','SG/PF','C/SF')\n",
    "x_pos = len(x)\n",
    "width = .35\n",
    "\n",
    "plt.bar(x, height, align = 'center', alpha = .5)\n",
    "plt.xticks(x)\n",
    "plt.ylabel(\"Shots Taken\")\n",
    "plt.title(\"Shots by Bigs\")\n",
    "\n",
    "plt.show()"
   ]
  },
  {
   "cell_type": "code",
   "execution_count": 9,
   "metadata": {},
   "outputs": [],
   "source": [
    "# trying to isolate 2001 the same way I isolated '00-'17\n",
    "hoops_data_2001 = hoops_data[hoops_data.Year == 2001]\n",
    "hoops_data_2002 = hoops_data[hoops_data.Year == 2002]\n",
    "hoops_data_2003 = hoops_data[hoops_data.Year == 2003]\n",
    "hoops_data_2004 = hoops_data[hoops_data.Year == 2004]\n",
    "hoops_data_2005 = hoops_data[hoops_data.Year == 2005]\n",
    "hoops_data_2006 = hoops_data[hoops_data.Year == 2006]\n",
    "hoops_data_2007 = hoops_data[hoops_data.Year == 2007]\n",
    "hoops_data_2008 = hoops_data[hoops_data.Year == 2008]\n",
    "hoops_data_2009 = hoops_data[hoops_data.Year == 2009]\n",
    "hoops_data_2010 = hoops_data[hoops_data.Year == 2010]\n",
    "hoops_data_2011 = hoops_data[hoops_data.Year == 2011]\n",
    "hoops_data_2012 = hoops_data[hoops_data.Year == 2012]\n",
    "hoops_data_2013 = hoops_data[hoops_data.Year == 2013]\n",
    "hoops_data_2014 = hoops_data[hoops_data.Year == 2014]\n",
    "hoops_data_2015 = hoops_data[hoops_data.Year == 2015]\n",
    "hoops_data_2016 = hoops_data[hoops_data.Year == 2016]\n",
    "hoops_data_2017 = hoops_data[hoops_data.Year == 2017]\n",
    "hoops_data_2000 = hoops_data[hoops_data.Year == 2000]"
   ]
  },
  {
   "cell_type": "code",
   "execution_count": 10,
   "metadata": {},
   "outputs": [],
   "source": [
    "# I should have done all of this for '00 first.  Will be at the end instead.\n",
    "#creating a variable for big men in '01\n",
    "c_01 = hoops_data_2001.loc[hoops_data['Pos'] == 'C']\n",
    "pf_01 = hoops_data_2001.loc[hoops_data['Pos'] == 'PF']\n",
    "c_pf_01 = hoops_data_2001.loc[hoops_data['Pos'] == 'C-PF']\n",
    "pf_c_01 = hoops_data_2001.loc[hoops_data['Pos'] == 'PF-C']\n",
    "\n",
    "#creating the mean of 2 pt attempts for bigs in '01\n",
    "c_mean_01 = c_01['2PA'].mean()\n",
    "pf_mean_01 = pf_01['2PA'].mean()\n",
    "c_pf_mean_01 = c_pf_01['2PA'].mean()\n",
    "pf_c_mean_01 = pf_c_01['2PA'].mean()"
   ]
  },
  {
   "cell_type": "code",
   "execution_count": 11,
   "metadata": {},
   "outputs": [],
   "source": [
    "#turning # of 2's (mean) in a DF\n",
    "two_pters_taken_mean_01_df = pd.DataFrame({'C':c_mean_01, \"PF\": pf_mean_01, \n",
    "                             'C/PF': c_pf_mean_01, 'PF/C': pf_c_mean_01},\n",
    "                             index = [0])"
   ]
  },
  {
   "cell_type": "code",
   "execution_count": 12,
   "metadata": {},
   "outputs": [
    {
     "data": {
      "text/plain": [
       "393.37733605164794"
      ]
     },
     "execution_count": 12,
     "metadata": {},
     "output_type": "execute_result"
    }
   ],
   "source": [
    "two_pt_att_mean_01 = (c_mean_01 + pf_mean_01 + c_pf_mean_01) / 3\n",
    "two_pt_att_mean_01"
   ]
  },
  {
   "cell_type": "code",
   "execution_count": 13,
   "metadata": {},
   "outputs": [],
   "source": [
    "#moving on to 2002\n",
    "#creating a variable for big men in '02\n",
    "c_02 = hoops_data_2002.loc[hoops_data['Pos'] == 'C']\n",
    "pf_02 = hoops_data_2002.loc[hoops_data['Pos'] == 'PF']\n",
    "c_pf_02 = hoops_data_2002.loc[hoops_data['Pos'] == 'C-PF']\n",
    "pf_c_02 = hoops_data_2002.loc[hoops_data['Pos'] == 'PF-C']\n",
    "\n",
    "#creating the mean of 2 pt attempts for bigs in '02\n",
    "c_mean_02 = c_02['2PA'].mean()\n",
    "pf_mean_02 = pf_02['2PA'].mean()\n",
    "c_pf_mean_02 = c_pf_02['2PA'].mean()\n",
    "pf_c_mean_02 = pf_c_02['2PA'].mean()"
   ]
  },
  {
   "cell_type": "code",
   "execution_count": 14,
   "metadata": {},
   "outputs": [
    {
     "data": {
      "text/html": [
       "<div>\n",
       "<style scoped>\n",
       "    .dataframe tbody tr th:only-of-type {\n",
       "        vertical-align: middle;\n",
       "    }\n",
       "\n",
       "    .dataframe tbody tr th {\n",
       "        vertical-align: top;\n",
       "    }\n",
       "\n",
       "    .dataframe thead th {\n",
       "        text-align: right;\n",
       "    }\n",
       "</style>\n",
       "<table border=\"1\" class=\"dataframe\">\n",
       "  <thead>\n",
       "    <tr style=\"text-align: right;\">\n",
       "      <th></th>\n",
       "      <th>C</th>\n",
       "      <th>PF</th>\n",
       "      <th>C/PF</th>\n",
       "      <th>PF/C</th>\n",
       "    </tr>\n",
       "  </thead>\n",
       "  <tbody>\n",
       "    <tr>\n",
       "      <th>0</th>\n",
       "      <td>282.33945</td>\n",
       "      <td>377.595745</td>\n",
       "      <td>NaN</td>\n",
       "      <td>NaN</td>\n",
       "    </tr>\n",
       "  </tbody>\n",
       "</table>\n",
       "</div>"
      ],
      "text/plain": [
       "           C          PF  C/PF  PF/C\n",
       "0  282.33945  377.595745   NaN   NaN"
      ]
     },
     "execution_count": 14,
     "metadata": {},
     "output_type": "execute_result"
    }
   ],
   "source": [
    "two_pters_taken_mean_02_df = pd.DataFrame({'C':c_mean_02, \"PF\": pf_mean_02, \n",
    "                             'C/PF': c_pf_mean_02, 'PF/C': pf_c_mean_02},\n",
    "                             index = [0])\n",
    "two_pters_taken_mean_02_df"
   ]
  },
  {
   "cell_type": "code",
   "execution_count": 15,
   "metadata": {},
   "outputs": [
    {
     "data": {
      "text/plain": [
       "329.96759711106773"
      ]
     },
     "execution_count": 15,
     "metadata": {},
     "output_type": "execute_result"
    }
   ],
   "source": [
    "two_pt_att_mean_02 = (c_mean_02 + pf_mean_02) / 2\n",
    "two_pt_att_mean_02"
   ]
  },
  {
   "cell_type": "code",
   "execution_count": 16,
   "metadata": {},
   "outputs": [
    {
     "data": {
      "text/html": [
       "<div>\n",
       "<style scoped>\n",
       "    .dataframe tbody tr th:only-of-type {\n",
       "        vertical-align: middle;\n",
       "    }\n",
       "\n",
       "    .dataframe tbody tr th {\n",
       "        vertical-align: top;\n",
       "    }\n",
       "\n",
       "    .dataframe thead th {\n",
       "        text-align: right;\n",
       "    }\n",
       "</style>\n",
       "<table border=\"1\" class=\"dataframe\">\n",
       "  <thead>\n",
       "    <tr style=\"text-align: right;\">\n",
       "      <th></th>\n",
       "      <th>C</th>\n",
       "      <th>PF</th>\n",
       "      <th>C/PF</th>\n",
       "      <th>PF/C</th>\n",
       "    </tr>\n",
       "  </thead>\n",
       "  <tbody>\n",
       "    <tr>\n",
       "      <th>0</th>\n",
       "      <td>283.981308</td>\n",
       "      <td>374.164835</td>\n",
       "      <td>NaN</td>\n",
       "      <td>NaN</td>\n",
       "    </tr>\n",
       "  </tbody>\n",
       "</table>\n",
       "</div>"
      ],
      "text/plain": [
       "            C          PF  C/PF  PF/C\n",
       "0  283.981308  374.164835   NaN   NaN"
      ]
     },
     "execution_count": 16,
     "metadata": {},
     "output_type": "execute_result"
    }
   ],
   "source": [
    "#moving on to 2003\n",
    "#creating a variable for big men in '03\n",
    "c_03 = hoops_data_2003.loc[hoops_data['Pos'] == 'C']\n",
    "pf_03 = hoops_data_2003.loc[hoops_data['Pos'] == 'PF']\n",
    "c_pf_03 = hoops_data_2003.loc[hoops_data['Pos'] == 'C-PF']\n",
    "pf_c_03 = hoops_data_2003.loc[hoops_data['Pos'] == 'PF-C']\n",
    "\n",
    "\n",
    "#creating the mean of 2 pt attempts for bigs in '03\n",
    "c_mean_03 = c_03['2PA'].mean()\n",
    "pf_mean_03 = pf_03['2PA'].mean()\n",
    "c_pf_mean_03 = c_pf_03['2PA'].mean()\n",
    "pf_c_mean_03 = pf_c_03['2PA'].mean()\n",
    "\n",
    "\n",
    "#making a DF to find the NaN values\n",
    "two_pters_taken_mean_03_df = pd.DataFrame({'C':c_mean_03, \"PF\": pf_mean_03, \n",
    "                             'C/PF': c_pf_mean_03, 'PF/C': pf_c_mean_03},\n",
    "                             index = [0])\n",
    "two_pters_taken_mean_03_df"
   ]
  },
  {
   "cell_type": "code",
   "execution_count": 17,
   "metadata": {},
   "outputs": [
    {
     "data": {
      "text/plain": [
       "329.07307178802506"
      ]
     },
     "execution_count": 17,
     "metadata": {},
     "output_type": "execute_result"
    }
   ],
   "source": [
    "two_pt_att_mean_03 = (c_mean_03 + pf_mean_03 ) / 2\n",
    "two_pt_att_mean_03"
   ]
  },
  {
   "cell_type": "code",
   "execution_count": 18,
   "metadata": {},
   "outputs": [
    {
     "data": {
      "text/html": [
       "<div>\n",
       "<style scoped>\n",
       "    .dataframe tbody tr th:only-of-type {\n",
       "        vertical-align: middle;\n",
       "    }\n",
       "\n",
       "    .dataframe tbody tr th {\n",
       "        vertical-align: top;\n",
       "    }\n",
       "\n",
       "    .dataframe thead th {\n",
       "        text-align: right;\n",
       "    }\n",
       "</style>\n",
       "<table border=\"1\" class=\"dataframe\">\n",
       "  <thead>\n",
       "    <tr style=\"text-align: right;\">\n",
       "      <th></th>\n",
       "      <th>C</th>\n",
       "      <th>PF</th>\n",
       "      <th>C/PF</th>\n",
       "      <th>PF/C</th>\n",
       "    </tr>\n",
       "  </thead>\n",
       "  <tbody>\n",
       "    <tr>\n",
       "      <th>0</th>\n",
       "      <td>232.125984</td>\n",
       "      <td>337.984252</td>\n",
       "      <td>129.4</td>\n",
       "      <td>174.5</td>\n",
       "    </tr>\n",
       "  </tbody>\n",
       "</table>\n",
       "</div>"
      ],
      "text/plain": [
       "            C          PF   C/PF   PF/C\n",
       "0  232.125984  337.984252  129.4  174.5"
      ]
     },
     "execution_count": 18,
     "metadata": {},
     "output_type": "execute_result"
    }
   ],
   "source": [
    "#moving on to 2004\n",
    "#creating a variable for big men in '04\n",
    "c_04 = hoops_data_2004.loc[hoops_data['Pos'] == 'C']\n",
    "pf_04 = hoops_data_2004.loc[hoops_data['Pos'] == 'PF']\n",
    "c_pf_04 = hoops_data_2004.loc[hoops_data['Pos'] == 'C-PF']\n",
    "pf_c_04 = hoops_data_2004.loc[hoops_data['Pos'] == 'PF-C']\n",
    "\n",
    "\n",
    "#creating the mean of 2 pt attempts for bigs in '03\n",
    "c_mean_04 = c_04['2PA'].mean()\n",
    "pf_mean_04 = pf_04['2PA'].mean()\n",
    "c_pf_mean_04 = c_pf_04['2PA'].mean()\n",
    "pf_c_mean_04 = pf_c_04['2PA'].mean()\n",
    "\n",
    "#making a DF to find the NaN values\n",
    "two_pters_taken_mean_04_df = pd.DataFrame({'C':c_mean_04, \"PF\": pf_mean_04, \n",
    "                             'C/PF': c_pf_mean_04, 'PF/C': pf_c_mean_04},\n",
    "                             index = [0])\n",
    "two_pters_taken_mean_04_df"
   ]
  },
  {
   "cell_type": "code",
   "execution_count": 19,
   "metadata": {},
   "outputs": [
    {
     "data": {
      "text/plain": [
       "218.5025590551181"
      ]
     },
     "execution_count": 19,
     "metadata": {},
     "output_type": "execute_result"
    }
   ],
   "source": [
    "two_pt_att_mean_04 = (c_mean_04 + pf_mean_04 + \n",
    "                      c_pf_mean_04 + pf_c_mean_04) / 4\n",
    "two_pt_att_mean_04"
   ]
  },
  {
   "cell_type": "code",
   "execution_count": 20,
   "metadata": {},
   "outputs": [
    {
     "data": {
      "text/html": [
       "<div>\n",
       "<style scoped>\n",
       "    .dataframe tbody tr th:only-of-type {\n",
       "        vertical-align: middle;\n",
       "    }\n",
       "\n",
       "    .dataframe tbody tr th {\n",
       "        vertical-align: top;\n",
       "    }\n",
       "\n",
       "    .dataframe thead th {\n",
       "        text-align: right;\n",
       "    }\n",
       "</style>\n",
       "<table border=\"1\" class=\"dataframe\">\n",
       "  <thead>\n",
       "    <tr style=\"text-align: right;\">\n",
       "      <th></th>\n",
       "      <th>C</th>\n",
       "      <th>PF</th>\n",
       "      <th>C/PF</th>\n",
       "      <th>PF/C</th>\n",
       "    </tr>\n",
       "  </thead>\n",
       "  <tbody>\n",
       "    <tr>\n",
       "      <th>0</th>\n",
       "      <td>244.239669</td>\n",
       "      <td>346.008264</td>\n",
       "      <td>191.8</td>\n",
       "      <td>239.0</td>\n",
       "    </tr>\n",
       "  </tbody>\n",
       "</table>\n",
       "</div>"
      ],
      "text/plain": [
       "            C          PF   C/PF   PF/C\n",
       "0  244.239669  346.008264  191.8  239.0"
      ]
     },
     "execution_count": 20,
     "metadata": {},
     "output_type": "execute_result"
    }
   ],
   "source": [
    "#2005\n",
    "#creating a variable for big men in '05\n",
    "c_05 = hoops_data_2005.loc[hoops_data['Pos'] == 'C']\n",
    "pf_05 = hoops_data_2005.loc[hoops_data['Pos'] == 'PF']\n",
    "c_pf_05 = hoops_data_2005.loc[hoops_data['Pos'] == 'C-PF']\n",
    "pf_c_05 = hoops_data_2005.loc[hoops_data['Pos'] == 'PF-C']\n",
    "\n",
    "\n",
    "#creating the mean of 2 pt attempts for bigs in '03\n",
    "c_mean_05 = c_05['2PA'].mean()\n",
    "pf_mean_05 = pf_05['2PA'].mean()\n",
    "c_pf_mean_05 = c_pf_05['2PA'].mean()\n",
    "pf_c_mean_05 = pf_c_05['2PA'].mean()\n",
    "\n",
    "#making a DF to find the NaN values\n",
    "two_pters_taken_mean_05_df = pd.DataFrame({'C':c_mean_05, \"PF\": pf_mean_05, \n",
    "                             'C/PF': c_pf_mean_05, 'PF/C': pf_c_mean_05},\n",
    "                             index = [0])\n",
    "two_pters_taken_mean_05_df"
   ]
  },
  {
   "cell_type": "code",
   "execution_count": 21,
   "metadata": {},
   "outputs": [
    {
     "data": {
      "text/plain": [
       "255.26198347107436"
      ]
     },
     "execution_count": 21,
     "metadata": {},
     "output_type": "execute_result"
    }
   ],
   "source": [
    "two_pt_att_mean_05 = (c_mean_05 + pf_mean_05 + \n",
    "                     + c_pf_mean_05 + pf_c_mean_05) / 4\n",
    "two_pt_att_mean_05"
   ]
  },
  {
   "cell_type": "code",
   "execution_count": 22,
   "metadata": {},
   "outputs": [
    {
     "data": {
      "text/html": [
       "<div>\n",
       "<style scoped>\n",
       "    .dataframe tbody tr th:only-of-type {\n",
       "        vertical-align: middle;\n",
       "    }\n",
       "\n",
       "    .dataframe tbody tr th {\n",
       "        vertical-align: top;\n",
       "    }\n",
       "\n",
       "    .dataframe thead th {\n",
       "        text-align: right;\n",
       "    }\n",
       "</style>\n",
       "<table border=\"1\" class=\"dataframe\">\n",
       "  <thead>\n",
       "    <tr style=\"text-align: right;\">\n",
       "      <th></th>\n",
       "      <th>C</th>\n",
       "      <th>PF</th>\n",
       "      <th>C/PF</th>\n",
       "      <th>PF/C</th>\n",
       "    </tr>\n",
       "  </thead>\n",
       "  <tbody>\n",
       "    <tr>\n",
       "      <th>0</th>\n",
       "      <td>226.113821</td>\n",
       "      <td>360.557692</td>\n",
       "      <td>276.0</td>\n",
       "      <td>174.5</td>\n",
       "    </tr>\n",
       "  </tbody>\n",
       "</table>\n",
       "</div>"
      ],
      "text/plain": [
       "            C          PF   C/PF   PF/C\n",
       "0  226.113821  360.557692  276.0  174.5"
      ]
     },
     "execution_count": 22,
     "metadata": {},
     "output_type": "execute_result"
    }
   ],
   "source": [
    "#2006\n",
    "#creating a variable for big men in '06\n",
    "c_06 = hoops_data_2006.loc[hoops_data['Pos'] == 'C']\n",
    "pf_06 = hoops_data_2006.loc[hoops_data['Pos'] == 'PF']\n",
    "c_pf_06 = hoops_data_2006.loc[hoops_data['Pos'] == 'C-PF']\n",
    "pf_c_06 = hoops_data_2006.loc[hoops_data['Pos'] == 'PF-C']\n",
    "\n",
    "#creating the mean of 2 pt attempts for bigs in '03\n",
    "c_mean_06 = c_06['2PA'].mean()\n",
    "pf_mean_06 = pf_06['2PA'].mean()\n",
    "c_pf_mean_06 = c_pf_06['2PA'].mean()\n",
    "pf_c_mean_06 = pf_c_06['2PA'].mean()\n",
    "\n",
    "#making a DF to find the NaN values\n",
    "two_pters_taken_mean_06_df = pd.DataFrame({'C':c_mean_06, \"PF\": pf_mean_06, \n",
    "                             'C/PF': c_pf_mean_06, 'PF/C': pf_c_mean_06},\n",
    "                             index = [0])\n",
    "two_pters_taken_mean_06_df"
   ]
  },
  {
   "cell_type": "code",
   "execution_count": 23,
   "metadata": {},
   "outputs": [
    {
     "data": {
      "text/plain": [
       "259.2928783614759"
      ]
     },
     "execution_count": 23,
     "metadata": {},
     "output_type": "execute_result"
    }
   ],
   "source": [
    "two_pt_att_mean_06 = (c_mean_06 + pf_mean_06\n",
    "                     + c_pf_mean_06 + pf_c_mean_06) / 4\n",
    "two_pt_att_mean_06"
   ]
  },
  {
   "cell_type": "code",
   "execution_count": 24,
   "metadata": {},
   "outputs": [
    {
     "data": {
      "text/html": [
       "<div>\n",
       "<style scoped>\n",
       "    .dataframe tbody tr th:only-of-type {\n",
       "        vertical-align: middle;\n",
       "    }\n",
       "\n",
       "    .dataframe tbody tr th {\n",
       "        vertical-align: top;\n",
       "    }\n",
       "\n",
       "    .dataframe thead th {\n",
       "        text-align: right;\n",
       "    }\n",
       "</style>\n",
       "<table border=\"1\" class=\"dataframe\">\n",
       "  <thead>\n",
       "    <tr style=\"text-align: right;\">\n",
       "      <th></th>\n",
       "      <th>C</th>\n",
       "      <th>PF</th>\n",
       "      <th>C/PF</th>\n",
       "      <th>PF/C</th>\n",
       "    </tr>\n",
       "  </thead>\n",
       "  <tbody>\n",
       "    <tr>\n",
       "      <th>0</th>\n",
       "      <td>315.381443</td>\n",
       "      <td>285.460317</td>\n",
       "      <td>NaN</td>\n",
       "      <td>80.0</td>\n",
       "    </tr>\n",
       "  </tbody>\n",
       "</table>\n",
       "</div>"
      ],
      "text/plain": [
       "            C          PF  C/PF  PF/C\n",
       "0  315.381443  285.460317   NaN  80.0"
      ]
     },
     "execution_count": 24,
     "metadata": {},
     "output_type": "execute_result"
    }
   ],
   "source": [
    "#2007\n",
    "#creating a variable for big men in '07\n",
    "c_07 = hoops_data_2007.loc[hoops_data['Pos'] == 'C']\n",
    "pf_07 = hoops_data_2007.loc[hoops_data['Pos'] == 'PF']\n",
    "c_pf_07 = hoops_data_2007.loc[hoops_data['Pos'] == 'C-PF']\n",
    "pf_c_07 = hoops_data_2007.loc[hoops_data['Pos'] == 'PF-C']\n",
    "\n",
    "\n",
    "#creating the mean of 2 pt attempts for bigs in '07\n",
    "c_mean_07 = c_07['2PA'].mean()\n",
    "pf_mean_07 = pf_07['2PA'].mean()\n",
    "c_pf_mean_07 = c_pf_07['2PA'].mean()\n",
    "pf_c_mean_07 = pf_c_07['2PA'].mean()\n",
    "\n",
    "\n",
    "#making a DF to find the NaN values\n",
    "two_pters_taken_mean_07_df = pd.DataFrame({'C':c_mean_07, \"PF\": pf_mean_07, \n",
    "                             'C/PF': c_pf_mean_07, 'PF/C': pf_c_mean_07},\n",
    "                             index = [0])\n",
    "two_pters_taken_mean_07_df"
   ]
  },
  {
   "cell_type": "code",
   "execution_count": 25,
   "metadata": {},
   "outputs": [
    {
     "data": {
      "text/plain": [
       "226.94725358642884"
      ]
     },
     "execution_count": 25,
     "metadata": {},
     "output_type": "execute_result"
    }
   ],
   "source": [
    "two_pt_att_mean_07 = (c_mean_07 + pf_mean_07 + pf_c_mean_07) / 3\n",
    "two_pt_att_mean_07"
   ]
  },
  {
   "cell_type": "code",
   "execution_count": 26,
   "metadata": {},
   "outputs": [
    {
     "data": {
      "text/html": [
       "<div>\n",
       "<style scoped>\n",
       "    .dataframe tbody tr th:only-of-type {\n",
       "        vertical-align: middle;\n",
       "    }\n",
       "\n",
       "    .dataframe tbody tr th {\n",
       "        vertical-align: top;\n",
       "    }\n",
       "\n",
       "    .dataframe thead th {\n",
       "        text-align: right;\n",
       "    }\n",
       "</style>\n",
       "<table border=\"1\" class=\"dataframe\">\n",
       "  <thead>\n",
       "    <tr style=\"text-align: right;\">\n",
       "      <th></th>\n",
       "      <th>C</th>\n",
       "      <th>PF</th>\n",
       "      <th>C/PF</th>\n",
       "      <th>PF/C</th>\n",
       "    </tr>\n",
       "  </thead>\n",
       "  <tbody>\n",
       "    <tr>\n",
       "      <th>0</th>\n",
       "      <td>278.15748</td>\n",
       "      <td>285.752</td>\n",
       "      <td>275.666667</td>\n",
       "      <td>NaN</td>\n",
       "    </tr>\n",
       "  </tbody>\n",
       "</table>\n",
       "</div>"
      ],
      "text/plain": [
       "           C       PF        C/PF  PF/C\n",
       "0  278.15748  285.752  275.666667   NaN"
      ]
     },
     "execution_count": 26,
     "metadata": {},
     "output_type": "execute_result"
    }
   ],
   "source": [
    "#2008\n",
    "#creating a variable for big men in '08\n",
    "c_08 = hoops_data_2008.loc[hoops_data['Pos'] == 'C']\n",
    "pf_08 = hoops_data_2008.loc[hoops_data['Pos'] == 'PF']\n",
    "c_pf_08 = hoops_data_2008.loc[hoops_data['Pos'] == 'C-PF']\n",
    "pf_c_08 = hoops_data_2008.loc[hoops_data['Pos'] == 'PF-C']\n",
    "\n",
    "\n",
    "#creating the mean of 2 pt attempts for bigs in '07\n",
    "c_mean_08 = c_08['2PA'].mean()\n",
    "pf_mean_08 = pf_08['2PA'].mean()\n",
    "c_pf_mean_08 = c_pf_08['2PA'].mean()\n",
    "pf_c_mean_08 = pf_c_08['2PA'].mean()\n",
    "\n",
    "\n",
    "#making a DF to find the NaN values\n",
    "two_pters_taken_mean_08_df = pd.DataFrame({'C':c_mean_08, \"PF\": pf_mean_08, \n",
    "                             'C/PF': c_pf_mean_08, 'PF/C': pf_c_mean_08},\n",
    "                             index = [0])\n",
    "two_pters_taken_mean_08_df"
   ]
  },
  {
   "cell_type": "code",
   "execution_count": 27,
   "metadata": {},
   "outputs": [
    {
     "data": {
      "text/plain": [
       "279.85871566054243"
      ]
     },
     "execution_count": 27,
     "metadata": {},
     "output_type": "execute_result"
    }
   ],
   "source": [
    "two_pt_att_mean_08 = (c_mean_08 + pf_mean_08\n",
    "                     +c_pf_mean_08) / 3\n",
    "two_pt_att_mean_08"
   ]
  },
  {
   "cell_type": "code",
   "execution_count": 28,
   "metadata": {},
   "outputs": [
    {
     "data": {
      "text/html": [
       "<div>\n",
       "<style scoped>\n",
       "    .dataframe tbody tr th:only-of-type {\n",
       "        vertical-align: middle;\n",
       "    }\n",
       "\n",
       "    .dataframe tbody tr th {\n",
       "        vertical-align: top;\n",
       "    }\n",
       "\n",
       "    .dataframe thead th {\n",
       "        text-align: right;\n",
       "    }\n",
       "</style>\n",
       "<table border=\"1\" class=\"dataframe\">\n",
       "  <thead>\n",
       "    <tr style=\"text-align: right;\">\n",
       "      <th></th>\n",
       "      <th>C</th>\n",
       "      <th>PF</th>\n",
       "      <th>C/PF</th>\n",
       "      <th>PF/C</th>\n",
       "    </tr>\n",
       "  </thead>\n",
       "  <tbody>\n",
       "    <tr>\n",
       "      <th>0</th>\n",
       "      <td>277.460317</td>\n",
       "      <td>291.798319</td>\n",
       "      <td>NaN</td>\n",
       "      <td>491.0</td>\n",
       "    </tr>\n",
       "  </tbody>\n",
       "</table>\n",
       "</div>"
      ],
      "text/plain": [
       "            C          PF  C/PF   PF/C\n",
       "0  277.460317  291.798319   NaN  491.0"
      ]
     },
     "execution_count": 28,
     "metadata": {},
     "output_type": "execute_result"
    }
   ],
   "source": [
    "#2009\n",
    "#creating a variable for big men in '09\n",
    "c_09 = hoops_data_2009.loc[hoops_data['Pos'] == 'C']\n",
    "pf_09 = hoops_data_2009.loc[hoops_data['Pos'] == 'PF']\n",
    "c_pf_09 = hoops_data_2009.loc[hoops_data['Pos'] == 'C-PF']\n",
    "pf_c_09 = hoops_data_2009.loc[hoops_data['Pos'] == 'PF-C']\n",
    "\n",
    "\n",
    "#creating the mean of 2 pt attempts for bigs in '07\n",
    "c_mean_09 = c_09['2PA'].mean()\n",
    "pf_mean_09 = pf_09['2PA'].mean()\n",
    "c_pf_mean_09 = c_pf_09['2PA'].mean()\n",
    "pf_c_mean_09 = pf_c_09['2PA'].mean()\n",
    "\n",
    "\n",
    "#making a DF to find the NaN values\n",
    "two_pters_taken_mean_09_df = pd.DataFrame({'C':c_mean_09, \"PF\": pf_mean_09, \n",
    "                             'C/PF': c_pf_mean_09, 'PF/C': pf_c_mean_09},\n",
    "                             index = [0])\n",
    "two_pters_taken_mean_09_df"
   ]
  },
  {
   "cell_type": "code",
   "execution_count": 29,
   "metadata": {},
   "outputs": [
    {
     "data": {
      "text/plain": [
       "353.4195455960162"
      ]
     },
     "execution_count": 29,
     "metadata": {},
     "output_type": "execute_result"
    }
   ],
   "source": [
    "two_pt_att_mean_09 = (c_mean_09 + pf_mean_09 + \n",
    "                      pf_c_mean_09) / 3\n",
    "two_pt_att_mean_09"
   ]
  },
  {
   "cell_type": "code",
   "execution_count": 30,
   "metadata": {},
   "outputs": [
    {
     "data": {
      "text/html": [
       "<div>\n",
       "<style scoped>\n",
       "    .dataframe tbody tr th:only-of-type {\n",
       "        vertical-align: middle;\n",
       "    }\n",
       "\n",
       "    .dataframe tbody tr th {\n",
       "        vertical-align: top;\n",
       "    }\n",
       "\n",
       "    .dataframe thead th {\n",
       "        text-align: right;\n",
       "    }\n",
       "</style>\n",
       "<table border=\"1\" class=\"dataframe\">\n",
       "  <thead>\n",
       "    <tr style=\"text-align: right;\">\n",
       "      <th></th>\n",
       "      <th>C</th>\n",
       "      <th>PF</th>\n",
       "      <th>C/PF</th>\n",
       "      <th>PF/C</th>\n",
       "    </tr>\n",
       "  </thead>\n",
       "  <tbody>\n",
       "    <tr>\n",
       "      <th>0</th>\n",
       "      <td>300.28972</td>\n",
       "      <td>336.589744</td>\n",
       "      <td>594.0</td>\n",
       "      <td>329.666667</td>\n",
       "    </tr>\n",
       "  </tbody>\n",
       "</table>\n",
       "</div>"
      ],
      "text/plain": [
       "           C          PF   C/PF        PF/C\n",
       "0  300.28972  336.589744  594.0  329.666667"
      ]
     },
     "execution_count": 30,
     "metadata": {},
     "output_type": "execute_result"
    }
   ],
   "source": [
    "#Note to self: Starting in 2010 I'm excluding C/SF & SG/PF from being 'Bigs'\n",
    "#2010\n",
    "#creating a variable for big men in '10\n",
    "c_10 = hoops_data_2010.loc[hoops_data['Pos'] == 'C']\n",
    "pf_10 = hoops_data_2010.loc[hoops_data['Pos'] == 'PF']\n",
    "c_pf_10 = hoops_data_2010.loc[hoops_data['Pos'] == 'C-PF']\n",
    "pf_c_10 = hoops_data_2010.loc[hoops_data['Pos'] == 'PF-C']\n",
    "\n",
    "\n",
    "#creating the mean of 2 pt attempts for bigs in '07\n",
    "c_mean_10 = c_10['2PA'].mean()\n",
    "pf_mean_10 = pf_10['2PA'].mean()\n",
    "c_pf_mean_10 = c_pf_10['2PA'].mean()\n",
    "pf_c_mean_10 = pf_c_10['2PA'].mean()\n",
    "\n",
    "\n",
    "#making a DF to find the NaN values\n",
    "two_pters_taken_mean_10_df = pd.DataFrame({'C':c_mean_10, \"PF\": pf_mean_10, \n",
    "                             'C/PF': c_pf_mean_10, 'PF/C': pf_c_mean_10},\n",
    "                             index = [0])\n",
    "two_pters_taken_mean_10_df"
   ]
  },
  {
   "cell_type": "code",
   "execution_count": 31,
   "metadata": {},
   "outputs": [
    {
     "data": {
      "text/plain": [
       "390.1365324706446"
      ]
     },
     "execution_count": 31,
     "metadata": {},
     "output_type": "execute_result"
    }
   ],
   "source": [
    "two_pt_att_mean_10 = (c_mean_10 + pf_mean_10 + c_pf_mean_10\n",
    "                     + pf_c_mean_10) / 4\n",
    "two_pt_att_mean_10"
   ]
  },
  {
   "cell_type": "code",
   "execution_count": 32,
   "metadata": {},
   "outputs": [
    {
     "data": {
      "text/html": [
       "<div>\n",
       "<style scoped>\n",
       "    .dataframe tbody tr th:only-of-type {\n",
       "        vertical-align: middle;\n",
       "    }\n",
       "\n",
       "    .dataframe tbody tr th {\n",
       "        vertical-align: top;\n",
       "    }\n",
       "\n",
       "    .dataframe thead th {\n",
       "        text-align: right;\n",
       "    }\n",
       "</style>\n",
       "<table border=\"1\" class=\"dataframe\">\n",
       "  <thead>\n",
       "    <tr style=\"text-align: right;\">\n",
       "      <th></th>\n",
       "      <th>C</th>\n",
       "      <th>PF</th>\n",
       "      <th>C/PF</th>\n",
       "      <th>PF/C</th>\n",
       "    </tr>\n",
       "  </thead>\n",
       "  <tbody>\n",
       "    <tr>\n",
       "      <th>0</th>\n",
       "      <td>258.268657</td>\n",
       "      <td>329.324324</td>\n",
       "      <td>180.5</td>\n",
       "      <td>NaN</td>\n",
       "    </tr>\n",
       "  </tbody>\n",
       "</table>\n",
       "</div>"
      ],
      "text/plain": [
       "            C          PF   C/PF  PF/C\n",
       "0  258.268657  329.324324  180.5   NaN"
      ]
     },
     "execution_count": 32,
     "metadata": {},
     "output_type": "execute_result"
    }
   ],
   "source": [
    "#2011\n",
    "#creating a variable for big men in '11\n",
    "c_11 = hoops_data_2011.loc[hoops_data['Pos'] == 'C']\n",
    "pf_11 = hoops_data_2011.loc[hoops_data['Pos'] == 'PF']\n",
    "c_pf_11 = hoops_data_2011.loc[hoops_data['Pos'] == 'C-PF']\n",
    "pf_c_11 = hoops_data_2011.loc[hoops_data['Pos'] == 'PF-C']\n",
    "\n",
    "\n",
    "#creating the mean of 2 pt attempts for bigs in '07\n",
    "c_mean_11 = c_11['2PA'].mean()\n",
    "pf_mean_11 = pf_11['2PA'].mean()\n",
    "c_pf_mean_11 = c_pf_11['2PA'].mean()\n",
    "pf_c_mean_11 = pf_c_11['2PA'].mean()\n",
    "\n",
    "\n",
    "#making a DF to find the NaN values\n",
    "two_pters_taken_mean_11_df = pd.DataFrame({'C':c_mean_11, \"PF\": pf_mean_11, \n",
    "                             'C/PF': c_pf_mean_11, 'PF/C': pf_c_mean_11},\n",
    "                             index = [0])\n",
    "two_pters_taken_mean_11_df"
   ]
  },
  {
   "cell_type": "code",
   "execution_count": 33,
   "metadata": {},
   "outputs": [
    {
     "data": {
      "text/plain": [
       "256.0309936802474"
      ]
     },
     "execution_count": 33,
     "metadata": {},
     "output_type": "execute_result"
    }
   ],
   "source": [
    "two_pt_att_mean_11 = (c_mean_11 + pf_mean_11\n",
    "                      +c_pf_mean_11) / 3\n",
    "two_pt_att_mean_11"
   ]
  },
  {
   "cell_type": "code",
   "execution_count": 34,
   "metadata": {},
   "outputs": [
    {
     "data": {
      "text/html": [
       "<div>\n",
       "<style scoped>\n",
       "    .dataframe tbody tr th:only-of-type {\n",
       "        vertical-align: middle;\n",
       "    }\n",
       "\n",
       "    .dataframe tbody tr th {\n",
       "        vertical-align: top;\n",
       "    }\n",
       "\n",
       "    .dataframe thead th {\n",
       "        text-align: right;\n",
       "    }\n",
       "</style>\n",
       "<table border=\"1\" class=\"dataframe\">\n",
       "  <thead>\n",
       "    <tr style=\"text-align: right;\">\n",
       "      <th></th>\n",
       "      <th>C</th>\n",
       "      <th>PF</th>\n",
       "      <th>C/PF</th>\n",
       "      <th>PF/C</th>\n",
       "    </tr>\n",
       "  </thead>\n",
       "  <tbody>\n",
       "    <tr>\n",
       "      <th>0</th>\n",
       "      <td>204.165289</td>\n",
       "      <td>297.084906</td>\n",
       "      <td>61.0</td>\n",
       "      <td>NaN</td>\n",
       "    </tr>\n",
       "  </tbody>\n",
       "</table>\n",
       "</div>"
      ],
      "text/plain": [
       "            C          PF  C/PF  PF/C\n",
       "0  204.165289  297.084906  61.0   NaN"
      ]
     },
     "execution_count": 34,
     "metadata": {},
     "output_type": "execute_result"
    }
   ],
   "source": [
    "#2012\n",
    "#creating a variable for big men in '12\n",
    "c_12 = hoops_data_2012.loc[hoops_data['Pos'] == 'C']\n",
    "pf_12 = hoops_data_2012.loc[hoops_data['Pos'] == 'PF']\n",
    "c_pf_12 = hoops_data_2012.loc[hoops_data['Pos'] == 'C-PF']\n",
    "pf_c_12 = hoops_data_2012.loc[hoops_data['Pos'] == 'PF-C']\n",
    "\n",
    "\n",
    "#creating the mean of 2 pt attempts for bigs in '07\n",
    "c_mean_12 = c_12['2PA'].mean()\n",
    "pf_mean_12 = pf_12['2PA'].mean()\n",
    "c_pf_mean_12 = c_pf_12['2PA'].mean()\n",
    "pf_c_mean_12 = pf_c_12['2PA'].mean()\n",
    "\n",
    "\n",
    "#making a DF to find the NaN values\n",
    "two_pters_taken_mean_12_df = pd.DataFrame({'C':c_mean_12, \"PF\": pf_mean_12, \n",
    "                             'C/PF': c_pf_mean_12, 'PF/C': pf_c_mean_12},\n",
    "                             index = [0])\n",
    "two_pters_taken_mean_12_df"
   ]
  },
  {
   "cell_type": "code",
   "execution_count": 35,
   "metadata": {},
   "outputs": [
    {
     "data": {
      "text/plain": [
       "187.41673163885855"
      ]
     },
     "execution_count": 35,
     "metadata": {},
     "output_type": "execute_result"
    }
   ],
   "source": [
    "two_pt_att_mean_12 = (c_mean_12 + pf_mean_12\n",
    "                     + c_pf_mean_12) / 3\n",
    "two_pt_att_mean_12"
   ]
  },
  {
   "cell_type": "code",
   "execution_count": 36,
   "metadata": {},
   "outputs": [
    {
     "data": {
      "text/html": [
       "<div>\n",
       "<style scoped>\n",
       "    .dataframe tbody tr th:only-of-type {\n",
       "        vertical-align: middle;\n",
       "    }\n",
       "\n",
       "    .dataframe tbody tr th {\n",
       "        vertical-align: top;\n",
       "    }\n",
       "\n",
       "    .dataframe thead th {\n",
       "        text-align: right;\n",
       "    }\n",
       "</style>\n",
       "<table border=\"1\" class=\"dataframe\">\n",
       "  <thead>\n",
       "    <tr style=\"text-align: right;\">\n",
       "      <th></th>\n",
       "      <th>C</th>\n",
       "      <th>PF</th>\n",
       "      <th>C/PF</th>\n",
       "      <th>PF/C</th>\n",
       "    </tr>\n",
       "  </thead>\n",
       "  <tbody>\n",
       "    <tr>\n",
       "      <th>0</th>\n",
       "      <td>298.901786</td>\n",
       "      <td>338.8</td>\n",
       "      <td>482.0</td>\n",
       "      <td>49.0</td>\n",
       "    </tr>\n",
       "  </tbody>\n",
       "</table>\n",
       "</div>"
      ],
      "text/plain": [
       "            C     PF   C/PF  PF/C\n",
       "0  298.901786  338.8  482.0  49.0"
      ]
     },
     "execution_count": 36,
     "metadata": {},
     "output_type": "execute_result"
    }
   ],
   "source": [
    "#2013\n",
    "#creating a variable for big men in '13\n",
    "c_13 = hoops_data_2013.loc[hoops_data['Pos'] == 'C']\n",
    "pf_13 = hoops_data_2013.loc[hoops_data['Pos'] == 'PF']\n",
    "c_pf_13 = hoops_data_2013.loc[hoops_data['Pos'] == 'C-PF']\n",
    "pf_c_13 = hoops_data_2013.loc[hoops_data['Pos'] == 'PF-C']\n",
    "\n",
    "\n",
    "#creating the mean of 2 pt attempts for bigs in '07\n",
    "c_mean_13 = c_13['2PA'].mean()\n",
    "pf_mean_13 = pf_13['2PA'].mean()\n",
    "c_pf_mean_13 = c_pf_13['2PA'].mean()\n",
    "pf_c_mean_13 = pf_c_13['2PA'].mean()\n",
    "\n",
    "\n",
    "#making a DF to find the NaN values\n",
    "two_pters_taken_mean_13_df = pd.DataFrame({'C':c_mean_13, \"PF\": pf_mean_13, \n",
    "                             'C/PF': c_pf_mean_13, 'PF/C': pf_c_mean_13},\n",
    "                             index = [0])\n",
    "two_pters_taken_mean_13_df"
   ]
  },
  {
   "cell_type": "code",
   "execution_count": 37,
   "metadata": {},
   "outputs": [
    {
     "data": {
      "text/plain": [
       "292.17544642857143"
      ]
     },
     "execution_count": 37,
     "metadata": {},
     "output_type": "execute_result"
    }
   ],
   "source": [
    "two_pt_att_mean_13 = (c_mean_13 + pf_mean_13 \n",
    "                      + c_pf_mean_13 + pf_c_mean_13) / 4\n",
    "two_pt_att_mean_13"
   ]
  },
  {
   "cell_type": "code",
   "execution_count": 38,
   "metadata": {},
   "outputs": [
    {
     "data": {
      "text/html": [
       "<div>\n",
       "<style scoped>\n",
       "    .dataframe tbody tr th:only-of-type {\n",
       "        vertical-align: middle;\n",
       "    }\n",
       "\n",
       "    .dataframe tbody tr th {\n",
       "        vertical-align: top;\n",
       "    }\n",
       "\n",
       "    .dataframe thead th {\n",
       "        text-align: right;\n",
       "    }\n",
       "</style>\n",
       "<table border=\"1\" class=\"dataframe\">\n",
       "  <thead>\n",
       "    <tr style=\"text-align: right;\">\n",
       "      <th></th>\n",
       "      <th>C</th>\n",
       "      <th>PF</th>\n",
       "      <th>C/PF</th>\n",
       "      <th>PF/C</th>\n",
       "    </tr>\n",
       "  </thead>\n",
       "  <tbody>\n",
       "    <tr>\n",
       "      <th>0</th>\n",
       "      <td>270.567568</td>\n",
       "      <td>337.9</td>\n",
       "      <td>NaN</td>\n",
       "      <td>NaN</td>\n",
       "    </tr>\n",
       "  </tbody>\n",
       "</table>\n",
       "</div>"
      ],
      "text/plain": [
       "            C     PF  C/PF  PF/C\n",
       "0  270.567568  337.9   NaN   NaN"
      ]
     },
     "execution_count": 38,
     "metadata": {},
     "output_type": "execute_result"
    }
   ],
   "source": [
    "#2014\n",
    "#creating a variable for big men in '14\n",
    "c_14 = hoops_data_2014.loc[hoops_data['Pos'] == 'C']\n",
    "pf_14 = hoops_data_2014.loc[hoops_data['Pos'] == 'PF']\n",
    "c_pf_14 = hoops_data_2014.loc[hoops_data['Pos'] == 'C-PF']\n",
    "pf_c_14 = hoops_data_2014.loc[hoops_data['Pos'] == 'PF-C']\n",
    "\n",
    "\n",
    "#creating the mean of 2 pt attempts for bigs in '07\n",
    "c_mean_14 = c_14['2PA'].mean()\n",
    "pf_mean_14 = pf_14['2PA'].mean()\n",
    "c_pf_mean_14 = c_pf_14['2PA'].mean()\n",
    "pf_c_mean_14 = pf_c_14['2PA'].mean()\n",
    "\n",
    "\n",
    "#making a DF to find the NaN values\n",
    "two_pters_taken_mean_14_df = pd.DataFrame({'C':c_mean_14, \"PF\": pf_mean_14, \n",
    "                             'C/PF': c_pf_mean_14, 'PF/C': pf_c_mean_14},\n",
    "                             index = [0])\n",
    "two_pters_taken_mean_14_df"
   ]
  },
  {
   "cell_type": "code",
   "execution_count": 39,
   "metadata": {},
   "outputs": [
    {
     "data": {
      "text/plain": [
       "304.2337837837838"
      ]
     },
     "execution_count": 39,
     "metadata": {},
     "output_type": "execute_result"
    }
   ],
   "source": [
    "two_pt_att_mean_14 = (c_mean_14 + pf_mean_14) / 2\n",
    "two_pt_att_mean_14"
   ]
  },
  {
   "cell_type": "code",
   "execution_count": 40,
   "metadata": {},
   "outputs": [
    {
     "data": {
      "text/html": [
       "<div>\n",
       "<style scoped>\n",
       "    .dataframe tbody tr th:only-of-type {\n",
       "        vertical-align: middle;\n",
       "    }\n",
       "\n",
       "    .dataframe tbody tr th {\n",
       "        vertical-align: top;\n",
       "    }\n",
       "\n",
       "    .dataframe thead th {\n",
       "        text-align: right;\n",
       "    }\n",
       "</style>\n",
       "<table border=\"1\" class=\"dataframe\">\n",
       "  <thead>\n",
       "    <tr style=\"text-align: right;\">\n",
       "      <th></th>\n",
       "      <th>C</th>\n",
       "      <th>PF</th>\n",
       "      <th>C/PF</th>\n",
       "      <th>PF/C</th>\n",
       "    </tr>\n",
       "  </thead>\n",
       "  <tbody>\n",
       "    <tr>\n",
       "      <th>0</th>\n",
       "      <td>336.3</td>\n",
       "      <td>272.356643</td>\n",
       "      <td>NaN</td>\n",
       "      <td>NaN</td>\n",
       "    </tr>\n",
       "  </tbody>\n",
       "</table>\n",
       "</div>"
      ],
      "text/plain": [
       "       C          PF  C/PF  PF/C\n",
       "0  336.3  272.356643   NaN   NaN"
      ]
     },
     "execution_count": 40,
     "metadata": {},
     "output_type": "execute_result"
    }
   ],
   "source": [
    "#2015\n",
    "#creating a variable for big men in '15\n",
    "c_15 = hoops_data_2015.loc[hoops_data['Pos'] == 'C']\n",
    "pf_15 = hoops_data_2015.loc[hoops_data['Pos'] == 'PF']\n",
    "c_pf_15 = hoops_data_2015.loc[hoops_data['Pos'] == 'C-PF']\n",
    "pf_c_15 = hoops_data_2015.loc[hoops_data['Pos'] == 'PF-C']\n",
    "\n",
    "\n",
    "#creating the mean of 2 pt attempts for bigs in '07\n",
    "c_mean_15 = c_15['2PA'].mean()\n",
    "pf_mean_15 = pf_15['2PA'].mean()\n",
    "c_pf_mean_15 = c_pf_15['2PA'].mean()\n",
    "pf_c_mean_15 = pf_c_15['2PA'].mean()\n",
    "\n",
    "\n",
    "#making a DF to find the NaN values\n",
    "two_pters_taken_mean_15_df = pd.DataFrame({'C':c_mean_15, \"PF\": pf_mean_15, \n",
    "                             'C/PF': c_pf_mean_15, 'PF/C': pf_c_mean_15},\n",
    "                             index = [0])\n",
    "two_pters_taken_mean_15_df"
   ]
  },
  {
   "cell_type": "code",
   "execution_count": 41,
   "metadata": {},
   "outputs": [
    {
     "data": {
      "text/plain": [
       "304.3283216783217"
      ]
     },
     "execution_count": 41,
     "metadata": {},
     "output_type": "execute_result"
    }
   ],
   "source": [
    "two_pt_att_mean_15 = (c_mean_15 + pf_mean_15) / 2\n",
    "two_pt_att_mean_15"
   ]
  },
  {
   "cell_type": "code",
   "execution_count": 42,
   "metadata": {},
   "outputs": [
    {
     "data": {
      "text/html": [
       "<div>\n",
       "<style scoped>\n",
       "    .dataframe tbody tr th:only-of-type {\n",
       "        vertical-align: middle;\n",
       "    }\n",
       "\n",
       "    .dataframe tbody tr th {\n",
       "        vertical-align: top;\n",
       "    }\n",
       "\n",
       "    .dataframe thead th {\n",
       "        text-align: right;\n",
       "    }\n",
       "</style>\n",
       "<table border=\"1\" class=\"dataframe\">\n",
       "  <thead>\n",
       "    <tr style=\"text-align: right;\">\n",
       "      <th></th>\n",
       "      <th>C</th>\n",
       "      <th>PF</th>\n",
       "      <th>C/PF</th>\n",
       "      <th>PF/C</th>\n",
       "    </tr>\n",
       "  </thead>\n",
       "  <tbody>\n",
       "    <tr>\n",
       "      <th>0</th>\n",
       "      <td>316.048077</td>\n",
       "      <td>266.756303</td>\n",
       "      <td>NaN</td>\n",
       "      <td>112.0</td>\n",
       "    </tr>\n",
       "  </tbody>\n",
       "</table>\n",
       "</div>"
      ],
      "text/plain": [
       "            C          PF  C/PF   PF/C\n",
       "0  316.048077  266.756303   NaN  112.0"
      ]
     },
     "execution_count": 42,
     "metadata": {},
     "output_type": "execute_result"
    }
   ],
   "source": [
    "#2016\n",
    "#creating a variable for big men in '16\n",
    "c_16 = hoops_data_2016.loc[hoops_data['Pos'] == 'C']\n",
    "pf_16 = hoops_data_2016.loc[hoops_data['Pos'] == 'PF']\n",
    "c_pf_16 = hoops_data_2016.loc[hoops_data['Pos'] == 'C-PF']\n",
    "pf_c_16 = hoops_data_2016.loc[hoops_data['Pos'] == 'PF-C']\n",
    "\n",
    "\n",
    "#creating the mean of 2 pt attempts for bigs in '07\n",
    "c_mean_16 = c_16['2PA'].mean()\n",
    "pf_mean_16 = pf_16['2PA'].mean()\n",
    "c_pf_mean_16 = c_pf_16['2PA'].mean()\n",
    "pf_c_mean_16 = pf_c_16['2PA'].mean()\n",
    "\n",
    "\n",
    "#making a DF to find the NaN values\n",
    "two_pters_taken_mean_16_df = pd.DataFrame({'C':c_mean_16, \"PF\": pf_mean_16, \n",
    "                             'C/PF': c_pf_mean_16, 'PF/C': pf_c_mean_16},\n",
    "                             index = [0])\n",
    "two_pters_taken_mean_16_df"
   ]
  },
  {
   "cell_type": "code",
   "execution_count": 43,
   "metadata": {},
   "outputs": [
    {
     "data": {
      "text/plain": [
       "231.6014598146951"
      ]
     },
     "execution_count": 43,
     "metadata": {},
     "output_type": "execute_result"
    }
   ],
   "source": [
    "two_pt_att_mean_16 = (c_mean_16 + pf_mean_16 + pf_c_mean_16) / 3\n",
    "two_pt_att_mean_16"
   ]
  },
  {
   "cell_type": "code",
   "execution_count": 44,
   "metadata": {},
   "outputs": [
    {
     "data": {
      "text/html": [
       "<div>\n",
       "<style scoped>\n",
       "    .dataframe tbody tr th:only-of-type {\n",
       "        vertical-align: middle;\n",
       "    }\n",
       "\n",
       "    .dataframe tbody tr th {\n",
       "        vertical-align: top;\n",
       "    }\n",
       "\n",
       "    .dataframe thead th {\n",
       "        text-align: right;\n",
       "    }\n",
       "</style>\n",
       "<table border=\"1\" class=\"dataframe\">\n",
       "  <thead>\n",
       "    <tr style=\"text-align: right;\">\n",
       "      <th></th>\n",
       "      <th>C</th>\n",
       "      <th>PF</th>\n",
       "      <th>C/PF</th>\n",
       "      <th>PF/C</th>\n",
       "    </tr>\n",
       "  </thead>\n",
       "  <tbody>\n",
       "    <tr>\n",
       "      <th>0</th>\n",
       "      <td>311.256637</td>\n",
       "      <td>241.495798</td>\n",
       "      <td>NaN</td>\n",
       "      <td>238.0</td>\n",
       "    </tr>\n",
       "  </tbody>\n",
       "</table>\n",
       "</div>"
      ],
      "text/plain": [
       "            C          PF  C/PF   PF/C\n",
       "0  311.256637  241.495798   NaN  238.0"
      ]
     },
     "execution_count": 44,
     "metadata": {},
     "output_type": "execute_result"
    }
   ],
   "source": [
    "#2017\n",
    "#creating a variable for big men in '17\n",
    "c_17 = hoops_data_2017.loc[hoops_data['Pos'] == 'C']\n",
    "pf_17 = hoops_data_2017.loc[hoops_data['Pos'] == 'PF']\n",
    "c_pf_17 = hoops_data_2017.loc[hoops_data['Pos'] == 'C-PF']\n",
    "pf_c_17 = hoops_data_2017.loc[hoops_data['Pos'] == 'PF-C']\n",
    "\n",
    "\n",
    "#creating the mean of 2 pt attempts for bigs in '17\n",
    "c_mean_17 = c_17['2PA'].mean()\n",
    "pf_mean_17 = pf_17['2PA'].mean()\n",
    "c_pf_mean_17 = c_pf_17['2PA'].mean()\n",
    "pf_c_mean_17 = pf_c_17['2PA'].mean()\n",
    "\n",
    "\n",
    "#making a DF to find the NaN values\n",
    "two_pters_taken_mean_17_df = pd.DataFrame({'C':c_mean_17, \"PF\": pf_mean_17, \n",
    "                             'C/PF': c_pf_mean_17, 'PF/C': pf_c_mean_17},\n",
    "                             index = [0])\n",
    "two_pters_taken_mean_17_df"
   ]
  },
  {
   "cell_type": "code",
   "execution_count": 45,
   "metadata": {},
   "outputs": [
    {
     "data": {
      "text/plain": [
       "263.58414516248973"
      ]
     },
     "execution_count": 45,
     "metadata": {},
     "output_type": "execute_result"
    }
   ],
   "source": [
    "two_pt_att_mean_17 = (c_mean_17 + pf_mean_17 + pf_c_mean_17) / 3\n",
    "two_pt_att_mean_17"
   ]
  },
  {
   "cell_type": "code",
   "execution_count": 46,
   "metadata": {},
   "outputs": [
    {
     "data": {
      "text/html": [
       "<div>\n",
       "<style scoped>\n",
       "    .dataframe tbody tr th:only-of-type {\n",
       "        vertical-align: middle;\n",
       "    }\n",
       "\n",
       "    .dataframe tbody tr th {\n",
       "        vertical-align: top;\n",
       "    }\n",
       "\n",
       "    .dataframe thead th {\n",
       "        text-align: right;\n",
       "    }\n",
       "</style>\n",
       "<table border=\"1\" class=\"dataframe\">\n",
       "  <thead>\n",
       "    <tr style=\"text-align: right;\">\n",
       "      <th></th>\n",
       "      <th>C</th>\n",
       "      <th>PF</th>\n",
       "      <th>C/PF</th>\n",
       "      <th>PF/C</th>\n",
       "    </tr>\n",
       "  </thead>\n",
       "  <tbody>\n",
       "    <tr>\n",
       "      <th>0</th>\n",
       "      <td>232.125984</td>\n",
       "      <td>332.869565</td>\n",
       "      <td>NaN</td>\n",
       "      <td>NaN</td>\n",
       "    </tr>\n",
       "  </tbody>\n",
       "</table>\n",
       "</div>"
      ],
      "text/plain": [
       "            C          PF  C/PF  PF/C\n",
       "0  232.125984  332.869565   NaN   NaN"
      ]
     },
     "execution_count": 46,
     "metadata": {},
     "output_type": "execute_result"
    }
   ],
   "source": [
    "#Coming back to 2000\n",
    "#creating a variable for big men in '00\n",
    "c_00 = hoops_data_2000.loc[hoops_data['Pos'] == 'C']\n",
    "pf_00 = hoops_data_2000.loc[hoops_data['Pos'] == 'PF']\n",
    "c_pf_00 = hoops_data_2000.loc[hoops_data['Pos'] == 'C-PF']\n",
    "pf_c_00 = hoops_data_2000.loc[hoops_data['Pos'] == 'PF-C']\n",
    "\n",
    "\n",
    "#creating the mean of 2 pt attempts for bigs in '00\n",
    "c_mean_00 = c_00['2PA'].mean()\n",
    "pf_mean_00 = pf_00['2PA'].mean()\n",
    "c_pf_mean_00 = c_pf_00['2PA'].mean()\n",
    "pf_c_mean_00 = pf_c_00['2PA'].mean()\n",
    "\n",
    "#making a DF to find the NaN values\n",
    "two_pters_taken_mean_00_df = pd.DataFrame({'C':c_mean_04, \"PF\": pf_mean_00, \n",
    "                             'C/PF': c_pf_mean_00, 'PF/C': pf_c_mean_00},\n",
    "                             index = [0])\n",
    "two_pters_taken_mean_00_df"
   ]
  },
  {
   "cell_type": "code",
   "execution_count": 47,
   "metadata": {},
   "outputs": [
    {
     "data": {
      "text/plain": [
       "338.9750124937531"
      ]
     },
     "execution_count": 47,
     "metadata": {},
     "output_type": "execute_result"
    }
   ],
   "source": [
    "two_pt_att_mean_00 = (c_mean_00 + pf_mean_00) / 2\n",
    "two_pt_att_mean_00"
   ]
  },
  {
   "cell_type": "code",
   "execution_count": 48,
   "metadata": {},
   "outputs": [
    {
     "data": {
      "image/png": "[encoded data removed]",
      "text/plain": [
       "<Figure size 432x288 with 1 Axes>"
      ]
     },
     "metadata": {
      "needs_background": "light"
     },
     "output_type": "display_data"
    }
   ],
   "source": [
    "#Creating the bar plot to show 2pt attempts over the years\n",
    "height_in_order = [338.9750124937531,393.37733605164794,329.96759711106773,\n",
    "                  329.07307178802506,218.5025590551181,255.26198347107436,\n",
    "                  259.2928783614759,226.94725358642884,279.85871566054243,\n",
    "                  353.4195455960162,390.1365324706446,256.0309936802474,\n",
    "                  187.41673163885855,292.17544642857143,304.2337837837838,\n",
    "                  304.3283216783217,231.6014598146951,263.58414516248973]\n",
    "years = ('2000','2001','2002','2003','2004','2005','2006','2007','2008',\n",
    "         '2009','2010','2011','2012',\n",
    "        '2013','2014','2015','2016','2017')\n",
    "\n",
    "width = .5\n",
    "\n",
    "plt.bar(years, height_in_order, alpha = .5)\n",
    "plt.xticks(years, rotation = 'vertical')\n",
    "plt.ylabel(\"Average 2pt Attempts by Bigs\")\n",
    "plt.title(\"2pt Attempts\")\n",
    "\n",
    "plt.show()"
   ]
  },
  {
   "cell_type": "code",
   "execution_count": 49,
   "metadata": {},
   "outputs": [],
   "source": [
    "# For the next few cells I am stealing code from Ovais to incorporate\n",
    " #his for loop to isoloate years and positions"
   ]
  },
  {
   "cell_type": "code",
   "execution_count": 50,
   "metadata": {},
   "outputs": [],
   "source": [
    "#get Data files and turn into DataFrames\n",
    "\n",
    "nba_data_excel = \"NBA_Data_2000.xlsx\"\n",
    "player_data_excel = \"player_heightweight_data(cleanedinches).xlsm\"\n",
    "\n",
    "nba_data_df = pd.read_excel(nba_data_excel)\n",
    "height_weight_df = pd.read_excel(player_data_excel)\n"
   ]
  },
  {
   "cell_type": "code",
   "execution_count": 51,
   "metadata": {},
   "outputs": [
    {
     "data": {
      "text/html": [
       "<div>\n",
       "<style scoped>\n",
       "    .dataframe tbody tr th:only-of-type {\n",
       "        vertical-align: middle;\n",
       "    }\n",
       "\n",
       "    .dataframe tbody tr th {\n",
       "        vertical-align: top;\n",
       "    }\n",
       "\n",
       "    .dataframe thead th {\n",
       "        text-align: right;\n",
       "    }\n",
       "</style>\n",
       "<table border=\"1\" class=\"dataframe\">\n",
       "  <thead>\n",
       "    <tr style=\"text-align: right;\">\n",
       "      <th></th>\n",
       "      <th>Year</th>\n",
       "      <th>name</th>\n",
       "      <th>Pos</th>\n",
       "      <th>Age</th>\n",
       "      <th>Tm</th>\n",
       "      <th>G</th>\n",
       "      <th>GS</th>\n",
       "      <th>MP</th>\n",
       "      <th>PER</th>\n",
       "      <th>TS%</th>\n",
       "      <th>...</th>\n",
       "      <th>FT%</th>\n",
       "      <th>ORB</th>\n",
       "      <th>DRB</th>\n",
       "      <th>TRB</th>\n",
       "      <th>AST</th>\n",
       "      <th>STL</th>\n",
       "      <th>BLK</th>\n",
       "      <th>TOV</th>\n",
       "      <th>PF</th>\n",
       "      <th>PTS</th>\n",
       "    </tr>\n",
       "  </thead>\n",
       "  <tbody>\n",
       "    <tr>\n",
       "      <th>0</th>\n",
       "      <td>2000</td>\n",
       "      <td>Tariq Abdul-Wahad</td>\n",
       "      <td>SG</td>\n",
       "      <td>25.0</td>\n",
       "      <td>TOT</td>\n",
       "      <td>61.0</td>\n",
       "      <td>56.0</td>\n",
       "      <td>1578.0</td>\n",
       "      <td>13.6</td>\n",
       "      <td>0.477</td>\n",
       "      <td>...</td>\n",
       "      <td>0.756</td>\n",
       "      <td>101.0</td>\n",
       "      <td>190.0</td>\n",
       "      <td>291.0</td>\n",
       "      <td>98.0</td>\n",
       "      <td>59.0</td>\n",
       "      <td>28.0</td>\n",
       "      <td>106.0</td>\n",
       "      <td>147.0</td>\n",
       "      <td>697.0</td>\n",
       "    </tr>\n",
       "    <tr>\n",
       "      <th>1</th>\n",
       "      <td>2000</td>\n",
       "      <td>Tariq Abdul-Wahad</td>\n",
       "      <td>SG</td>\n",
       "      <td>25.0</td>\n",
       "      <td>ORL</td>\n",
       "      <td>46.0</td>\n",
       "      <td>46.0</td>\n",
       "      <td>1205.0</td>\n",
       "      <td>14.4</td>\n",
       "      <td>0.484</td>\n",
       "      <td>...</td>\n",
       "      <td>0.762</td>\n",
       "      <td>77.0</td>\n",
       "      <td>162.0</td>\n",
       "      <td>239.0</td>\n",
       "      <td>72.0</td>\n",
       "      <td>53.0</td>\n",
       "      <td>16.0</td>\n",
       "      <td>87.0</td>\n",
       "      <td>116.0</td>\n",
       "      <td>563.0</td>\n",
       "    </tr>\n",
       "    <tr>\n",
       "      <th>2</th>\n",
       "      <td>2000</td>\n",
       "      <td>Tariq Abdul-Wahad</td>\n",
       "      <td>SG</td>\n",
       "      <td>25.0</td>\n",
       "      <td>DEN</td>\n",
       "      <td>15.0</td>\n",
       "      <td>10.0</td>\n",
       "      <td>373.0</td>\n",
       "      <td>10.8</td>\n",
       "      <td>0.448</td>\n",
       "      <td>...</td>\n",
       "      <td>0.738</td>\n",
       "      <td>24.0</td>\n",
       "      <td>28.0</td>\n",
       "      <td>52.0</td>\n",
       "      <td>26.0</td>\n",
       "      <td>6.0</td>\n",
       "      <td>12.0</td>\n",
       "      <td>19.0</td>\n",
       "      <td>31.0</td>\n",
       "      <td>134.0</td>\n",
       "    </tr>\n",
       "    <tr>\n",
       "      <th>3</th>\n",
       "      <td>2000</td>\n",
       "      <td>Shareef Abdur-Rahim</td>\n",
       "      <td>SF</td>\n",
       "      <td>23.0</td>\n",
       "      <td>VAN</td>\n",
       "      <td>82.0</td>\n",
       "      <td>82.0</td>\n",
       "      <td>3223.0</td>\n",
       "      <td>20.2</td>\n",
       "      <td>0.547</td>\n",
       "      <td>...</td>\n",
       "      <td>0.809</td>\n",
       "      <td>218.0</td>\n",
       "      <td>607.0</td>\n",
       "      <td>825.0</td>\n",
       "      <td>271.0</td>\n",
       "      <td>89.0</td>\n",
       "      <td>87.0</td>\n",
       "      <td>249.0</td>\n",
       "      <td>244.0</td>\n",
       "      <td>1663.0</td>\n",
       "    </tr>\n",
       "    <tr>\n",
       "      <th>4</th>\n",
       "      <td>2000</td>\n",
       "      <td>Cory Alexander</td>\n",
       "      <td>PG</td>\n",
       "      <td>26.0</td>\n",
       "      <td>DEN</td>\n",
       "      <td>29.0</td>\n",
       "      <td>2.0</td>\n",
       "      <td>329.0</td>\n",
       "      <td>8.8</td>\n",
       "      <td>0.381</td>\n",
       "      <td>...</td>\n",
       "      <td>0.773</td>\n",
       "      <td>8.0</td>\n",
       "      <td>34.0</td>\n",
       "      <td>42.0</td>\n",
       "      <td>58.0</td>\n",
       "      <td>24.0</td>\n",
       "      <td>2.0</td>\n",
       "      <td>28.0</td>\n",
       "      <td>39.0</td>\n",
       "      <td>82.0</td>\n",
       "    </tr>\n",
       "  </tbody>\n",
       "</table>\n",
       "<p>5 rows × 52 columns</p>\n",
       "</div>"
      ],
      "text/plain": [
       "   Year                 name Pos   Age   Tm     G    GS      MP   PER    TS%  \\\n",
       "0  2000    Tariq Abdul-Wahad  SG  25.0  TOT  61.0  56.0  1578.0  13.6  0.477   \n",
       "1  2000    Tariq Abdul-Wahad  SG  25.0  ORL  46.0  46.0  1205.0  14.4  0.484   \n",
       "2  2000    Tariq Abdul-Wahad  SG  25.0  DEN  15.0  10.0   373.0  10.8  0.448   \n",
       "3  2000  Shareef Abdur-Rahim  SF  23.0  VAN  82.0  82.0  3223.0  20.2  0.547   \n",
       "4  2000       Cory Alexander  PG  26.0  DEN  29.0   2.0   329.0   8.8  0.381   \n",
       "\n",
       "    ...      FT%    ORB    DRB    TRB    AST   STL   BLK    TOV     PF     PTS  \n",
       "0   ...    0.756  101.0  190.0  291.0   98.0  59.0  28.0  106.0  147.0   697.0  \n",
       "1   ...    0.762   77.0  162.0  239.0   72.0  53.0  16.0   87.0  116.0   563.0  \n",
       "2   ...    0.738   24.0   28.0   52.0   26.0   6.0  12.0   19.0   31.0   134.0  \n",
       "3   ...    0.809  218.0  607.0  825.0  271.0  89.0  87.0  249.0  244.0  1663.0  \n",
       "4   ...    0.773    8.0   34.0   42.0   58.0  24.0   2.0   28.0   39.0    82.0  \n",
       "\n",
       "[5 rows x 52 columns]"
      ]
     },
     "execution_count": 51,
     "metadata": {},
     "output_type": "execute_result"
    }
   ],
   "source": [
    "#drop N/A values in year: nba_data_df\n",
    "nba_data_df['Year'] = nba_data_df.Year.fillna(0)\n",
    "\n",
    "#convert year into integer value\n",
    "nba_data_df['Year'] = nba_data_df.Year.astype(int)\n",
    "\n",
    "#Change 'Player' column to 'name'\n",
    "nba_data_df = nba_data_df.rename(columns={\"Player\":\"name\"})\n",
    "\n",
    "#Preview nba_data_df\n",
    "\n",
    "nba_data_df.head()"
   ]
  },
  {
   "cell_type": "code",
   "execution_count": 52,
   "metadata": {},
   "outputs": [
    {
     "data": {
      "text/html": [
       "<div>\n",
       "<style scoped>\n",
       "    .dataframe tbody tr th:only-of-type {\n",
       "        vertical-align: middle;\n",
       "    }\n",
       "\n",
       "    .dataframe tbody tr th {\n",
       "        vertical-align: top;\n",
       "    }\n",
       "\n",
       "    .dataframe thead th {\n",
       "        text-align: right;\n",
       "    }\n",
       "</style>\n",
       "<table border=\"1\" class=\"dataframe\">\n",
       "  <thead>\n",
       "    <tr style=\"text-align: right;\">\n",
       "      <th></th>\n",
       "      <th>name</th>\n",
       "      <th>position</th>\n",
       "      <th>weight</th>\n",
       "      <th>height (inches)</th>\n",
       "      <th>height(feet)</th>\n",
       "    </tr>\n",
       "  </thead>\n",
       "  <tbody>\n",
       "    <tr>\n",
       "      <th>0</th>\n",
       "      <td>Alaa Abdelnaby</td>\n",
       "      <td>F-C</td>\n",
       "      <td>240</td>\n",
       "      <td>82</td>\n",
       "      <td>6ft 10in</td>\n",
       "    </tr>\n",
       "    <tr>\n",
       "      <th>1</th>\n",
       "      <td>Zaid Abdul-Aziz</td>\n",
       "      <td>NaN</td>\n",
       "      <td>235</td>\n",
       "      <td>81</td>\n",
       "      <td>6ft 9in</td>\n",
       "    </tr>\n",
       "    <tr>\n",
       "      <th>2</th>\n",
       "      <td>Kareem Abdul-Jabbar</td>\n",
       "      <td>C</td>\n",
       "      <td>225</td>\n",
       "      <td>86</td>\n",
       "      <td>7ft 2in</td>\n",
       "    </tr>\n",
       "    <tr>\n",
       "      <th>3</th>\n",
       "      <td>Mahmoud Abdul-Rauf</td>\n",
       "      <td>G</td>\n",
       "      <td>162</td>\n",
       "      <td>73</td>\n",
       "      <td>6ft 1in</td>\n",
       "    </tr>\n",
       "    <tr>\n",
       "      <th>4</th>\n",
       "      <td>Tariq Abdul-Wahad</td>\n",
       "      <td>F</td>\n",
       "      <td>223</td>\n",
       "      <td>78</td>\n",
       "      <td>6ft 6in</td>\n",
       "    </tr>\n",
       "  </tbody>\n",
       "</table>\n",
       "</div>"
      ],
      "text/plain": [
       "                  name position  weight  height (inches) height(feet)\n",
       "0       Alaa Abdelnaby      F-C     240               82     6ft 10in\n",
       "1      Zaid Abdul-Aziz      NaN     235               81      6ft 9in\n",
       "2  Kareem Abdul-Jabbar        C     225               86      7ft 2in\n",
       "3   Mahmoud Abdul-Rauf        G     162               73      6ft 1in\n",
       "4    Tariq Abdul-Wahad        F     223               78      6ft 6in"
      ]
     },
     "execution_count": 52,
     "metadata": {},
     "output_type": "execute_result"
    }
   ],
   "source": [
    "#drop N/A values in year: nba_data_df\n",
    "height_weight_df['weight'] = height_weight_df.weight.fillna(0)\n",
    "\n",
    "#Convert weight into integer value: height_weight_df\n",
    "height_weight_df['weight'] = height_weight_df.weight.astype(int)\n",
    "\n",
    "#Preview\n",
    "height_weight_df.head()"
   ]
  },
  {
   "cell_type": "code",
   "execution_count": 53,
   "metadata": {},
   "outputs": [
    {
     "data": {
      "text/html": [
       "<div>\n",
       "<style scoped>\n",
       "    .dataframe tbody tr th:only-of-type {\n",
       "        vertical-align: middle;\n",
       "    }\n",
       "\n",
       "    .dataframe tbody tr th {\n",
       "        vertical-align: top;\n",
       "    }\n",
       "\n",
       "    .dataframe thead th {\n",
       "        text-align: right;\n",
       "    }\n",
       "</style>\n",
       "<table border=\"1\" class=\"dataframe\">\n",
       "  <thead>\n",
       "    <tr style=\"text-align: right;\">\n",
       "      <th></th>\n",
       "      <th>Year</th>\n",
       "      <th>name</th>\n",
       "      <th>Pos</th>\n",
       "      <th>Age</th>\n",
       "      <th>Tm</th>\n",
       "      <th>G</th>\n",
       "      <th>GS</th>\n",
       "      <th>MP</th>\n",
       "      <th>PER</th>\n",
       "      <th>TS%</th>\n",
       "      <th>...</th>\n",
       "      <th>AST</th>\n",
       "      <th>STL</th>\n",
       "      <th>BLK</th>\n",
       "      <th>TOV</th>\n",
       "      <th>PF</th>\n",
       "      <th>PTS</th>\n",
       "      <th>position</th>\n",
       "      <th>weight</th>\n",
       "      <th>height (inches)</th>\n",
       "      <th>height(feet)</th>\n",
       "    </tr>\n",
       "  </thead>\n",
       "  <tbody>\n",
       "    <tr>\n",
       "      <th>0</th>\n",
       "      <td>2000</td>\n",
       "      <td>Tariq Abdul-Wahad</td>\n",
       "      <td>SG</td>\n",
       "      <td>25.0</td>\n",
       "      <td>TOT</td>\n",
       "      <td>61.0</td>\n",
       "      <td>56.0</td>\n",
       "      <td>1578.0</td>\n",
       "      <td>13.6</td>\n",
       "      <td>0.477</td>\n",
       "      <td>...</td>\n",
       "      <td>98.0</td>\n",
       "      <td>59.0</td>\n",
       "      <td>28.0</td>\n",
       "      <td>106.0</td>\n",
       "      <td>147.0</td>\n",
       "      <td>697.0</td>\n",
       "      <td>F</td>\n",
       "      <td>223</td>\n",
       "      <td>78</td>\n",
       "      <td>6ft 6in</td>\n",
       "    </tr>\n",
       "    <tr>\n",
       "      <th>1</th>\n",
       "      <td>2000</td>\n",
       "      <td>Tariq Abdul-Wahad</td>\n",
       "      <td>SG</td>\n",
       "      <td>25.0</td>\n",
       "      <td>ORL</td>\n",
       "      <td>46.0</td>\n",
       "      <td>46.0</td>\n",
       "      <td>1205.0</td>\n",
       "      <td>14.4</td>\n",
       "      <td>0.484</td>\n",
       "      <td>...</td>\n",
       "      <td>72.0</td>\n",
       "      <td>53.0</td>\n",
       "      <td>16.0</td>\n",
       "      <td>87.0</td>\n",
       "      <td>116.0</td>\n",
       "      <td>563.0</td>\n",
       "      <td>F</td>\n",
       "      <td>223</td>\n",
       "      <td>78</td>\n",
       "      <td>6ft 6in</td>\n",
       "    </tr>\n",
       "    <tr>\n",
       "      <th>2</th>\n",
       "      <td>2000</td>\n",
       "      <td>Tariq Abdul-Wahad</td>\n",
       "      <td>SG</td>\n",
       "      <td>25.0</td>\n",
       "      <td>DEN</td>\n",
       "      <td>15.0</td>\n",
       "      <td>10.0</td>\n",
       "      <td>373.0</td>\n",
       "      <td>10.8</td>\n",
       "      <td>0.448</td>\n",
       "      <td>...</td>\n",
       "      <td>26.0</td>\n",
       "      <td>6.0</td>\n",
       "      <td>12.0</td>\n",
       "      <td>19.0</td>\n",
       "      <td>31.0</td>\n",
       "      <td>134.0</td>\n",
       "      <td>F</td>\n",
       "      <td>223</td>\n",
       "      <td>78</td>\n",
       "      <td>6ft 6in</td>\n",
       "    </tr>\n",
       "    <tr>\n",
       "      <th>3</th>\n",
       "      <td>2001</td>\n",
       "      <td>Tariq Abdul-Wahad</td>\n",
       "      <td>SG</td>\n",
       "      <td>26.0</td>\n",
       "      <td>DEN</td>\n",
       "      <td>29.0</td>\n",
       "      <td>12.0</td>\n",
       "      <td>420.0</td>\n",
       "      <td>5.8</td>\n",
       "      <td>0.438</td>\n",
       "      <td>...</td>\n",
       "      <td>22.0</td>\n",
       "      <td>14.0</td>\n",
       "      <td>13.0</td>\n",
       "      <td>34.0</td>\n",
       "      <td>54.0</td>\n",
       "      <td>111.0</td>\n",
       "      <td>F</td>\n",
       "      <td>223</td>\n",
       "      <td>78</td>\n",
       "      <td>6ft 6in</td>\n",
       "    </tr>\n",
       "    <tr>\n",
       "      <th>4</th>\n",
       "      <td>2002</td>\n",
       "      <td>Tariq Abdul-Wahad</td>\n",
       "      <td>SG</td>\n",
       "      <td>27.0</td>\n",
       "      <td>TOT</td>\n",
       "      <td>24.0</td>\n",
       "      <td>12.0</td>\n",
       "      <td>441.0</td>\n",
       "      <td>9.8</td>\n",
       "      <td>0.418</td>\n",
       "      <td>...</td>\n",
       "      <td>24.0</td>\n",
       "      <td>20.0</td>\n",
       "      <td>10.0</td>\n",
       "      <td>27.0</td>\n",
       "      <td>56.0</td>\n",
       "      <td>135.0</td>\n",
       "      <td>F</td>\n",
       "      <td>223</td>\n",
       "      <td>78</td>\n",
       "      <td>6ft 6in</td>\n",
       "    </tr>\n",
       "  </tbody>\n",
       "</table>\n",
       "<p>5 rows × 56 columns</p>\n",
       "</div>"
      ],
      "text/plain": [
       "   Year               name Pos   Age   Tm     G    GS      MP   PER    TS%  \\\n",
       "0  2000  Tariq Abdul-Wahad  SG  25.0  TOT  61.0  56.0  1578.0  13.6  0.477   \n",
       "1  2000  Tariq Abdul-Wahad  SG  25.0  ORL  46.0  46.0  1205.0  14.4  0.484   \n",
       "2  2000  Tariq Abdul-Wahad  SG  25.0  DEN  15.0  10.0   373.0  10.8  0.448   \n",
       "3  2001  Tariq Abdul-Wahad  SG  26.0  DEN  29.0  12.0   420.0   5.8  0.438   \n",
       "4  2002  Tariq Abdul-Wahad  SG  27.0  TOT  24.0  12.0   441.0   9.8  0.418   \n",
       "\n",
       "       ...        AST   STL   BLK    TOV     PF    PTS  position  weight  \\\n",
       "0      ...       98.0  59.0  28.0  106.0  147.0  697.0         F     223   \n",
       "1      ...       72.0  53.0  16.0   87.0  116.0  563.0         F     223   \n",
       "2      ...       26.0   6.0  12.0   19.0   31.0  134.0         F     223   \n",
       "3      ...       22.0  14.0  13.0   34.0   54.0  111.0         F     223   \n",
       "4      ...       24.0  20.0  10.0   27.0   56.0  135.0         F     223   \n",
       "\n",
       "   height (inches)  height(feet)  \n",
       "0               78       6ft 6in  \n",
       "1               78       6ft 6in  \n",
       "2               78       6ft 6in  \n",
       "3               78       6ft 6in  \n",
       "4               78       6ft 6in  \n",
       "\n",
       "[5 rows x 56 columns]"
      ]
     },
     "execution_count": 53,
     "metadata": {},
     "output_type": "execute_result"
    }
   ],
   "source": [
    "#Merge Both DataFrames on: 'name' column\n",
    "\n",
    "merged_df = pd.merge(nba_data_df, height_weight_df)\n",
    "merged_df.head()"
   ]
  },
  {
   "cell_type": "code",
   "execution_count": 54,
   "metadata": {
    "scrolled": true
   },
   "outputs": [
    {
     "data": {
      "text/html": [
       "<div>\n",
       "<style scoped>\n",
       "    .dataframe tbody tr th:only-of-type {\n",
       "        vertical-align: middle;\n",
       "    }\n",
       "\n",
       "    .dataframe tbody tr th {\n",
       "        vertical-align: top;\n",
       "    }\n",
       "\n",
       "    .dataframe thead th {\n",
       "        text-align: right;\n",
       "    }\n",
       "</style>\n",
       "<table border=\"1\" class=\"dataframe\">\n",
       "  <thead>\n",
       "    <tr style=\"text-align: right;\">\n",
       "      <th></th>\n",
       "      <th>Year</th>\n",
       "      <th>name</th>\n",
       "      <th>Age</th>\n",
       "      <th>Tm</th>\n",
       "      <th>G</th>\n",
       "      <th>GS</th>\n",
       "      <th>MP</th>\n",
       "      <th>PER</th>\n",
       "      <th>TS%</th>\n",
       "      <th>3PAr</th>\n",
       "      <th>...</th>\n",
       "      <th>AST</th>\n",
       "      <th>STL</th>\n",
       "      <th>BLK</th>\n",
       "      <th>TOV</th>\n",
       "      <th>PF</th>\n",
       "      <th>PTS</th>\n",
       "      <th>position</th>\n",
       "      <th>weight</th>\n",
       "      <th>height (inches)</th>\n",
       "      <th>height(feet)</th>\n",
       "    </tr>\n",
       "  </thead>\n",
       "  <tbody>\n",
       "    <tr>\n",
       "      <th>0</th>\n",
       "      <td>2000</td>\n",
       "      <td>Tariq Abdul-Wahad</td>\n",
       "      <td>25.0</td>\n",
       "      <td>TOT</td>\n",
       "      <td>61.0</td>\n",
       "      <td>56.0</td>\n",
       "      <td>1578.0</td>\n",
       "      <td>13.6</td>\n",
       "      <td>0.477</td>\n",
       "      <td>0.036</td>\n",
       "      <td>...</td>\n",
       "      <td>98.0</td>\n",
       "      <td>59.0</td>\n",
       "      <td>28.0</td>\n",
       "      <td>106.0</td>\n",
       "      <td>147.0</td>\n",
       "      <td>697.0</td>\n",
       "      <td>F</td>\n",
       "      <td>223</td>\n",
       "      <td>78</td>\n",
       "      <td>6ft 6in</td>\n",
       "    </tr>\n",
       "    <tr>\n",
       "      <th>1</th>\n",
       "      <td>2000</td>\n",
       "      <td>Tariq Abdul-Wahad</td>\n",
       "      <td>25.0</td>\n",
       "      <td>ORL</td>\n",
       "      <td>46.0</td>\n",
       "      <td>46.0</td>\n",
       "      <td>1205.0</td>\n",
       "      <td>14.4</td>\n",
       "      <td>0.484</td>\n",
       "      <td>0.041</td>\n",
       "      <td>...</td>\n",
       "      <td>72.0</td>\n",
       "      <td>53.0</td>\n",
       "      <td>16.0</td>\n",
       "      <td>87.0</td>\n",
       "      <td>116.0</td>\n",
       "      <td>563.0</td>\n",
       "      <td>F</td>\n",
       "      <td>223</td>\n",
       "      <td>78</td>\n",
       "      <td>6ft 6in</td>\n",
       "    </tr>\n",
       "    <tr>\n",
       "      <th>2</th>\n",
       "      <td>2000</td>\n",
       "      <td>Tariq Abdul-Wahad</td>\n",
       "      <td>25.0</td>\n",
       "      <td>DEN</td>\n",
       "      <td>15.0</td>\n",
       "      <td>10.0</td>\n",
       "      <td>373.0</td>\n",
       "      <td>10.8</td>\n",
       "      <td>0.448</td>\n",
       "      <td>0.015</td>\n",
       "      <td>...</td>\n",
       "      <td>26.0</td>\n",
       "      <td>6.0</td>\n",
       "      <td>12.0</td>\n",
       "      <td>19.0</td>\n",
       "      <td>31.0</td>\n",
       "      <td>134.0</td>\n",
       "      <td>F</td>\n",
       "      <td>223</td>\n",
       "      <td>78</td>\n",
       "      <td>6ft 6in</td>\n",
       "    </tr>\n",
       "    <tr>\n",
       "      <th>3</th>\n",
       "      <td>2001</td>\n",
       "      <td>Tariq Abdul-Wahad</td>\n",
       "      <td>26.0</td>\n",
       "      <td>DEN</td>\n",
       "      <td>29.0</td>\n",
       "      <td>12.0</td>\n",
       "      <td>420.0</td>\n",
       "      <td>5.8</td>\n",
       "      <td>0.438</td>\n",
       "      <td>0.090</td>\n",
       "      <td>...</td>\n",
       "      <td>22.0</td>\n",
       "      <td>14.0</td>\n",
       "      <td>13.0</td>\n",
       "      <td>34.0</td>\n",
       "      <td>54.0</td>\n",
       "      <td>111.0</td>\n",
       "      <td>F</td>\n",
       "      <td>223</td>\n",
       "      <td>78</td>\n",
       "      <td>6ft 6in</td>\n",
       "    </tr>\n",
       "    <tr>\n",
       "      <th>4</th>\n",
       "      <td>2002</td>\n",
       "      <td>Tariq Abdul-Wahad</td>\n",
       "      <td>27.0</td>\n",
       "      <td>TOT</td>\n",
       "      <td>24.0</td>\n",
       "      <td>12.0</td>\n",
       "      <td>441.0</td>\n",
       "      <td>9.8</td>\n",
       "      <td>0.418</td>\n",
       "      <td>0.014</td>\n",
       "      <td>...</td>\n",
       "      <td>24.0</td>\n",
       "      <td>20.0</td>\n",
       "      <td>10.0</td>\n",
       "      <td>27.0</td>\n",
       "      <td>56.0</td>\n",
       "      <td>135.0</td>\n",
       "      <td>F</td>\n",
       "      <td>223</td>\n",
       "      <td>78</td>\n",
       "      <td>6ft 6in</td>\n",
       "    </tr>\n",
       "  </tbody>\n",
       "</table>\n",
       "<p>5 rows × 55 columns</p>\n",
       "</div>"
      ],
      "text/plain": [
       "   Year               name   Age   Tm     G    GS      MP   PER    TS%   3PAr  \\\n",
       "0  2000  Tariq Abdul-Wahad  25.0  TOT  61.0  56.0  1578.0  13.6  0.477  0.036   \n",
       "1  2000  Tariq Abdul-Wahad  25.0  ORL  46.0  46.0  1205.0  14.4  0.484  0.041   \n",
       "2  2000  Tariq Abdul-Wahad  25.0  DEN  15.0  10.0   373.0  10.8  0.448  0.015   \n",
       "3  2001  Tariq Abdul-Wahad  26.0  DEN  29.0  12.0   420.0   5.8  0.438  0.090   \n",
       "4  2002  Tariq Abdul-Wahad  27.0  TOT  24.0  12.0   441.0   9.8  0.418  0.014   \n",
       "\n",
       "       ...        AST   STL   BLK    TOV     PF    PTS  position  weight  \\\n",
       "0      ...       98.0  59.0  28.0  106.0  147.0  697.0         F     223   \n",
       "1      ...       72.0  53.0  16.0   87.0  116.0  563.0         F     223   \n",
       "2      ...       26.0   6.0  12.0   19.0   31.0  134.0         F     223   \n",
       "3      ...       22.0  14.0  13.0   34.0   54.0  111.0         F     223   \n",
       "4      ...       24.0  20.0  10.0   27.0   56.0  135.0         F     223   \n",
       "\n",
       "   height (inches)  height(feet)  \n",
       "0               78       6ft 6in  \n",
       "1               78       6ft 6in  \n",
       "2               78       6ft 6in  \n",
       "3               78       6ft 6in  \n",
       "4               78       6ft 6in  \n",
       "\n",
       "[5 rows x 55 columns]"
      ]
     },
     "execution_count": 54,
     "metadata": {},
     "output_type": "execute_result"
    }
   ],
   "source": [
    "#remove 'unnamed' and position columns\n",
    "\n",
    "complete_df = merged_df.drop([\"Pos\"],axis=1)\n",
    "\n",
    "#preview DataFrame: complete_df\n",
    "complete_df.head()"
   ]
  },
  {
   "cell_type": "code",
   "execution_count": 55,
   "metadata": {},
   "outputs": [
    {
     "data": {
      "text/html": [
       "<div>\n",
       "<style scoped>\n",
       "    .dataframe tbody tr th:only-of-type {\n",
       "        vertical-align: middle;\n",
       "    }\n",
       "\n",
       "    .dataframe tbody tr th {\n",
       "        vertical-align: top;\n",
       "    }\n",
       "\n",
       "    .dataframe thead th {\n",
       "        text-align: right;\n",
       "    }\n",
       "</style>\n",
       "<table border=\"1\" class=\"dataframe\">\n",
       "  <thead>\n",
       "    <tr style=\"text-align: right;\">\n",
       "      <th></th>\n",
       "      <th>Year</th>\n",
       "      <th>name</th>\n",
       "      <th>Age</th>\n",
       "      <th>Tm</th>\n",
       "      <th>G</th>\n",
       "      <th>GS</th>\n",
       "      <th>MP</th>\n",
       "      <th>PER</th>\n",
       "      <th>TS%</th>\n",
       "      <th>3PAr</th>\n",
       "      <th>...</th>\n",
       "      <th>AST</th>\n",
       "      <th>STL</th>\n",
       "      <th>BLK</th>\n",
       "      <th>TOV</th>\n",
       "      <th>PF</th>\n",
       "      <th>PTS</th>\n",
       "      <th>position</th>\n",
       "      <th>weight</th>\n",
       "      <th>height (inches)</th>\n",
       "      <th>height(feet)</th>\n",
       "    </tr>\n",
       "  </thead>\n",
       "  <tbody>\n",
       "    <tr>\n",
       "      <th>0</th>\n",
       "      <td>2000</td>\n",
       "      <td>Tariq Abdul-Wahad</td>\n",
       "      <td>25.0</td>\n",
       "      <td>TOT</td>\n",
       "      <td>61.0</td>\n",
       "      <td>56.0</td>\n",
       "      <td>1578.0</td>\n",
       "      <td>13.6</td>\n",
       "      <td>0.477</td>\n",
       "      <td>0.036</td>\n",
       "      <td>...</td>\n",
       "      <td>98.0</td>\n",
       "      <td>59.0</td>\n",
       "      <td>28.0</td>\n",
       "      <td>106.0</td>\n",
       "      <td>147.0</td>\n",
       "      <td>697.0</td>\n",
       "      <td>F</td>\n",
       "      <td>223</td>\n",
       "      <td>78</td>\n",
       "      <td>6ft 6in</td>\n",
       "    </tr>\n",
       "    <tr>\n",
       "      <th>1</th>\n",
       "      <td>2000</td>\n",
       "      <td>Chris Gatling</td>\n",
       "      <td>32.0</td>\n",
       "      <td>TOT</td>\n",
       "      <td>85.0</td>\n",
       "      <td>0.0</td>\n",
       "      <td>1811.0</td>\n",
       "      <td>17.3</td>\n",
       "      <td>0.525</td>\n",
       "      <td>0.087</td>\n",
       "      <td>...</td>\n",
       "      <td>71.0</td>\n",
       "      <td>82.0</td>\n",
       "      <td>23.0</td>\n",
       "      <td>169.0</td>\n",
       "      <td>246.0</td>\n",
       "      <td>1014.0</td>\n",
       "      <td>F-C</td>\n",
       "      <td>220</td>\n",
       "      <td>82</td>\n",
       "      <td>6ft 10in</td>\n",
       "    </tr>\n",
       "    <tr>\n",
       "      <th>2</th>\n",
       "      <td>2000</td>\n",
       "      <td>Chris Gatling</td>\n",
       "      <td>32.0</td>\n",
       "      <td>ORL</td>\n",
       "      <td>45.0</td>\n",
       "      <td>0.0</td>\n",
       "      <td>1041.0</td>\n",
       "      <td>17.4</td>\n",
       "      <td>0.525</td>\n",
       "      <td>0.050</td>\n",
       "      <td>...</td>\n",
       "      <td>40.0</td>\n",
       "      <td>48.0</td>\n",
       "      <td>10.0</td>\n",
       "      <td>105.0</td>\n",
       "      <td>142.0</td>\n",
       "      <td>598.0</td>\n",
       "      <td>F-C</td>\n",
       "      <td>220</td>\n",
       "      <td>82</td>\n",
       "      <td>6ft 10in</td>\n",
       "    </tr>\n",
       "    <tr>\n",
       "      <th>3</th>\n",
       "      <td>2000</td>\n",
       "      <td>Chris Gatling</td>\n",
       "      <td>32.0</td>\n",
       "      <td>DEN</td>\n",
       "      <td>40.0</td>\n",
       "      <td>0.0</td>\n",
       "      <td>770.0</td>\n",
       "      <td>17.1</td>\n",
       "      <td>0.525</td>\n",
       "      <td>0.138</td>\n",
       "      <td>...</td>\n",
       "      <td>31.0</td>\n",
       "      <td>34.0</td>\n",
       "      <td>13.0</td>\n",
       "      <td>64.0</td>\n",
       "      <td>104.0</td>\n",
       "      <td>416.0</td>\n",
       "      <td>F-C</td>\n",
       "      <td>220</td>\n",
       "      <td>82</td>\n",
       "      <td>6ft 10in</td>\n",
       "    </tr>\n",
       "    <tr>\n",
       "      <th>4</th>\n",
       "      <td>2000</td>\n",
       "      <td>Matt Geiger</td>\n",
       "      <td>30.0</td>\n",
       "      <td>PHI</td>\n",
       "      <td>65.0</td>\n",
       "      <td>20.0</td>\n",
       "      <td>1406.0</td>\n",
       "      <td>13.9</td>\n",
       "      <td>0.483</td>\n",
       "      <td>0.007</td>\n",
       "      <td>...</td>\n",
       "      <td>39.0</td>\n",
       "      <td>29.0</td>\n",
       "      <td>22.0</td>\n",
       "      <td>91.0</td>\n",
       "      <td>194.0</td>\n",
       "      <td>629.0</td>\n",
       "      <td>C</td>\n",
       "      <td>243</td>\n",
       "      <td>85</td>\n",
       "      <td>7ft 1in</td>\n",
       "    </tr>\n",
       "  </tbody>\n",
       "</table>\n",
       "<p>5 rows × 55 columns</p>\n",
       "</div>"
      ],
      "text/plain": [
       "   Year               name   Age   Tm     G    GS      MP   PER    TS%   3PAr  \\\n",
       "0  2000  Tariq Abdul-Wahad  25.0  TOT  61.0  56.0  1578.0  13.6  0.477  0.036   \n",
       "1  2000      Chris Gatling  32.0  TOT  85.0   0.0  1811.0  17.3  0.525  0.087   \n",
       "2  2000      Chris Gatling  32.0  ORL  45.0   0.0  1041.0  17.4  0.525  0.050   \n",
       "3  2000      Chris Gatling  32.0  DEN  40.0   0.0   770.0  17.1  0.525  0.138   \n",
       "4  2000        Matt Geiger  30.0  PHI  65.0  20.0  1406.0  13.9  0.483  0.007   \n",
       "\n",
       "       ...        AST   STL   BLK    TOV     PF     PTS  position  weight  \\\n",
       "0      ...       98.0  59.0  28.0  106.0  147.0   697.0         F     223   \n",
       "1      ...       71.0  82.0  23.0  169.0  246.0  1014.0       F-C     220   \n",
       "2      ...       40.0  48.0  10.0  105.0  142.0   598.0       F-C     220   \n",
       "3      ...       31.0  34.0  13.0   64.0  104.0   416.0       F-C     220   \n",
       "4      ...       39.0  29.0  22.0   91.0  194.0   629.0         C     243   \n",
       "\n",
       "   height (inches)  height(feet)  \n",
       "0               78       6ft 6in  \n",
       "1               82      6ft 10in  \n",
       "2               82      6ft 10in  \n",
       "3               82      6ft 10in  \n",
       "4               85       7ft 1in  \n",
       "\n",
       "[5 rows x 55 columns]"
      ]
     },
     "execution_count": 55,
     "metadata": {},
     "output_type": "execute_result"
    }
   ],
   "source": [
    "\n",
    "#Filter Years to desired years: we want form 2000 to 2017\n",
    "\n",
    "my_filter = complete_df.Year >= 1990\n",
    "desired_years_df = complete_df[my_filter]\n",
    "\n",
    "#Sort values by 'Years' column\n",
    "\n",
    "desired_years_df = desired_years_df.sort_values(by=['Year'])\n",
    "\n",
    "#Reset Index\n",
    "\n",
    "desired_years_df = desired_years_df.reset_index()\n",
    "\n",
    "#Delete 'index' column\n",
    "\n",
    "desired_years_df = desired_years_df.drop(['index'], axis=1)\n",
    "\n",
    "#preview DataFrame: desired_years_df\n",
    "\n",
    "desired_years_df.head()"
   ]
  },
  {
   "cell_type": "code",
   "execution_count": 56,
   "metadata": {
    "scrolled": true
   },
   "outputs": [
    {
     "data": {
      "text/plain": [
       "Index(['Year', 'name', 'Age', 'Tm', 'G', 'GS', 'MP', 'PER', 'TS%', '3PAr',\n",
       "       'FTr', 'ORB%', 'DRB%', 'TRB%', 'AST%', 'STL%', 'BLK%', 'TOV%', 'USG%',\n",
       "       'blanl', 'OWS', 'DWS', 'WS', 'WS/48', 'blank2', 'OBPM', 'DBPM', 'BPM',\n",
       "       'VORP', 'FG', 'FGA', 'FG%', '3P', '3PA', '3P%', '2P', '2PA', '2P%',\n",
       "       'eFG%', 'FT', 'FTA', 'FT%', 'ORB', 'DRB', 'TRB', 'AST', 'STL', 'BLK',\n",
       "       'TOV', 'PF', 'PTS', 'position', 'weight', 'height (inches)',\n",
       "       'height(feet)', 'bm'],\n",
       "      dtype='object')"
      ]
     },
     "execution_count": 56,
     "metadata": {},
     "output_type": "execute_result"
    }
   ],
   "source": [
    "#if statement grouping all big men into a new column called 'Big Men'\n",
    "#groupby 'big men' and then grab only values for each year you need\n",
    "# create a dataframe that only grabs the column 'big men'\n",
    "\n",
    "#desired_years_df[\"bm\"] = desired_years_df.eval(\"position == 'C' or 'position' == 'F' or position == 'F-C' or positon == 'C-F'\") # , \n",
    "#                                                inplace = True)\n",
    "\n",
    "\n",
    "def f(row):\n",
    "    if row ['position'] == 'C' or row ['position'] == 'F' or row ['position'] == 'C-F' or row ['position'] == 'F-C':\n",
    "        val = 'bm'\n",
    "    else: \n",
    "        val = 'sm' \n",
    "    return val\n",
    "\n",
    "desired_years_df['bm'] = desired_years_df.apply(f, axis = 1)\n",
    "\n",
    "#print(desired_years_df[['position','bm']])\n",
    "type(desired_years_df)\n",
    "desired_years_df.columns"
   ]
  },
  {
   "cell_type": "code",
   "execution_count": 57,
   "metadata": {},
   "outputs": [
    {
     "data": {
      "text/plain": [
       "Year  bm\n",
       "2000  bm    1073.917293\n",
       "      sm    1265.347032\n",
       "2001  bm    1065.017123\n",
       "      sm    1232.327511\n",
       "2002  bm    1144.641221\n",
       "      sm    1226.703540\n",
       "2003  bm    1174.035019\n",
       "      sm    1275.188940\n",
       "2004  bm    1010.583072\n",
       "      sm    1220.073643\n",
       "2005  bm    1050.369775\n",
       "      sm    1207.785714\n",
       "2006  bm    1050.516556\n",
       "      sm    1225.615385\n",
       "2007  bm    1116.920000\n",
       "      sm    1312.465021\n",
       "2008  bm     995.906542\n",
       "      sm    1172.903915\n",
       "2009  bm    1040.137821\n",
       "      sm    1217.397059\n",
       "2010  bm    1088.367213\n",
       "      sm    1186.238095\n",
       "2011  bm    1008.203488\n",
       "      sm    1201.673684\n",
       "2012  bm     850.145215\n",
       "      sm     988.583658\n",
       "2013  bm    1051.563333\n",
       "      sm    1172.706093\n",
       "2014  bm    1001.163009\n",
       "      sm    1139.697987\n",
       "2015  bm    1007.052147\n",
       "      sm    1055.875740\n",
       "2016  bm    1054.437722\n",
       "      sm    1147.561056\n",
       "2017  bm    1075.678082\n",
       "      sm    1107.417476\n",
       "Name: MP, dtype: float64"
      ]
     },
     "execution_count": 57,
     "metadata": {},
     "output_type": "execute_result"
    }
   ],
   "source": [
    "sm_df = desired_years_df.groupby(['Year','bm'])\n",
    "#sm_df.head()\n",
    "type(sm_df)\n",
    "\n",
    "sm_df.groups\n",
    "sm_df.MP.mean()"
   ]
  },
  {
   "cell_type": "code",
   "execution_count": 58,
   "metadata": {},
   "outputs": [],
   "source": [
    "\n",
    "y = sm_df.MP.mean()\n",
    "sample = y.reset_index()\n",
    "\n",
    "sample.head()\n",
    "#plt.bar(sample['Year'], sample.MP)\n",
    "\n",
    "sample_bm = sample.loc[sample[\"bm\"]==\"bm\"]"
   ]
  },
  {
   "cell_type": "code",
   "execution_count": 59,
   "metadata": {},
   "outputs": [
    {
     "data": {
      "text/html": [
       "<div>\n",
       "<style scoped>\n",
       "    .dataframe tbody tr th:only-of-type {\n",
       "        vertical-align: middle;\n",
       "    }\n",
       "\n",
       "    .dataframe tbody tr th {\n",
       "        vertical-align: top;\n",
       "    }\n",
       "\n",
       "    .dataframe thead th {\n",
       "        text-align: right;\n",
       "    }\n",
       "</style>\n",
       "<table border=\"1\" class=\"dataframe\">\n",
       "  <thead>\n",
       "    <tr style=\"text-align: right;\">\n",
       "      <th></th>\n",
       "      <th>Year</th>\n",
       "      <th>bm</th>\n",
       "      <th>MP</th>\n",
       "    </tr>\n",
       "  </thead>\n",
       "  <tbody>\n",
       "    <tr>\n",
       "      <th>0</th>\n",
       "      <td>2000</td>\n",
       "      <td>bm</td>\n",
       "      <td>1073.917293</td>\n",
       "    </tr>\n",
       "    <tr>\n",
       "      <th>2</th>\n",
       "      <td>2001</td>\n",
       "      <td>bm</td>\n",
       "      <td>1065.017123</td>\n",
       "    </tr>\n",
       "    <tr>\n",
       "      <th>4</th>\n",
       "      <td>2002</td>\n",
       "      <td>bm</td>\n",
       "      <td>1144.641221</td>\n",
       "    </tr>\n",
       "    <tr>\n",
       "      <th>6</th>\n",
       "      <td>2003</td>\n",
       "      <td>bm</td>\n",
       "      <td>1174.035019</td>\n",
       "    </tr>\n",
       "    <tr>\n",
       "      <th>8</th>\n",
       "      <td>2004</td>\n",
       "      <td>bm</td>\n",
       "      <td>1010.583072</td>\n",
       "    </tr>\n",
       "    <tr>\n",
       "      <th>10</th>\n",
       "      <td>2005</td>\n",
       "      <td>bm</td>\n",
       "      <td>1050.369775</td>\n",
       "    </tr>\n",
       "    <tr>\n",
       "      <th>12</th>\n",
       "      <td>2006</td>\n",
       "      <td>bm</td>\n",
       "      <td>1050.516556</td>\n",
       "    </tr>\n",
       "    <tr>\n",
       "      <th>14</th>\n",
       "      <td>2007</td>\n",
       "      <td>bm</td>\n",
       "      <td>1116.920000</td>\n",
       "    </tr>\n",
       "    <tr>\n",
       "      <th>16</th>\n",
       "      <td>2008</td>\n",
       "      <td>bm</td>\n",
       "      <td>995.906542</td>\n",
       "    </tr>\n",
       "    <tr>\n",
       "      <th>18</th>\n",
       "      <td>2009</td>\n",
       "      <td>bm</td>\n",
       "      <td>1040.137821</td>\n",
       "    </tr>\n",
       "    <tr>\n",
       "      <th>20</th>\n",
       "      <td>2010</td>\n",
       "      <td>bm</td>\n",
       "      <td>1088.367213</td>\n",
       "    </tr>\n",
       "    <tr>\n",
       "      <th>22</th>\n",
       "      <td>2011</td>\n",
       "      <td>bm</td>\n",
       "      <td>1008.203488</td>\n",
       "    </tr>\n",
       "    <tr>\n",
       "      <th>24</th>\n",
       "      <td>2012</td>\n",
       "      <td>bm</td>\n",
       "      <td>850.145215</td>\n",
       "    </tr>\n",
       "    <tr>\n",
       "      <th>26</th>\n",
       "      <td>2013</td>\n",
       "      <td>bm</td>\n",
       "      <td>1051.563333</td>\n",
       "    </tr>\n",
       "    <tr>\n",
       "      <th>28</th>\n",
       "      <td>2014</td>\n",
       "      <td>bm</td>\n",
       "      <td>1001.163009</td>\n",
       "    </tr>\n",
       "    <tr>\n",
       "      <th>30</th>\n",
       "      <td>2015</td>\n",
       "      <td>bm</td>\n",
       "      <td>1007.052147</td>\n",
       "    </tr>\n",
       "    <tr>\n",
       "      <th>32</th>\n",
       "      <td>2016</td>\n",
       "      <td>bm</td>\n",
       "      <td>1054.437722</td>\n",
       "    </tr>\n",
       "    <tr>\n",
       "      <th>34</th>\n",
       "      <td>2017</td>\n",
       "      <td>bm</td>\n",
       "      <td>1075.678082</td>\n",
       "    </tr>\n",
       "  </tbody>\n",
       "</table>\n",
       "</div>"
      ],
      "text/plain": [
       "    Year  bm           MP\n",
       "0   2000  bm  1073.917293\n",
       "2   2001  bm  1065.017123\n",
       "4   2002  bm  1144.641221\n",
       "6   2003  bm  1174.035019\n",
       "8   2004  bm  1010.583072\n",
       "10  2005  bm  1050.369775\n",
       "12  2006  bm  1050.516556\n",
       "14  2007  bm  1116.920000\n",
       "16  2008  bm   995.906542\n",
       "18  2009  bm  1040.137821\n",
       "20  2010  bm  1088.367213\n",
       "22  2011  bm  1008.203488\n",
       "24  2012  bm   850.145215\n",
       "26  2013  bm  1051.563333\n",
       "28  2014  bm  1001.163009\n",
       "30  2015  bm  1007.052147\n",
       "32  2016  bm  1054.437722\n",
       "34  2017  bm  1075.678082"
      ]
     },
     "execution_count": 59,
     "metadata": {},
     "output_type": "execute_result"
    }
   ],
   "source": [
    "sample_bm"
   ]
  },
  {
   "cell_type": "code",
   "execution_count": 65,
   "metadata": {},
   "outputs": [
    {
     "data": {
      "image/png": "[encoded data removed]",
      "text/plain": [
       "<Figure size 432x288 with 1 Axes>"
      ]
     },
     "metadata": {
      "needs_background": "light"
     },
     "output_type": "display_data"
    }
   ],
   "source": [
    "#creating a plot for all big men 3 pt attempts\n",
    "three_pt_att_gb = sm_df['3PA'].mean()\n",
    "two_pt_att_gb = sm_df['2PA'].mean()\n",
    "three_pt_att_gb = three_pt_att_gb.reset_index()\n",
    "two_pt_att_gb = two_pt_att_gb.reset_index()\n",
    "\n",
    "\n",
    "#sample.head()\n",
    "#plt.bar(sample['Year'], sample.MP)\n",
    "\n",
    "three_pt_att_bm = three_pt_att_gb.loc[three_pt_att_gb[\"bm\"]==\"bm\"]\n",
    "two_pt_att_bm = two_pt_att_gb.loc[two_pt_att_gb['bm']=='bm']\n",
    "\n",
    "plt.bar(two_pt_att_bm['Year'] + 0, two_pt_att_bm['2PA'], width = .8,\n",
    "      label = '2pt Attempts')\n",
    "plt.bar(three_pt_att_bm['Year'] + 0.2, three_pt_att_bm['3PA'], width = 0.5,\n",
    "      label = '3pt Attempts')\n",
    "plt.xticks(np.arange(2000,2018, step=2))\n",
    "plt.legend()\n",
    "plt.title('Shots taken by bigs: 2s vs 3s')\n",
    "\n",
    "plt.show()"
   ]
  },
  {
   "cell_type": "code",
   "execution_count": 69,
   "metadata": {},
   "outputs": [
    {
     "data": {
      "image/png": "[encoded data removed]",
      "text/plain": [
       "<Figure size 432x288 with 1 Axes>"
      ]
     },
     "metadata": {
      "needs_background": "light"
     },
     "output_type": "display_data"
    }
   ],
   "source": [
    "#create a graph for 2pt vs 3pt percentages\n",
    "three_pt_perc = sm_df['3P%'].mean()\n",
    "two_pt_perc = sm_df['2P%'].mean()\n",
    "\n",
    "three_pt_perc = three_pt_perc.reset_index()\n",
    "two_pt_perc = two_pt_perc.reset_index()\n",
    "\n",
    "\n",
    "#sample.head()\n",
    "#plt.bar(sample['Year'], sample.MP)\n",
    "\n",
    "three_pt_perc_bm = three_pt_perc.loc[three_pt_perc[\"bm\"]==\"bm\"]\n",
    "two_pt_perc_bm = two_pt_perc.loc[two_pt_perc['bm']=='bm']\n",
    "\n",
    "plt.plot(two_pt_perc_bm['Year'], two_pt_perc_bm['2P%'],\n",
    "      label = '2pt Percentage')\n",
    "plt.plot(three_pt_perc_bm['Year'], three_pt_perc_bm['3P%'], \n",
    "      label = '3pt Percentage')\n",
    "plt.xticks(np.arange(2000,2018, step=2))\n",
    "plt.legend()\n",
    "plt.title('Shooting Percentage by Bigs: 2s vs 3s')\n",
    "\n",
    "plt.show()"
   ]
  },
  {
   "cell_type": "code",
   "execution_count": 77,
   "metadata": {},
   "outputs": [
    {
     "ename": "NameError",
     "evalue": "name 'rcParams' is not defined",
     "output_type": "error",
     "traceback": [
      "\u001b[1;31m---------------------------------------------------------------------------\u001b[0m",
      "\u001b[1;31mNameError\u001b[0m                                 Traceback (most recent call last)",
      "\u001b[1;32m<ipython-input-77-21832edf3516>\u001b[0m in \u001b[0;36m<module>\u001b[1;34m\u001b[0m\n\u001b[0;32m     21\u001b[0m \u001b[0mplt\u001b[0m\u001b[1;33m.\u001b[0m\u001b[0mxticks\u001b[0m\u001b[1;33m(\u001b[0m\u001b[0mnp\u001b[0m\u001b[1;33m.\u001b[0m\u001b[0marange\u001b[0m\u001b[1;33m(\u001b[0m\u001b[1;36m2000\u001b[0m\u001b[1;33m,\u001b[0m\u001b[1;36m2018\u001b[0m\u001b[1;33m,\u001b[0m \u001b[0mstep\u001b[0m\u001b[1;33m=\u001b[0m\u001b[1;36m2\u001b[0m\u001b[1;33m)\u001b[0m\u001b[1;33m)\u001b[0m\u001b[1;33m\u001b[0m\u001b[1;33m\u001b[0m\u001b[0m\n\u001b[0;32m     22\u001b[0m \u001b[0mplt\u001b[0m\u001b[1;33m.\u001b[0m\u001b[0mlegend\u001b[0m\u001b[1;33m(\u001b[0m\u001b[1;33m)\u001b[0m\u001b[1;33m\u001b[0m\u001b[1;33m\u001b[0m\u001b[0m\n\u001b[1;32m---> 23\u001b[1;33m \u001b[0mrcParams\u001b[0m\u001b[1;33m[\u001b[0m\u001b[1;34m'legend.loc'\u001b[0m\u001b[1;33m]\u001b[0m \u001b[1;33m=\u001b[0m \u001b[1;36m10\u001b[0m\u001b[1;33m\u001b[0m\u001b[1;33m\u001b[0m\u001b[0m\n\u001b[0m\u001b[0;32m     24\u001b[0m \u001b[0mplt\u001b[0m\u001b[1;33m.\u001b[0m\u001b[0mtitle\u001b[0m\u001b[1;33m(\u001b[0m\u001b[1;34m'3Pt Attempt Rate by Bigs'\u001b[0m\u001b[1;33m)\u001b[0m\u001b[1;33m\u001b[0m\u001b[1;33m\u001b[0m\u001b[0m\n\u001b[0;32m     25\u001b[0m \u001b[1;33m\u001b[0m\u001b[0m\n",
      "\u001b[1;31mNameError\u001b[0m: name 'rcParams' is not defined"
     ]
    },
    {
     "data": {
      "image/png": "[encoded data removed]",
      "text/plain": [
       "<Figure size 432x288 with 1 Axes>"
      ]
     },
     "metadata": {
      "needs_background": "light"
     },
     "output_type": "display_data"
    }
   ],
   "source": [
    "#creating a plot to compare 3PAr vs 2PAr\n",
    "\n",
    "#creating a plot for all big men 3 pt attempts\n",
    "three_pt_att_rate = sm_df['3PAr'].mean()\n",
    "#two_pt_att_rate = sm_df['2PAr'].mean()\n",
    "\n",
    "three_pt_att_rate = three_pt_att_rate.reset_index()\n",
    "#two_pt_att_rate = two_pt_att_rate.reset_index()\n",
    "\n",
    "\n",
    "#sample.head()\n",
    "#plt.bar(sample['Year'], sample.MP)\n",
    "\n",
    "three_pt_att_rate_bm = three_pt_att_rate.loc[three_pt_att_rate[\"bm\"]==\"bm\"]\n",
    "#two_pt_att_rate_bm = two_pt_att_rate.loc[two_pt_att_rate['bm']=='bm']\n",
    "\n",
    "#plt.bar(two_pt_att_rate_bm['Year'] + 0, two_pt_att_rate_bm['2PAr'], width = .8,\n",
    " #     label = '2pt Attempts')\n",
    "plt.bar(three_pt_att_rate_bm['Year'] + 0.2, three_pt_att_rate_bm['3PAr'], width = 0.5,\n",
    "      label = '3PAr')\n",
    "plt.xticks(np.arange(2000,2018, step=2))\n",
    "plt.legend()\n",
    "plt.title('3Pt Attempt Rate by Bigs')\n",
    "\n",
    "plt.show()"
   ]
  },
  {
   "cell_type": "code",
   "execution_count": 91,
   "metadata": {},
   "outputs": [
    {
     "data": {
      "image/png": "[encoded data removed]",
      "text/plain": [
       "<Figure size 432x288 with 1 Axes>"
      ]
     },
     "metadata": {
      "needs_background": "light"
     },
     "output_type": "display_data"
    }
   ],
   "source": [
    "#Create a plot comparing MP vs PTS\n",
    "mp = sm_df['MP'].mean()\n",
    "pts = sm_df['PTS'].mean()\n",
    "mp = mp.reset_index()\n",
    "pts = pts.reset_index()\n",
    "\n",
    "\n",
    "#sample.head()\n",
    "#plt.bar(sample['Year'], sample.MP)\n",
    "\n",
    "mp_bm = mp.loc[mp[\"bm\"]==\"bm\"]\n",
    "pts_bm = pts.loc[pts['bm']=='bm']\n",
    "\n",
    "plt.bar(mp_bm['Year'] + 0, mp_bm['MP'], width = .8,\n",
    "      label = 'Minutes Played')\n",
    "plt.bar(pts_bm['Year'] + 0.2, pts_bm['PTS'], width = 0.5,\n",
    "      label = 'Points Scored')\n",
    "plt.xticks(np.arange(2000,2018, step=2))\n",
    "plt.legend(loc = 'center left')\n",
    "#rcParams['legend.loc'] = 10\n",
    "\n",
    "plt.title('Minutes Played vs Points Scored by Big Men')\n",
    "\n",
    "plt.show()"
   ]
  },
  {
   "cell_type": "code",
   "execution_count": 95,
   "metadata": {},
   "outputs": [
    {
     "data": {
      "image/png": "[encoded data removed]",
      "text/plain": [
       "<Figure size 432x288 with 1 Axes>"
      ]
     },
     "metadata": {
      "needs_background": "light"
     },
     "output_type": "display_data"
    }
   ],
   "source": [
    "#create a plot comparing FT vs FGA\n",
    "fga = sm_df['FGA'].mean()\n",
    "ft = sm_df['FT'].mean()\n",
    "\n",
    "fga = fga.reset_index()\n",
    "ft = ft.reset_index()\n",
    "\n",
    "\n",
    "#sample.head()\n",
    "#plt.bar(sample['Year'], sample.MP)\n",
    "\n",
    "fga_bm = fga.loc[fga[\"bm\"]==\"bm\"]\n",
    "ft_bm = ft.loc[ft['bm']=='bm']\n",
    "\n",
    "plt.bar(fga_bm['Year'] + 0, fga_bm['FGA'], width = .8,\n",
    "      label = 'Field Goals Attempted')\n",
    "plt.bar(ft_bm['Year'] + 0.2, ft_bm['FT'], width = 0.5,\n",
    "      label = 'Free Throws Made')\n",
    "plt.xticks(np.arange(2000,2018, step=2))\n",
    "plt.legend(loc = 'center left')\n",
    "\n",
    "plt.title('Field Goals Attempted vs Free Throws Made for Big Men')\n",
    "\n",
    "plt.show()"
   ]
  },
  {
   "cell_type": "code",
   "execution_count": null,
   "metadata": {},
   "outputs": [],
   "source": []
  },
  {
   "cell_type": "code",
   "execution_count": null,
   "metadata": {},
   "outputs": [],
   "source": []
  },
  {
   "cell_type": "code",
   "execution_count": null,
   "metadata": {
    "scrolled": false
   },
   "outputs": [],
   "source": [
    "desired_years_df.columns"
   ]
  },
  {
   "cell_type": "code",
   "execution_count": 115,
   "metadata": {},
   "outputs": [],
   "source": [
    "\n",
    "\n",
    "two_thousand = desired_years_df.loc[desired_years_df[\"Year\"]==2000]\n",
    "\n",
    "center = two_thousand.loc[two_thousand[\"position\"]== \"C\"]\n",
    "for_cent = two_thousand.loc[two_thousand[\"position\"]== \"F-C\"]\n",
    "cent_for = two_thousand.loc[two_thousand['position']== 'C-F']\n",
    "forward = two_thousand.loc[two_thousand[\"position\"]== \"F\"]"
   ]
  },
  {
   "cell_type": "code",
   "execution_count": 118,
   "metadata": {},
   "outputs": [],
   "source": [
    "#for i in range (1,18):\n",
    "    \n",
    "\n",
    "two_thousand_one = desired_years_df.loc[desired_years_df[\"Year\"]==2001]\n",
    "center_1 = two_thousand_one.loc[two_thousand_one[\"position\"]== \"C\"]\n",
    "for_cent_i = two_thousand_one.loc[two_thousand_one[\"position\"]== \"F-C\"]\n",
    "cent_for_i = two_thousand_one.loc[two_thousand_one['position']== 'C-F']\n",
    "forward_i = two_thousand_one.loc[two_thousand_one[\"position\"]== \"F\"]"
   ]
  },
  {
   "cell_type": "code",
   "execution_count": 117,
   "metadata": {},
   "outputs": [],
   "source": [
    "two_thousand_two = desired_years_df.loc[desired_years_df[\"Year\"]==2002]\n",
    "center_2 = two_thousand_two.loc[two_thousand_two[\"position\"]== \"C\"]\n",
    "for_cent_2 = two_thousand_two.loc[two_thousand_two[\"position\"]== \"F-C\"]\n",
    "forward_2 = two_thousand_two.loc[two_thousand_two[\"position\"]== \"F\"]"
   ]
  },
  {
   "cell_type": "code",
   "execution_count": 19,
   "metadata": {},
   "outputs": [],
   "source": [
    "two_thousand_three = desired_years_df.loc[desired_years_df[\"Year\"]==2003]\n",
    "center_3 = two_thousand_three.loc[two_thousand_three[\"position\"]== \"C\"]\n",
    "for_cent_3 = two_thousand_three.loc[two_thousand_three[\"position\"]== \"F-C\"]\n",
    "forward_3 = two_thousand_three.loc[two_thousand_three[\"position\"]== \"F\"]"
   ]
  },
  {
   "cell_type": "code",
   "execution_count": 20,
   "metadata": {},
   "outputs": [],
   "source": [
    "two_thousand_four = desired_years_df.loc[desired_years_df[\"Year\"]==2004]\n",
    "center_4 = two_thousand_four.loc[two_thousand_four[\"position\"]== \"C\"]\n",
    "for_cent_4 = two_thousand_four.loc[two_thousand_four[\"position\"]== \"F-C\"]\n",
    "forward_4 = two_thousand_four.loc[two_thousand_four[\"position\"]== \"F\"]"
   ]
  },
  {
   "cell_type": "code",
   "execution_count": 21,
   "metadata": {},
   "outputs": [],
   "source": [
    "two_thousand_five = desired_years_df.loc[desired_years_df[\"Year\"]==2005]\n",
    "center_5 = two_thousand_five.loc[two_thousand_five[\"position\"]== \"C\"]\n",
    "for_cent_5 = two_thousand_five.loc[two_thousand_five[\"position\"]== \"F-C\"]\n",
    "forward_5 = two_thousand_five.loc[two_thousand_five[\"position\"]== \"F\"]"
   ]
  },
  {
   "cell_type": "code",
   "execution_count": 22,
   "metadata": {},
   "outputs": [],
   "source": [
    "two_thousand_six = desired_years_df.loc[desired_years_df[\"Year\"]==2006]\n",
    "center_6 = two_thousand_six.loc[two_thousand_six[\"position\"]== \"C\"]\n",
    "for_cent_6 = two_thousand_six.loc[two_thousand_six[\"position\"]== \"F-C\"]\n",
    "forward_6 = two_thousand_six.loc[two_thousand_six[\"position\"]== \"F\"]"
   ]
  },
  {
   "cell_type": "code",
   "execution_count": 23,
   "metadata": {},
   "outputs": [],
   "source": [
    "two_thousand_seven = desired_years_df.loc[desired_years_df[\"Year\"]==2007]\n",
    "center_7 = two_thousand_seven.loc[two_thousand_seven[\"position\"]== \"C\"]\n",
    "for_cent_7 = two_thousand_seven.loc[two_thousand_seven[\"position\"]== \"F-C\"]\n",
    "forward_7 = two_thousand_seven.loc[two_thousand_seven[\"position\"]== \"F\"]"
   ]
  },
  {
   "cell_type": "code",
   "execution_count": 24,
   "metadata": {},
   "outputs": [],
   "source": [
    "two_thousand_eight = desired_years_df.loc[desired_years_df[\"Year\"]==2008]\n",
    "center_8 = two_thousand_eight.loc[two_thousand_eight[\"position\"]== \"C\"]\n",
    "for_cent_8 = two_thousand_eight.loc[two_thousand_eight[\"position\"]== \"F-C\"]\n",
    "forward_8 = two_thousand_eight.loc[two_thousand_eight[\"position\"]== \"F\"]"
   ]
  },
  {
   "cell_type": "code",
   "execution_count": 25,
   "metadata": {},
   "outputs": [],
   "source": [
    "two_thousand_nine = desired_years_df.loc[desired_years_df[\"Year\"]==2009]\n",
    "center_9 = two_thousand_nine.loc[two_thousand_nine[\"position\"]== \"C\"]\n",
    "for_cent_9 = two_thousand_nine.loc[two_thousand_nine[\"position\"]== \"F-C\"]\n",
    "forward_9 = two_thousand_nine.loc[two_thousand_nine[\"position\"]== \"F\"]"
   ]
  },
  {
   "cell_type": "code",
   "execution_count": 26,
   "metadata": {},
   "outputs": [],
   "source": [
    "two_thousand_ten = desired_years_df.loc[desired_years_df[\"Year\"]==2010]\n",
    "center_10 = two_thousand_ten.loc[two_thousand_ten[\"position\"]== \"C\"]\n",
    "for_cent_10 = two_thousand_ten.loc[two_thousand_ten[\"position\"]== \"F-C\"]\n",
    "forward_10 = two_thousand_ten.loc[two_thousand_ten[\"position\"]== \"F\"]"
   ]
  },
  {
   "cell_type": "code",
   "execution_count": 27,
   "metadata": {},
   "outputs": [],
   "source": [
    "two_thousand_eleven = desired_years_df.loc[desired_years_df[\"Year\"]==2011]\n",
    "center_11 = two_thousand_eleven.loc[two_thousand_eleven[\"position\"]== \"C\"]\n",
    "for_cent_11 = two_thousand_eleven.loc[two_thousand_eleven[\"position\"]== \"F-C\"]\n",
    "forward_11 = two_thousand_eleven.loc[two_thousand_eleven[\"position\"]== \"F\"]"
   ]
  },
  {
   "cell_type": "code",
   "execution_count": 28,
   "metadata": {},
   "outputs": [],
   "source": [
    "two_thousand_twelve = desired_years_df.loc[desired_years_df[\"Year\"]==2012]\n",
    "center_12 = two_thousand_twelve.loc[two_thousand_twelve[\"position\"]== \"C\"]\n",
    "for_cent_12 = two_thousand_twelve.loc[two_thousand_twelve[\"position\"]== \"F-C\"]\n",
    "forward_12 = two_thousand_twelve.loc[two_thousand_twelve[\"position\"]== \"F\"]"
   ]
  },
  {
   "cell_type": "code",
   "execution_count": 29,
   "metadata": {},
   "outputs": [],
   "source": [
    "two_thousand_thirteen = desired_years_df.loc[desired_years_df[\"Year\"]==2013]\n",
    "center_13 = two_thousand_thirteen.loc[two_thousand_thirteen[\"position\"]== \"C\"]\n",
    "for_cent_13 = two_thousand_thirteen.loc[two_thousand_thirteen[\"position\"]== \"F-C\"]\n",
    "forward_13 = two_thousand_thirteen.loc[two_thousand_thirteen[\"position\"]== \"F\"]"
   ]
  },
  {
   "cell_type": "code",
   "execution_count": 30,
   "metadata": {},
   "outputs": [],
   "source": [
    "two_thousand_fourteen = desired_years_df.loc[desired_years_df[\"Year\"]==2014]\n",
    "center_14 = two_thousand_fourteen.loc[two_thousand_fourteen[\"position\"]== \"C\"]\n",
    "for_cent_14 = two_thousand_fourteen.loc[two_thousand_fourteen[\"position\"]== \"F-C\"]\n",
    "forward_14 = two_thousand_fourteen.loc[two_thousand_fourteen[\"position\"]== \"F\"]"
   ]
  },
  {
   "cell_type": "code",
   "execution_count": 31,
   "metadata": {},
   "outputs": [],
   "source": [
    "two_thousand_fifteen = desired_years_df.loc[desired_years_df[\"Year\"]==2015]\n",
    "center_15 = two_thousand_fifteen.loc[two_thousand_fifteen[\"position\"]== \"C\"]\n",
    "for_cent_15 = two_thousand_fifteen.loc[two_thousand_fifteen[\"position\"]== \"F-C\"]\n",
    "forward_15 = two_thousand_fifteen.loc[two_thousand_fifteen[\"position\"]== \"F\"]"
   ]
  },
  {
   "cell_type": "code",
   "execution_count": 32,
   "metadata": {},
   "outputs": [],
   "source": [
    "two_thousand_sixteen = desired_years_df.loc[desired_years_df[\"Year\"]==2016]\n",
    "center_16 = two_thousand_sixteen.loc[two_thousand_sixteen[\"position\"]== \"C\"]\n",
    "for_cent_16 = two_thousand_sixteen.loc[two_thousand_sixteen[\"position\"]== \"F-C\"]\n",
    "forward_16 = two_thousand_sixteen.loc[two_thousand_sixteen[\"position\"]== \"F\"]"
   ]
  },
  {
   "cell_type": "code",
   "execution_count": 33,
   "metadata": {},
   "outputs": [],
   "source": [
    "two_thousand_seventeen = desired_years_df.loc[desired_years_df[\"Year\"]==2017]\n",
    "center_17 = two_thousand_seventeen.loc[two_thousand_seventeen[\"position\"]== \"C\"]\n",
    "for_cent_17 = two_thousand_seventeen.loc[two_thousand_seventeen[\"position\"]== \"F-C\"]\n",
    "forward_17 = two_thousand_seventeen.loc[two_thousand_seventeen[\"position\"]== \"F\"]"
   ]
  },
  {
   "cell_type": "code",
   "execution_count": 87,
   "metadata": {},
   "outputs": [
    {
     "data": {
      "text/plain": [
       "[<matplotlib.lines.Line2D at 0x182ef30d198>]"
      ]
     },
     "execution_count": 87,
     "metadata": {},
     "output_type": "execute_result"
    },
    {
     "data": {
      "image/png": "[encoded data removed]",
      "text/plain": [
       "<Figure size 432x288 with 1 Axes>"
      ]
     },
     "metadata": {
      "needs_background": "light"
     },
     "output_type": "display_data"
    }
   ],
   "source": [
    "x= [2000, 2001, 2002, 2003, 2004, 2005, 2006, 2007, 2008, 2009, 2010, 2011, 2012, 2013, 2014, 2015, 2016, 2017]\n",
    "y_three_pt_att = [center[\"3PA\"].mean(),center_1[\"3PA\"].mean(),center_2[\"3PA\"].mean(), \n",
    "                  center_3[\"3PA\"].mean(), center_4[\"3PA\"].mean(), center_5[\"3PA\"].mean(), \n",
    "                  center_6[\"3PA\"].mean(), center_7[\"3PA\"].mean(), center_8[\"3PA\"].mean(),\n",
    "                  center_9[\"3PA\"].mean(), center_10[\"3PA\"].mean(), center_11[\"3PA\"].mean(), \n",
    "                  center_12[\"3PA\"].mean(), center_13[\"3PA\"].mean(),center_14[\"3PA\"].mean(),\n",
    "                  center_15[\"3PA\"].mean(),center_16[\"3PA\"].mean(),center_17[\"3PA\"].mean()]\n",
    "#plt.savefig(\"Logan_Images/3PA Plot.png\")\n",
    "plt.plot(x,y_three_pt_att, label = '3 Pt Attempts')"
   ]
  },
  {
   "cell_type": "code",
   "execution_count": null,
   "metadata": {},
   "outputs": [],
   "source": []
  },
  {
   "cell_type": "code",
   "execution_count": 98,
   "metadata": {},
   "outputs": [
    {
     "data": {
      "text/plain": [
       "<matplotlib.legend.Legend at 0x182ed782390>"
      ]
     },
     "execution_count": 98,
     "metadata": {},
     "output_type": "execute_result"
    },
    {
     "data": {
      "image/png": "[encoded data removed]",
      "text/plain": [
       "<Figure size 432x288 with 1 Axes>"
      ]
     },
     "metadata": {
      "needs_background": "light"
     },
     "output_type": "display_data"
    }
   ],
   "source": [
    "x= [2000, 2001, 2002, 2003, 2004, 2005, 2006, 2007, 2008, 2009, 2010, 2011, 2012, 2013, 2014, 2015, 2016, 2017]\n",
    "y_two_pt_att = [center[\"2PA\"].mean(),center_1[\"2PA\"].mean(),center_2[\"2PA\"].mean(), center_3[\"2PA\"].mean(), center_4[\"2PA\"].mean(), \n",
    "center_5[\"2PA\"].mean(), center_6[\"2PA\"].mean(), center_7[\"2PA\"].mean(), center_8[\"2PA\"].mean(), center_9[\"2PA\"].mean(),\n",
    "center_10[\"2PA\"].mean(), center_11[\"2PA\"].mean(), center_12[\"2PA\"].mean(), center_13[\"2PA\"].mean(), center_14[\"2PA\"].mean(),\n",
    "center_15[\"2PA\"].mean(),center_16[\"2PA\"].mean(),center_17[\"2PA\"].mean()]\n",
    "#plt.savefig(\"Logan_Images/3PA Plot.png\")\n",
    "\n",
    "#labels = ['2 Pt Attempts', '3 Pt Attempts']\n",
    "\n",
    "plt.bar(x, y_two_pt_att, label = '2 Pt Attempts')\n",
    "plt.bar(x, y_three_pt_att, label = '3 Pt Attempts', bottom = y_two_pt_att)\n",
    "\n",
    "\n",
    "#for y_arr, label in zip(y, labels):\n",
    " #   plt.plot((x,y_two_pt_att)\n",
    "  #       (x,y_three_pt_att))\n",
    "plt.legend()\n"
   ]
  },
  {
   "cell_type": "code",
   "execution_count": 104,
   "metadata": {},
   "outputs": [
    {
     "data": {
      "text/plain": [
       "[<matplotlib.lines.Line2D at 0x182ee4962b0>]"
      ]
     },
     "execution_count": 104,
     "metadata": {},
     "output_type": "execute_result"
    },
    {
     "data": {
      "image/png": "[encoded data removed]",
      "text/plain": [
       "<Figure size 432x288 with 1 Axes>"
      ]
     },
     "metadata": {
      "needs_background": "light"
     },
     "output_type": "display_data"
    }
   ],
   "source": [
    "x= [2000, 2001, 2002, 2003, 2004, 2005, 2006, 2007, 2008, 2009, 2010, 2011, 2012, 2013, 2014, 2015, 2016, 2017]\n",
    "y_two_pt_percent = [center[\"2P%\"].mean(), center_1[\"2P%\"].mean(), center_2[\"2P%\"].mean(), center_3[\"2P%\"].mean(), \n",
    "                center_4[\"2P%\"].mean(), center_5[\"2P%\"].mean(), center_6[\"2P%\"].mean(), center_7[\"2P%\"].mean(), \n",
    "                center_8[\"2P%\"].mean(), center_9[\"2P%\"].mean(), center_10[\"2P%\"].mean(), center_11[\"2P%\"].mean(), \n",
    "                center_12[\"2P%\"].mean(), center_13[\"2P%\"].mean(), center_14[\"2P%\"].mean(), center_15[\"2P%\"].mean(),\n",
    "                center_16[\"2P%\"].mean(), center_17[\"2P%\"].mean()]\n",
    "\n",
    "plt.plot(x, y_two_pt_percent, label = '2 Pt Percentage')"
   ]
  },
  {
   "cell_type": "code",
   "execution_count": 103,
   "metadata": {},
   "outputs": [
    {
     "data": {
      "image/png": "[encoded data removed]",
      "text/plain": [
       "<Figure size 432x288 with 1 Axes>"
      ]
     },
     "metadata": {
      "needs_background": "light"
     },
     "output_type": "display_data"
    }
   ],
   "source": [
    "x= [2000, 2001, 2002, 2003, 2004, 2005, 2006, 2007, 2008, 2009, 2010, 2011, 2012, 2013, 2014, 2015, 2016, 2017]\n",
    "y_three_pt_percent = [center[\"3P%\"].mean(),center_1[\"3P%\"].mean(),center_2[\"3P%\"].mean(), \n",
    "                  center_3[\"3P%\"].mean(), center_4[\"3P%\"].mean(), center_5[\"3P%\"].mean(), \n",
    "                  center_6[\"3P%\"].mean(), center_7[\"3P%\"].mean(), center_8[\"3P%\"].mean(),\n",
    "                  center_9[\"3P%\"].mean(), center_10[\"3P%\"].mean(), center_11[\"3P%\"].mean(), \n",
    "                  center_12[\"3P%\"].mean(), center_13[\"3P%\"].mean(),center_14[\"3P%\"].mean(),\n",
    "                  center_15[\"3P%\"].mean(),center_16[\"3P%\"].mean(),center_17[\"3P%\"].mean()]\n",
    "\n",
    "plt.plot(x, y_three_pt_percent, label = '3 Pt Percentage')\n",
    "plt.plot(x, y_two_pt_percent, label = '2 Pt Percentage')\n",
    "\n",
    "plt.legend()\n",
    "plt.show()"
   ]
  },
  {
   "cell_type": "code",
   "execution_count": 107,
   "metadata": {},
   "outputs": [
    {
     "data": {
      "image/png": "[encoded data removed]",
      "text/plain": [
       "<Figure size 432x288 with 1 Axes>"
      ]
     },
     "metadata": {
      "needs_background": "light"
     },
     "output_type": "display_data"
    }
   ],
   "source": [
    "x= [2000, 2001, 2002, 2003, 2004, 2005, 2006, 2007, 2008, 2009, 2010, 2011, 2012, 2013, 2014, 2015, 2016, 2017]\n",
    "y_three_par = [center[\"3PAr\"].mean(),center_1[\"3PAr\"].mean(),center_2[\"3PAr\"].mean(), center_3[\"3PAr\"].mean(), center_4[\"3PAr\"].mean(), \n",
    "center_5[\"3PAr\"].mean(), center_6[\"3PAr\"].mean(), center_7[\"3PAr\"].mean(), center_8[\"3PAr\"].mean(), center_9[\"3PAr\"].mean(),\n",
    "center_10[\"3PAr\"].mean(), center_11[\"3PAr\"].mean(), center_12[\"3PAr\"].mean(), center_13[\"3PAr\"].mean(), center_14[\"3PAr\"].mean(),\n",
    "center_15[\"3PAr\"].mean(),center_16[\"3PAr\"].mean(),center_17[\"3PAr\"].mean()]\n",
    "\n",
    "plt.plot(x, y_three_par, label = '3 Pt Attempt Rate')\n",
    "\n",
    "plt.legend()\n",
    "plt.show()"
   ]
  },
  {
   "cell_type": "code",
   "execution_count": null,
   "metadata": {},
   "outputs": [],
   "source": [
    "combo = \n",
    "combo_08 = \n",
    "combo_17 = "
   ]
  },
  {
   "cell_type": "code",
   "execution_count": null,
   "metadata": {},
   "outputs": [],
   "source": []
  },
  {
   "cell_type": "code",
   "execution_count": null,
   "metadata": {},
   "outputs": [],
   "source": []
  },
  {
   "cell_type": "code",
   "execution_count": null,
   "metadata": {},
   "outputs": [],
   "source": []
  },
  {
   "cell_type": "code",
   "execution_count": null,
   "metadata": {},
   "outputs": [],
   "source": []
  },
  {
   "cell_type": "code",
   "execution_count": 105,
   "metadata": {},
   "outputs": [
    {
     "ename": "ValueError",
     "evalue": "No axis named name for object type <class 'pandas.core.frame.DataFrame'>",
     "output_type": "error",
     "traceback": [
      "\u001b[1;31m---------------------------------------------------------------------------\u001b[0m",
      "\u001b[1;31mValueError\u001b[0m                                Traceback (most recent call last)",
      "\u001b[1;32m<ipython-input-105-ceca5f0bc776>\u001b[0m in \u001b[0;36m<module>\u001b[1;34m\u001b[0m\n\u001b[0;32m      2\u001b[0m \u001b[1;31m#year_pos_df = complete_df.set_index(['Year',('Pos')])\u001b[0m\u001b[1;33m\u001b[0m\u001b[1;33m\u001b[0m\u001b[1;33m\u001b[0m\u001b[0m\n\u001b[0;32m      3\u001b[0m \u001b[0myear_pos_df\u001b[0m \u001b[1;33m=\u001b[0m \u001b[0mcomplete_df\u001b[0m\u001b[1;33m.\u001b[0m\u001b[0mset_index\u001b[0m\u001b[1;33m(\u001b[0m\u001b[1;33m[\u001b[0m\u001b[1;34m'Year'\u001b[0m\u001b[1;33m,\u001b[0m\u001b[1;33m(\u001b[0m\u001b[1;34m'name'\u001b[0m\u001b[1;33m)\u001b[0m\u001b[1;33m]\u001b[0m\u001b[1;33m)\u001b[0m\u001b[1;33m\u001b[0m\u001b[1;33m\u001b[0m\u001b[0m\n\u001b[1;32m----> 4\u001b[1;33m \u001b[0myear_pos_df\u001b[0m \u001b[1;33m=\u001b[0m \u001b[0myear_pos_df\u001b[0m\u001b[1;33m.\u001b[0m\u001b[0msort_index\u001b[0m\u001b[1;33m(\u001b[0m\u001b[1;34m'name'\u001b[0m\u001b[1;33m)\u001b[0m\u001b[1;33m(\u001b[0m\u001b[1;34m'Dirk Nowitzki'\u001b[0m\u001b[1;33m)\u001b[0m\u001b[1;33m\u001b[0m\u001b[1;33m\u001b[0m\u001b[0m\n\u001b[0m\u001b[0;32m      5\u001b[0m \u001b[0myear_pos_df\u001b[0m\u001b[1;33m\u001b[0m\u001b[1;33m\u001b[0m\u001b[0m\n",
      "\u001b[1;32m~\\Anaconda3_second_attempt\\lib\\site-packages\\pandas\\core\\frame.py\u001b[0m in \u001b[0;36msort_index\u001b[1;34m(self, axis, level, ascending, inplace, kind, na_position, sort_remaining, by)\u001b[0m\n\u001b[0;32m   4455\u001b[0m                                     inplace=inplace)\n\u001b[0;32m   4456\u001b[0m \u001b[1;33m\u001b[0m\u001b[0m\n\u001b[1;32m-> 4457\u001b[1;33m         \u001b[0maxis\u001b[0m \u001b[1;33m=\u001b[0m \u001b[0mself\u001b[0m\u001b[1;33m.\u001b[0m\u001b[0m_get_axis_number\u001b[0m\u001b[1;33m(\u001b[0m\u001b[0maxis\u001b[0m\u001b[1;33m)\u001b[0m\u001b[1;33m\u001b[0m\u001b[1;33m\u001b[0m\u001b[0m\n\u001b[0m\u001b[0;32m   4458\u001b[0m         \u001b[0mlabels\u001b[0m \u001b[1;33m=\u001b[0m \u001b[0mself\u001b[0m\u001b[1;33m.\u001b[0m\u001b[0m_get_axis\u001b[0m\u001b[1;33m(\u001b[0m\u001b[0maxis\u001b[0m\u001b[1;33m)\u001b[0m\u001b[1;33m\u001b[0m\u001b[1;33m\u001b[0m\u001b[0m\n\u001b[0;32m   4459\u001b[0m \u001b[1;33m\u001b[0m\u001b[0m\n",
      "\u001b[1;32m~\\Anaconda3_second_attempt\\lib\\site-packages\\pandas\\core\\generic.py\u001b[0m in \u001b[0;36m_get_axis_number\u001b[1;34m(self, axis)\u001b[0m\n\u001b[0;32m    373\u001b[0m                 \u001b[1;32mpass\u001b[0m\u001b[1;33m\u001b[0m\u001b[1;33m\u001b[0m\u001b[0m\n\u001b[0;32m    374\u001b[0m         raise ValueError('No axis named {0} for object type {1}'\n\u001b[1;32m--> 375\u001b[1;33m                          .format(axis, type(self)))\n\u001b[0m\u001b[0;32m    376\u001b[0m \u001b[1;33m\u001b[0m\u001b[0m\n\u001b[0;32m    377\u001b[0m     \u001b[1;32mdef\u001b[0m \u001b[0m_get_axis_name\u001b[0m\u001b[1;33m(\u001b[0m\u001b[0mself\u001b[0m\u001b[1;33m,\u001b[0m \u001b[0maxis\u001b[0m\u001b[1;33m)\u001b[0m\u001b[1;33m:\u001b[0m\u001b[1;33m\u001b[0m\u001b[1;33m\u001b[0m\u001b[0m\n",
      "\u001b[1;31mValueError\u001b[0m: No axis named name for object type <class 'pandas.core.frame.DataFrame'>"
     ]
    }
   ],
   "source": [
    "#set multi-index by year and name: year_name_df\n",
    "#year_pos_df = complete_df.set_index(['Year',('Pos')])\n",
    "year_pos_df = complete_df.set_index(['Year',('name')])\n",
    "year_pos_df = year_pos_df.sort_index('name')('Dirk Nowitzki')\n",
    "year_pos_df"
   ]
  },
  {
   "cell_type": "code",
   "execution_count": 88,
   "metadata": {},
   "outputs": [
    {
     "data": {
      "text/plain": [
       "63.593090211132434"
      ]
     },
     "execution_count": 88,
     "metadata": {},
     "output_type": "execute_result"
    }
   ],
   "source": [
    "#Create a DataFrame only containing big men\n",
    "big_men_df = year_pos_df[np.in1d(year_pos_df.index.get_level_values(1), ['C', 'C-PF', 'PF', 'PF-C'])]\n",
    "big_men_df_2000 = year_pos_df[np.in1d(year_pos_df.index.get_level_values(0), [2000])]\n",
    "big_men_df_2001 = year_pos_df[np.in1d(year_pos_df.index.get_level_values(0), [2001])]\n",
    "#print(big_men_df_2000.head())\n",
    "\n",
    "#Get the average 3PA for the year 2000\n",
    "avg_threes_att_00 = big_men_df.loc[:][\"3PA\"].mean()\n",
    "avg_threes_att_01 = big_men_df_2001.loc[:]['3PA'].mean()\n",
    "avg_threes_att_01"
   ]
  },
  {
   "cell_type": "code",
   "execution_count": 115,
   "metadata": {
    "collapsed": true
   },
   "outputs": [
    {
     "name": "stdout",
     "output_type": "stream",
     "text": [
      "10.013052208835342 for this C.\n",
      "10.863636363636363 for this C-PF.\n",
      "50.992311388755404 for this PF.\n",
      "30.533333333333335 for this PF-C.\n",
      "10.013052208835342 for this C.\n",
      "10.863636363636363 for this C-PF.\n",
      "50.992311388755404 for this PF.\n",
      "30.533333333333335 for this PF-C.\n",
      "10.013052208835342 for this C.\n",
      "10.863636363636363 for this C-PF.\n",
      "50.992311388755404 for this PF.\n",
      "30.533333333333335 for this PF-C.\n",
      "10.013052208835342 for this C.\n",
      "10.863636363636363 for this C-PF.\n",
      "50.992311388755404 for this PF.\n",
      "30.533333333333335 for this PF-C.\n",
      "10.013052208835342 for this C.\n",
      "10.863636363636363 for this C-PF.\n",
      "50.992311388755404 for this PF.\n",
      "30.533333333333335 for this PF-C.\n",
      "10.013052208835342 for this C.\n",
      "10.863636363636363 for this C-PF.\n",
      "50.992311388755404 for this PF.\n",
      "30.533333333333335 for this PF-C.\n",
      "10.013052208835342 for this C.\n",
      "10.863636363636363 for this C-PF.\n",
      "50.992311388755404 for this PF.\n",
      "30.533333333333335 for this PF-C.\n",
      "10.013052208835342 for this C.\n",
      "10.863636363636363 for this C-PF.\n",
      "50.992311388755404 for this PF.\n",
      "30.533333333333335 for this PF-C.\n",
      "10.013052208835342 for this C.\n",
      "10.863636363636363 for this C-PF.\n",
      "50.992311388755404 for this PF.\n",
      "30.533333333333335 for this PF-C.\n",
      "10.013052208835342 for this C.\n",
      "10.863636363636363 for this C-PF.\n",
      "50.992311388755404 for this PF.\n",
      "30.533333333333335 for this PF-C.\n",
      "10.013052208835342 for this C.\n",
      "10.863636363636363 for this C-PF.\n",
      "50.992311388755404 for this PF.\n",
      "30.533333333333335 for this PF-C.\n",
      "10.013052208835342 for this C.\n",
      "10.863636363636363 for this C-PF.\n",
      "50.992311388755404 for this PF.\n",
      "30.533333333333335 for this PF-C.\n",
      "10.013052208835342 for this C.\n",
      "10.863636363636363 for this C-PF.\n",
      "50.992311388755404 for this PF.\n",
      "30.533333333333335 for this PF-C.\n",
      "10.013052208835342 for this C.\n",
      "10.863636363636363 for this C-PF.\n",
      "50.992311388755404 for this PF.\n",
      "30.533333333333335 for this PF-C.\n",
      "10.013052208835342 for this C.\n",
      "10.863636363636363 for this C-PF.\n",
      "50.992311388755404 for this PF.\n",
      "30.533333333333335 for this PF-C.\n",
      "10.013052208835342 for this C.\n",
      "10.863636363636363 for this C-PF.\n",
      "50.992311388755404 for this PF.\n",
      "30.533333333333335 for this PF-C.\n",
      "10.013052208835342 for this C.\n",
      "10.863636363636363 for this C-PF.\n",
      "50.992311388755404 for this PF.\n",
      "30.533333333333335 for this PF-C.\n",
      "10.013052208835342 for this C.\n",
      "10.863636363636363 for this C-PF.\n",
      "50.992311388755404 for this PF.\n",
      "30.533333333333335 for this PF-C.\n"
     ]
    }
   ],
   "source": [
    "# Stealing Ovais' for loop\n",
    "\n",
    "#Make a years list\n",
    "years = [2000,2001,2002,2003,2004,2005,2006,2007,2008,2009,2010,2011,2012,2013,2014,2015,2016,2017]\n",
    "\n",
    "#positions desired\n",
    "positions = ['C','C-PF', 'PF', 'PF-C']\n",
    "\n",
    "#Create some lists to append to\n",
    "\n",
    "\n",
    "for year in years:\n",
    "    #Create a DataFrame with index_level zero equal to the value of year\n",
    "    df = year_pos_df[np.in1d(year_pos_df.index.get_level_values(0), [year])]\n",
    "    for position in positions:\n",
    "        #Create a DataFrame with index_level one equal to the value of position\n",
    "        df = year_pos_df[np.in1d(year_pos_df.index.get_level_values(1), [position])]\n",
    "        \n",
    "        #Get stats\n",
    "        threes = df.loc[:][\"3PA\"].mean()            \n",
    "        print(f\"{threes} for this {position}.\")\n"
   ]
  },
  {
   "cell_type": "code",
   "execution_count": null,
   "metadata": {},
   "outputs": [],
   "source": []
  }
 ],
 "metadata": {
  "kernelspec": {
   "display_name": "Python 3",
   "language": "python",
   "name": "python3"
  },
  "language_info": {
   "codemirror_mode": {
    "name": "ipython",
    "version": 3
   },
   "file_extension": ".py",
   "mimetype": "text/x-python",
   "name": "python",
   "nbconvert_exporter": "python",
   "pygments_lexer": "ipython3",
   "version": "3.7.1"
  }
 },
 "nbformat": 4,
 "nbformat_minor": 2
}
