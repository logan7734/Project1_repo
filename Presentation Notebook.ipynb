{
 "cells": [
  {
   "cell_type": "markdown",
   "metadata": {},
   "source": [
    "## Dependencies\n",
    "***"
   ]
  },
  {
   "cell_type": "code",
   "execution_count": 10,
   "metadata": {},
   "outputs": [],
   "source": [
    "#Dependencies\n",
    "import pandas as pd\n",
    "import numpy as np\n",
    "import matplotlib.pyplot as plt\n",
    "\n"
   ]
  },
  {
   "cell_type": "markdown",
   "metadata": {},
   "source": [
    "### Data Sets\n",
    "***"
   ]
  },
  {
   "cell_type": "code",
   "execution_count": 155,
   "metadata": {},
   "outputs": [],
   "source": [
    "#get Data files and turn into DataFrames\n",
    "\n",
    "nba_data_excel = \"NBA+Data.xlsx\"\n",
    "player_data_excel = \"player_heightweight_data(cleanedinches).xlsm\"\n",
    "\n",
    "nba_data_df = pd.read_excel(nba_data_excel)\n",
    "height_weight_df = pd.read_excel(player_data_excel)\n"
   ]
  },
  {
   "cell_type": "markdown",
   "metadata": {},
   "source": [
    "### DataFrame Cleaning/Manipulation\n",
    "***"
   ]
  },
  {
   "cell_type": "code",
   "execution_count": 156,
   "metadata": {},
   "outputs": [],
   "source": [
    "#preview DataFrames\n",
    "#print(nba_data_df.count())\n",
    "#print(height_weight_df.count())"
   ]
  },
  {
   "cell_type": "code",
   "execution_count": 157,
   "metadata": {},
   "outputs": [
    {
     "data": {
      "text/html": [
       "<div>\n",
       "<style scoped>\n",
       "    .dataframe tbody tr th:only-of-type {\n",
       "        vertical-align: middle;\n",
       "    }\n",
       "\n",
       "    .dataframe tbody tr th {\n",
       "        vertical-align: top;\n",
       "    }\n",
       "\n",
       "    .dataframe thead th {\n",
       "        text-align: right;\n",
       "    }\n",
       "</style>\n",
       "<table border=\"1\" class=\"dataframe\">\n",
       "  <thead>\n",
       "    <tr style=\"text-align: right;\">\n",
       "      <th></th>\n",
       "      <th>Year</th>\n",
       "      <th>name</th>\n",
       "      <th>Pos</th>\n",
       "      <th>Age</th>\n",
       "      <th>Tm</th>\n",
       "      <th>G</th>\n",
       "      <th>GS</th>\n",
       "      <th>MP</th>\n",
       "      <th>PER</th>\n",
       "      <th>TS%</th>\n",
       "      <th>...</th>\n",
       "      <th>FT%</th>\n",
       "      <th>ORB</th>\n",
       "      <th>DRB</th>\n",
       "      <th>TRB</th>\n",
       "      <th>AST</th>\n",
       "      <th>STL</th>\n",
       "      <th>BLK</th>\n",
       "      <th>TOV</th>\n",
       "      <th>PF</th>\n",
       "      <th>PTS</th>\n",
       "    </tr>\n",
       "  </thead>\n",
       "  <tbody>\n",
       "    <tr>\n",
       "      <th>0</th>\n",
       "      <td>1950</td>\n",
       "      <td>Curly Armstrong</td>\n",
       "      <td>G-F</td>\n",
       "      <td>31.0</td>\n",
       "      <td>FTW</td>\n",
       "      <td>63.0</td>\n",
       "      <td>NaN</td>\n",
       "      <td>NaN</td>\n",
       "      <td>NaN</td>\n",
       "      <td>0.368</td>\n",
       "      <td>...</td>\n",
       "      <td>0.705</td>\n",
       "      <td>NaN</td>\n",
       "      <td>NaN</td>\n",
       "      <td>NaN</td>\n",
       "      <td>176.0</td>\n",
       "      <td>NaN</td>\n",
       "      <td>NaN</td>\n",
       "      <td>NaN</td>\n",
       "      <td>217.0</td>\n",
       "      <td>458.0</td>\n",
       "    </tr>\n",
       "    <tr>\n",
       "      <th>1</th>\n",
       "      <td>1950</td>\n",
       "      <td>Cliff Barker</td>\n",
       "      <td>SG</td>\n",
       "      <td>29.0</td>\n",
       "      <td>INO</td>\n",
       "      <td>49.0</td>\n",
       "      <td>NaN</td>\n",
       "      <td>NaN</td>\n",
       "      <td>NaN</td>\n",
       "      <td>0.435</td>\n",
       "      <td>...</td>\n",
       "      <td>0.708</td>\n",
       "      <td>NaN</td>\n",
       "      <td>NaN</td>\n",
       "      <td>NaN</td>\n",
       "      <td>109.0</td>\n",
       "      <td>NaN</td>\n",
       "      <td>NaN</td>\n",
       "      <td>NaN</td>\n",
       "      <td>99.0</td>\n",
       "      <td>279.0</td>\n",
       "    </tr>\n",
       "    <tr>\n",
       "      <th>2</th>\n",
       "      <td>1950</td>\n",
       "      <td>Leo Barnhorst</td>\n",
       "      <td>SF</td>\n",
       "      <td>25.0</td>\n",
       "      <td>CHS</td>\n",
       "      <td>67.0</td>\n",
       "      <td>NaN</td>\n",
       "      <td>NaN</td>\n",
       "      <td>NaN</td>\n",
       "      <td>0.394</td>\n",
       "      <td>...</td>\n",
       "      <td>0.698</td>\n",
       "      <td>NaN</td>\n",
       "      <td>NaN</td>\n",
       "      <td>NaN</td>\n",
       "      <td>140.0</td>\n",
       "      <td>NaN</td>\n",
       "      <td>NaN</td>\n",
       "      <td>NaN</td>\n",
       "      <td>192.0</td>\n",
       "      <td>438.0</td>\n",
       "    </tr>\n",
       "    <tr>\n",
       "      <th>3</th>\n",
       "      <td>1950</td>\n",
       "      <td>Ed Bartels</td>\n",
       "      <td>F</td>\n",
       "      <td>24.0</td>\n",
       "      <td>TOT</td>\n",
       "      <td>15.0</td>\n",
       "      <td>NaN</td>\n",
       "      <td>NaN</td>\n",
       "      <td>NaN</td>\n",
       "      <td>0.312</td>\n",
       "      <td>...</td>\n",
       "      <td>0.559</td>\n",
       "      <td>NaN</td>\n",
       "      <td>NaN</td>\n",
       "      <td>NaN</td>\n",
       "      <td>20.0</td>\n",
       "      <td>NaN</td>\n",
       "      <td>NaN</td>\n",
       "      <td>NaN</td>\n",
       "      <td>29.0</td>\n",
       "      <td>63.0</td>\n",
       "    </tr>\n",
       "    <tr>\n",
       "      <th>4</th>\n",
       "      <td>1950</td>\n",
       "      <td>Ed Bartels</td>\n",
       "      <td>F</td>\n",
       "      <td>24.0</td>\n",
       "      <td>DNN</td>\n",
       "      <td>13.0</td>\n",
       "      <td>NaN</td>\n",
       "      <td>NaN</td>\n",
       "      <td>NaN</td>\n",
       "      <td>0.308</td>\n",
       "      <td>...</td>\n",
       "      <td>0.548</td>\n",
       "      <td>NaN</td>\n",
       "      <td>NaN</td>\n",
       "      <td>NaN</td>\n",
       "      <td>20.0</td>\n",
       "      <td>NaN</td>\n",
       "      <td>NaN</td>\n",
       "      <td>NaN</td>\n",
       "      <td>27.0</td>\n",
       "      <td>59.0</td>\n",
       "    </tr>\n",
       "  </tbody>\n",
       "</table>\n",
       "<p>5 rows × 52 columns</p>\n",
       "</div>"
      ],
      "text/plain": [
       "   Year             name  Pos   Age   Tm     G  GS  MP  PER    TS%  ...    \\\n",
       "0  1950  Curly Armstrong  G-F  31.0  FTW  63.0 NaN NaN  NaN  0.368  ...     \n",
       "1  1950     Cliff Barker   SG  29.0  INO  49.0 NaN NaN  NaN  0.435  ...     \n",
       "2  1950    Leo Barnhorst   SF  25.0  CHS  67.0 NaN NaN  NaN  0.394  ...     \n",
       "3  1950       Ed Bartels    F  24.0  TOT  15.0 NaN NaN  NaN  0.312  ...     \n",
       "4  1950       Ed Bartels    F  24.0  DNN  13.0 NaN NaN  NaN  0.308  ...     \n",
       "\n",
       "     FT%  ORB  DRB  TRB    AST  STL  BLK  TOV     PF    PTS  \n",
       "0  0.705  NaN  NaN  NaN  176.0  NaN  NaN  NaN  217.0  458.0  \n",
       "1  0.708  NaN  NaN  NaN  109.0  NaN  NaN  NaN   99.0  279.0  \n",
       "2  0.698  NaN  NaN  NaN  140.0  NaN  NaN  NaN  192.0  438.0  \n",
       "3  0.559  NaN  NaN  NaN   20.0  NaN  NaN  NaN   29.0   63.0  \n",
       "4  0.548  NaN  NaN  NaN   20.0  NaN  NaN  NaN   27.0   59.0  \n",
       "\n",
       "[5 rows x 52 columns]"
      ]
     },
     "execution_count": 157,
     "metadata": {},
     "output_type": "execute_result"
    }
   ],
   "source": [
    "#drop N/A values in year: nba_data_df\n",
    "nba_data_df['Year'] = nba_data_df.Year.fillna(0)\n",
    "\n",
    "#convert year into integer value\n",
    "nba_data_df['Year'] = nba_data_df.Year.astype(int)\n",
    "\n",
    "#Change 'Player' column to 'name'\n",
    "nba_data_df = nba_data_df.rename(columns={\"Player\":\"name\"})\n",
    "\n",
    "#Preview nba_data_df\n",
    "\n",
    "nba_data_df.head()"
   ]
  },
  {
   "cell_type": "code",
   "execution_count": 158,
   "metadata": {
    "scrolled": true
   },
   "outputs": [
    {
     "data": {
      "text/html": [
       "<div>\n",
       "<style scoped>\n",
       "    .dataframe tbody tr th:only-of-type {\n",
       "        vertical-align: middle;\n",
       "    }\n",
       "\n",
       "    .dataframe tbody tr th {\n",
       "        vertical-align: top;\n",
       "    }\n",
       "\n",
       "    .dataframe thead th {\n",
       "        text-align: right;\n",
       "    }\n",
       "</style>\n",
       "<table border=\"1\" class=\"dataframe\">\n",
       "  <thead>\n",
       "    <tr style=\"text-align: right;\">\n",
       "      <th></th>\n",
       "      <th>name</th>\n",
       "      <th>position</th>\n",
       "      <th>weight</th>\n",
       "      <th>height (inches)</th>\n",
       "      <th>height(feet)</th>\n",
       "    </tr>\n",
       "  </thead>\n",
       "  <tbody>\n",
       "    <tr>\n",
       "      <th>0</th>\n",
       "      <td>Alaa Abdelnaby</td>\n",
       "      <td>F-C</td>\n",
       "      <td>240</td>\n",
       "      <td>82</td>\n",
       "      <td>6ft 10in</td>\n",
       "    </tr>\n",
       "    <tr>\n",
       "      <th>1</th>\n",
       "      <td>Zaid Abdul-Aziz</td>\n",
       "      <td>NaN</td>\n",
       "      <td>235</td>\n",
       "      <td>81</td>\n",
       "      <td>6ft 9in</td>\n",
       "    </tr>\n",
       "    <tr>\n",
       "      <th>2</th>\n",
       "      <td>Kareem Abdul-Jabbar</td>\n",
       "      <td>C</td>\n",
       "      <td>225</td>\n",
       "      <td>86</td>\n",
       "      <td>7ft 2in</td>\n",
       "    </tr>\n",
       "    <tr>\n",
       "      <th>3</th>\n",
       "      <td>Mahmoud Abdul-Rauf</td>\n",
       "      <td>G</td>\n",
       "      <td>162</td>\n",
       "      <td>73</td>\n",
       "      <td>6ft 1in</td>\n",
       "    </tr>\n",
       "    <tr>\n",
       "      <th>4</th>\n",
       "      <td>Tariq Abdul-Wahad</td>\n",
       "      <td>F</td>\n",
       "      <td>223</td>\n",
       "      <td>78</td>\n",
       "      <td>6ft 6in</td>\n",
       "    </tr>\n",
       "  </tbody>\n",
       "</table>\n",
       "</div>"
      ],
      "text/plain": [
       "                  name position  weight  height (inches) height(feet)\n",
       "0       Alaa Abdelnaby      F-C     240               82     6ft 10in\n",
       "1      Zaid Abdul-Aziz      NaN     235               81      6ft 9in\n",
       "2  Kareem Abdul-Jabbar        C     225               86      7ft 2in\n",
       "3   Mahmoud Abdul-Rauf        G     162               73      6ft 1in\n",
       "4    Tariq Abdul-Wahad        F     223               78      6ft 6in"
      ]
     },
     "execution_count": 158,
     "metadata": {},
     "output_type": "execute_result"
    }
   ],
   "source": [
    "#drop N/A values in year: nba_data_df\n",
    "height_weight_df['weight'] = height_weight_df.weight.fillna(0)\n",
    "\n",
    "#Convert weight into integer value: height_weight_df\n",
    "height_weight_df['weight'] = height_weight_df.weight.astype(int)\n",
    "\n",
    "#Preview\n",
    "height_weight_df.head()"
   ]
  },
  {
   "cell_type": "markdown",
   "metadata": {},
   "source": [
    "### Merged Data Frames"
   ]
  },
  {
   "cell_type": "code",
   "execution_count": 159,
   "metadata": {},
   "outputs": [
    {
     "data": {
      "text/html": [
       "<div>\n",
       "<style scoped>\n",
       "    .dataframe tbody tr th:only-of-type {\n",
       "        vertical-align: middle;\n",
       "    }\n",
       "\n",
       "    .dataframe tbody tr th {\n",
       "        vertical-align: top;\n",
       "    }\n",
       "\n",
       "    .dataframe thead th {\n",
       "        text-align: right;\n",
       "    }\n",
       "</style>\n",
       "<table border=\"1\" class=\"dataframe\">\n",
       "  <thead>\n",
       "    <tr style=\"text-align: right;\">\n",
       "      <th></th>\n",
       "      <th>Year</th>\n",
       "      <th>name</th>\n",
       "      <th>Pos</th>\n",
       "      <th>Age</th>\n",
       "      <th>Tm</th>\n",
       "      <th>G</th>\n",
       "      <th>GS</th>\n",
       "      <th>MP</th>\n",
       "      <th>PER</th>\n",
       "      <th>TS%</th>\n",
       "      <th>...</th>\n",
       "      <th>AST</th>\n",
       "      <th>STL</th>\n",
       "      <th>BLK</th>\n",
       "      <th>TOV</th>\n",
       "      <th>PF</th>\n",
       "      <th>PTS</th>\n",
       "      <th>position</th>\n",
       "      <th>weight</th>\n",
       "      <th>height (inches)</th>\n",
       "      <th>height(feet)</th>\n",
       "    </tr>\n",
       "  </thead>\n",
       "  <tbody>\n",
       "    <tr>\n",
       "      <th>0</th>\n",
       "      <td>1950</td>\n",
       "      <td>Curly Armstrong</td>\n",
       "      <td>G-F</td>\n",
       "      <td>31.0</td>\n",
       "      <td>FTW</td>\n",
       "      <td>63.0</td>\n",
       "      <td>NaN</td>\n",
       "      <td>NaN</td>\n",
       "      <td>NaN</td>\n",
       "      <td>0.368</td>\n",
       "      <td>...</td>\n",
       "      <td>176.0</td>\n",
       "      <td>NaN</td>\n",
       "      <td>NaN</td>\n",
       "      <td>NaN</td>\n",
       "      <td>217.0</td>\n",
       "      <td>458.0</td>\n",
       "      <td>G-F</td>\n",
       "      <td>170</td>\n",
       "      <td>71</td>\n",
       "      <td>5ft 11in</td>\n",
       "    </tr>\n",
       "    <tr>\n",
       "      <th>1</th>\n",
       "      <td>1951</td>\n",
       "      <td>Curly Armstrong</td>\n",
       "      <td>G-F</td>\n",
       "      <td>32.0</td>\n",
       "      <td>FTW</td>\n",
       "      <td>38.0</td>\n",
       "      <td>NaN</td>\n",
       "      <td>NaN</td>\n",
       "      <td>NaN</td>\n",
       "      <td>0.372</td>\n",
       "      <td>...</td>\n",
       "      <td>77.0</td>\n",
       "      <td>NaN</td>\n",
       "      <td>NaN</td>\n",
       "      <td>NaN</td>\n",
       "      <td>97.0</td>\n",
       "      <td>202.0</td>\n",
       "      <td>G-F</td>\n",
       "      <td>170</td>\n",
       "      <td>71</td>\n",
       "      <td>5ft 11in</td>\n",
       "    </tr>\n",
       "    <tr>\n",
       "      <th>2</th>\n",
       "      <td>1950</td>\n",
       "      <td>Cliff Barker</td>\n",
       "      <td>SG</td>\n",
       "      <td>29.0</td>\n",
       "      <td>INO</td>\n",
       "      <td>49.0</td>\n",
       "      <td>NaN</td>\n",
       "      <td>NaN</td>\n",
       "      <td>NaN</td>\n",
       "      <td>0.435</td>\n",
       "      <td>...</td>\n",
       "      <td>109.0</td>\n",
       "      <td>NaN</td>\n",
       "      <td>NaN</td>\n",
       "      <td>NaN</td>\n",
       "      <td>99.0</td>\n",
       "      <td>279.0</td>\n",
       "      <td>G</td>\n",
       "      <td>185</td>\n",
       "      <td>74</td>\n",
       "      <td>6ft 2in</td>\n",
       "    </tr>\n",
       "    <tr>\n",
       "      <th>3</th>\n",
       "      <td>1951</td>\n",
       "      <td>Cliff Barker</td>\n",
       "      <td>SG</td>\n",
       "      <td>30.0</td>\n",
       "      <td>INO</td>\n",
       "      <td>56.0</td>\n",
       "      <td>NaN</td>\n",
       "      <td>NaN</td>\n",
       "      <td>NaN</td>\n",
       "      <td>0.322</td>\n",
       "      <td>...</td>\n",
       "      <td>115.0</td>\n",
       "      <td>NaN</td>\n",
       "      <td>NaN</td>\n",
       "      <td>NaN</td>\n",
       "      <td>98.0</td>\n",
       "      <td>152.0</td>\n",
       "      <td>G</td>\n",
       "      <td>185</td>\n",
       "      <td>74</td>\n",
       "      <td>6ft 2in</td>\n",
       "    </tr>\n",
       "    <tr>\n",
       "      <th>4</th>\n",
       "      <td>1952</td>\n",
       "      <td>Cliff Barker</td>\n",
       "      <td>SG</td>\n",
       "      <td>31.0</td>\n",
       "      <td>INO</td>\n",
       "      <td>44.0</td>\n",
       "      <td>NaN</td>\n",
       "      <td>494.0</td>\n",
       "      <td>10.8</td>\n",
       "      <td>0.343</td>\n",
       "      <td>...</td>\n",
       "      <td>70.0</td>\n",
       "      <td>NaN</td>\n",
       "      <td>NaN</td>\n",
       "      <td>NaN</td>\n",
       "      <td>56.0</td>\n",
       "      <td>126.0</td>\n",
       "      <td>G</td>\n",
       "      <td>185</td>\n",
       "      <td>74</td>\n",
       "      <td>6ft 2in</td>\n",
       "    </tr>\n",
       "  </tbody>\n",
       "</table>\n",
       "<p>5 rows × 56 columns</p>\n",
       "</div>"
      ],
      "text/plain": [
       "   Year             name  Pos   Age   Tm     G  GS     MP   PER    TS%  \\\n",
       "0  1950  Curly Armstrong  G-F  31.0  FTW  63.0 NaN    NaN   NaN  0.368   \n",
       "1  1951  Curly Armstrong  G-F  32.0  FTW  38.0 NaN    NaN   NaN  0.372   \n",
       "2  1950     Cliff Barker   SG  29.0  INO  49.0 NaN    NaN   NaN  0.435   \n",
       "3  1951     Cliff Barker   SG  30.0  INO  56.0 NaN    NaN   NaN  0.322   \n",
       "4  1952     Cliff Barker   SG  31.0  INO  44.0 NaN  494.0  10.8  0.343   \n",
       "\n",
       "       ...         AST  STL  BLK  TOV     PF    PTS  position  weight  \\\n",
       "0      ...       176.0  NaN  NaN  NaN  217.0  458.0       G-F     170   \n",
       "1      ...        77.0  NaN  NaN  NaN   97.0  202.0       G-F     170   \n",
       "2      ...       109.0  NaN  NaN  NaN   99.0  279.0         G     185   \n",
       "3      ...       115.0  NaN  NaN  NaN   98.0  152.0         G     185   \n",
       "4      ...        70.0  NaN  NaN  NaN   56.0  126.0         G     185   \n",
       "\n",
       "   height (inches)  height(feet)  \n",
       "0               71      5ft 11in  \n",
       "1               71      5ft 11in  \n",
       "2               74       6ft 2in  \n",
       "3               74       6ft 2in  \n",
       "4               74       6ft 2in  \n",
       "\n",
       "[5 rows x 56 columns]"
      ]
     },
     "execution_count": 159,
     "metadata": {},
     "output_type": "execute_result"
    }
   ],
   "source": [
    "#Merge Both DataFrames on: 'name' column\n",
    "\n",
    "merged_df = pd.merge(nba_data_df, height_weight_df)\n",
    "merged_df.head()"
   ]
  },
  {
   "cell_type": "markdown",
   "metadata": {},
   "source": [
    "### Cleaning Data Frame: 'complete_df'"
   ]
  },
  {
   "cell_type": "code",
   "execution_count": 160,
   "metadata": {},
   "outputs": [],
   "source": [
    "#remove 'unnamed' and 'position' columns\n",
    "\n",
    "complete_df = merged_df.drop([\"position\"],axis=1)\n",
    "complete_df = complete_df.sort_values(by=\"Year\")\n"
   ]
  },
  {
   "cell_type": "code",
   "execution_count": 161,
   "metadata": {},
   "outputs": [],
   "source": [
    "#Conditional function to isolate big men and small men\n",
    "\n",
    "def f(row):\n",
    "    if row['Pos'] == 'C' or row['Pos'] == 'F' or row['Pos'] == 'C-F' or row['Pos'] == 'F-C' or row ['Pos'] == 'PF':\n",
    "        val = 'bm'\n",
    "    else:\n",
    "        val = 'sm'\n",
    "    return val\n",
    "complete_df['men'] = complete_df.apply(f, axis = 1)"
   ]
  },
  {
   "cell_type": "code",
   "execution_count": 163,
   "metadata": {},
   "outputs": [
    {
     "data": {
      "text/html": [
       "<div>\n",
       "<style scoped>\n",
       "    .dataframe tbody tr th:only-of-type {\n",
       "        vertical-align: middle;\n",
       "    }\n",
       "\n",
       "    .dataframe tbody tr th {\n",
       "        vertical-align: top;\n",
       "    }\n",
       "\n",
       "    .dataframe thead th {\n",
       "        text-align: right;\n",
       "    }\n",
       "</style>\n",
       "<table border=\"1\" class=\"dataframe\">\n",
       "  <thead>\n",
       "    <tr style=\"text-align: right;\">\n",
       "      <th></th>\n",
       "      <th>Year</th>\n",
       "      <th>name</th>\n",
       "      <th>Pos</th>\n",
       "      <th>Age</th>\n",
       "      <th>Tm</th>\n",
       "      <th>G</th>\n",
       "      <th>GS</th>\n",
       "      <th>MP</th>\n",
       "      <th>PER</th>\n",
       "      <th>TS%</th>\n",
       "      <th>...</th>\n",
       "      <th>AST</th>\n",
       "      <th>STL</th>\n",
       "      <th>BLK</th>\n",
       "      <th>TOV</th>\n",
       "      <th>PF</th>\n",
       "      <th>PTS</th>\n",
       "      <th>weight</th>\n",
       "      <th>height (inches)</th>\n",
       "      <th>height(feet)</th>\n",
       "      <th>men</th>\n",
       "    </tr>\n",
       "  </thead>\n",
       "  <tbody>\n",
       "    <tr>\n",
       "      <th>0</th>\n",
       "      <td>1990</td>\n",
       "      <td>Mike Smrek</td>\n",
       "      <td>C</td>\n",
       "      <td>27.0</td>\n",
       "      <td>GSW</td>\n",
       "      <td>13.0</td>\n",
       "      <td>3.0</td>\n",
       "      <td>107.0</td>\n",
       "      <td>7.1</td>\n",
       "      <td>0.394</td>\n",
       "      <td>...</td>\n",
       "      <td>1.0</td>\n",
       "      <td>4.0</td>\n",
       "      <td>11.0</td>\n",
       "      <td>9.0</td>\n",
       "      <td>18.0</td>\n",
       "      <td>21.0</td>\n",
       "      <td>250</td>\n",
       "      <td>85</td>\n",
       "      <td>7ft 1in</td>\n",
       "      <td>bm</td>\n",
       "    </tr>\n",
       "    <tr>\n",
       "      <th>1</th>\n",
       "      <td>1990</td>\n",
       "      <td>Jay Humphries</td>\n",
       "      <td>PG</td>\n",
       "      <td>27.0</td>\n",
       "      <td>MIL</td>\n",
       "      <td>81.0</td>\n",
       "      <td>81.0</td>\n",
       "      <td>2818.0</td>\n",
       "      <td>16.4</td>\n",
       "      <td>0.547</td>\n",
       "      <td>...</td>\n",
       "      <td>472.0</td>\n",
       "      <td>156.0</td>\n",
       "      <td>11.0</td>\n",
       "      <td>151.0</td>\n",
       "      <td>253.0</td>\n",
       "      <td>1237.0</td>\n",
       "      <td>185</td>\n",
       "      <td>75</td>\n",
       "      <td>6ft 3in</td>\n",
       "      <td>sm</td>\n",
       "    </tr>\n",
       "    <tr>\n",
       "      <th>2</th>\n",
       "      <td>1990</td>\n",
       "      <td>A.C. Green</td>\n",
       "      <td>PF</td>\n",
       "      <td>26.0</td>\n",
       "      <td>LAL</td>\n",
       "      <td>82.0</td>\n",
       "      <td>82.0</td>\n",
       "      <td>2709.0</td>\n",
       "      <td>14.7</td>\n",
       "      <td>0.548</td>\n",
       "      <td>...</td>\n",
       "      <td>90.0</td>\n",
       "      <td>66.0</td>\n",
       "      <td>50.0</td>\n",
       "      <td>116.0</td>\n",
       "      <td>207.0</td>\n",
       "      <td>1061.0</td>\n",
       "      <td>220</td>\n",
       "      <td>81</td>\n",
       "      <td>6ft 9in</td>\n",
       "      <td>bm</td>\n",
       "    </tr>\n",
       "    <tr>\n",
       "      <th>3</th>\n",
       "      <td>1990</td>\n",
       "      <td>Ron Harper</td>\n",
       "      <td>SG</td>\n",
       "      <td>26.0</td>\n",
       "      <td>LAC</td>\n",
       "      <td>28.0</td>\n",
       "      <td>28.0</td>\n",
       "      <td>1105.0</td>\n",
       "      <td>20.0</td>\n",
       "      <td>0.553</td>\n",
       "      <td>...</td>\n",
       "      <td>133.0</td>\n",
       "      <td>67.0</td>\n",
       "      <td>32.0</td>\n",
       "      <td>82.0</td>\n",
       "      <td>80.0</td>\n",
       "      <td>644.0</td>\n",
       "      <td>185</td>\n",
       "      <td>78</td>\n",
       "      <td>6ft 6in</td>\n",
       "      <td>sm</td>\n",
       "    </tr>\n",
       "    <tr>\n",
       "      <th>4</th>\n",
       "      <td>1990</td>\n",
       "      <td>Gerald Henderson</td>\n",
       "      <td>PG</td>\n",
       "      <td>34.0</td>\n",
       "      <td>TOT</td>\n",
       "      <td>57.0</td>\n",
       "      <td>0.0</td>\n",
       "      <td>464.0</td>\n",
       "      <td>11.9</td>\n",
       "      <td>0.584</td>\n",
       "      <td>...</td>\n",
       "      <td>74.0</td>\n",
       "      <td>16.0</td>\n",
       "      <td>2.0</td>\n",
       "      <td>24.0</td>\n",
       "      <td>50.0</td>\n",
       "      <td>135.0</td>\n",
       "      <td>215</td>\n",
       "      <td>77</td>\n",
       "      <td>6ft 5in</td>\n",
       "      <td>sm</td>\n",
       "    </tr>\n",
       "  </tbody>\n",
       "</table>\n",
       "<p>5 rows × 56 columns</p>\n",
       "</div>"
      ],
      "text/plain": [
       "   Year              name Pos   Age   Tm     G    GS      MP   PER    TS%  \\\n",
       "0  1990        Mike Smrek   C  27.0  GSW  13.0   3.0   107.0   7.1  0.394   \n",
       "1  1990     Jay Humphries  PG  27.0  MIL  81.0  81.0  2818.0  16.4  0.547   \n",
       "2  1990        A.C. Green  PF  26.0  LAL  82.0  82.0  2709.0  14.7  0.548   \n",
       "3  1990        Ron Harper  SG  26.0  LAC  28.0  28.0  1105.0  20.0  0.553   \n",
       "4  1990  Gerald Henderson  PG  34.0  TOT  57.0   0.0   464.0  11.9  0.584   \n",
       "\n",
       "  ...     AST    STL   BLK    TOV     PF     PTS  weight  height (inches)  \\\n",
       "0 ...     1.0    4.0  11.0    9.0   18.0    21.0     250               85   \n",
       "1 ...   472.0  156.0  11.0  151.0  253.0  1237.0     185               75   \n",
       "2 ...    90.0   66.0  50.0  116.0  207.0  1061.0     220               81   \n",
       "3 ...   133.0   67.0  32.0   82.0   80.0   644.0     185               78   \n",
       "4 ...    74.0   16.0   2.0   24.0   50.0   135.0     215               77   \n",
       "\n",
       "   height(feet)  men  \n",
       "0       7ft 1in   bm  \n",
       "1       6ft 3in   sm  \n",
       "2       6ft 9in   bm  \n",
       "3       6ft 6in   sm  \n",
       "4       6ft 5in   sm  \n",
       "\n",
       "[5 rows x 56 columns]"
      ]
     },
     "execution_count": 163,
     "metadata": {},
     "output_type": "execute_result"
    }
   ],
   "source": [
    "#Clean complete df further\n",
    "\n",
    "complete_df = complete_df.reset_index()\n",
    "complete_df = complete_df.drop(['index'],axis=1)\n",
    "\n",
    "#complete_df.head()\n",
    "\n",
    "##--Year Filter--#\n",
    "\n",
    "year_filter = (complete_df.Year >= 1990)\n",
    "complete_df = complete_df[year_filter]\n",
    "complete_df.head()\n"
   ]
  },
  {
   "cell_type": "markdown",
   "metadata": {},
   "source": [
    "## Cleaning Big Men and Small Men DataFrames"
   ]
  },
  {
   "cell_type": "code",
   "execution_count": 207,
   "metadata": {},
   "outputs": [
    {
     "data": {
      "text/plain": [
       "Index(['Year', 'name', 'Pos', 'Age', 'Tm', 'G', 'GS', 'MP', 'PER', 'TS%',\n",
       "       '3PAr', 'FTr', 'ORB%', 'DRB%', 'TRB%', 'AST%', 'STL%', 'BLK%', 'TOV%',\n",
       "       'USG%', 'blanl', 'OWS', 'DWS', 'WS', 'WS/48', 'blank2', 'OBPM', 'DBPM',\n",
       "       'BPM', 'VORP', 'FG', 'FGA', 'FG%', '3P', '3PA', '3P%', '2P', '2PA',\n",
       "       '2P%', 'eFG%', 'FT', 'FTA', 'FT%', 'ORB', 'DRB', 'TRB', 'AST', 'STL',\n",
       "       'BLK', 'TOV', 'PF', 'PTS', 'weight', 'height (inches)', 'height(feet)',\n",
       "       'men'],\n",
       "      dtype='object')"
      ]
     },
     "execution_count": 207,
     "metadata": {},
     "output_type": "execute_result"
    }
   ],
   "source": [
    "#isolate big men and small men and store them in: big_men_df and small_men_df respectively\n",
    "\n",
    "#--big men--#\n",
    "big_men_df = complete_df.loc[complete_df['men']=='bm']\n",
    "\n",
    "#--small men--#\n",
    "small_men_df = complete_df.loc[complete_df['men']=='sm']\n",
    "\n",
    "#Test print both: big_men_df and small_men_df\n",
    "\n",
    "big_men_df.head()\n",
    "#small_men_df.head()\n",
    "big_men_df.columns"
   ]
  },
  {
   "cell_type": "code",
   "execution_count": 300,
   "metadata": {},
   "outputs": [
    {
     "data": {
      "text/html": [
       "<div>\n",
       "<style scoped>\n",
       "    .dataframe tbody tr th:only-of-type {\n",
       "        vertical-align: middle;\n",
       "    }\n",
       "\n",
       "    .dataframe tbody tr th {\n",
       "        vertical-align: top;\n",
       "    }\n",
       "\n",
       "    .dataframe thead th {\n",
       "        text-align: right;\n",
       "    }\n",
       "</style>\n",
       "<table border=\"1\" class=\"dataframe\">\n",
       "  <thead>\n",
       "    <tr style=\"text-align: right;\">\n",
       "      <th></th>\n",
       "      <th>Year</th>\n",
       "      <th>name</th>\n",
       "      <th>Pos</th>\n",
       "      <th>Age</th>\n",
       "      <th>Tm</th>\n",
       "      <th>G</th>\n",
       "      <th>GS</th>\n",
       "      <th>MP</th>\n",
       "      <th>PER</th>\n",
       "      <th>TS%</th>\n",
       "      <th>...</th>\n",
       "      <th>AST</th>\n",
       "      <th>STL</th>\n",
       "      <th>BLK</th>\n",
       "      <th>TOV</th>\n",
       "      <th>PF</th>\n",
       "      <th>PTS</th>\n",
       "      <th>weight</th>\n",
       "      <th>height (inches)</th>\n",
       "      <th>height(feet)</th>\n",
       "      <th>men</th>\n",
       "    </tr>\n",
       "  </thead>\n",
       "  <tbody>\n",
       "    <tr>\n",
       "      <th>0</th>\n",
       "      <td>1990</td>\n",
       "      <td>Mike Smrek</td>\n",
       "      <td>C</td>\n",
       "      <td>27.0</td>\n",
       "      <td>GSW</td>\n",
       "      <td>13.0</td>\n",
       "      <td>3.0</td>\n",
       "      <td>107.0</td>\n",
       "      <td>7.1</td>\n",
       "      <td>0.394</td>\n",
       "      <td>...</td>\n",
       "      <td>1.0</td>\n",
       "      <td>4.0</td>\n",
       "      <td>11.0</td>\n",
       "      <td>9.0</td>\n",
       "      <td>18.0</td>\n",
       "      <td>21.0</td>\n",
       "      <td>250</td>\n",
       "      <td>85</td>\n",
       "      <td>7ft 1in</td>\n",
       "      <td>bm</td>\n",
       "    </tr>\n",
       "    <tr>\n",
       "      <th>2</th>\n",
       "      <td>1990</td>\n",
       "      <td>A.C. Green</td>\n",
       "      <td>PF</td>\n",
       "      <td>26.0</td>\n",
       "      <td>LAL</td>\n",
       "      <td>82.0</td>\n",
       "      <td>82.0</td>\n",
       "      <td>2709.0</td>\n",
       "      <td>14.7</td>\n",
       "      <td>0.548</td>\n",
       "      <td>...</td>\n",
       "      <td>90.0</td>\n",
       "      <td>66.0</td>\n",
       "      <td>50.0</td>\n",
       "      <td>116.0</td>\n",
       "      <td>207.0</td>\n",
       "      <td>1061.0</td>\n",
       "      <td>220</td>\n",
       "      <td>81</td>\n",
       "      <td>6ft 9in</td>\n",
       "      <td>bm</td>\n",
       "    </tr>\n",
       "    <tr>\n",
       "      <th>5</th>\n",
       "      <td>1990</td>\n",
       "      <td>Kenny Walker</td>\n",
       "      <td>PF</td>\n",
       "      <td>25.0</td>\n",
       "      <td>NYK</td>\n",
       "      <td>68.0</td>\n",
       "      <td>21.0</td>\n",
       "      <td>1595.0</td>\n",
       "      <td>12.7</td>\n",
       "      <td>0.581</td>\n",
       "      <td>...</td>\n",
       "      <td>49.0</td>\n",
       "      <td>33.0</td>\n",
       "      <td>52.0</td>\n",
       "      <td>60.0</td>\n",
       "      <td>178.0</td>\n",
       "      <td>535.0</td>\n",
       "      <td>210</td>\n",
       "      <td>80</td>\n",
       "      <td>6ft 8in</td>\n",
       "      <td>bm</td>\n",
       "    </tr>\n",
       "    <tr>\n",
       "      <th>8</th>\n",
       "      <td>1990</td>\n",
       "      <td>Derrick Gervin</td>\n",
       "      <td>PF</td>\n",
       "      <td>26.0</td>\n",
       "      <td>NJN</td>\n",
       "      <td>21.0</td>\n",
       "      <td>0.0</td>\n",
       "      <td>339.0</td>\n",
       "      <td>22.9</td>\n",
       "      <td>0.531</td>\n",
       "      <td>...</td>\n",
       "      <td>8.0</td>\n",
       "      <td>20.0</td>\n",
       "      <td>7.0</td>\n",
       "      <td>12.0</td>\n",
       "      <td>47.0</td>\n",
       "      <td>251.0</td>\n",
       "      <td>200</td>\n",
       "      <td>80</td>\n",
       "      <td>6ft 8in</td>\n",
       "      <td>bm</td>\n",
       "    </tr>\n",
       "    <tr>\n",
       "      <th>12</th>\n",
       "      <td>1990</td>\n",
       "      <td>Melvin Turpin</td>\n",
       "      <td>C</td>\n",
       "      <td>29.0</td>\n",
       "      <td>WSB</td>\n",
       "      <td>59.0</td>\n",
       "      <td>12.0</td>\n",
       "      <td>818.0</td>\n",
       "      <td>12.8</td>\n",
       "      <td>0.574</td>\n",
       "      <td>...</td>\n",
       "      <td>27.0</td>\n",
       "      <td>15.0</td>\n",
       "      <td>47.0</td>\n",
       "      <td>45.0</td>\n",
       "      <td>135.0</td>\n",
       "      <td>276.0</td>\n",
       "      <td>240</td>\n",
       "      <td>83</td>\n",
       "      <td>6ft 11in</td>\n",
       "      <td>bm</td>\n",
       "    </tr>\n",
       "  </tbody>\n",
       "</table>\n",
       "<p>5 rows × 56 columns</p>\n",
       "</div>"
      ],
      "text/plain": [
       "    Year            name Pos   Age   Tm     G    GS      MP   PER    TS% ...   \\\n",
       "0   1990      Mike Smrek   C  27.0  GSW  13.0   3.0   107.0   7.1  0.394 ...    \n",
       "2   1990      A.C. Green  PF  26.0  LAL  82.0  82.0  2709.0  14.7  0.548 ...    \n",
       "5   1990    Kenny Walker  PF  25.0  NYK  68.0  21.0  1595.0  12.7  0.581 ...    \n",
       "8   1990  Derrick Gervin  PF  26.0  NJN  21.0   0.0   339.0  22.9  0.531 ...    \n",
       "12  1990   Melvin Turpin   C  29.0  WSB  59.0  12.0   818.0  12.8  0.574 ...    \n",
       "\n",
       "     AST   STL   BLK    TOV     PF     PTS  weight  height (inches)  \\\n",
       "0    1.0   4.0  11.0    9.0   18.0    21.0     250               85   \n",
       "2   90.0  66.0  50.0  116.0  207.0  1061.0     220               81   \n",
       "5   49.0  33.0  52.0   60.0  178.0   535.0     210               80   \n",
       "8    8.0  20.0   7.0   12.0   47.0   251.0     200               80   \n",
       "12  27.0  15.0  47.0   45.0  135.0   276.0     240               83   \n",
       "\n",
       "    height(feet)  men  \n",
       "0        7ft 1in   bm  \n",
       "2        6ft 9in   bm  \n",
       "5        6ft 8in   bm  \n",
       "8        6ft 8in   bm  \n",
       "12      6ft 11in   bm  \n",
       "\n",
       "[5 rows x 56 columns]"
      ]
     },
     "execution_count": 300,
     "metadata": {},
     "output_type": "execute_result"
    }
   ],
   "source": [
    "#----Isolating Big Men Into Sub-groups by year----#\n",
    "\n",
    "big_men_grouped = big_men_df.groupby('Year')\n",
    "\n",
    "#---Isolating Small Men Into Sub-groups by year---#\n",
    "\n",
    "small_men_grouped = small_men_df.groupby('Year')\n",
    "\n",
    "big_men_grouped.get_group(1990).head()\n",
    "\n"
   ]
  },
  {
   "cell_type": "markdown",
   "metadata": {},
   "source": [
    "##  Exploratory Data Analysis\n",
    "***"
   ]
  },
  {
   "cell_type": "markdown",
   "metadata": {},
   "source": [
    "\n",
    "### Overview of Big Men\n",
    "***"
   ]
  },
  {
   "cell_type": "markdown",
   "metadata": {},
   "source": [
    "#### Field Goals Attempted\n",
    "***"
   ]
  },
  {
   "cell_type": "code",
   "execution_count": 194,
   "metadata": {},
   "outputs": [
    {
     "data": {
      "text/html": [
       "<div>\n",
       "<style scoped>\n",
       "    .dataframe tbody tr th:only-of-type {\n",
       "        vertical-align: middle;\n",
       "    }\n",
       "\n",
       "    .dataframe tbody tr th {\n",
       "        vertical-align: top;\n",
       "    }\n",
       "\n",
       "    .dataframe thead th {\n",
       "        text-align: right;\n",
       "    }\n",
       "</style>\n",
       "<table border=\"1\" class=\"dataframe\">\n",
       "  <thead>\n",
       "    <tr style=\"text-align: right;\">\n",
       "      <th></th>\n",
       "      <th>Year</th>\n",
       "      <th>FGA</th>\n",
       "    </tr>\n",
       "  </thead>\n",
       "  <tbody>\n",
       "    <tr>\n",
       "      <th>0</th>\n",
       "      <td>1990</td>\n",
       "      <td>370.117318</td>\n",
       "    </tr>\n",
       "    <tr>\n",
       "      <th>1</th>\n",
       "      <td>1991</td>\n",
       "      <td>356.291209</td>\n",
       "    </tr>\n",
       "    <tr>\n",
       "      <th>2</th>\n",
       "      <td>1992</td>\n",
       "      <td>375.722892</td>\n",
       "    </tr>\n",
       "    <tr>\n",
       "      <th>3</th>\n",
       "      <td>1993</td>\n",
       "      <td>334.796875</td>\n",
       "    </tr>\n",
       "    <tr>\n",
       "      <th>4</th>\n",
       "      <td>1994</td>\n",
       "      <td>300.638095</td>\n",
       "    </tr>\n",
       "  </tbody>\n",
       "</table>\n",
       "</div>"
      ],
      "text/plain": [
       "   Year         FGA\n",
       "0  1990  370.117318\n",
       "1  1991  356.291209\n",
       "2  1992  375.722892\n",
       "3  1993  334.796875\n",
       "4  1994  300.638095"
      ]
     },
     "execution_count": 194,
     "metadata": {},
     "output_type": "execute_result"
    }
   ],
   "source": [
    "#Total Field Gaols attempted for both big men and small men\n",
    "\n",
    "#---Big Men---#\n",
    "\n",
    "fga_big = big_men_grouped.FGA.mean()\n",
    "fga_big\n",
    "\n",
    "#Turn into DataFrame\n",
    "\n",
    "fga_big = fga_big.to_frame()\n",
    "\n",
    "\n",
    "#Reset index of DataFrame\n",
    "fga_big  = fga_big.reset_index()\n",
    "fga_big.head()\n"
   ]
  },
  {
   "cell_type": "code",
   "execution_count": 299,
   "metadata": {},
   "outputs": [
    {
     "data": {
      "image/png": "[encoded data removed]",
      "text/plain": [
       "<Figure size 432x288 with 1 Axes>"
      ]
     },
     "metadata": {
      "needs_background": "light"
     },
     "output_type": "display_data"
    }
   ],
   "source": [
    "#Big Men FGA Graphical\n",
    "fga_big_plot = plt.bar(fga_big[\"Year\"], fga_big[\"FGA\"], color='Black')\n",
    "\n",
    "\n",
    "#Change values of xticks\n",
    "plt.xticks(np.arange(1990,2018,step=3))\n",
    "plt.legend([fga_big_plot], [\"FG Attempts\"], loc='best', bbox_to_anchor = (1.33,1.025))\n",
    "\n",
    "#Set Axis Labels and Titles\n",
    "plt.xlabel(\"Years\")\n",
    "plt.ylabel(\"Field Goal Attempts\")\n",
    "plt.title(\"Field Goal Attempts by Big Men\")\n",
    "\n",
    "\n",
    "plt.show()"
   ]
  },
  {
   "cell_type": "markdown",
   "metadata": {},
   "source": [
    "#### Field Goal Percentage \n",
    "***"
   ]
  },
  {
   "cell_type": "code",
   "execution_count": 197,
   "metadata": {},
   "outputs": [
    {
     "data": {
      "text/html": [
       "<div>\n",
       "<style scoped>\n",
       "    .dataframe tbody tr th:only-of-type {\n",
       "        vertical-align: middle;\n",
       "    }\n",
       "\n",
       "    .dataframe tbody tr th {\n",
       "        vertical-align: top;\n",
       "    }\n",
       "\n",
       "    .dataframe thead th {\n",
       "        text-align: right;\n",
       "    }\n",
       "</style>\n",
       "<table border=\"1\" class=\"dataframe\">\n",
       "  <thead>\n",
       "    <tr style=\"text-align: right;\">\n",
       "      <th></th>\n",
       "      <th>Year</th>\n",
       "      <th>FG%</th>\n",
       "    </tr>\n",
       "  </thead>\n",
       "  <tbody>\n",
       "    <tr>\n",
       "      <th>0</th>\n",
       "      <td>1990</td>\n",
       "      <td>0.454268</td>\n",
       "    </tr>\n",
       "    <tr>\n",
       "      <th>1</th>\n",
       "      <td>1991</td>\n",
       "      <td>0.469188</td>\n",
       "    </tr>\n",
       "    <tr>\n",
       "      <th>2</th>\n",
       "      <td>1992</td>\n",
       "      <td>0.469445</td>\n",
       "    </tr>\n",
       "    <tr>\n",
       "      <th>3</th>\n",
       "      <td>1993</td>\n",
       "      <td>0.464161</td>\n",
       "    </tr>\n",
       "    <tr>\n",
       "      <th>4</th>\n",
       "      <td>1994</td>\n",
       "      <td>0.454101</td>\n",
       "    </tr>\n",
       "  </tbody>\n",
       "</table>\n",
       "</div>"
      ],
      "text/plain": [
       "   Year       FG%\n",
       "0  1990  0.454268\n",
       "1  1991  0.469188\n",
       "2  1992  0.469445\n",
       "3  1993  0.464161\n",
       "4  1994  0.454101"
      ]
     },
     "execution_count": 197,
     "metadata": {},
     "output_type": "execute_result"
    }
   ],
   "source": [
    "#---Big Men---#\n",
    "\n",
    "fgp_big = big_men_grouped['FG%'].mean()\n",
    "fgp_big\n",
    "\n",
    "#Turn into DataFrame\n",
    "\n",
    "fgp_big = fgp_big.to_frame()\n",
    "\n",
    "\n",
    "#Reset index of DataFrame\n",
    "fgp_big  = fgp_big.reset_index()\n",
    "fgp_big.head()\n"
   ]
  },
  {
   "cell_type": "code",
   "execution_count": 296,
   "metadata": {},
   "outputs": [
    {
     "data": {
      "image/png": "[encoded data removed]",
      "text/plain": [
       "<Figure size 432x288 with 1 Axes>"
      ]
     },
     "metadata": {
      "needs_background": "light"
     },
     "output_type": "display_data"
    }
   ],
   "source": [
    "#Big Men Field Goal Percentage Graphical\n",
    "fgp_big_plot = plt.bar(fgp_big[\"Year\"], fgp_big[\"FG%\"], color='Blue')\n",
    "\n",
    "\n",
    "#Change values of xticks\n",
    "plt.xticks(np.arange(1990,2018,step=3))\n",
    "plt.legend([fgp_big_plot], [\"FG Percentage\"], loc='best', bbox_to_anchor = (1,1.025))\n",
    "\n",
    "#Set Axis Labels and Titles\n",
    "plt.xlabel(\"Years\")\n",
    "plt.ylabel(\"Field Goal Percentage\")\n",
    "plt.title(\"Field Goal Percentage of Big Men\")\n",
    "\n",
    "\n",
    "plt.show()"
   ]
  },
  {
   "cell_type": "markdown",
   "metadata": {},
   "source": [
    "#### Two Points Attempts \n",
    "***"
   ]
  },
  {
   "cell_type": "code",
   "execution_count": 208,
   "metadata": {},
   "outputs": [
    {
     "data": {
      "text/html": [
       "<div>\n",
       "<style scoped>\n",
       "    .dataframe tbody tr th:only-of-type {\n",
       "        vertical-align: middle;\n",
       "    }\n",
       "\n",
       "    .dataframe tbody tr th {\n",
       "        vertical-align: top;\n",
       "    }\n",
       "\n",
       "    .dataframe thead th {\n",
       "        text-align: right;\n",
       "    }\n",
       "</style>\n",
       "<table border=\"1\" class=\"dataframe\">\n",
       "  <thead>\n",
       "    <tr style=\"text-align: right;\">\n",
       "      <th></th>\n",
       "      <th>Year</th>\n",
       "      <th>2PA</th>\n",
       "    </tr>\n",
       "  </thead>\n",
       "  <tbody>\n",
       "    <tr>\n",
       "      <th>0</th>\n",
       "      <td>1990</td>\n",
       "      <td>359.245810</td>\n",
       "    </tr>\n",
       "    <tr>\n",
       "      <th>1</th>\n",
       "      <td>1991</td>\n",
       "      <td>347.807692</td>\n",
       "    </tr>\n",
       "    <tr>\n",
       "      <th>2</th>\n",
       "      <td>1992</td>\n",
       "      <td>366.542169</td>\n",
       "    </tr>\n",
       "    <tr>\n",
       "      <th>3</th>\n",
       "      <td>1993</td>\n",
       "      <td>323.291667</td>\n",
       "    </tr>\n",
       "    <tr>\n",
       "      <th>4</th>\n",
       "      <td>1994</td>\n",
       "      <td>290.795238</td>\n",
       "    </tr>\n",
       "  </tbody>\n",
       "</table>\n",
       "</div>"
      ],
      "text/plain": [
       "   Year         2PA\n",
       "0  1990  359.245810\n",
       "1  1991  347.807692\n",
       "2  1992  366.542169\n",
       "3  1993  323.291667\n",
       "4  1994  290.795238"
      ]
     },
     "execution_count": 208,
     "metadata": {},
     "output_type": "execute_result"
    }
   ],
   "source": [
    "#---Big Men---#\n",
    "\n",
    "two_att_big = big_men_grouped['2PA'].mean()\n",
    "two_att_big\n",
    "\n",
    "#Turn into DataFrame\n",
    "\n",
    "two_att_big = two_att_big.to_frame()\n",
    "\n",
    "\n",
    "#Reset index of DataFrame\n",
    "two_att_big  = two_att_big.reset_index()\n",
    "two_att_big.head()"
   ]
  },
  {
   "cell_type": "code",
   "execution_count": 294,
   "metadata": {},
   "outputs": [
    {
     "data": {
      "image/png": "[encoded data removed]",
      "text/plain": [
       "<Figure size 432x288 with 1 Axes>"
      ]
     },
     "metadata": {
      "needs_background": "light"
     },
     "output_type": "display_data"
    }
   ],
   "source": [
    "#Big Men Field Goal Percentage Graphical\n",
    "two_att_big_plot = plt.bar(two_att_big[\"Year\"], two_att_big[\"2PA\"], color='Grey')\n",
    "\n",
    "\n",
    "#Change values of xticks\n",
    "plt.xticks(np.arange(1990,2018,step=3))\n",
    "plt.legend([two_att_big_plot], [\"2PT Attempts\"], loc='best', bbox_to_anchor = (1.33,1.025))\n",
    "\n",
    "#Set Axis Labels and Titles\n",
    "plt.xlabel(\"Years\")\n",
    "plt.ylabel(\"Two Points Attempts\")\n",
    "plt.title(\"Two Point Attempts by Big Men\")\n",
    "\n",
    "\n",
    "plt.show()"
   ]
  },
  {
   "cell_type": "markdown",
   "metadata": {},
   "source": [
    "#### Two Point Percentage\n",
    "***"
   ]
  },
  {
   "cell_type": "code",
   "execution_count": 231,
   "metadata": {},
   "outputs": [
    {
     "data": {
      "text/html": [
       "<div>\n",
       "<style scoped>\n",
       "    .dataframe tbody tr th:only-of-type {\n",
       "        vertical-align: middle;\n",
       "    }\n",
       "\n",
       "    .dataframe tbody tr th {\n",
       "        vertical-align: top;\n",
       "    }\n",
       "\n",
       "    .dataframe thead th {\n",
       "        text-align: right;\n",
       "    }\n",
       "</style>\n",
       "<table border=\"1\" class=\"dataframe\">\n",
       "  <thead>\n",
       "    <tr style=\"text-align: right;\">\n",
       "      <th></th>\n",
       "      <th>Year</th>\n",
       "      <th>2P%</th>\n",
       "    </tr>\n",
       "  </thead>\n",
       "  <tbody>\n",
       "    <tr>\n",
       "      <th>0</th>\n",
       "      <td>1990</td>\n",
       "      <td>0.460804</td>\n",
       "    </tr>\n",
       "    <tr>\n",
       "      <th>1</th>\n",
       "      <td>1991</td>\n",
       "      <td>0.476541</td>\n",
       "    </tr>\n",
       "    <tr>\n",
       "      <th>2</th>\n",
       "      <td>1992</td>\n",
       "      <td>0.475195</td>\n",
       "    </tr>\n",
       "    <tr>\n",
       "      <th>3</th>\n",
       "      <td>1993</td>\n",
       "      <td>0.474042</td>\n",
       "    </tr>\n",
       "    <tr>\n",
       "      <th>4</th>\n",
       "      <td>1994</td>\n",
       "      <td>0.459251</td>\n",
       "    </tr>\n",
       "  </tbody>\n",
       "</table>\n",
       "</div>"
      ],
      "text/plain": [
       "   Year       2P%\n",
       "0  1990  0.460804\n",
       "1  1991  0.476541\n",
       "2  1992  0.475195\n",
       "3  1993  0.474042\n",
       "4  1994  0.459251"
      ]
     },
     "execution_count": 231,
     "metadata": {},
     "output_type": "execute_result"
    }
   ],
   "source": [
    "#Two point percentage\n",
    "two_per_big = big_men_grouped['2P%'].mean()\n",
    "two_per_big\n",
    "\n",
    "#Turn into DataFrame\n",
    "\n",
    "two_per_big = two_per_big.to_frame()\n",
    "\n",
    "\n",
    "#Reset index of DataFrame\n",
    "two_per_big  = two_per_big.reset_index()\n",
    "two_per_big.head()"
   ]
  },
  {
   "cell_type": "code",
   "execution_count": 290,
   "metadata": {},
   "outputs": [
    {
     "data": {
      "image/png": "[encoded data removed]",
      "text/plain": [
       "<Figure size 432x288 with 1 Axes>"
      ]
     },
     "metadata": {
      "needs_background": "light"
     },
     "output_type": "display_data"
    }
   ],
   "source": [
    "#Big Men Two Point Percentage Graphical\n",
    "two_per_big_plot = plt.bar(two_per_big[\"Year\"], two_per_big[\"2P%\"], color='Green')\n",
    "\n",
    "\n",
    "#Change values of xticks\n",
    "plt.xticks(np.arange(1990,2018,step=3))\n",
    "plt.legend([two_per_big_plot], [\"2PT Percentage\"], loc='best', bbox_to_anchor = (1,1.025))\n",
    "\n",
    "#Set Axis Labels and Titles\n",
    "plt.xlabel(\"Years\")\n",
    "plt.ylabel(\"Two Point Percentage\")\n",
    "plt.title(\"Two Point Percentage of Big Men\")\n",
    "\n",
    "\n",
    "plt.show()"
   ]
  },
  {
   "cell_type": "markdown",
   "metadata": {},
   "source": [
    "#### Three Point Attempts \n",
    "***"
   ]
  },
  {
   "cell_type": "code",
   "execution_count": 233,
   "metadata": {},
   "outputs": [
    {
     "data": {
      "text/html": [
       "<div>\n",
       "<style scoped>\n",
       "    .dataframe tbody tr th:only-of-type {\n",
       "        vertical-align: middle;\n",
       "    }\n",
       "\n",
       "    .dataframe tbody tr th {\n",
       "        vertical-align: top;\n",
       "    }\n",
       "\n",
       "    .dataframe thead th {\n",
       "        text-align: right;\n",
       "    }\n",
       "</style>\n",
       "<table border=\"1\" class=\"dataframe\">\n",
       "  <thead>\n",
       "    <tr style=\"text-align: right;\">\n",
       "      <th></th>\n",
       "      <th>Year</th>\n",
       "      <th>3PA</th>\n",
       "    </tr>\n",
       "  </thead>\n",
       "  <tbody>\n",
       "    <tr>\n",
       "      <th>0</th>\n",
       "      <td>1990</td>\n",
       "      <td>10.871508</td>\n",
       "    </tr>\n",
       "    <tr>\n",
       "      <th>1</th>\n",
       "      <td>1991</td>\n",
       "      <td>8.483516</td>\n",
       "    </tr>\n",
       "    <tr>\n",
       "      <th>2</th>\n",
       "      <td>1992</td>\n",
       "      <td>9.180723</td>\n",
       "    </tr>\n",
       "    <tr>\n",
       "      <th>3</th>\n",
       "      <td>1993</td>\n",
       "      <td>11.505208</td>\n",
       "    </tr>\n",
       "    <tr>\n",
       "      <th>4</th>\n",
       "      <td>1994</td>\n",
       "      <td>9.842857</td>\n",
       "    </tr>\n",
       "  </tbody>\n",
       "</table>\n",
       "</div>"
      ],
      "text/plain": [
       "   Year        3PA\n",
       "0  1990  10.871508\n",
       "1  1991   8.483516\n",
       "2  1992   9.180723\n",
       "3  1993  11.505208\n",
       "4  1994   9.842857"
      ]
     },
     "execution_count": 233,
     "metadata": {},
     "output_type": "execute_result"
    }
   ],
   "source": [
    "#---Big Men---#\n",
    "\n",
    "three_att_big = big_men_grouped['3PA'].mean()\n",
    "three_att_big\n",
    "\n",
    "#Turn into DataFrame\n",
    "\n",
    "three_att_big = three_att_big.to_frame()\n",
    "\n",
    "\n",
    "#Reset index of DataFrame\n",
    "three_att_big  = three_att_big.reset_index()\n",
    "three_att_big.head()"
   ]
  },
  {
   "cell_type": "code",
   "execution_count": 289,
   "metadata": {},
   "outputs": [
    {
     "data": {
      "image/png": "[encoded data removed]",
      "text/plain": [
       "<Figure size 432x288 with 1 Axes>"
      ]
     },
     "metadata": {
      "needs_background": "light"
     },
     "output_type": "display_data"
    }
   ],
   "source": [
    "#Big Men Field Goal Percentage Graphical\n",
    "three_att_big_plot = plt.bar(three_att_big[\"Year\"], three_att_big[\"3PA\"], color='Orange')\n",
    "\n",
    "\n",
    "#Change values of xticks\n",
    "plt.xticks(np.arange(1990,2018,step=3))\n",
    "plt.legend([three_att_big_plot], [\"3PT Attempts\"], loc='best', bbox_to_anchor = (1,1.025))\n",
    "\n",
    "#Set Axis Labels and Titles\n",
    "plt.xlabel(\"Years\")\n",
    "plt.ylabel(\"Three Point Attempts\")\n",
    "plt.title(\"Three Point Attempts by Big Men\")\n",
    "\n",
    "\n",
    "plt.show()"
   ]
  },
  {
   "cell_type": "markdown",
   "metadata": {},
   "source": [
    "#### Three Point Percentage \n",
    "***"
   ]
  },
  {
   "cell_type": "code",
   "execution_count": 235,
   "metadata": {},
   "outputs": [
    {
     "data": {
      "text/html": [
       "<div>\n",
       "<style scoped>\n",
       "    .dataframe tbody tr th:only-of-type {\n",
       "        vertical-align: middle;\n",
       "    }\n",
       "\n",
       "    .dataframe tbody tr th {\n",
       "        vertical-align: top;\n",
       "    }\n",
       "\n",
       "    .dataframe thead th {\n",
       "        text-align: right;\n",
       "    }\n",
       "</style>\n",
       "<table border=\"1\" class=\"dataframe\">\n",
       "  <thead>\n",
       "    <tr style=\"text-align: right;\">\n",
       "      <th></th>\n",
       "      <th>Year</th>\n",
       "      <th>3P%</th>\n",
       "    </tr>\n",
       "  </thead>\n",
       "  <tbody>\n",
       "    <tr>\n",
       "      <th>0</th>\n",
       "      <td>1990</td>\n",
       "      <td>0.149252</td>\n",
       "    </tr>\n",
       "    <tr>\n",
       "      <th>1</th>\n",
       "      <td>1991</td>\n",
       "      <td>0.138048</td>\n",
       "    </tr>\n",
       "    <tr>\n",
       "      <th>2</th>\n",
       "      <td>1992</td>\n",
       "      <td>0.139093</td>\n",
       "    </tr>\n",
       "    <tr>\n",
       "      <th>3</th>\n",
       "      <td>1993</td>\n",
       "      <td>0.143287</td>\n",
       "    </tr>\n",
       "    <tr>\n",
       "      <th>4</th>\n",
       "      <td>1994</td>\n",
       "      <td>0.137602</td>\n",
       "    </tr>\n",
       "  </tbody>\n",
       "</table>\n",
       "</div>"
      ],
      "text/plain": [
       "   Year       3P%\n",
       "0  1990  0.149252\n",
       "1  1991  0.138048\n",
       "2  1992  0.139093\n",
       "3  1993  0.143287\n",
       "4  1994  0.137602"
      ]
     },
     "execution_count": 235,
     "metadata": {},
     "output_type": "execute_result"
    }
   ],
   "source": [
    "#Two point percentage\n",
    "three_per_big = big_men_grouped['3P%'].mean()\n",
    "three_per_big\n",
    "\n",
    "#Turn into DataFrame\n",
    "\n",
    "three_per_big = three_per_big.to_frame()\n",
    "\n",
    "\n",
    "#Reset index of DataFrame\n",
    "three_per_big  = three_per_big.reset_index()\n",
    "three_per_big.head()"
   ]
  },
  {
   "cell_type": "code",
   "execution_count": 287,
   "metadata": {},
   "outputs": [
    {
     "data": {
      "image/png": "[encoded data removed]",
      "text/plain": [
       "<Figure size 432x288 with 1 Axes>"
      ]
     },
     "metadata": {
      "needs_background": "light"
     },
     "output_type": "display_data"
    }
   ],
   "source": [
    "#Big Men Two Point Percentage Graphical\n",
    "three_per_big_plot = plt.bar(three_per_big[\"Year\"], three_per_big[\"3P%\"], color='cyan')\n",
    "\n",
    "\n",
    "#Change values of xticks\n",
    "plt.xticks(np.arange(1990,2018,step=3))\n",
    "plt.legend([three_per_big_plot], [\"3PT Percentage\"], loc='best', bbox_to_anchor = (1,1.025))\n",
    "\n",
    "#Set Axis Labels and Titles\n",
    "plt.xlabel(\"Years\")\n",
    "plt.ylabel(\"Three Point Percentage\")\n",
    "plt.title(\"Three Point Percentage of Big Men\")\n",
    "\n",
    "\n",
    "plt.show()"
   ]
  },
  {
   "cell_type": "markdown",
   "metadata": {},
   "source": [
    "#### Free Throws Attempted\n",
    "***"
   ]
  },
  {
   "cell_type": "code",
   "execution_count": 243,
   "metadata": {},
   "outputs": [
    {
     "data": {
      "text/html": [
       "<div>\n",
       "<style scoped>\n",
       "    .dataframe tbody tr th:only-of-type {\n",
       "        vertical-align: middle;\n",
       "    }\n",
       "\n",
       "    .dataframe tbody tr th {\n",
       "        vertical-align: top;\n",
       "    }\n",
       "\n",
       "    .dataframe thead th {\n",
       "        text-align: right;\n",
       "    }\n",
       "</style>\n",
       "<table border=\"1\" class=\"dataframe\">\n",
       "  <thead>\n",
       "    <tr style=\"text-align: right;\">\n",
       "      <th></th>\n",
       "      <th>Year</th>\n",
       "      <th>FTA</th>\n",
       "    </tr>\n",
       "  </thead>\n",
       "  <tbody>\n",
       "    <tr>\n",
       "      <th>0</th>\n",
       "      <td>1990</td>\n",
       "      <td>138.335196</td>\n",
       "    </tr>\n",
       "    <tr>\n",
       "      <th>1</th>\n",
       "      <td>1991</td>\n",
       "      <td>126.203297</td>\n",
       "    </tr>\n",
       "    <tr>\n",
       "      <th>2</th>\n",
       "      <td>1992</td>\n",
       "      <td>130.475904</td>\n",
       "    </tr>\n",
       "    <tr>\n",
       "      <th>3</th>\n",
       "      <td>1993</td>\n",
       "      <td>119.208333</td>\n",
       "    </tr>\n",
       "    <tr>\n",
       "      <th>4</th>\n",
       "      <td>1994</td>\n",
       "      <td>106.080952</td>\n",
       "    </tr>\n",
       "  </tbody>\n",
       "</table>\n",
       "</div>"
      ],
      "text/plain": [
       "   Year         FTA\n",
       "0  1990  138.335196\n",
       "1  1991  126.203297\n",
       "2  1992  130.475904\n",
       "3  1993  119.208333\n",
       "4  1994  106.080952"
      ]
     },
     "execution_count": 243,
     "metadata": {},
     "output_type": "execute_result"
    }
   ],
   "source": [
    "#---Big Men---#\n",
    "\n",
    "fta_big = big_men_grouped.FTA.mean()\n",
    "fta_big\n",
    "\n",
    "#Turn into DataFrame\n",
    "\n",
    "fta_big = fta_big.to_frame()\n",
    "\n",
    "\n",
    "#Reset index of DataFrame\n",
    "fta_big  = fta_big.reset_index()\n",
    "fta_big.head()"
   ]
  },
  {
   "cell_type": "code",
   "execution_count": 254,
   "metadata": {},
   "outputs": [
    {
     "data": {
      "image/png": "[encoded data removed]",
      "text/plain": [
       "<Figure size 432x288 with 1 Axes>"
      ]
     },
     "metadata": {
      "needs_background": "light"
     },
     "output_type": "display_data"
    }
   ],
   "source": [
    "#Big Men Free Throws Graphical\n",
    "fta_big_plot = plt.bar(fta_big[\"Year\"], fta_big[\"FTA\"], color='#8421a8')\n",
    "\n",
    "\n",
    "#Change values of xticks\n",
    "plt.xticks(np.arange(1990,2018,step=3))\n",
    "plt.legend([fta_big_plot], [\"Big Men\"], loc='best', bbox_to_anchor = (1.25,1.025))\n",
    "\n",
    "#Set Axis Labels and Titles\n",
    "plt.xlabel(\"Years\")\n",
    "plt.ylabel(\"Free Throw Attempts\")\n",
    "plt.title(\"Free Throw Attempts by Big Men\")\n",
    "\n",
    "\n",
    "plt.show()"
   ]
  },
  {
   "cell_type": "markdown",
   "metadata": {},
   "source": [
    "#### Free Throw Percentage\n",
    "***"
   ]
  },
  {
   "cell_type": "code",
   "execution_count": 245,
   "metadata": {},
   "outputs": [
    {
     "data": {
      "text/html": [
       "<div>\n",
       "<style scoped>\n",
       "    .dataframe tbody tr th:only-of-type {\n",
       "        vertical-align: middle;\n",
       "    }\n",
       "\n",
       "    .dataframe tbody tr th {\n",
       "        vertical-align: top;\n",
       "    }\n",
       "\n",
       "    .dataframe thead th {\n",
       "        text-align: right;\n",
       "    }\n",
       "</style>\n",
       "<table border=\"1\" class=\"dataframe\">\n",
       "  <thead>\n",
       "    <tr style=\"text-align: right;\">\n",
       "      <th></th>\n",
       "      <th>Year</th>\n",
       "      <th>FT%</th>\n",
       "    </tr>\n",
       "  </thead>\n",
       "  <tbody>\n",
       "    <tr>\n",
       "      <th>0</th>\n",
       "      <td>1990</td>\n",
       "      <td>0.665614</td>\n",
       "    </tr>\n",
       "    <tr>\n",
       "      <th>1</th>\n",
       "      <td>1991</td>\n",
       "      <td>0.684525</td>\n",
       "    </tr>\n",
       "    <tr>\n",
       "      <th>2</th>\n",
       "      <td>1992</td>\n",
       "      <td>0.689242</td>\n",
       "    </tr>\n",
       "    <tr>\n",
       "      <th>3</th>\n",
       "      <td>1993</td>\n",
       "      <td>0.684113</td>\n",
       "    </tr>\n",
       "    <tr>\n",
       "      <th>4</th>\n",
       "      <td>1994</td>\n",
       "      <td>0.650406</td>\n",
       "    </tr>\n",
       "  </tbody>\n",
       "</table>\n",
       "</div>"
      ],
      "text/plain": [
       "   Year       FT%\n",
       "0  1990  0.665614\n",
       "1  1991  0.684525\n",
       "2  1992  0.689242\n",
       "3  1993  0.684113\n",
       "4  1994  0.650406"
      ]
     },
     "execution_count": 245,
     "metadata": {},
     "output_type": "execute_result"
    }
   ],
   "source": [
    "ftp_big = big_men_grouped['FT%'].mean()\n",
    "ftp_big\n",
    "\n",
    "#Turn into DataFrame\n",
    "\n",
    "ftp_big = ftp_big.to_frame()\n",
    "\n",
    "\n",
    "#Reset index of DataFrame\n",
    "ftp_big  = ftp_big.reset_index()\n",
    "ftp_big.head()"
   ]
  },
  {
   "cell_type": "code",
   "execution_count": 251,
   "metadata": {},
   "outputs": [
    {
     "data": {
      "image/png": "[encoded data removed]",
      "text/plain": [
       "<Figure size 432x288 with 1 Axes>"
      ]
     },
     "metadata": {
      "needs_background": "light"
     },
     "output_type": "display_data"
    }
   ],
   "source": [
    "#Big Men Free Throws Graphical\n",
    "ftp_big_plot = plt.bar(ftp_big[\"Year\"], ftp_big[\"FT%\"], color='#0c56ce')\n",
    "\n",
    "\n",
    "#Change values of xticks\n",
    "plt.xticks(np.arange(1990,2018,step=3))\n",
    "plt.legend([ftp_big_plot], [\"Big Men\"], loc='best', bbox_to_anchor = (1.25,1.025))\n",
    "\n",
    "#Set Axis Labels and Titles\n",
    "plt.xlabel(\"Years\")\n",
    "plt.ylabel(\"Free Throw Percentage\")\n",
    "plt.title(\"Free Throw Percentage of Big Men\")\n",
    "\n",
    "\n",
    "plt.show()"
   ]
  },
  {
   "cell_type": "markdown",
   "metadata": {},
   "source": [
    "#### Average minutes played \n",
    "***"
   ]
  },
  {
   "cell_type": "code",
   "execution_count": 171,
   "metadata": {},
   "outputs": [
    {
     "name": "stdout",
     "output_type": "stream",
     "text": [
      "   Year           MP\n",
      "0  1990  1172.078212\n",
      "1  1991  1161.230769\n",
      "2  1992  1196.650602\n",
      "3  1993  1045.364583\n",
      "4  1994   960.542857\n"
     ]
    },
    {
     "data": {
      "text/html": [
       "<div>\n",
       "<style scoped>\n",
       "    .dataframe tbody tr th:only-of-type {\n",
       "        vertical-align: middle;\n",
       "    }\n",
       "\n",
       "    .dataframe tbody tr th {\n",
       "        vertical-align: top;\n",
       "    }\n",
       "\n",
       "    .dataframe thead th {\n",
       "        text-align: right;\n",
       "    }\n",
       "</style>\n",
       "<table border=\"1\" class=\"dataframe\">\n",
       "  <thead>\n",
       "    <tr style=\"text-align: right;\">\n",
       "      <th></th>\n",
       "      <th>Year</th>\n",
       "      <th>MP</th>\n",
       "    </tr>\n",
       "  </thead>\n",
       "  <tbody>\n",
       "    <tr>\n",
       "      <th>0</th>\n",
       "      <td>1990</td>\n",
       "      <td>1140.823308</td>\n",
       "    </tr>\n",
       "    <tr>\n",
       "      <th>1</th>\n",
       "      <td>1991</td>\n",
       "      <td>1270.774590</td>\n",
       "    </tr>\n",
       "    <tr>\n",
       "      <th>2</th>\n",
       "      <td>1992</td>\n",
       "      <td>1117.505376</td>\n",
       "    </tr>\n",
       "    <tr>\n",
       "      <th>3</th>\n",
       "      <td>1993</td>\n",
       "      <td>1305.197479</td>\n",
       "    </tr>\n",
       "    <tr>\n",
       "      <th>4</th>\n",
       "      <td>1994</td>\n",
       "      <td>1254.562992</td>\n",
       "    </tr>\n",
       "  </tbody>\n",
       "</table>\n",
       "</div>"
      ],
      "text/plain": [
       "   Year           MP\n",
       "0  1990  1140.823308\n",
       "1  1991  1270.774590\n",
       "2  1992  1117.505376\n",
       "3  1993  1305.197479\n",
       "4  1994  1254.562992"
      ]
     },
     "execution_count": 171,
     "metadata": {},
     "output_type": "execute_result"
    }
   ],
   "source": [
    "#Get the average minutes played for both big men and small men\n",
    "\n",
    "#---Big Men---#\n",
    "\n",
    "avg_min_big = big_men_grouped.MP.mean()\n",
    "avg_min_big\n",
    "\n",
    "#Turn into DataFrame\n",
    "\n",
    "avg_min_big = avg_min_big.to_frame()\n",
    "\n",
    "\n",
    "#Reset index of DataFrame\n",
    "avg_min_big = avg_min_big.reset_index()\n",
    "print(avg_min_big.head())"
   ]
  },
  {
   "cell_type": "code",
   "execution_count": 177,
   "metadata": {},
   "outputs": [
    {
     "data": {
      "image/png": "[encoded data removed]",
      "text/plain": [
       "<Figure size 432x288 with 1 Axes>"
      ]
     },
     "metadata": {
      "needs_background": "light"
     },
     "output_type": "display_data"
    }
   ],
   "source": [
    "#Big Men Minutes\n",
    "\n",
    "\n",
    "big_plot = plt.bar(avg_min_big[\"Year\"], avg_min_big[\"MP\"], color='Black')\n",
    "\n",
    "\n",
    "#Change values of xticks\n",
    "plt.xticks(np.arange(1990,2018,step=3))\n",
    "plt.legend([big_plot], [\"Big Men\"], loc='best', bbox_to_anchor = (1.25,1.025))\n",
    "\n",
    "#Set Axis Labels and Titles\n",
    "plt.xlabel(\"Years\")\n",
    "plt.ylabel(\"Average Minutes Played\")\n",
    "plt.title(\"Average Minutes Played by Big Men\")\n",
    "\n",
    "\n",
    "plt.show()"
   ]
  },
  {
   "cell_type": "markdown",
   "metadata": {},
   "source": [
    "***\n",
    "### Big Men Comparisons\n",
    "***"
   ]
  },
  {
   "cell_type": "markdown",
   "metadata": {},
   "source": [
    "#### Two Point Attempts vs Two Point Percentage (Big Men)\n",
    "***"
   ]
  },
  {
   "cell_type": "markdown",
   "metadata": {},
   "source": [
    "#### Two Point Attempts vs Three Point Attempts (Big Men)\n",
    "***"
   ]
  },
  {
   "cell_type": "code",
   "execution_count": 282,
   "metadata": {},
   "outputs": [
    {
     "data": {
      "text/plain": [
       "Text(0.5, 1.0, 'Two Point Attempts vs Three Point Attempts\\n(Big Men)')"
      ]
     },
     "execution_count": 282,
     "metadata": {},
     "output_type": "execute_result"
    },
    {
     "data": {
      "image/png": "[encoded data removed]",
      "text/plain": [
       "<Figure size 432x288 with 1 Axes>"
      ]
     },
     "metadata": {
      "needs_background": "light"
     },
     "output_type": "display_data"
    }
   ],
   "source": [
    "#Twos vs Threes\n",
    "plt.bar(two_att_big[\"Year\"] + 0, two_att_big[\"2PA\"], color='Grey',width=0.8)\n",
    "plt.bar(three_att_big[\"Year\"] + 0.4, three_att_big[\"3PA\"], color='Orange',width=0.5)\n",
    "\n",
    "#Change values of xticks\n",
    "plt.xticks(np.arange(1990,2018,step=3))\n",
    "plt.legend([two_att_big_plot,three_att_big_plot], [\"Two PT Attempts\", \"Three PT Attempts\"], loc='best', bbox_to_anchor = (1.41,1.025))\n",
    "plt.xlabel(\"Years\")\n",
    "plt.ylabel(\"Attempts\")\n",
    "plt.title(\"Two Point Attempts vs Three Point Attempts\\n(Big Men)\")"
   ]
  },
  {
   "cell_type": "markdown",
   "metadata": {},
   "source": [
    "#### Two Point Percentage vs Three Point Percentage (Big Men)\n",
    "***"
   ]
  },
  {
   "cell_type": "code",
   "execution_count": 279,
   "metadata": {},
   "outputs": [
    {
     "data": {
      "image/png": "[encoded data removed]",
      "text/plain": [
       "<Figure size 432x288 with 1 Axes>"
      ]
     },
     "metadata": {
      "needs_background": "light"
     },
     "output_type": "display_data"
    }
   ],
   "source": [
    "plt.plot(two_per_big[\"Year\"], two_per_big[\"2P%\"], label = \"2PT Percentage\",c='Grey')\n",
    "plt.plot(three_per_big[\"Year\"], three_per_big[\"3P%\"], label=\"3PT Percentage\",c='cyan')\n",
    "\n",
    "plt.xticks(np.arange(1990,2018, step=3))\n",
    "plt.legend(bbox_to_anchor = (1.37,1.025))\n",
    "plt.title(\"Shots taken by bigs: Two's vs Three's\")\n",
    "\n",
    "plt.show()"
   ]
  },
  {
   "cell_type": "markdown",
   "metadata": {},
   "source": [
    "#### Minutes Played vs Points Scored (Big Men)\n",
    "***"
   ]
  },
  {
   "cell_type": "code",
   "execution_count": null,
   "metadata": {},
   "outputs": [],
   "source": []
  },
  {
   "cell_type": "code",
   "execution_count": null,
   "metadata": {},
   "outputs": [],
   "source": []
  },
  {
   "cell_type": "markdown",
   "metadata": {},
   "source": [
    "###  Statistical Data Analysis\n",
    "***"
   ]
  },
  {
   "cell_type": "code",
   "execution_count": null,
   "metadata": {},
   "outputs": [],
   "source": []
  }
 ],
 "metadata": {
  "kernelspec": {
   "display_name": "Python 3",
   "language": "python",
   "name": "python3"
  },
  "language_info": {
   "codemirror_mode": {
    "name": "ipython",
    "version": 3
   },
   "file_extension": ".py",
   "mimetype": "text/x-python",
   "name": "python",
   "nbconvert_exporter": "python",
   "pygments_lexer": "ipython3",
   "version": "3.7.1"
  }
 },
 "nbformat": 4,
 "nbformat_minor": 2
}
