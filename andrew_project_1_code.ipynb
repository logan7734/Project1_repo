{
 "cells": [
  {
   "cell_type": "code",
   "execution_count": 44,
   "metadata": {},
   "outputs": [],
   "source": [
    "import pandas as pd\n",
    "import numpy as np\n",
    "from pandas import ExcelFile\n",
    "import datetime as dt\n",
    "import matplotlib.pyplot as plt"
   ]
  },
  {
   "cell_type": "code",
   "execution_count": 45,
   "metadata": {},
   "outputs": [
    {
     "name": "stderr",
     "output_type": "stream",
     "text": [
      "C:\\Users\\andre\\Anaconda3_second_attempt\\lib\\site-packages\\pandas\\io\\excel.py:329: FutureWarning: The `sheetname` keyword is deprecated, use `sheet_name` instead\n",
      "  **kwds)\n"
     ]
    },
    {
     "data": {
      "text/html": [
       "<div>\n",
       "<style scoped>\n",
       "    .dataframe tbody tr th:only-of-type {\n",
       "        vertical-align: middle;\n",
       "    }\n",
       "\n",
       "    .dataframe tbody tr th {\n",
       "        vertical-align: top;\n",
       "    }\n",
       "\n",
       "    .dataframe thead th {\n",
       "        text-align: right;\n",
       "    }\n",
       "</style>\n",
       "<table border=\"1\" class=\"dataframe\">\n",
       "  <thead>\n",
       "    <tr style=\"text-align: right;\">\n",
       "      <th></th>\n",
       "      <th>Year</th>\n",
       "      <th>Player</th>\n",
       "      <th>Pos</th>\n",
       "      <th>Age</th>\n",
       "      <th>Tm</th>\n",
       "      <th>G</th>\n",
       "      <th>GS</th>\n",
       "      <th>MP</th>\n",
       "      <th>PER</th>\n",
       "      <th>TS%</th>\n",
       "      <th>...</th>\n",
       "      <th>FT%</th>\n",
       "      <th>ORB</th>\n",
       "      <th>DRB</th>\n",
       "      <th>TRB</th>\n",
       "      <th>AST</th>\n",
       "      <th>STL</th>\n",
       "      <th>BLK</th>\n",
       "      <th>TOV</th>\n",
       "      <th>PF</th>\n",
       "      <th>PTS</th>\n",
       "    </tr>\n",
       "  </thead>\n",
       "  <tbody>\n",
       "    <tr>\n",
       "      <th>0</th>\n",
       "      <td>1950.0</td>\n",
       "      <td>Curly Armstrong</td>\n",
       "      <td>G-F</td>\n",
       "      <td>31.0</td>\n",
       "      <td>FTW</td>\n",
       "      <td>63.0</td>\n",
       "      <td>NaN</td>\n",
       "      <td>NaN</td>\n",
       "      <td>NaN</td>\n",
       "      <td>0.368</td>\n",
       "      <td>...</td>\n",
       "      <td>0.705</td>\n",
       "      <td>NaN</td>\n",
       "      <td>NaN</td>\n",
       "      <td>NaN</td>\n",
       "      <td>176.0</td>\n",
       "      <td>NaN</td>\n",
       "      <td>NaN</td>\n",
       "      <td>NaN</td>\n",
       "      <td>217.0</td>\n",
       "      <td>458.0</td>\n",
       "    </tr>\n",
       "    <tr>\n",
       "      <th>1</th>\n",
       "      <td>1950.0</td>\n",
       "      <td>Cliff Barker</td>\n",
       "      <td>SG</td>\n",
       "      <td>29.0</td>\n",
       "      <td>INO</td>\n",
       "      <td>49.0</td>\n",
       "      <td>NaN</td>\n",
       "      <td>NaN</td>\n",
       "      <td>NaN</td>\n",
       "      <td>0.435</td>\n",
       "      <td>...</td>\n",
       "      <td>0.708</td>\n",
       "      <td>NaN</td>\n",
       "      <td>NaN</td>\n",
       "      <td>NaN</td>\n",
       "      <td>109.0</td>\n",
       "      <td>NaN</td>\n",
       "      <td>NaN</td>\n",
       "      <td>NaN</td>\n",
       "      <td>99.0</td>\n",
       "      <td>279.0</td>\n",
       "    </tr>\n",
       "    <tr>\n",
       "      <th>2</th>\n",
       "      <td>1950.0</td>\n",
       "      <td>Leo Barnhorst</td>\n",
       "      <td>SF</td>\n",
       "      <td>25.0</td>\n",
       "      <td>CHS</td>\n",
       "      <td>67.0</td>\n",
       "      <td>NaN</td>\n",
       "      <td>NaN</td>\n",
       "      <td>NaN</td>\n",
       "      <td>0.394</td>\n",
       "      <td>...</td>\n",
       "      <td>0.698</td>\n",
       "      <td>NaN</td>\n",
       "      <td>NaN</td>\n",
       "      <td>NaN</td>\n",
       "      <td>140.0</td>\n",
       "      <td>NaN</td>\n",
       "      <td>NaN</td>\n",
       "      <td>NaN</td>\n",
       "      <td>192.0</td>\n",
       "      <td>438.0</td>\n",
       "    </tr>\n",
       "    <tr>\n",
       "      <th>3</th>\n",
       "      <td>1950.0</td>\n",
       "      <td>Ed Bartels</td>\n",
       "      <td>F</td>\n",
       "      <td>24.0</td>\n",
       "      <td>TOT</td>\n",
       "      <td>15.0</td>\n",
       "      <td>NaN</td>\n",
       "      <td>NaN</td>\n",
       "      <td>NaN</td>\n",
       "      <td>0.312</td>\n",
       "      <td>...</td>\n",
       "      <td>0.559</td>\n",
       "      <td>NaN</td>\n",
       "      <td>NaN</td>\n",
       "      <td>NaN</td>\n",
       "      <td>20.0</td>\n",
       "      <td>NaN</td>\n",
       "      <td>NaN</td>\n",
       "      <td>NaN</td>\n",
       "      <td>29.0</td>\n",
       "      <td>63.0</td>\n",
       "    </tr>\n",
       "    <tr>\n",
       "      <th>4</th>\n",
       "      <td>1950.0</td>\n",
       "      <td>Ed Bartels</td>\n",
       "      <td>F</td>\n",
       "      <td>24.0</td>\n",
       "      <td>DNN</td>\n",
       "      <td>13.0</td>\n",
       "      <td>NaN</td>\n",
       "      <td>NaN</td>\n",
       "      <td>NaN</td>\n",
       "      <td>0.308</td>\n",
       "      <td>...</td>\n",
       "      <td>0.548</td>\n",
       "      <td>NaN</td>\n",
       "      <td>NaN</td>\n",
       "      <td>NaN</td>\n",
       "      <td>20.0</td>\n",
       "      <td>NaN</td>\n",
       "      <td>NaN</td>\n",
       "      <td>NaN</td>\n",
       "      <td>27.0</td>\n",
       "      <td>59.0</td>\n",
       "    </tr>\n",
       "  </tbody>\n",
       "</table>\n",
       "<p>5 rows × 52 columns</p>\n",
       "</div>"
      ],
      "text/plain": [
       "     Year           Player  Pos   Age   Tm     G  GS  MP  PER    TS%  ...    \\\n",
       "0  1950.0  Curly Armstrong  G-F  31.0  FTW  63.0 NaN NaN  NaN  0.368  ...     \n",
       "1  1950.0     Cliff Barker   SG  29.0  INO  49.0 NaN NaN  NaN  0.435  ...     \n",
       "2  1950.0    Leo Barnhorst   SF  25.0  CHS  67.0 NaN NaN  NaN  0.394  ...     \n",
       "3  1950.0       Ed Bartels    F  24.0  TOT  15.0 NaN NaN  NaN  0.312  ...     \n",
       "4  1950.0       Ed Bartels    F  24.0  DNN  13.0 NaN NaN  NaN  0.308  ...     \n",
       "\n",
       "     FT%  ORB  DRB  TRB    AST  STL  BLK  TOV     PF    PTS  \n",
       "0  0.705  NaN  NaN  NaN  176.0  NaN  NaN  NaN  217.0  458.0  \n",
       "1  0.708  NaN  NaN  NaN  109.0  NaN  NaN  NaN   99.0  279.0  \n",
       "2  0.698  NaN  NaN  NaN  140.0  NaN  NaN  NaN  192.0  438.0  \n",
       "3  0.559  NaN  NaN  NaN   20.0  NaN  NaN  NaN   29.0   63.0  \n",
       "4  0.548  NaN  NaN  NaN   20.0  NaN  NaN  NaN   27.0   59.0  \n",
       "\n",
       "[5 rows x 52 columns]"
      ]
     },
     "execution_count": 45,
     "metadata": {},
     "output_type": "execute_result"
    }
   ],
   "source": [
    "#Overarching objective: view the average number of 2's vs 3's taken by big men (power forwards\n",
    "#and centers) from 2000 to 2017\n",
    "\n",
    "hoops_data = pd.read_excel(\"NBA+Data.xlsx\", sheetname =\"NBA+Data\")\n",
    "hoops_data.head()\n"
   ]
  },
  {
   "cell_type": "code",
   "execution_count": 46,
   "metadata": {},
   "outputs": [
    {
     "data": {
      "text/html": [
       "<div>\n",
       "<style scoped>\n",
       "    .dataframe tbody tr th:only-of-type {\n",
       "        vertical-align: middle;\n",
       "    }\n",
       "\n",
       "    .dataframe tbody tr th {\n",
       "        vertical-align: top;\n",
       "    }\n",
       "\n",
       "    .dataframe thead th {\n",
       "        text-align: right;\n",
       "    }\n",
       "</style>\n",
       "<table border=\"1\" class=\"dataframe\">\n",
       "  <thead>\n",
       "    <tr style=\"text-align: right;\">\n",
       "      <th></th>\n",
       "      <th>Year</th>\n",
       "      <th>Player</th>\n",
       "      <th>Pos</th>\n",
       "      <th>Age</th>\n",
       "      <th>Tm</th>\n",
       "      <th>G</th>\n",
       "      <th>GS</th>\n",
       "      <th>MP</th>\n",
       "      <th>PER</th>\n",
       "      <th>TS%</th>\n",
       "      <th>...</th>\n",
       "      <th>FT%</th>\n",
       "      <th>ORB</th>\n",
       "      <th>DRB</th>\n",
       "      <th>TRB</th>\n",
       "      <th>AST</th>\n",
       "      <th>STL</th>\n",
       "      <th>BLK</th>\n",
       "      <th>TOV</th>\n",
       "      <th>PF</th>\n",
       "      <th>PTS</th>\n",
       "    </tr>\n",
       "  </thead>\n",
       "  <tbody>\n",
       "    <tr>\n",
       "      <th>14470</th>\n",
       "      <td>2000.0</td>\n",
       "      <td>Tariq Abdul-Wahad</td>\n",
       "      <td>SG</td>\n",
       "      <td>25.0</td>\n",
       "      <td>TOT</td>\n",
       "      <td>61.0</td>\n",
       "      <td>56.0</td>\n",
       "      <td>1578.0</td>\n",
       "      <td>13.6</td>\n",
       "      <td>0.477</td>\n",
       "      <td>...</td>\n",
       "      <td>0.756</td>\n",
       "      <td>101.0</td>\n",
       "      <td>190.0</td>\n",
       "      <td>291.0</td>\n",
       "      <td>98.0</td>\n",
       "      <td>59.0</td>\n",
       "      <td>28.0</td>\n",
       "      <td>106.0</td>\n",
       "      <td>147.0</td>\n",
       "      <td>697.0</td>\n",
       "    </tr>\n",
       "    <tr>\n",
       "      <th>14471</th>\n",
       "      <td>2000.0</td>\n",
       "      <td>Tariq Abdul-Wahad</td>\n",
       "      <td>SG</td>\n",
       "      <td>25.0</td>\n",
       "      <td>ORL</td>\n",
       "      <td>46.0</td>\n",
       "      <td>46.0</td>\n",
       "      <td>1205.0</td>\n",
       "      <td>14.4</td>\n",
       "      <td>0.484</td>\n",
       "      <td>...</td>\n",
       "      <td>0.762</td>\n",
       "      <td>77.0</td>\n",
       "      <td>162.0</td>\n",
       "      <td>239.0</td>\n",
       "      <td>72.0</td>\n",
       "      <td>53.0</td>\n",
       "      <td>16.0</td>\n",
       "      <td>87.0</td>\n",
       "      <td>116.0</td>\n",
       "      <td>563.0</td>\n",
       "    </tr>\n",
       "    <tr>\n",
       "      <th>14472</th>\n",
       "      <td>2000.0</td>\n",
       "      <td>Tariq Abdul-Wahad</td>\n",
       "      <td>SG</td>\n",
       "      <td>25.0</td>\n",
       "      <td>DEN</td>\n",
       "      <td>15.0</td>\n",
       "      <td>10.0</td>\n",
       "      <td>373.0</td>\n",
       "      <td>10.8</td>\n",
       "      <td>0.448</td>\n",
       "      <td>...</td>\n",
       "      <td>0.738</td>\n",
       "      <td>24.0</td>\n",
       "      <td>28.0</td>\n",
       "      <td>52.0</td>\n",
       "      <td>26.0</td>\n",
       "      <td>6.0</td>\n",
       "      <td>12.0</td>\n",
       "      <td>19.0</td>\n",
       "      <td>31.0</td>\n",
       "      <td>134.0</td>\n",
       "    </tr>\n",
       "    <tr>\n",
       "      <th>14473</th>\n",
       "      <td>2000.0</td>\n",
       "      <td>Shareef Abdur-Rahim</td>\n",
       "      <td>SF</td>\n",
       "      <td>23.0</td>\n",
       "      <td>VAN</td>\n",
       "      <td>82.0</td>\n",
       "      <td>82.0</td>\n",
       "      <td>3223.0</td>\n",
       "      <td>20.2</td>\n",
       "      <td>0.547</td>\n",
       "      <td>...</td>\n",
       "      <td>0.809</td>\n",
       "      <td>218.0</td>\n",
       "      <td>607.0</td>\n",
       "      <td>825.0</td>\n",
       "      <td>271.0</td>\n",
       "      <td>89.0</td>\n",
       "      <td>87.0</td>\n",
       "      <td>249.0</td>\n",
       "      <td>244.0</td>\n",
       "      <td>1663.0</td>\n",
       "    </tr>\n",
       "    <tr>\n",
       "      <th>14474</th>\n",
       "      <td>2000.0</td>\n",
       "      <td>Cory Alexander</td>\n",
       "      <td>PG</td>\n",
       "      <td>26.0</td>\n",
       "      <td>DEN</td>\n",
       "      <td>29.0</td>\n",
       "      <td>2.0</td>\n",
       "      <td>329.0</td>\n",
       "      <td>8.8</td>\n",
       "      <td>0.381</td>\n",
       "      <td>...</td>\n",
       "      <td>0.773</td>\n",
       "      <td>8.0</td>\n",
       "      <td>34.0</td>\n",
       "      <td>42.0</td>\n",
       "      <td>58.0</td>\n",
       "      <td>24.0</td>\n",
       "      <td>2.0</td>\n",
       "      <td>28.0</td>\n",
       "      <td>39.0</td>\n",
       "      <td>82.0</td>\n",
       "    </tr>\n",
       "    <tr>\n",
       "      <th>14475</th>\n",
       "      <td>2000.0</td>\n",
       "      <td>Ray Allen</td>\n",
       "      <td>SG</td>\n",
       "      <td>24.0</td>\n",
       "      <td>MIL</td>\n",
       "      <td>82.0</td>\n",
       "      <td>82.0</td>\n",
       "      <td>3070.0</td>\n",
       "      <td>20.6</td>\n",
       "      <td>0.570</td>\n",
       "      <td>...</td>\n",
       "      <td>0.887</td>\n",
       "      <td>83.0</td>\n",
       "      <td>276.0</td>\n",
       "      <td>359.0</td>\n",
       "      <td>308.0</td>\n",
       "      <td>110.0</td>\n",
       "      <td>19.0</td>\n",
       "      <td>183.0</td>\n",
       "      <td>187.0</td>\n",
       "      <td>1809.0</td>\n",
       "    </tr>\n",
       "    <tr>\n",
       "      <th>14476</th>\n",
       "      <td>2000.0</td>\n",
       "      <td>Rafer Alston</td>\n",
       "      <td>PG</td>\n",
       "      <td>23.0</td>\n",
       "      <td>MIL</td>\n",
       "      <td>27.0</td>\n",
       "      <td>0.0</td>\n",
       "      <td>361.0</td>\n",
       "      <td>4.3</td>\n",
       "      <td>0.310</td>\n",
       "      <td>...</td>\n",
       "      <td>0.750</td>\n",
       "      <td>5.0</td>\n",
       "      <td>18.0</td>\n",
       "      <td>23.0</td>\n",
       "      <td>70.0</td>\n",
       "      <td>12.0</td>\n",
       "      <td>0.0</td>\n",
       "      <td>29.0</td>\n",
       "      <td>29.0</td>\n",
       "      <td>60.0</td>\n",
       "    </tr>\n",
       "    <tr>\n",
       "      <th>14477</th>\n",
       "      <td>2000.0</td>\n",
       "      <td>John Amaechi</td>\n",
       "      <td>C</td>\n",
       "      <td>29.0</td>\n",
       "      <td>ORL</td>\n",
       "      <td>80.0</td>\n",
       "      <td>53.0</td>\n",
       "      <td>1684.0</td>\n",
       "      <td>13.2</td>\n",
       "      <td>0.505</td>\n",
       "      <td>...</td>\n",
       "      <td>0.766</td>\n",
       "      <td>62.0</td>\n",
       "      <td>204.0</td>\n",
       "      <td>266.0</td>\n",
       "      <td>95.0</td>\n",
       "      <td>35.0</td>\n",
       "      <td>37.0</td>\n",
       "      <td>139.0</td>\n",
       "      <td>161.0</td>\n",
       "      <td>836.0</td>\n",
       "    </tr>\n",
       "    <tr>\n",
       "      <th>14478</th>\n",
       "      <td>2000.0</td>\n",
       "      <td>Derek Anderson</td>\n",
       "      <td>SG</td>\n",
       "      <td>25.0</td>\n",
       "      <td>LAC</td>\n",
       "      <td>64.0</td>\n",
       "      <td>58.0</td>\n",
       "      <td>2201.0</td>\n",
       "      <td>16.9</td>\n",
       "      <td>0.542</td>\n",
       "      <td>...</td>\n",
       "      <td>0.877</td>\n",
       "      <td>80.0</td>\n",
       "      <td>178.0</td>\n",
       "      <td>258.0</td>\n",
       "      <td>220.0</td>\n",
       "      <td>90.0</td>\n",
       "      <td>11.0</td>\n",
       "      <td>167.0</td>\n",
       "      <td>149.0</td>\n",
       "      <td>1080.0</td>\n",
       "    </tr>\n",
       "    <tr>\n",
       "      <th>14479</th>\n",
       "      <td>2000.0</td>\n",
       "      <td>Kenny Anderson</td>\n",
       "      <td>PG</td>\n",
       "      <td>29.0</td>\n",
       "      <td>BOS</td>\n",
       "      <td>82.0</td>\n",
       "      <td>82.0</td>\n",
       "      <td>2593.0</td>\n",
       "      <td>17.4</td>\n",
       "      <td>0.524</td>\n",
       "      <td>...</td>\n",
       "      <td>0.775</td>\n",
       "      <td>55.0</td>\n",
       "      <td>170.0</td>\n",
       "      <td>225.0</td>\n",
       "      <td>420.0</td>\n",
       "      <td>139.0</td>\n",
       "      <td>8.0</td>\n",
       "      <td>130.0</td>\n",
       "      <td>230.0</td>\n",
       "      <td>1149.0</td>\n",
       "    </tr>\n",
       "  </tbody>\n",
       "</table>\n",
       "<p>10 rows × 52 columns</p>\n",
       "</div>"
      ],
      "text/plain": [
       "         Year               Player Pos   Age   Tm     G    GS      MP   PER  \\\n",
       "14470  2000.0    Tariq Abdul-Wahad  SG  25.0  TOT  61.0  56.0  1578.0  13.6   \n",
       "14471  2000.0    Tariq Abdul-Wahad  SG  25.0  ORL  46.0  46.0  1205.0  14.4   \n",
       "14472  2000.0    Tariq Abdul-Wahad  SG  25.0  DEN  15.0  10.0   373.0  10.8   \n",
       "14473  2000.0  Shareef Abdur-Rahim  SF  23.0  VAN  82.0  82.0  3223.0  20.2   \n",
       "14474  2000.0       Cory Alexander  PG  26.0  DEN  29.0   2.0   329.0   8.8   \n",
       "14475  2000.0            Ray Allen  SG  24.0  MIL  82.0  82.0  3070.0  20.6   \n",
       "14476  2000.0         Rafer Alston  PG  23.0  MIL  27.0   0.0   361.0   4.3   \n",
       "14477  2000.0         John Amaechi   C  29.0  ORL  80.0  53.0  1684.0  13.2   \n",
       "14478  2000.0       Derek Anderson  SG  25.0  LAC  64.0  58.0  2201.0  16.9   \n",
       "14479  2000.0       Kenny Anderson  PG  29.0  BOS  82.0  82.0  2593.0  17.4   \n",
       "\n",
       "         TS%   ...      FT%    ORB    DRB    TRB    AST    STL   BLK    TOV  \\\n",
       "14470  0.477   ...    0.756  101.0  190.0  291.0   98.0   59.0  28.0  106.0   \n",
       "14471  0.484   ...    0.762   77.0  162.0  239.0   72.0   53.0  16.0   87.0   \n",
       "14472  0.448   ...    0.738   24.0   28.0   52.0   26.0    6.0  12.0   19.0   \n",
       "14473  0.547   ...    0.809  218.0  607.0  825.0  271.0   89.0  87.0  249.0   \n",
       "14474  0.381   ...    0.773    8.0   34.0   42.0   58.0   24.0   2.0   28.0   \n",
       "14475  0.570   ...    0.887   83.0  276.0  359.0  308.0  110.0  19.0  183.0   \n",
       "14476  0.310   ...    0.750    5.0   18.0   23.0   70.0   12.0   0.0   29.0   \n",
       "14477  0.505   ...    0.766   62.0  204.0  266.0   95.0   35.0  37.0  139.0   \n",
       "14478  0.542   ...    0.877   80.0  178.0  258.0  220.0   90.0  11.0  167.0   \n",
       "14479  0.524   ...    0.775   55.0  170.0  225.0  420.0  139.0   8.0  130.0   \n",
       "\n",
       "          PF     PTS  \n",
       "14470  147.0   697.0  \n",
       "14471  116.0   563.0  \n",
       "14472   31.0   134.0  \n",
       "14473  244.0  1663.0  \n",
       "14474   39.0    82.0  \n",
       "14475  187.0  1809.0  \n",
       "14476   29.0    60.0  \n",
       "14477  161.0   836.0  \n",
       "14478  149.0  1080.0  \n",
       "14479  230.0  1149.0  \n",
       "\n",
       "[10 rows x 52 columns]"
      ]
     },
     "execution_count": 46,
     "metadata": {},
     "output_type": "execute_result"
    }
   ],
   "source": [
    "#isolating only the years 2000-2017\n",
    "\n",
    "hoops_data = hoops_data[hoops_data.Year >= 2000]\n",
    "hoops_data.head(10)"
   ]
  },
  {
   "cell_type": "code",
   "execution_count": 47,
   "metadata": {},
   "outputs": [
    {
     "data": {
      "text/plain": [
       "array(['SG', 'SF', 'PG', 'C', 'PF', 'SF-SG', 'SF-PF', 'PF-SF', 'C-PF',\n",
       "       'SG-PG', 'PG-SG', 'SG-SF', 'PF-C', 'PG-SF', 'SG-PF', 'C-SF'],\n",
       "      dtype=object)"
      ]
     },
     "execution_count": 47,
     "metadata": {},
     "output_type": "execute_result"
    }
   ],
   "source": [
    "#finding all different ways big men are listed (anything w/ C or PF)\n",
    "hoops_data['Pos'].unique()"
   ]
  },
  {
   "cell_type": "code",
   "execution_count": 48,
   "metadata": {},
   "outputs": [],
   "source": [
    "#creating a variable for ever different position\n",
    "c = hoops_data.loc[hoops_data['Pos'] == 'C']\n",
    "pf = hoops_data.loc[hoops_data['Pos'] == 'PF']\n",
    "sf_pf = hoops_data.loc[hoops_data['Pos'] == 'SF-PF']\n",
    "pf_sf = hoops_data.loc[hoops_data['Pos'] == 'PF-SF']\n",
    "c_pf = hoops_data.loc[hoops_data['Pos'] == 'C-PF']\n",
    "pf_c = hoops_data.loc[hoops_data['Pos'] == 'PF-C']\n",
    "sg_pf = hoops_data.loc[hoops_data['Pos'] == 'SG-PF']\n",
    "c_sf = hoops_data.loc[hoops_data['Pos'] == 'C-SF']"
   ]
  },
  {
   "cell_type": "code",
   "execution_count": 118,
   "metadata": {},
   "outputs": [
    {
     "name": "stdout",
     "output_type": "stream",
     "text": [
      "         Year       Player   Pos   Age   Tm     G   GS     MP  PER    TS%  \\\n",
      "19037  2008.0  Bobby Jones  C-SF  24.0  TOT  47.0  2.0  531.0  9.9  0.548   \n",
      "\n",
      "       ...      FT%   ORB   DRB   TRB   AST   STL  BLK   TOV    PF    PTS  \n",
      "19037  ...    0.784  29.0  63.0  92.0  28.0  15.0  3.0  28.0  85.0  178.0  \n",
      "\n",
      "[1 rows x 52 columns]\n"
     ]
    }
   ],
   "source": [
    "print(c_sf)"
   ]
  },
  {
   "cell_type": "code",
   "execution_count": 49,
   "metadata": {},
   "outputs": [],
   "source": [
    "#creating the mean 2 pt attempts for each position, including all of '00-'17\n",
    "c_mean = c['2PA'].mean()\n",
    "pf_mean = pf['2PA'].mean()\n",
    "sf_pf_mean = sf_pf['2PA'].mean()\n",
    "pf_sf_mean = pf_sf['2PA'].mean()\n",
    "c_pf_mean = c_pf['2PA'].mean()\n",
    "pf_c_mean = pf_c['2PA'].mean()\n",
    "sg_pf_mean = sg_pf['2PA'].mean()\n",
    "c_sf_mean = c_sf['2PA'].mean()"
   ]
  },
  {
   "cell_type": "code",
   "execution_count": 50,
   "metadata": {},
   "outputs": [
    {
     "data": {
      "text/html": [
       "<div>\n",
       "<style scoped>\n",
       "    .dataframe tbody tr th:only-of-type {\n",
       "        vertical-align: middle;\n",
       "    }\n",
       "\n",
       "    .dataframe tbody tr th {\n",
       "        vertical-align: top;\n",
       "    }\n",
       "\n",
       "    .dataframe thead th {\n",
       "        text-align: right;\n",
       "    }\n",
       "</style>\n",
       "<table border=\"1\" class=\"dataframe\">\n",
       "  <thead>\n",
       "    <tr style=\"text-align: right;\">\n",
       "      <th></th>\n",
       "      <th>C</th>\n",
       "      <th>PF</th>\n",
       "      <th>SF/PF</th>\n",
       "      <th>PF/SF</th>\n",
       "      <th>C/PF</th>\n",
       "      <th>PF/C</th>\n",
       "      <th>SG/PF</th>\n",
       "      <th>C/SF</th>\n",
       "    </tr>\n",
       "  </thead>\n",
       "  <tbody>\n",
       "    <tr>\n",
       "      <th>0</th>\n",
       "      <td>278.197052</td>\n",
       "      <td>318.230288</td>\n",
       "      <td>292.0</td>\n",
       "      <td>238.529412</td>\n",
       "      <td>234.0</td>\n",
       "      <td>241.733333</td>\n",
       "      <td>643.333333</td>\n",
       "      <td>87.0</td>\n",
       "    </tr>\n",
       "  </tbody>\n",
       "</table>\n",
       "</div>"
      ],
      "text/plain": [
       "            C          PF  SF/PF       PF/SF   C/PF        PF/C       SG/PF  \\\n",
       "0  278.197052  318.230288  292.0  238.529412  234.0  241.733333  643.333333   \n",
       "\n",
       "   C/SF  \n",
       "0  87.0  "
      ]
     },
     "execution_count": 50,
     "metadata": {},
     "output_type": "execute_result"
    }
   ],
   "source": [
    "#creating a DF for the values to sit into\n",
    "gross_mean_df = pd.DataFrame({'C':c_mean, \"PF\": pf_mean, \n",
    "                            \"SF/PF\": sf_pf_mean, 'PF/SF': pf_sf_mean,\n",
    "                             'C/PF': c_pf_mean, 'PF/C': pf_c_mean,\n",
    "                             'SG/PF': sg_pf_mean, 'C/SF': c_sf_mean},\n",
    "                             index = [0])\n",
    "gross_mean_df"
   ]
  },
  {
   "cell_type": "code",
   "execution_count": 51,
   "metadata": {},
   "outputs": [
    {
     "ename": "SyntaxError",
     "evalue": "invalid syntax (<ipython-input-51-86c3cff53cbf>, line 7)",
     "output_type": "error",
     "traceback": [
      "\u001b[1;36m  File \u001b[1;32m\"<ipython-input-51-86c3cff53cbf>\"\u001b[1;36m, line \u001b[1;32m7\u001b[0m\n\u001b[1;33m    height =\u001b[0m\n\u001b[1;37m             ^\u001b[0m\n\u001b[1;31mSyntaxError\u001b[0m\u001b[1;31m:\u001b[0m invalid syntax\n"
     ]
    }
   ],
   "source": [
    "#plotting the data just as a starting point\n",
    "#this plot is useless, but it's a step in the right direction\n",
    "\n",
    "#the way I'm referring to the DF is on the right path.  I dont want to \n",
    "#have type out every value for every year.  This code might get there\n",
    "#eventually.  The cell below has the long, but effective, way. \n",
    "height = \n",
    "ind = np.arange(len(gross_mean_df))\n",
    "width = .35\n",
    "\n",
    "plt.bar(ind, height, align = 'center', alpha = .5)\n",
    "plt.xticks(ind)\n",
    "plt.ylabel('Shots taken')\n",
    "plt.title('Shots by Bigs')\n",
    "\n",
    "plt.show()"
   ]
  },
  {
   "cell_type": "code",
   "execution_count": 92,
   "metadata": {},
   "outputs": [
    {
     "data": {
      "image/png": "[encoded data removed]",
      "text/plain": [
       "<Figure size 432x288 with 1 Axes>"
      ]
     },
     "metadata": {
      "needs_background": "light"
     },
     "output_type": "display_data"
    }
   ],
   "source": [
    "height = [278,318,292,238,234,241,643,87]\n",
    "x = ('C', 'PF', 'SF/PF','PF/SF','C/PF','PF/C','SG/PF','C/SF')\n",
    "x_pos = len(x)\n",
    "width = .35\n",
    "\n",
    "plt.bar(x, height, align = 'center', alpha = .5)\n",
    "plt.xticks(x)\n",
    "plt.ylabel(\"Shots Taken\")\n",
    "plt.title(\"Shots by Bigs\")\n",
    "\n",
    "plt.show()"
   ]
  },
  {
   "cell_type": "code",
   "execution_count": 138,
   "metadata": {},
   "outputs": [],
   "source": [
    "# trying to isolate 2001 the same way I isolated '00-'17\n",
    "hoops_data_2001 = hoops_data[hoops_data.Year == 2001]\n",
    "hoops_data_2002 = hoops_data[hoops_data.Year == 2002]\n",
    "hoops_data_2003 = hoops_data[hoops_data.Year == 2003]\n",
    "hoops_data_2004 = hoops_data[hoops_data.Year == 2004]\n",
    "hoops_data_2005 = hoops_data[hoops_data.Year == 2005]\n",
    "hoops_data_2006 = hoops_data[hoops_data.Year == 2006]\n",
    "hoops_data_2007 = hoops_data[hoops_data.Year == 2007]\n",
    "hoops_data_2008 = hoops_data[hoops_data.Year == 2008]\n",
    "hoops_data_2009 = hoops_data[hoops_data.Year == 2009]\n",
    "hoops_data_2010 = hoops_data[hoops_data.Year == 2010]\n",
    "hoops_data_2011 = hoops_data[hoops_data.Year == 2011]\n",
    "hoops_data_2012 = hoops_data[hoops_data.Year == 2012]\n",
    "hoops_data_2013 = hoops_data[hoops_data.Year == 2013]\n",
    "hoops_data_2014 = hoops_data[hoops_data.Year == 2014]\n",
    "hoops_data_2015 = hoops_data[hoops_data.Year == 2015]\n",
    "hoops_data_2016 = hoops_data[hoops_data.Year == 2016]\n",
    "hoops_data_2017 = hoops_data[hoops_data.Year == 2017]\n",
    "hoops_data_2000 = hoops_data[hoops_data.Year == 2000]"
   ]
  },
  {
   "cell_type": "code",
   "execution_count": 76,
   "metadata": {},
   "outputs": [],
   "source": [
    "# I should have done all of this for '00 first.  Will be at the end instead.\n",
    "#creating a variable for big men in '01\n",
    "c_01 = hoops_data_2001.loc[hoops_data['Pos'] == 'C']\n",
    "pf_01 = hoops_data_2001.loc[hoops_data['Pos'] == 'PF']\n",
    "sf_pf_01 = hoops_data_2001.loc[hoops_data['Pos'] == 'SF-PF']\n",
    "pf_sf_01 = hoops_data_2001.loc[hoops_data['Pos'] == 'PF-SF']\n",
    "c_pf_01 = hoops_data_2001.loc[hoops_data['Pos'] == 'C-PF']\n",
    "pf_c_01 = hoops_data_2001.loc[hoops_data['Pos'] == 'PF-C']\n",
    "sg_pf_01 = hoops_data_2001.loc[hoops_data['Pos'] == 'SG-PF']\n",
    "c_sf_01 = hoops_data_2001.loc[hoops_data['Pos'] == 'C-SF']\n",
    "\n",
    "#creating the mean of 2 pt attempts for bigs in '01\n",
    "c_mean_01 = c_01['2PA'].mean()\n",
    "pf_mean_01 = pf_01['2PA'].mean()\n",
    "sf_pf_mean_01 = sf_pf_01['2PA'].mean()\n",
    "pf_sf_mean_01 = pf_sf_01['2PA'].mean()\n",
    "c_pf_mean_01 = c_pf_01['2PA'].mean()\n",
    "pf_c_mean_01 = pf_c_01['2PA'].mean()\n",
    "sg_pf_mean_01 = sg_pf_01['2PA'].mean()\n",
    "c_sf_mean_01 = c_sf_01['2PA'].mean()"
   ]
  },
  {
   "cell_type": "code",
   "execution_count": 77,
   "metadata": {},
   "outputs": [
    {
     "data": {
      "text/html": [
       "<div>\n",
       "<style scoped>\n",
       "    .dataframe tbody tr th:only-of-type {\n",
       "        vertical-align: middle;\n",
       "    }\n",
       "\n",
       "    .dataframe tbody tr th {\n",
       "        vertical-align: top;\n",
       "    }\n",
       "\n",
       "    .dataframe thead th {\n",
       "        text-align: right;\n",
       "    }\n",
       "</style>\n",
       "<table border=\"1\" class=\"dataframe\">\n",
       "  <thead>\n",
       "    <tr style=\"text-align: right;\">\n",
       "      <th></th>\n",
       "      <th>C</th>\n",
       "      <th>PF</th>\n",
       "      <th>SF/PF</th>\n",
       "      <th>PF/SF</th>\n",
       "      <th>C/PF</th>\n",
       "      <th>PF/C</th>\n",
       "      <th>SG/PF</th>\n",
       "      <th>C/SF</th>\n",
       "    </tr>\n",
       "  </thead>\n",
       "  <tbody>\n",
       "    <tr>\n",
       "      <th>0</th>\n",
       "      <td>280.743119</td>\n",
       "      <td>361.388889</td>\n",
       "      <td>NaN</td>\n",
       "      <td>NaN</td>\n",
       "      <td>538.0</td>\n",
       "      <td>NaN</td>\n",
       "      <td>NaN</td>\n",
       "      <td>NaN</td>\n",
       "    </tr>\n",
       "  </tbody>\n",
       "</table>\n",
       "</div>"
      ],
      "text/plain": [
       "            C          PF  SF/PF  PF/SF   C/PF  PF/C  SG/PF  C/SF\n",
       "0  280.743119  361.388889    NaN    NaN  538.0   NaN    NaN   NaN"
      ]
     },
     "execution_count": 77,
     "metadata": {},
     "output_type": "execute_result"
    }
   ],
   "source": [
    "#turning # of 2's (mean) in a DF\n",
    "two_pters_taken_mean_01_df = pd.DataFrame({'C':c_mean_01, \"PF\": pf_mean_01, \n",
    "                            \"SF/PF\": sf_pf_mean_01, 'PF/SF': pf_sf_mean_01,\n",
    "                             'C/PF': c_pf_mean_01, 'PF/C': pf_c_mean_01,\n",
    "                             'SG/PF': sg_pf_mean_01, 'C/SF': c_sf_mean_01},\n",
    "                             index = [0])\n",
    "\n",
    "#trying to drop the NaN values and not have to manualy do the mean calc.\n",
    "two_pters_taken_mean_01_df_drop = two_pters_taken_mean_01_df.dropna(how = 'all')\n",
    "two_pters_taken_mean_01_df_drop\n",
    "#tried and failed.  manual math it is. "
   ]
  },
  {
   "cell_type": "code",
   "execution_count": 81,
   "metadata": {},
   "outputs": [
    {
     "data": {
      "text/plain": [
       "393.37733605164794"
      ]
     },
     "execution_count": 81,
     "metadata": {},
     "output_type": "execute_result"
    }
   ],
   "source": [
    "two_pt_att_mean_01 = (c_mean_01 + pf_mean_01 + c_pf_mean_01) / 3\n",
    "two_pt_att_mean_01"
   ]
  },
  {
   "cell_type": "code",
   "execution_count": 75,
   "metadata": {},
   "outputs": [],
   "source": [
    "#moving on to 2002\n",
    "#creating a variable for big men in '02\n",
    "c_02 = hoops_data_2002.loc[hoops_data['Pos'] == 'C']\n",
    "pf_02 = hoops_data_2002.loc[hoops_data['Pos'] == 'PF']\n",
    "sf_pf_02 = hoops_data_2002.loc[hoops_data['Pos'] == 'SF-PF']\n",
    "pf_sf_02 = hoops_data_2002.loc[hoops_data['Pos'] == 'PF-SF']\n",
    "c_pf_02 = hoops_data_2002.loc[hoops_data['Pos'] == 'C-PF']\n",
    "pf_c_02 = hoops_data_2002.loc[hoops_data['Pos'] == 'PF-C']\n",
    "sg_pf_02 = hoops_data_2002.loc[hoops_data['Pos'] == 'SG-PF']\n",
    "c_sf_02 = hoops_data_2002.loc[hoops_data['Pos'] == 'C-SF']\n",
    "\n",
    "#creating the mean of 2 pt attempts for bigs in '02\n",
    "c_mean_02 = c_02['2PA'].mean()\n",
    "pf_mean_02 = pf_02['2PA'].mean()\n",
    "sf_pf_mean_02 = sf_pf_02['2PA'].mean()\n",
    "pf_sf_mean_02 = pf_sf_02['2PA'].mean()\n",
    "c_pf_mean_02 = c_pf_02['2PA'].mean()\n",
    "pf_c_mean_02 = pf_c_02['2PA'].mean()\n",
    "sg_pf_mean_02 = sg_pf_02['2PA'].mean()\n",
    "c_sf_mean_02 = c_sf_02['2PA'].mean()"
   ]
  },
  {
   "cell_type": "code",
   "execution_count": 82,
   "metadata": {},
   "outputs": [
    {
     "data": {
      "text/html": [
       "<div>\n",
       "<style scoped>\n",
       "    .dataframe tbody tr th:only-of-type {\n",
       "        vertical-align: middle;\n",
       "    }\n",
       "\n",
       "    .dataframe tbody tr th {\n",
       "        vertical-align: top;\n",
       "    }\n",
       "\n",
       "    .dataframe thead th {\n",
       "        text-align: right;\n",
       "    }\n",
       "</style>\n",
       "<table border=\"1\" class=\"dataframe\">\n",
       "  <thead>\n",
       "    <tr style=\"text-align: right;\">\n",
       "      <th></th>\n",
       "      <th>C</th>\n",
       "      <th>PF</th>\n",
       "      <th>SF/PF</th>\n",
       "      <th>PF/SF</th>\n",
       "      <th>C/PF</th>\n",
       "      <th>PF/C</th>\n",
       "      <th>SG/PF</th>\n",
       "      <th>C/SF</th>\n",
       "    </tr>\n",
       "  </thead>\n",
       "  <tbody>\n",
       "    <tr>\n",
       "      <th>0</th>\n",
       "      <td>282.33945</td>\n",
       "      <td>377.595745</td>\n",
       "      <td>NaN</td>\n",
       "      <td>NaN</td>\n",
       "      <td>NaN</td>\n",
       "      <td>NaN</td>\n",
       "      <td>NaN</td>\n",
       "      <td>NaN</td>\n",
       "    </tr>\n",
       "  </tbody>\n",
       "</table>\n",
       "</div>"
      ],
      "text/plain": [
       "           C          PF  SF/PF  PF/SF  C/PF  PF/C  SG/PF  C/SF\n",
       "0  282.33945  377.595745    NaN    NaN   NaN   NaN    NaN   NaN"
      ]
     },
     "execution_count": 82,
     "metadata": {},
     "output_type": "execute_result"
    }
   ],
   "source": [
    "two_pters_taken_mean_02_df = pd.DataFrame({'C':c_mean_02, \"PF\": pf_mean_02, \n",
    "                            \"SF/PF\": sf_pf_mean_02, 'PF/SF': pf_sf_mean_02,\n",
    "                             'C/PF': c_pf_mean_02, 'PF/C': pf_c_mean_02,\n",
    "                             'SG/PF': sg_pf_mean_02, 'C/SF': c_sf_mean_02},\n",
    "                             index = [0])\n",
    "two_pters_taken_mean_02_df"
   ]
  },
  {
   "cell_type": "code",
   "execution_count": 84,
   "metadata": {},
   "outputs": [
    {
     "data": {
      "text/plain": [
       "329.96759711106773"
      ]
     },
     "execution_count": 84,
     "metadata": {},
     "output_type": "execute_result"
    }
   ],
   "source": [
    "two_pt_att_mean_02 = (c_mean_02 + pf_mean_02) / 2\n",
    "two_pt_att_mean_02"
   ]
  },
  {
   "cell_type": "code",
   "execution_count": 85,
   "metadata": {},
   "outputs": [
    {
     "data": {
      "text/html": [
       "<div>\n",
       "<style scoped>\n",
       "    .dataframe tbody tr th:only-of-type {\n",
       "        vertical-align: middle;\n",
       "    }\n",
       "\n",
       "    .dataframe tbody tr th {\n",
       "        vertical-align: top;\n",
       "    }\n",
       "\n",
       "    .dataframe thead th {\n",
       "        text-align: right;\n",
       "    }\n",
       "</style>\n",
       "<table border=\"1\" class=\"dataframe\">\n",
       "  <thead>\n",
       "    <tr style=\"text-align: right;\">\n",
       "      <th></th>\n",
       "      <th>C</th>\n",
       "      <th>PF</th>\n",
       "      <th>SF/PF</th>\n",
       "      <th>PF/SF</th>\n",
       "      <th>C/PF</th>\n",
       "      <th>PF/C</th>\n",
       "      <th>SG/PF</th>\n",
       "      <th>C/SF</th>\n",
       "    </tr>\n",
       "  </thead>\n",
       "  <tbody>\n",
       "    <tr>\n",
       "      <th>0</th>\n",
       "      <td>283.981308</td>\n",
       "      <td>374.164835</td>\n",
       "      <td>729.0</td>\n",
       "      <td>NaN</td>\n",
       "      <td>NaN</td>\n",
       "      <td>NaN</td>\n",
       "      <td>NaN</td>\n",
       "      <td>NaN</td>\n",
       "    </tr>\n",
       "  </tbody>\n",
       "</table>\n",
       "</div>"
      ],
      "text/plain": [
       "            C          PF  SF/PF  PF/SF  C/PF  PF/C  SG/PF  C/SF\n",
       "0  283.981308  374.164835  729.0    NaN   NaN   NaN    NaN   NaN"
      ]
     },
     "execution_count": 85,
     "metadata": {},
     "output_type": "execute_result"
    }
   ],
   "source": [
    "#moving on to 2003\n",
    "#creating a variable for big men in '03\n",
    "c_03 = hoops_data_2003.loc[hoops_data['Pos'] == 'C']\n",
    "pf_03 = hoops_data_2003.loc[hoops_data['Pos'] == 'PF']\n",
    "sf_pf_03 = hoops_data_2003.loc[hoops_data['Pos'] == 'SF-PF']\n",
    "pf_sf_03 = hoops_data_2003.loc[hoops_data['Pos'] == 'PF-SF']\n",
    "c_pf_03 = hoops_data_2003.loc[hoops_data['Pos'] == 'C-PF']\n",
    "pf_c_03 = hoops_data_2003.loc[hoops_data['Pos'] == 'PF-C']\n",
    "sg_pf_03 = hoops_data_2003.loc[hoops_data['Pos'] == 'SG-PF']\n",
    "c_sf_03 = hoops_data_2003.loc[hoops_data['Pos'] == 'C-SF']\n",
    "\n",
    "#creating the mean of 2 pt attempts for bigs in '03\n",
    "c_mean_03 = c_03['2PA'].mean()\n",
    "pf_mean_03 = pf_03['2PA'].mean()\n",
    "sf_pf_mean_03 = sf_pf_03['2PA'].mean()\n",
    "pf_sf_mean_03 = pf_sf_03['2PA'].mean()\n",
    "c_pf_mean_03 = c_pf_03['2PA'].mean()\n",
    "pf_c_mean_03 = pf_c_03['2PA'].mean()\n",
    "sg_pf_mean_03 = sg_pf_03['2PA'].mean()\n",
    "c_sf_mean_03 = c_sf_03['2PA'].mean()\n",
    "\n",
    "#making a DF to find the NaN values\n",
    "two_pters_taken_mean_03_df = pd.DataFrame({'C':c_mean_03, \"PF\": pf_mean_03, \n",
    "                            \"SF/PF\": sf_pf_mean_03, 'PF/SF': pf_sf_mean_03,\n",
    "                             'C/PF': c_pf_mean_03, 'PF/C': pf_c_mean_03,\n",
    "                             'SG/PF': sg_pf_mean_03, 'C/SF': c_sf_mean_03},\n",
    "                             index = [0])\n",
    "two_pters_taken_mean_03_df"
   ]
  },
  {
   "cell_type": "code",
   "execution_count": 87,
   "metadata": {},
   "outputs": [
    {
     "data": {
      "text/plain": [
       "462.3820478586834"
      ]
     },
     "execution_count": 87,
     "metadata": {},
     "output_type": "execute_result"
    }
   ],
   "source": [
    "two_pt_att_mean_03 = (c_mean_03 + pf_mean_03 + sf_pf_mean_03) / 3\n",
    "two_pt_att_mean_03"
   ]
  },
  {
   "cell_type": "code",
   "execution_count": 99,
   "metadata": {},
   "outputs": [
    {
     "data": {
      "text/html": [
       "<div>\n",
       "<style scoped>\n",
       "    .dataframe tbody tr th:only-of-type {\n",
       "        vertical-align: middle;\n",
       "    }\n",
       "\n",
       "    .dataframe tbody tr th {\n",
       "        vertical-align: top;\n",
       "    }\n",
       "\n",
       "    .dataframe thead th {\n",
       "        text-align: right;\n",
       "    }\n",
       "</style>\n",
       "<table border=\"1\" class=\"dataframe\">\n",
       "  <thead>\n",
       "    <tr style=\"text-align: right;\">\n",
       "      <th></th>\n",
       "      <th>C</th>\n",
       "      <th>PF</th>\n",
       "      <th>SF/PF</th>\n",
       "      <th>PF/SF</th>\n",
       "      <th>C/PF</th>\n",
       "      <th>PF/C</th>\n",
       "      <th>SG/PF</th>\n",
       "      <th>C/SF</th>\n",
       "    </tr>\n",
       "  </thead>\n",
       "  <tbody>\n",
       "    <tr>\n",
       "      <th>0</th>\n",
       "      <td>232.125984</td>\n",
       "      <td>337.984252</td>\n",
       "      <td>NaN</td>\n",
       "      <td>324.0</td>\n",
       "      <td>129.4</td>\n",
       "      <td>174.5</td>\n",
       "      <td>NaN</td>\n",
       "      <td>NaN</td>\n",
       "    </tr>\n",
       "  </tbody>\n",
       "</table>\n",
       "</div>"
      ],
      "text/plain": [
       "            C          PF  SF/PF  PF/SF   C/PF   PF/C  SG/PF  C/SF\n",
       "0  232.125984  337.984252    NaN  324.0  129.4  174.5    NaN   NaN"
      ]
     },
     "execution_count": 99,
     "metadata": {},
     "output_type": "execute_result"
    }
   ],
   "source": [
    "#moving on to 2004\n",
    "#creating a variable for big men in '04\n",
    "c_04 = hoops_data_2004.loc[hoops_data['Pos'] == 'C']\n",
    "pf_04 = hoops_data_2004.loc[hoops_data['Pos'] == 'PF']\n",
    "sf_pf_04 = hoops_data_2004.loc[hoops_data['Pos'] == 'SF-PF']\n",
    "pf_sf_04 = hoops_data_2004.loc[hoops_data['Pos'] == 'PF-SF']\n",
    "c_pf_04 = hoops_data_2004.loc[hoops_data['Pos'] == 'C-PF']\n",
    "pf_c_04 = hoops_data_2004.loc[hoops_data['Pos'] == 'PF-C']\n",
    "sg_pf_04 = hoops_data_2004.loc[hoops_data['Pos'] == 'SG-PF']\n",
    "c_sf_04 = hoops_data_2004.loc[hoops_data['Pos'] == 'C-SF']\n",
    "\n",
    "#creating the mean of 2 pt attempts for bigs in '03\n",
    "c_mean_04 = c_04['2PA'].mean()\n",
    "pf_mean_04 = pf_04['2PA'].mean()\n",
    "sf_pf_mean_04 = sf_pf_04['2PA'].mean()\n",
    "pf_sf_mean_04 = pf_sf_04['2PA'].mean()\n",
    "c_pf_mean_04 = c_pf_04['2PA'].mean()\n",
    "pf_c_mean_04 = pf_c_04['2PA'].mean()\n",
    "sg_pf_mean_04 = sg_pf_04['2PA'].mean()\n",
    "c_sf_mean_04 = c_sf_04['2PA'].mean()\n",
    "\n",
    "#making a DF to find the NaN values\n",
    "two_pters_taken_mean_04_df = pd.DataFrame({'C':c_mean_04, \"PF\": pf_mean_04, \n",
    "                            \"SF/PF\": sf_pf_mean_04, 'PF/SF': pf_sf_mean_04,\n",
    "                             'C/PF': c_pf_mean_04, 'PF/C': pf_c_mean_04,\n",
    "                             'SG/PF': sg_pf_mean_04, 'C/SF': c_sf_mean_04},\n",
    "                             index = [0])\n",
    "two_pters_taken_mean_04_df"
   ]
  },
  {
   "cell_type": "code",
   "execution_count": 100,
   "metadata": {},
   "outputs": [
    {
     "data": {
      "text/plain": [
       "239.6020472440945"
      ]
     },
     "execution_count": 100,
     "metadata": {},
     "output_type": "execute_result"
    }
   ],
   "source": [
    "two_pt_att_mean_04 = (c_mean_04 + pf_mean_04 + pf_sf_mean_04 + \n",
    "                      c_pf_mean_04 + pf_c_mean_04) / 5\n",
    "two_pt_att_mean_04"
   ]
  },
  {
   "cell_type": "code",
   "execution_count": 101,
   "metadata": {},
   "outputs": [
    {
     "data": {
      "text/html": [
       "<div>\n",
       "<style scoped>\n",
       "    .dataframe tbody tr th:only-of-type {\n",
       "        vertical-align: middle;\n",
       "    }\n",
       "\n",
       "    .dataframe tbody tr th {\n",
       "        vertical-align: top;\n",
       "    }\n",
       "\n",
       "    .dataframe thead th {\n",
       "        text-align: right;\n",
       "    }\n",
       "</style>\n",
       "<table border=\"1\" class=\"dataframe\">\n",
       "  <thead>\n",
       "    <tr style=\"text-align: right;\">\n",
       "      <th></th>\n",
       "      <th>C</th>\n",
       "      <th>PF</th>\n",
       "      <th>SF/PF</th>\n",
       "      <th>PF/SF</th>\n",
       "      <th>C/PF</th>\n",
       "      <th>PF/C</th>\n",
       "      <th>SG/PF</th>\n",
       "      <th>C/SF</th>\n",
       "    </tr>\n",
       "  </thead>\n",
       "  <tbody>\n",
       "    <tr>\n",
       "      <th>0</th>\n",
       "      <td>244.239669</td>\n",
       "      <td>346.008264</td>\n",
       "      <td>352.0</td>\n",
       "      <td>215.0</td>\n",
       "      <td>191.8</td>\n",
       "      <td>239.0</td>\n",
       "      <td>NaN</td>\n",
       "      <td>NaN</td>\n",
       "    </tr>\n",
       "  </tbody>\n",
       "</table>\n",
       "</div>"
      ],
      "text/plain": [
       "            C          PF  SF/PF  PF/SF   C/PF   PF/C  SG/PF  C/SF\n",
       "0  244.239669  346.008264  352.0  215.0  191.8  239.0    NaN   NaN"
      ]
     },
     "execution_count": 101,
     "metadata": {},
     "output_type": "execute_result"
    }
   ],
   "source": [
    "#2005\n",
    "#creating a variable for big men in '05\n",
    "c_05 = hoops_data_2005.loc[hoops_data['Pos'] == 'C']\n",
    "pf_05 = hoops_data_2005.loc[hoops_data['Pos'] == 'PF']\n",
    "sf_pf_05 = hoops_data_2005.loc[hoops_data['Pos'] == 'SF-PF']\n",
    "pf_sf_05 = hoops_data_2005.loc[hoops_data['Pos'] == 'PF-SF']\n",
    "c_pf_05 = hoops_data_2005.loc[hoops_data['Pos'] == 'C-PF']\n",
    "pf_c_05 = hoops_data_2005.loc[hoops_data['Pos'] == 'PF-C']\n",
    "sg_pf_05 = hoops_data_2005.loc[hoops_data['Pos'] == 'SG-PF']\n",
    "c_sf_05 = hoops_data_2005.loc[hoops_data['Pos'] == 'C-SF']\n",
    "\n",
    "#creating the mean of 2 pt attempts for bigs in '03\n",
    "c_mean_05 = c_05['2PA'].mean()\n",
    "pf_mean_05 = pf_05['2PA'].mean()\n",
    "sf_pf_mean_05 = sf_pf_05['2PA'].mean()\n",
    "pf_sf_mean_05 = pf_sf_05['2PA'].mean()\n",
    "c_pf_mean_05 = c_pf_05['2PA'].mean()\n",
    "pf_c_mean_05 = pf_c_05['2PA'].mean()\n",
    "sg_pf_mean_05 = sg_pf_05['2PA'].mean()\n",
    "c_sf_mean_05 = c_sf_05['2PA'].mean()\n",
    "\n",
    "#making a DF to find the NaN values\n",
    "two_pters_taken_mean_05_df = pd.DataFrame({'C':c_mean_05, \"PF\": pf_mean_05, \n",
    "                            \"SF/PF\": sf_pf_mean_05, 'PF/SF': pf_sf_mean_05,\n",
    "                             'C/PF': c_pf_mean_05, 'PF/C': pf_c_mean_05,\n",
    "                             'SG/PF': sg_pf_mean_05, 'C/SF': c_sf_mean_05},\n",
    "                             index = [0])\n",
    "two_pters_taken_mean_05_df"
   ]
  },
  {
   "cell_type": "code",
   "execution_count": 102,
   "metadata": {},
   "outputs": [
    {
     "data": {
      "text/plain": [
       "264.6746556473829"
      ]
     },
     "execution_count": 102,
     "metadata": {},
     "output_type": "execute_result"
    }
   ],
   "source": [
    "two_pt_att_mean_05 = (c_mean_05 + pf_mean_05 + sf_pf_mean_05 + pf_sf_mean_05\n",
    "                     + c_pf_mean_05 + pf_c_mean_05) / 6\n",
    "two_pt_att_mean_05"
   ]
  },
  {
   "cell_type": "code",
   "execution_count": 108,
   "metadata": {},
   "outputs": [
    {
     "data": {
      "text/html": [
       "<div>\n",
       "<style scoped>\n",
       "    .dataframe tbody tr th:only-of-type {\n",
       "        vertical-align: middle;\n",
       "    }\n",
       "\n",
       "    .dataframe tbody tr th {\n",
       "        vertical-align: top;\n",
       "    }\n",
       "\n",
       "    .dataframe thead th {\n",
       "        text-align: right;\n",
       "    }\n",
       "</style>\n",
       "<table border=\"1\" class=\"dataframe\">\n",
       "  <thead>\n",
       "    <tr style=\"text-align: right;\">\n",
       "      <th></th>\n",
       "      <th>C</th>\n",
       "      <th>PF</th>\n",
       "      <th>SF/PF</th>\n",
       "      <th>PF/SF</th>\n",
       "      <th>C/PF</th>\n",
       "      <th>PF/C</th>\n",
       "      <th>SG/PF</th>\n",
       "      <th>C/SF</th>\n",
       "    </tr>\n",
       "  </thead>\n",
       "  <tbody>\n",
       "    <tr>\n",
       "      <th>0</th>\n",
       "      <td>226.113821</td>\n",
       "      <td>360.557692</td>\n",
       "      <td>34.0</td>\n",
       "      <td>120.333333</td>\n",
       "      <td>276.0</td>\n",
       "      <td>174.5</td>\n",
       "      <td>NaN</td>\n",
       "      <td>NaN</td>\n",
       "    </tr>\n",
       "  </tbody>\n",
       "</table>\n",
       "</div>"
      ],
      "text/plain": [
       "            C          PF  SF/PF       PF/SF   C/PF   PF/C  SG/PF  C/SF\n",
       "0  226.113821  360.557692   34.0  120.333333  276.0  174.5    NaN   NaN"
      ]
     },
     "execution_count": 108,
     "metadata": {},
     "output_type": "execute_result"
    }
   ],
   "source": [
    "#2006\n",
    "#creating a variable for big men in '06\n",
    "c_06 = hoops_data_2006.loc[hoops_data['Pos'] == 'C']\n",
    "pf_06 = hoops_data_2006.loc[hoops_data['Pos'] == 'PF']\n",
    "sf_pf_06 = hoops_data_2006.loc[hoops_data['Pos'] == 'SF-PF']\n",
    "pf_sf_06 = hoops_data_2006.loc[hoops_data['Pos'] == 'PF-SF']\n",
    "c_pf_06 = hoops_data_2006.loc[hoops_data['Pos'] == 'C-PF']\n",
    "pf_c_06 = hoops_data_2006.loc[hoops_data['Pos'] == 'PF-C']\n",
    "sg_pf_06 = hoops_data_2006.loc[hoops_data['Pos'] == 'SG-PF']\n",
    "c_sf_06 = hoops_data_2006.loc[hoops_data['Pos'] == 'C-SF']\n",
    "\n",
    "#creating the mean of 2 pt attempts for bigs in '03\n",
    "c_mean_06 = c_06['2PA'].mean()\n",
    "pf_mean_06 = pf_06['2PA'].mean()\n",
    "sf_pf_mean_06 = sf_pf_06['2PA'].mean()\n",
    "pf_sf_mean_06 = pf_sf_06['2PA'].mean()\n",
    "c_pf_mean_06 = c_pf_06['2PA'].mean()\n",
    "pf_c_mean_06 = pf_c_06['2PA'].mean()\n",
    "sg_pf_mean_06 = sg_pf_06['2PA'].mean()\n",
    "c_sf_mean_06 = c_sf_06['2PA'].mean()\n",
    "\n",
    "#making a DF to find the NaN values\n",
    "two_pters_taken_mean_06_df = pd.DataFrame({'C':c_mean_06, \"PF\": pf_mean_06, \n",
    "                            \"SF/PF\": sf_pf_mean_06, 'PF/SF': pf_sf_mean_06,\n",
    "                             'C/PF': c_pf_mean_06, 'PF/C': pf_c_mean_06,\n",
    "                             'SG/PF': sg_pf_mean_06, 'C/SF': c_sf_mean_06},\n",
    "                             index = [0])\n",
    "two_pters_taken_mean_06_df"
   ]
  },
  {
   "cell_type": "code",
   "execution_count": 109,
   "metadata": {},
   "outputs": [
    {
     "data": {
      "text/plain": [
       "198.58414112987285"
      ]
     },
     "execution_count": 109,
     "metadata": {},
     "output_type": "execute_result"
    }
   ],
   "source": [
    "two_pt_att_mean_06 = (c_mean_06 + pf_mean_06 + sf_pf_mean_06 + pf_sf_mean_06\n",
    "                     + c_pf_mean_06 + pf_c_mean_06) / 6\n",
    "two_pt_att_mean_06"
   ]
  },
  {
   "cell_type": "code",
   "execution_count": 110,
   "metadata": {},
   "outputs": [
    {
     "data": {
      "text/html": [
       "<div>\n",
       "<style scoped>\n",
       "    .dataframe tbody tr th:only-of-type {\n",
       "        vertical-align: middle;\n",
       "    }\n",
       "\n",
       "    .dataframe tbody tr th {\n",
       "        vertical-align: top;\n",
       "    }\n",
       "\n",
       "    .dataframe thead th {\n",
       "        text-align: right;\n",
       "    }\n",
       "</style>\n",
       "<table border=\"1\" class=\"dataframe\">\n",
       "  <thead>\n",
       "    <tr style=\"text-align: right;\">\n",
       "      <th></th>\n",
       "      <th>C</th>\n",
       "      <th>PF</th>\n",
       "      <th>SF/PF</th>\n",
       "      <th>PF/SF</th>\n",
       "      <th>C/PF</th>\n",
       "      <th>PF/C</th>\n",
       "      <th>SG/PF</th>\n",
       "      <th>C/SF</th>\n",
       "    </tr>\n",
       "  </thead>\n",
       "  <tbody>\n",
       "    <tr>\n",
       "      <th>0</th>\n",
       "      <td>315.381443</td>\n",
       "      <td>285.460317</td>\n",
       "      <td>NaN</td>\n",
       "      <td>NaN</td>\n",
       "      <td>NaN</td>\n",
       "      <td>80.0</td>\n",
       "      <td>626.0</td>\n",
       "      <td>NaN</td>\n",
       "    </tr>\n",
       "  </tbody>\n",
       "</table>\n",
       "</div>"
      ],
      "text/plain": [
       "            C          PF  SF/PF  PF/SF  C/PF  PF/C  SG/PF  C/SF\n",
       "0  315.381443  285.460317    NaN    NaN   NaN  80.0  626.0   NaN"
      ]
     },
     "execution_count": 110,
     "metadata": {},
     "output_type": "execute_result"
    }
   ],
   "source": [
    "#2007\n",
    "#creating a variable for big men in '07\n",
    "c_07 = hoops_data_2007.loc[hoops_data['Pos'] == 'C']\n",
    "pf_07 = hoops_data_2007.loc[hoops_data['Pos'] == 'PF']\n",
    "sf_pf_07 = hoops_data_2007.loc[hoops_data['Pos'] == 'SF-PF']\n",
    "pf_sf_07 = hoops_data_2007.loc[hoops_data['Pos'] == 'PF-SF']\n",
    "c_pf_07 = hoops_data_2007.loc[hoops_data['Pos'] == 'C-PF']\n",
    "pf_c_07 = hoops_data_2007.loc[hoops_data['Pos'] == 'PF-C']\n",
    "sg_pf_07 = hoops_data_2007.loc[hoops_data['Pos'] == 'SG-PF']\n",
    "c_sf_07 = hoops_data_2007.loc[hoops_data['Pos'] == 'C-SF']\n",
    "\n",
    "#creating the mean of 2 pt attempts for bigs in '07\n",
    "c_mean_07 = c_07['2PA'].mean()\n",
    "pf_mean_07 = pf_07['2PA'].mean()\n",
    "sf_pf_mean_07 = sf_pf_07['2PA'].mean()\n",
    "pf_sf_mean_07 = pf_sf_07['2PA'].mean()\n",
    "c_pf_mean_07 = c_pf_07['2PA'].mean()\n",
    "pf_c_mean_07 = pf_c_07['2PA'].mean()\n",
    "sg_pf_mean_07 = sg_pf_07['2PA'].mean()\n",
    "c_sf_mean_07 = c_sf_07['2PA'].mean()\n",
    "\n",
    "#making a DF to find the NaN values\n",
    "two_pters_taken_mean_07_df = pd.DataFrame({'C':c_mean_07, \"PF\": pf_mean_07, \n",
    "                            \"SF/PF\": sf_pf_mean_07, 'PF/SF': pf_sf_mean_07,\n",
    "                             'C/PF': c_pf_mean_07, 'PF/C': pf_c_mean_07,\n",
    "                             'SG/PF': sg_pf_mean_07, 'C/SF': c_sf_mean_07},\n",
    "                             index = [0])\n",
    "two_pters_taken_mean_07_df"
   ]
  },
  {
   "cell_type": "code",
   "execution_count": 111,
   "metadata": {},
   "outputs": [
    {
     "data": {
      "text/plain": [
       "326.7104401898216"
      ]
     },
     "execution_count": 111,
     "metadata": {},
     "output_type": "execute_result"
    }
   ],
   "source": [
    "two_pt_att_mean_07 = (c_mean_07 + pf_mean_07 + pf_c_mean_07 + sg_pf_mean_07) / 4\n",
    "two_pt_att_mean_07"
   ]
  },
  {
   "cell_type": "code",
   "execution_count": 112,
   "metadata": {},
   "outputs": [
    {
     "data": {
      "text/html": [
       "<div>\n",
       "<style scoped>\n",
       "    .dataframe tbody tr th:only-of-type {\n",
       "        vertical-align: middle;\n",
       "    }\n",
       "\n",
       "    .dataframe tbody tr th {\n",
       "        vertical-align: top;\n",
       "    }\n",
       "\n",
       "    .dataframe thead th {\n",
       "        text-align: right;\n",
       "    }\n",
       "</style>\n",
       "<table border=\"1\" class=\"dataframe\">\n",
       "  <thead>\n",
       "    <tr style=\"text-align: right;\">\n",
       "      <th></th>\n",
       "      <th>C</th>\n",
       "      <th>PF</th>\n",
       "      <th>SF/PF</th>\n",
       "      <th>PF/SF</th>\n",
       "      <th>C/PF</th>\n",
       "      <th>PF/C</th>\n",
       "      <th>SG/PF</th>\n",
       "      <th>C/SF</th>\n",
       "    </tr>\n",
       "  </thead>\n",
       "  <tbody>\n",
       "    <tr>\n",
       "      <th>0</th>\n",
       "      <td>278.15748</td>\n",
       "      <td>285.752</td>\n",
       "      <td>166.0</td>\n",
       "      <td>45.5</td>\n",
       "      <td>275.666667</td>\n",
       "      <td>NaN</td>\n",
       "      <td>279.0</td>\n",
       "      <td>87.0</td>\n",
       "    </tr>\n",
       "  </tbody>\n",
       "</table>\n",
       "</div>"
      ],
      "text/plain": [
       "           C       PF  SF/PF  PF/SF        C/PF  PF/C  SG/PF  C/SF\n",
       "0  278.15748  285.752  166.0   45.5  275.666667   NaN  279.0  87.0"
      ]
     },
     "execution_count": 112,
     "metadata": {},
     "output_type": "execute_result"
    }
   ],
   "source": [
    "#2008\n",
    "#creating a variable for big men in '08\n",
    "c_08 = hoops_data_2008.loc[hoops_data['Pos'] == 'C']\n",
    "pf_08 = hoops_data_2008.loc[hoops_data['Pos'] == 'PF']\n",
    "sf_pf_08 = hoops_data_2008.loc[hoops_data['Pos'] == 'SF-PF']\n",
    "pf_sf_08 = hoops_data_2008.loc[hoops_data['Pos'] == 'PF-SF']\n",
    "c_pf_08 = hoops_data_2008.loc[hoops_data['Pos'] == 'C-PF']\n",
    "pf_c_08 = hoops_data_2008.loc[hoops_data['Pos'] == 'PF-C']\n",
    "sg_pf_08 = hoops_data_2008.loc[hoops_data['Pos'] == 'SG-PF']\n",
    "c_sf_08 = hoops_data_2008.loc[hoops_data['Pos'] == 'C-SF']\n",
    "\n",
    "#creating the mean of 2 pt attempts for bigs in '07\n",
    "c_mean_08 = c_08['2PA'].mean()\n",
    "pf_mean_08 = pf_08['2PA'].mean()\n",
    "sf_pf_mean_08 = sf_pf_08['2PA'].mean()\n",
    "pf_sf_mean_08 = pf_sf_08['2PA'].mean()\n",
    "c_pf_mean_08 = c_pf_08['2PA'].mean()\n",
    "pf_c_mean_08 = pf_c_08['2PA'].mean()\n",
    "sg_pf_mean_08 = sg_pf_08['2PA'].mean()\n",
    "c_sf_mean_08 = c_sf_08['2PA'].mean()\n",
    "\n",
    "#making a DF to find the NaN values\n",
    "two_pters_taken_mean_08_df = pd.DataFrame({'C':c_mean_08, \"PF\": pf_mean_08, \n",
    "                            \"SF/PF\": sf_pf_mean_08, 'PF/SF': pf_sf_mean_08,\n",
    "                             'C/PF': c_pf_mean_08, 'PF/C': pf_c_mean_08,\n",
    "                             'SG/PF': sg_pf_mean_08, 'C/SF': c_sf_mean_08},\n",
    "                             index = [0])\n",
    "two_pters_taken_mean_08_df"
   ]
  },
  {
   "cell_type": "code",
   "execution_count": 113,
   "metadata": {},
   "outputs": [
    {
     "data": {
      "text/plain": [
       "202.4394495688039"
      ]
     },
     "execution_count": 113,
     "metadata": {},
     "output_type": "execute_result"
    }
   ],
   "source": [
    "two_pt_att_mean_08 = (c_mean_08 + pf_mean_08 + sf_pf_mean_08 + pf_sf_mean_08\n",
    "                     +c_pf_mean_08 + sg_pf_mean_08 + c_sf_mean_08) / 7\n",
    "two_pt_att_mean_08"
   ]
  },
  {
   "cell_type": "code",
   "execution_count": 114,
   "metadata": {},
   "outputs": [
    {
     "data": {
      "text/html": [
       "<div>\n",
       "<style scoped>\n",
       "    .dataframe tbody tr th:only-of-type {\n",
       "        vertical-align: middle;\n",
       "    }\n",
       "\n",
       "    .dataframe tbody tr th {\n",
       "        vertical-align: top;\n",
       "    }\n",
       "\n",
       "    .dataframe thead th {\n",
       "        text-align: right;\n",
       "    }\n",
       "</style>\n",
       "<table border=\"1\" class=\"dataframe\">\n",
       "  <thead>\n",
       "    <tr style=\"text-align: right;\">\n",
       "      <th></th>\n",
       "      <th>C</th>\n",
       "      <th>PF</th>\n",
       "      <th>SF/PF</th>\n",
       "      <th>PF/SF</th>\n",
       "      <th>C/PF</th>\n",
       "      <th>PF/C</th>\n",
       "      <th>SG/PF</th>\n",
       "      <th>C/SF</th>\n",
       "    </tr>\n",
       "  </thead>\n",
       "  <tbody>\n",
       "    <tr>\n",
       "      <th>0</th>\n",
       "      <td>277.460317</td>\n",
       "      <td>291.798319</td>\n",
       "      <td>135.5</td>\n",
       "      <td>390.0</td>\n",
       "      <td>NaN</td>\n",
       "      <td>491.0</td>\n",
       "      <td>NaN</td>\n",
       "      <td>NaN</td>\n",
       "    </tr>\n",
       "  </tbody>\n",
       "</table>\n",
       "</div>"
      ],
      "text/plain": [
       "            C          PF  SF/PF  PF/SF  C/PF   PF/C  SG/PF  C/SF\n",
       "0  277.460317  291.798319  135.5  390.0   NaN  491.0    NaN   NaN"
      ]
     },
     "execution_count": 114,
     "metadata": {},
     "output_type": "execute_result"
    }
   ],
   "source": [
    "#2009\n",
    "#creating a variable for big men in '09\n",
    "c_09 = hoops_data_2009.loc[hoops_data['Pos'] == 'C']\n",
    "pf_09 = hoops_data_2009.loc[hoops_data['Pos'] == 'PF']\n",
    "sf_pf_09 = hoops_data_2009.loc[hoops_data['Pos'] == 'SF-PF']\n",
    "pf_sf_09 = hoops_data_2009.loc[hoops_data['Pos'] == 'PF-SF']\n",
    "c_pf_09 = hoops_data_2009.loc[hoops_data['Pos'] == 'C-PF']\n",
    "pf_c_09 = hoops_data_2009.loc[hoops_data['Pos'] == 'PF-C']\n",
    "sg_pf_09 = hoops_data_2009.loc[hoops_data['Pos'] == 'SG-PF']\n",
    "c_sf_09 = hoops_data_2009.loc[hoops_data['Pos'] == 'C-SF']\n",
    "\n",
    "#creating the mean of 2 pt attempts for bigs in '07\n",
    "c_mean_09 = c_09['2PA'].mean()\n",
    "pf_mean_09 = pf_09['2PA'].mean()\n",
    "sf_pf_mean_09 = sf_pf_09['2PA'].mean()\n",
    "pf_sf_mean_09 = pf_sf_09['2PA'].mean()\n",
    "c_pf_mean_09 = c_pf_09['2PA'].mean()\n",
    "pf_c_mean_09 = pf_c_09['2PA'].mean()\n",
    "sg_pf_mean_09 = sg_pf_09['2PA'].mean()\n",
    "c_sf_mean_09 = c_sf_09['2PA'].mean()\n",
    "\n",
    "#making a DF to find the NaN values\n",
    "two_pters_taken_mean_09_df = pd.DataFrame({'C':c_mean_09, \"PF\": pf_mean_09, \n",
    "                            \"SF/PF\": sf_pf_mean_09, 'PF/SF': pf_sf_mean_09,\n",
    "                             'C/PF': c_pf_mean_09, 'PF/C': pf_c_mean_09,\n",
    "                             'SG/PF': sg_pf_mean_09, 'C/SF': c_sf_mean_09},\n",
    "                             index = [0])\n",
    "two_pters_taken_mean_09_df"
   ]
  },
  {
   "cell_type": "code",
   "execution_count": 119,
   "metadata": {},
   "outputs": [
    {
     "data": {
      "text/plain": [
       "317.15172735760973"
      ]
     },
     "execution_count": 119,
     "metadata": {},
     "output_type": "execute_result"
    }
   ],
   "source": [
    "two_pt_att_mean_09 = (c_mean_09 + pf_mean_09 + sf_pf_mean_09 + \n",
    "                      pf_c_mean_09 + pf_sf_mean_09) / 5\n",
    "two_pt_att_mean_09"
   ]
  },
  {
   "cell_type": "code",
   "execution_count": 120,
   "metadata": {},
   "outputs": [
    {
     "data": {
      "text/html": [
       "<div>\n",
       "<style scoped>\n",
       "    .dataframe tbody tr th:only-of-type {\n",
       "        vertical-align: middle;\n",
       "    }\n",
       "\n",
       "    .dataframe tbody tr th {\n",
       "        vertical-align: top;\n",
       "    }\n",
       "\n",
       "    .dataframe thead th {\n",
       "        text-align: right;\n",
       "    }\n",
       "</style>\n",
       "<table border=\"1\" class=\"dataframe\">\n",
       "  <thead>\n",
       "    <tr style=\"text-align: right;\">\n",
       "      <th></th>\n",
       "      <th>C</th>\n",
       "      <th>PF</th>\n",
       "      <th>SF/PF</th>\n",
       "      <th>PF/SF</th>\n",
       "      <th>C/PF</th>\n",
       "      <th>PF/C</th>\n",
       "    </tr>\n",
       "  </thead>\n",
       "  <tbody>\n",
       "    <tr>\n",
       "      <th>0</th>\n",
       "      <td>300.28972</td>\n",
       "      <td>336.589744</td>\n",
       "      <td>NaN</td>\n",
       "      <td>230.0</td>\n",
       "      <td>594.0</td>\n",
       "      <td>329.666667</td>\n",
       "    </tr>\n",
       "  </tbody>\n",
       "</table>\n",
       "</div>"
      ],
      "text/plain": [
       "           C          PF  SF/PF  PF/SF   C/PF        PF/C\n",
       "0  300.28972  336.589744    NaN  230.0  594.0  329.666667"
      ]
     },
     "execution_count": 120,
     "metadata": {},
     "output_type": "execute_result"
    }
   ],
   "source": [
    "#Note to self: Starting in 2010 I'm excluding C/SF & SG/PF from being 'Bigs'\n",
    "#2010\n",
    "#creating a variable for big men in '10\n",
    "c_10 = hoops_data_2010.loc[hoops_data['Pos'] == 'C']\n",
    "pf_10 = hoops_data_2010.loc[hoops_data['Pos'] == 'PF']\n",
    "sf_pf_10 = hoops_data_2010.loc[hoops_data['Pos'] == 'SF-PF']\n",
    "pf_sf_10 = hoops_data_2010.loc[hoops_data['Pos'] == 'PF-SF']\n",
    "c_pf_10 = hoops_data_2010.loc[hoops_data['Pos'] == 'C-PF']\n",
    "pf_c_10 = hoops_data_2010.loc[hoops_data['Pos'] == 'PF-C']\n",
    "\n",
    "\n",
    "#creating the mean of 2 pt attempts for bigs in '07\n",
    "c_mean_10 = c_10['2PA'].mean()\n",
    "pf_mean_10 = pf_10['2PA'].mean()\n",
    "sf_pf_mean_10 = sf_pf_10['2PA'].mean()\n",
    "pf_sf_mean_10 = pf_sf_10['2PA'].mean()\n",
    "c_pf_mean_10 = c_pf_10['2PA'].mean()\n",
    "pf_c_mean_10 = pf_c_10['2PA'].mean()\n",
    "\n",
    "\n",
    "#making a DF to find the NaN values\n",
    "two_pters_taken_mean_10_df = pd.DataFrame({'C':c_mean_10, \"PF\": pf_mean_10, \n",
    "                            \"SF/PF\": sf_pf_mean_10, 'PF/SF': pf_sf_mean_10,\n",
    "                             'C/PF': c_pf_mean_10, 'PF/C': pf_c_mean_10},\n",
    "                             index = [0])\n",
    "two_pters_taken_mean_10_df"
   ]
  },
  {
   "cell_type": "code",
   "execution_count": 121,
   "metadata": {},
   "outputs": [
    {
     "data": {
      "text/plain": [
       "358.1092259765157"
      ]
     },
     "execution_count": 121,
     "metadata": {},
     "output_type": "execute_result"
    }
   ],
   "source": [
    "two_pt_att_mean_10 = (c_mean_10 + pf_mean_10 + pf_sf_mean_10 + c_pf_mean_10\n",
    "                     + pf_c_mean_10) / 5\n",
    "two_pt_att_mean_10"
   ]
  },
  {
   "cell_type": "code",
   "execution_count": 122,
   "metadata": {},
   "outputs": [
    {
     "data": {
      "text/html": [
       "<div>\n",
       "<style scoped>\n",
       "    .dataframe tbody tr th:only-of-type {\n",
       "        vertical-align: middle;\n",
       "    }\n",
       "\n",
       "    .dataframe tbody tr th {\n",
       "        vertical-align: top;\n",
       "    }\n",
       "\n",
       "    .dataframe thead th {\n",
       "        text-align: right;\n",
       "    }\n",
       "</style>\n",
       "<table border=\"1\" class=\"dataframe\">\n",
       "  <thead>\n",
       "    <tr style=\"text-align: right;\">\n",
       "      <th></th>\n",
       "      <th>C</th>\n",
       "      <th>PF</th>\n",
       "      <th>SF/PF</th>\n",
       "      <th>PF/SF</th>\n",
       "      <th>C/PF</th>\n",
       "      <th>PF/C</th>\n",
       "    </tr>\n",
       "  </thead>\n",
       "  <tbody>\n",
       "    <tr>\n",
       "      <th>0</th>\n",
       "      <td>258.268657</td>\n",
       "      <td>329.324324</td>\n",
       "      <td>455.0</td>\n",
       "      <td>478.0</td>\n",
       "      <td>180.5</td>\n",
       "      <td>NaN</td>\n",
       "    </tr>\n",
       "  </tbody>\n",
       "</table>\n",
       "</div>"
      ],
      "text/plain": [
       "            C          PF  SF/PF  PF/SF   C/PF  PF/C\n",
       "0  258.268657  329.324324  455.0  478.0  180.5   NaN"
      ]
     },
     "execution_count": 122,
     "metadata": {},
     "output_type": "execute_result"
    }
   ],
   "source": [
    "#2011\n",
    "#creating a variable for big men in '11\n",
    "c_11 = hoops_data_2011.loc[hoops_data['Pos'] == 'C']\n",
    "pf_11 = hoops_data_2011.loc[hoops_data['Pos'] == 'PF']\n",
    "sf_pf_11 = hoops_data_2011.loc[hoops_data['Pos'] == 'SF-PF']\n",
    "pf_sf_11 = hoops_data_2011.loc[hoops_data['Pos'] == 'PF-SF']\n",
    "c_pf_11 = hoops_data_2011.loc[hoops_data['Pos'] == 'C-PF']\n",
    "pf_c_11 = hoops_data_2011.loc[hoops_data['Pos'] == 'PF-C']\n",
    "\n",
    "\n",
    "#creating the mean of 2 pt attempts for bigs in '07\n",
    "c_mean_11 = c_11['2PA'].mean()\n",
    "pf_mean_11 = pf_11['2PA'].mean()\n",
    "sf_pf_mean_11 = sf_pf_11['2PA'].mean()\n",
    "pf_sf_mean_11 = pf_sf_11['2PA'].mean()\n",
    "c_pf_mean_11 = c_pf_11['2PA'].mean()\n",
    "pf_c_mean_11 = pf_c_11['2PA'].mean()\n",
    "\n",
    "\n",
    "#making a DF to find the NaN values\n",
    "two_pters_taken_mean_11_df = pd.DataFrame({'C':c_mean_11, \"PF\": pf_mean_11, \n",
    "                            \"SF/PF\": sf_pf_mean_11, 'PF/SF': pf_sf_mean_11,\n",
    "                             'C/PF': c_pf_mean_11, 'PF/C': pf_c_mean_11},\n",
    "                             index = [0])\n",
    "two_pters_taken_mean_11_df"
   ]
  },
  {
   "cell_type": "code",
   "execution_count": 123,
   "metadata": {},
   "outputs": [
    {
     "data": {
      "text/plain": [
       "340.2185962081484"
      ]
     },
     "execution_count": 123,
     "metadata": {},
     "output_type": "execute_result"
    }
   ],
   "source": [
    "two_pt_att_mean_11 = (c_mean_11 + pf_mean_11 + sf_pf_mean_11 + pf_sf_mean_11\n",
    "                      +c_pf_mean_11) / 5\n",
    "two_pt_att_mean_11"
   ]
  },
  {
   "cell_type": "code",
   "execution_count": 124,
   "metadata": {},
   "outputs": [
    {
     "data": {
      "text/html": [
       "<div>\n",
       "<style scoped>\n",
       "    .dataframe tbody tr th:only-of-type {\n",
       "        vertical-align: middle;\n",
       "    }\n",
       "\n",
       "    .dataframe tbody tr th {\n",
       "        vertical-align: top;\n",
       "    }\n",
       "\n",
       "    .dataframe thead th {\n",
       "        text-align: right;\n",
       "    }\n",
       "</style>\n",
       "<table border=\"1\" class=\"dataframe\">\n",
       "  <thead>\n",
       "    <tr style=\"text-align: right;\">\n",
       "      <th></th>\n",
       "      <th>C</th>\n",
       "      <th>PF</th>\n",
       "      <th>SF/PF</th>\n",
       "      <th>PF/SF</th>\n",
       "      <th>C/PF</th>\n",
       "      <th>PF/C</th>\n",
       "    </tr>\n",
       "  </thead>\n",
       "  <tbody>\n",
       "    <tr>\n",
       "      <th>0</th>\n",
       "      <td>204.165289</td>\n",
       "      <td>297.084906</td>\n",
       "      <td>86.0</td>\n",
       "      <td>45.0</td>\n",
       "      <td>61.0</td>\n",
       "      <td>NaN</td>\n",
       "    </tr>\n",
       "  </tbody>\n",
       "</table>\n",
       "</div>"
      ],
      "text/plain": [
       "            C          PF  SF/PF  PF/SF  C/PF  PF/C\n",
       "0  204.165289  297.084906   86.0   45.0  61.0   NaN"
      ]
     },
     "execution_count": 124,
     "metadata": {},
     "output_type": "execute_result"
    }
   ],
   "source": [
    "#2012\n",
    "#creating a variable for big men in '12\n",
    "c_12 = hoops_data_2012.loc[hoops_data['Pos'] == 'C']\n",
    "pf_12 = hoops_data_2012.loc[hoops_data['Pos'] == 'PF']\n",
    "sf_pf_12 = hoops_data_2012.loc[hoops_data['Pos'] == 'SF-PF']\n",
    "pf_sf_12 = hoops_data_2012.loc[hoops_data['Pos'] == 'PF-SF']\n",
    "c_pf_12 = hoops_data_2012.loc[hoops_data['Pos'] == 'C-PF']\n",
    "pf_c_12 = hoops_data_2012.loc[hoops_data['Pos'] == 'PF-C']\n",
    "\n",
    "\n",
    "#creating the mean of 2 pt attempts for bigs in '07\n",
    "c_mean_12 = c_12['2PA'].mean()\n",
    "pf_mean_12 = pf_12['2PA'].mean()\n",
    "sf_pf_mean_12 = sf_pf_12['2PA'].mean()\n",
    "pf_sf_mean_12 = pf_sf_12['2PA'].mean()\n",
    "c_pf_mean_12 = c_pf_12['2PA'].mean()\n",
    "pf_c_mean_12 = pf_c_12['2PA'].mean()\n",
    "\n",
    "\n",
    "#making a DF to find the NaN values\n",
    "two_pters_taken_mean_12_df = pd.DataFrame({'C':c_mean_12, \"PF\": pf_mean_12, \n",
    "                            \"SF/PF\": sf_pf_mean_12, 'PF/SF': pf_sf_mean_12,\n",
    "                             'C/PF': c_pf_mean_12, 'PF/C': pf_c_mean_12},\n",
    "                             index = [0])\n",
    "two_pters_taken_mean_12_df"
   ]
  },
  {
   "cell_type": "code",
   "execution_count": 125,
   "metadata": {},
   "outputs": [
    {
     "data": {
      "text/plain": [
       "138.65003898331514"
      ]
     },
     "execution_count": 125,
     "metadata": {},
     "output_type": "execute_result"
    }
   ],
   "source": [
    "two_pt_att_mean_12 = (c_mean_12 + pf_mean_12 + sf_pf_mean_12 + pf_sf_mean_12\n",
    "                     + c_pf_mean_12) / 5\n",
    "two_pt_att_mean_12"
   ]
  },
  {
   "cell_type": "code",
   "execution_count": 126,
   "metadata": {},
   "outputs": [
    {
     "data": {
      "text/html": [
       "<div>\n",
       "<style scoped>\n",
       "    .dataframe tbody tr th:only-of-type {\n",
       "        vertical-align: middle;\n",
       "    }\n",
       "\n",
       "    .dataframe tbody tr th {\n",
       "        vertical-align: top;\n",
       "    }\n",
       "\n",
       "    .dataframe thead th {\n",
       "        text-align: right;\n",
       "    }\n",
       "</style>\n",
       "<table border=\"1\" class=\"dataframe\">\n",
       "  <thead>\n",
       "    <tr style=\"text-align: right;\">\n",
       "      <th></th>\n",
       "      <th>C</th>\n",
       "      <th>PF</th>\n",
       "      <th>SF/PF</th>\n",
       "      <th>PF/SF</th>\n",
       "      <th>C/PF</th>\n",
       "      <th>PF/C</th>\n",
       "    </tr>\n",
       "  </thead>\n",
       "  <tbody>\n",
       "    <tr>\n",
       "      <th>0</th>\n",
       "      <td>298.901786</td>\n",
       "      <td>338.8</td>\n",
       "      <td>404.0</td>\n",
       "      <td>293.0</td>\n",
       "      <td>482.0</td>\n",
       "      <td>49.0</td>\n",
       "    </tr>\n",
       "  </tbody>\n",
       "</table>\n",
       "</div>"
      ],
      "text/plain": [
       "            C     PF  SF/PF  PF/SF   C/PF  PF/C\n",
       "0  298.901786  338.8  404.0  293.0  482.0  49.0"
      ]
     },
     "execution_count": 126,
     "metadata": {},
     "output_type": "execute_result"
    }
   ],
   "source": [
    "#2013\n",
    "#creating a variable for big men in '13\n",
    "c_13 = hoops_data_2013.loc[hoops_data['Pos'] == 'C']\n",
    "pf_13 = hoops_data_2013.loc[hoops_data['Pos'] == 'PF']\n",
    "sf_pf_13 = hoops_data_2013.loc[hoops_data['Pos'] == 'SF-PF']\n",
    "pf_sf_13 = hoops_data_2013.loc[hoops_data['Pos'] == 'PF-SF']\n",
    "c_pf_13 = hoops_data_2013.loc[hoops_data['Pos'] == 'C-PF']\n",
    "pf_c_13 = hoops_data_2013.loc[hoops_data['Pos'] == 'PF-C']\n",
    "\n",
    "\n",
    "#creating the mean of 2 pt attempts for bigs in '07\n",
    "c_mean_13 = c_13['2PA'].mean()\n",
    "pf_mean_13 = pf_13['2PA'].mean()\n",
    "sf_pf_mean_13 = sf_pf_13['2PA'].mean()\n",
    "pf_sf_mean_13 = pf_sf_13['2PA'].mean()\n",
    "c_pf_mean_13 = c_pf_13['2PA'].mean()\n",
    "pf_c_mean_13 = pf_c_13['2PA'].mean()\n",
    "\n",
    "\n",
    "#making a DF to find the NaN values\n",
    "two_pters_taken_mean_13_df = pd.DataFrame({'C':c_mean_13, \"PF\": pf_mean_13, \n",
    "                            \"SF/PF\": sf_pf_mean_13, 'PF/SF': pf_sf_mean_13,\n",
    "                             'C/PF': c_pf_mean_13, 'PF/C': pf_c_mean_13},\n",
    "                             index = [0])\n",
    "two_pters_taken_mean_13_df"
   ]
  },
  {
   "cell_type": "code",
   "execution_count": 144,
   "metadata": {},
   "outputs": [
    {
     "data": {
      "text/plain": [
       "310.9502976190476"
      ]
     },
     "execution_count": 144,
     "metadata": {},
     "output_type": "execute_result"
    }
   ],
   "source": [
    "two_pt_att_mean_13 = (c_mean_13 + pf_mean_13 + sf_pf_mean_13\n",
    "                     + pf_sf_mean_13 + c_pf_mean_13 + pf_c_mean_13) / 6\n",
    "two_pt_att_mean_13"
   ]
  },
  {
   "cell_type": "code",
   "execution_count": 129,
   "metadata": {},
   "outputs": [
    {
     "data": {
      "text/html": [
       "<div>\n",
       "<style scoped>\n",
       "    .dataframe tbody tr th:only-of-type {\n",
       "        vertical-align: middle;\n",
       "    }\n",
       "\n",
       "    .dataframe tbody tr th {\n",
       "        vertical-align: top;\n",
       "    }\n",
       "\n",
       "    .dataframe thead th {\n",
       "        text-align: right;\n",
       "    }\n",
       "</style>\n",
       "<table border=\"1\" class=\"dataframe\">\n",
       "  <thead>\n",
       "    <tr style=\"text-align: right;\">\n",
       "      <th></th>\n",
       "      <th>C</th>\n",
       "      <th>PF</th>\n",
       "      <th>SF/PF</th>\n",
       "      <th>PF/SF</th>\n",
       "      <th>C/PF</th>\n",
       "      <th>PF/C</th>\n",
       "    </tr>\n",
       "  </thead>\n",
       "  <tbody>\n",
       "    <tr>\n",
       "      <th>0</th>\n",
       "      <td>270.567568</td>\n",
       "      <td>337.9</td>\n",
       "      <td>383.0</td>\n",
       "      <td>176.0</td>\n",
       "      <td>NaN</td>\n",
       "      <td>NaN</td>\n",
       "    </tr>\n",
       "  </tbody>\n",
       "</table>\n",
       "</div>"
      ],
      "text/plain": [
       "            C     PF  SF/PF  PF/SF  C/PF  PF/C\n",
       "0  270.567568  337.9  383.0  176.0   NaN   NaN"
      ]
     },
     "execution_count": 129,
     "metadata": {},
     "output_type": "execute_result"
    }
   ],
   "source": [
    "#2014\n",
    "#creating a variable for big men in '14\n",
    "c_14 = hoops_data_2014.loc[hoops_data['Pos'] == 'C']\n",
    "pf_14 = hoops_data_2014.loc[hoops_data['Pos'] == 'PF']\n",
    "sf_pf_14 = hoops_data_2014.loc[hoops_data['Pos'] == 'SF-PF']\n",
    "pf_sf_14 = hoops_data_2014.loc[hoops_data['Pos'] == 'PF-SF']\n",
    "c_pf_14 = hoops_data_2014.loc[hoops_data['Pos'] == 'C-PF']\n",
    "pf_c_14 = hoops_data_2014.loc[hoops_data['Pos'] == 'PF-C']\n",
    "\n",
    "\n",
    "#creating the mean of 2 pt attempts for bigs in '07\n",
    "c_mean_14 = c_14['2PA'].mean()\n",
    "pf_mean_14 = pf_14['2PA'].mean()\n",
    "sf_pf_mean_14 = sf_pf_14['2PA'].mean()\n",
    "pf_sf_mean_14 = pf_sf_14['2PA'].mean()\n",
    "c_pf_mean_14 = c_pf_14['2PA'].mean()\n",
    "pf_c_mean_14 = pf_c_14['2PA'].mean()\n",
    "\n",
    "\n",
    "#making a DF to find the NaN values\n",
    "two_pters_taken_mean_14_df = pd.DataFrame({'C':c_mean_14, \"PF\": pf_mean_14, \n",
    "                            \"SF/PF\": sf_pf_mean_14, 'PF/SF': pf_sf_mean_14,\n",
    "                             'C/PF': c_pf_mean_14, 'PF/C': pf_c_mean_14},\n",
    "                             index = [0])\n",
    "two_pters_taken_mean_14_df"
   ]
  },
  {
   "cell_type": "code",
   "execution_count": 145,
   "metadata": {},
   "outputs": [
    {
     "data": {
      "text/plain": [
       "291.8668918918919"
      ]
     },
     "execution_count": 145,
     "metadata": {},
     "output_type": "execute_result"
    }
   ],
   "source": [
    "two_pt_att_mean_14 = (c_mean_14 + pf_mean_14 + sf_pf_mean_14 + pf_sf_mean_14) / 4\n",
    "two_pt_att_mean_14"
   ]
  },
  {
   "cell_type": "code",
   "execution_count": 131,
   "metadata": {},
   "outputs": [
    {
     "data": {
      "text/html": [
       "<div>\n",
       "<style scoped>\n",
       "    .dataframe tbody tr th:only-of-type {\n",
       "        vertical-align: middle;\n",
       "    }\n",
       "\n",
       "    .dataframe tbody tr th {\n",
       "        vertical-align: top;\n",
       "    }\n",
       "\n",
       "    .dataframe thead th {\n",
       "        text-align: right;\n",
       "    }\n",
       "</style>\n",
       "<table border=\"1\" class=\"dataframe\">\n",
       "  <thead>\n",
       "    <tr style=\"text-align: right;\">\n",
       "      <th></th>\n",
       "      <th>C</th>\n",
       "      <th>PF</th>\n",
       "      <th>SF/PF</th>\n",
       "      <th>PF/SF</th>\n",
       "      <th>C/PF</th>\n",
       "      <th>PF/C</th>\n",
       "    </tr>\n",
       "  </thead>\n",
       "  <tbody>\n",
       "    <tr>\n",
       "      <th>0</th>\n",
       "      <td>336.3</td>\n",
       "      <td>272.356643</td>\n",
       "      <td>8.0</td>\n",
       "      <td>420.0</td>\n",
       "      <td>NaN</td>\n",
       "      <td>NaN</td>\n",
       "    </tr>\n",
       "  </tbody>\n",
       "</table>\n",
       "</div>"
      ],
      "text/plain": [
       "       C          PF  SF/PF  PF/SF  C/PF  PF/C\n",
       "0  336.3  272.356643    8.0  420.0   NaN   NaN"
      ]
     },
     "execution_count": 131,
     "metadata": {},
     "output_type": "execute_result"
    }
   ],
   "source": [
    "#2015\n",
    "#creating a variable for big men in '15\n",
    "c_15 = hoops_data_2015.loc[hoops_data['Pos'] == 'C']\n",
    "pf_15 = hoops_data_2015.loc[hoops_data['Pos'] == 'PF']\n",
    "sf_pf_15 = hoops_data_2015.loc[hoops_data['Pos'] == 'SF-PF']\n",
    "pf_sf_15 = hoops_data_2015.loc[hoops_data['Pos'] == 'PF-SF']\n",
    "c_pf_15 = hoops_data_2015.loc[hoops_data['Pos'] == 'C-PF']\n",
    "pf_c_15 = hoops_data_2015.loc[hoops_data['Pos'] == 'PF-C']\n",
    "\n",
    "\n",
    "#creating the mean of 2 pt attempts for bigs in '07\n",
    "c_mean_15 = c_15['2PA'].mean()\n",
    "pf_mean_15 = pf_15['2PA'].mean()\n",
    "sf_pf_mean_15 = sf_pf_15['2PA'].mean()\n",
    "pf_sf_mean_15 = pf_sf_15['2PA'].mean()\n",
    "c_pf_mean_15 = c_pf_15['2PA'].mean()\n",
    "pf_c_mean_15 = pf_c_15['2PA'].mean()\n",
    "\n",
    "\n",
    "#making a DF to find the NaN values\n",
    "two_pters_taken_mean_15_df = pd.DataFrame({'C':c_mean_15, \"PF\": pf_mean_15, \n",
    "                            \"SF/PF\": sf_pf_mean_15, 'PF/SF': pf_sf_mean_15,\n",
    "                             'C/PF': c_pf_mean_15, 'PF/C': pf_c_mean_15},\n",
    "                             index = [0])\n",
    "two_pters_taken_mean_15_df"
   ]
  },
  {
   "cell_type": "code",
   "execution_count": 146,
   "metadata": {},
   "outputs": [
    {
     "data": {
      "text/plain": [
       "259.16416083916084"
      ]
     },
     "execution_count": 146,
     "metadata": {},
     "output_type": "execute_result"
    }
   ],
   "source": [
    "two_pt_att_mean_15 = (c_mean_15 + pf_mean_15 + sf_pf_mean_15 + pf_sf_mean_15) / 4\n",
    "two_pt_att_mean_15"
   ]
  },
  {
   "cell_type": "code",
   "execution_count": 133,
   "metadata": {},
   "outputs": [
    {
     "data": {
      "text/html": [
       "<div>\n",
       "<style scoped>\n",
       "    .dataframe tbody tr th:only-of-type {\n",
       "        vertical-align: middle;\n",
       "    }\n",
       "\n",
       "    .dataframe tbody tr th {\n",
       "        vertical-align: top;\n",
       "    }\n",
       "\n",
       "    .dataframe thead th {\n",
       "        text-align: right;\n",
       "    }\n",
       "</style>\n",
       "<table border=\"1\" class=\"dataframe\">\n",
       "  <thead>\n",
       "    <tr style=\"text-align: right;\">\n",
       "      <th></th>\n",
       "      <th>C</th>\n",
       "      <th>PF</th>\n",
       "      <th>SF/PF</th>\n",
       "      <th>PF/SF</th>\n",
       "      <th>C/PF</th>\n",
       "      <th>PF/C</th>\n",
       "    </tr>\n",
       "  </thead>\n",
       "  <tbody>\n",
       "    <tr>\n",
       "      <th>0</th>\n",
       "      <td>316.048077</td>\n",
       "      <td>266.756303</td>\n",
       "      <td>NaN</td>\n",
       "      <td>NaN</td>\n",
       "      <td>NaN</td>\n",
       "      <td>112.0</td>\n",
       "    </tr>\n",
       "  </tbody>\n",
       "</table>\n",
       "</div>"
      ],
      "text/plain": [
       "            C          PF  SF/PF  PF/SF  C/PF   PF/C\n",
       "0  316.048077  266.756303    NaN    NaN   NaN  112.0"
      ]
     },
     "execution_count": 133,
     "metadata": {},
     "output_type": "execute_result"
    }
   ],
   "source": [
    "#2016\n",
    "#creating a variable for big men in '16\n",
    "c_16 = hoops_data_2016.loc[hoops_data['Pos'] == 'C']\n",
    "pf_16 = hoops_data_2016.loc[hoops_data['Pos'] == 'PF']\n",
    "sf_pf_16 = hoops_data_2016.loc[hoops_data['Pos'] == 'SF-PF']\n",
    "pf_sf_16 = hoops_data_2016.loc[hoops_data['Pos'] == 'PF-SF']\n",
    "c_pf_16 = hoops_data_2016.loc[hoops_data['Pos'] == 'C-PF']\n",
    "pf_c_16 = hoops_data_2016.loc[hoops_data['Pos'] == 'PF-C']\n",
    "\n",
    "\n",
    "#creating the mean of 2 pt attempts for bigs in '07\n",
    "c_mean_16 = c_16['2PA'].mean()\n",
    "pf_mean_16 = pf_16['2PA'].mean()\n",
    "sf_pf_mean_16 = sf_pf_16['2PA'].mean()\n",
    "pf_sf_mean_16 = pf_sf_16['2PA'].mean()\n",
    "c_pf_mean_16 = c_pf_16['2PA'].mean()\n",
    "pf_c_mean_16 = pf_c_16['2PA'].mean()\n",
    "\n",
    "\n",
    "#making a DF to find the NaN values\n",
    "two_pters_taken_mean_16_df = pd.DataFrame({'C':c_mean_16, \"PF\": pf_mean_16, \n",
    "                            \"SF/PF\": sf_pf_mean_16, 'PF/SF': pf_sf_mean_16,\n",
    "                             'C/PF': c_pf_mean_16, 'PF/C': pf_c_mean_16},\n",
    "                             index = [0])\n",
    "two_pters_taken_mean_16_df"
   ]
  },
  {
   "cell_type": "code",
   "execution_count": 147,
   "metadata": {},
   "outputs": [
    {
     "data": {
      "text/plain": [
       "231.6014598146951"
      ]
     },
     "execution_count": 147,
     "metadata": {},
     "output_type": "execute_result"
    }
   ],
   "source": [
    "two_pt_att_mean_16 = (c_mean_16 + pf_mean_16 + pf_c_mean_16) / 3\n",
    "two_pt_att_mean_16"
   ]
  },
  {
   "cell_type": "code",
   "execution_count": 135,
   "metadata": {},
   "outputs": [
    {
     "data": {
      "text/html": [
       "<div>\n",
       "<style scoped>\n",
       "    .dataframe tbody tr th:only-of-type {\n",
       "        vertical-align: middle;\n",
       "    }\n",
       "\n",
       "    .dataframe tbody tr th {\n",
       "        vertical-align: top;\n",
       "    }\n",
       "\n",
       "    .dataframe thead th {\n",
       "        text-align: right;\n",
       "    }\n",
       "</style>\n",
       "<table border=\"1\" class=\"dataframe\">\n",
       "  <thead>\n",
       "    <tr style=\"text-align: right;\">\n",
       "      <th></th>\n",
       "      <th>C</th>\n",
       "      <th>PF</th>\n",
       "      <th>SF/PF</th>\n",
       "      <th>PF/SF</th>\n",
       "      <th>C/PF</th>\n",
       "      <th>PF/C</th>\n",
       "    </tr>\n",
       "  </thead>\n",
       "  <tbody>\n",
       "    <tr>\n",
       "      <th>0</th>\n",
       "      <td>311.256637</td>\n",
       "      <td>241.495798</td>\n",
       "      <td>NaN</td>\n",
       "      <td>NaN</td>\n",
       "      <td>NaN</td>\n",
       "      <td>238.0</td>\n",
       "    </tr>\n",
       "  </tbody>\n",
       "</table>\n",
       "</div>"
      ],
      "text/plain": [
       "            C          PF  SF/PF  PF/SF  C/PF   PF/C\n",
       "0  311.256637  241.495798    NaN    NaN   NaN  238.0"
      ]
     },
     "execution_count": 135,
     "metadata": {},
     "output_type": "execute_result"
    }
   ],
   "source": [
    "#2017\n",
    "#creating a variable for big men in '17\n",
    "c_17 = hoops_data_2017.loc[hoops_data['Pos'] == 'C']\n",
    "pf_17 = hoops_data_2017.loc[hoops_data['Pos'] == 'PF']\n",
    "sf_pf_17 = hoops_data_2017.loc[hoops_data['Pos'] == 'SF-PF']\n",
    "pf_sf_17 = hoops_data_2017.loc[hoops_data['Pos'] == 'PF-SF']\n",
    "c_pf_17 = hoops_data_2017.loc[hoops_data['Pos'] == 'C-PF']\n",
    "pf_c_17 = hoops_data_2017.loc[hoops_data['Pos'] == 'PF-C']\n",
    "\n",
    "\n",
    "#creating the mean of 2 pt attempts for bigs in '17\n",
    "c_mean_17 = c_17['2PA'].mean()\n",
    "pf_mean_17 = pf_17['2PA'].mean()\n",
    "sf_pf_mean_17 = sf_pf_17['2PA'].mean()\n",
    "pf_sf_mean_17 = pf_sf_17['2PA'].mean()\n",
    "c_pf_mean_17 = c_pf_17['2PA'].mean()\n",
    "pf_c_mean_17 = pf_c_17['2PA'].mean()\n",
    "\n",
    "\n",
    "#making a DF to find the NaN values\n",
    "two_pters_taken_mean_17_df = pd.DataFrame({'C':c_mean_17, \"PF\": pf_mean_17, \n",
    "                            \"SF/PF\": sf_pf_mean_17, 'PF/SF': pf_sf_mean_17,\n",
    "                             'C/PF': c_pf_mean_17, 'PF/C': pf_c_mean_17},\n",
    "                             index = [0])\n",
    "two_pters_taken_mean_17_df"
   ]
  },
  {
   "cell_type": "code",
   "execution_count": 143,
   "metadata": {},
   "outputs": [
    {
     "data": {
      "text/plain": [
       "263.58414516248973"
      ]
     },
     "execution_count": 143,
     "metadata": {},
     "output_type": "execute_result"
    }
   ],
   "source": [
    "two_pt_att_mean_17 = (c_mean_17 + pf_mean_17 + pf_c_mean_17) / 3\n",
    "two_pt_att_mean_17"
   ]
  },
  {
   "cell_type": "code",
   "execution_count": 139,
   "metadata": {},
   "outputs": [
    {
     "data": {
      "text/html": [
       "<div>\n",
       "<style scoped>\n",
       "    .dataframe tbody tr th:only-of-type {\n",
       "        vertical-align: middle;\n",
       "    }\n",
       "\n",
       "    .dataframe tbody tr th {\n",
       "        vertical-align: top;\n",
       "    }\n",
       "\n",
       "    .dataframe thead th {\n",
       "        text-align: right;\n",
       "    }\n",
       "</style>\n",
       "<table border=\"1\" class=\"dataframe\">\n",
       "  <thead>\n",
       "    <tr style=\"text-align: right;\">\n",
       "      <th></th>\n",
       "      <th>C</th>\n",
       "      <th>PF</th>\n",
       "      <th>SF/PF</th>\n",
       "      <th>PF/SF</th>\n",
       "      <th>C/PF</th>\n",
       "      <th>PF/C</th>\n",
       "      <th>SG/PF</th>\n",
       "      <th>C/SF</th>\n",
       "    </tr>\n",
       "  </thead>\n",
       "  <tbody>\n",
       "    <tr>\n",
       "      <th>0</th>\n",
       "      <td>232.125984</td>\n",
       "      <td>332.869565</td>\n",
       "      <td>67.0</td>\n",
       "      <td>324.0</td>\n",
       "      <td>NaN</td>\n",
       "      <td>NaN</td>\n",
       "      <td>NaN</td>\n",
       "      <td>NaN</td>\n",
       "    </tr>\n",
       "  </tbody>\n",
       "</table>\n",
       "</div>"
      ],
      "text/plain": [
       "            C          PF  SF/PF  PF/SF  C/PF  PF/C  SG/PF  C/SF\n",
       "0  232.125984  332.869565   67.0  324.0   NaN   NaN    NaN   NaN"
      ]
     },
     "execution_count": 139,
     "metadata": {},
     "output_type": "execute_result"
    }
   ],
   "source": [
    "#Coming back to 2000\n",
    "#creating a variable for big men in '00\n",
    "c_00 = hoops_data_2000.loc[hoops_data['Pos'] == 'C']\n",
    "pf_00 = hoops_data_2000.loc[hoops_data['Pos'] == 'PF']\n",
    "sf_pf_00 = hoops_data_2000.loc[hoops_data['Pos'] == 'SF-PF']\n",
    "pf_sf_00 = hoops_data_2000.loc[hoops_data['Pos'] == 'PF-SF']\n",
    "c_pf_00 = hoops_data_2000.loc[hoops_data['Pos'] == 'C-PF']\n",
    "pf_c_00 = hoops_data_2000.loc[hoops_data['Pos'] == 'PF-C']\n",
    "sg_pf_00 = hoops_data_2000.loc[hoops_data['Pos'] == 'SG-PF']\n",
    "c_sf_00 = hoops_data_2000.loc[hoops_data['Pos'] == 'C-SF']\n",
    "\n",
    "#creating the mean of 2 pt attempts for bigs in '00\n",
    "c_mean_00 = c_00['2PA'].mean()\n",
    "pf_mean_00 = pf_00['2PA'].mean()\n",
    "sf_pf_mean_00 = sf_pf_00['2PA'].mean()\n",
    "pf_sf_mean_00 = pf_sf_00['2PA'].mean()\n",
    "c_pf_mean_00 = c_pf_00['2PA'].mean()\n",
    "pf_c_mean_00 = pf_c_00['2PA'].mean()\n",
    "sg_pf_mean_00 = sg_pf_00['2PA'].mean()\n",
    "c_sf_mean_00 = c_sf_00['2PA'].mean()\n",
    "\n",
    "#making a DF to find the NaN values\n",
    "two_pters_taken_mean_00_df = pd.DataFrame({'C':c_mean_04, \"PF\": pf_mean_00, \n",
    "                            \"SF/PF\": sf_pf_mean_00, 'PF/SF': pf_sf_mean_00,\n",
    "                             'C/PF': c_pf_mean_00, 'PF/C': pf_c_mean_00,\n",
    "                             'SG/PF': sg_pf_mean_00, 'C/SF': c_sf_mean_00},\n",
    "                             index = [0])\n",
    "two_pters_taken_mean_00_df"
   ]
  },
  {
   "cell_type": "code",
   "execution_count": 142,
   "metadata": {},
   "outputs": [
    {
     "data": {
      "text/plain": [
       "267.2375062468766"
      ]
     },
     "execution_count": 142,
     "metadata": {},
     "output_type": "execute_result"
    }
   ],
   "source": [
    "two_pt_att_mean_00 = (c_mean_00 + pf_mean_00 + sf_pf_mean_00 + pf_sf_mean_00) / 4\n",
    "two_pt_att_mean_00"
   ]
  },
  {
   "cell_type": "code",
   "execution_count": 174,
   "metadata": {},
   "outputs": [
    {
     "data": {
      "image/png": "[encoded data removed]",
      "text/plain": [
       "<Figure size 432x288 with 1 Axes>"
      ]
     },
     "metadata": {
      "needs_background": "light"
     },
     "output_type": "display_data"
    }
   ],
   "source": [
    "#Creating the bar plot to show 2pt attempts over the years\n",
    "height_in_order = [267.2375062468766,393.37733605164794,329.96759711106773,\n",
    "                  462.3820478586834,239.6020472440945,264.6746556473829,\n",
    "                  198.58414112987285,326.7104401898216,202.4394495688039,\n",
    "                  317.15172735760973,358.1092259765157,340.2185962081484,\n",
    "                  138.65003898331514,310.9502976190476,291.8668918918919,\n",
    "                  259.16416083916084,231.6014598146951,263.58414516248973]\n",
    "years = ('2000','2001','2002','2003','2004','2005','2006','2007','2008',\n",
    "         '2009','2010','2011','2012',\n",
    "        '2013','2014','2015','2016','2017')\n",
    "x_pos_2 = 'years'\n",
    "width = .5\n",
    "\n",
    "plt.bar('years', height, alpha = .5)\n",
    "plt.xticks(x_pos_2, years)\n",
    "plt.ylabel(\"Average 2pt Attempts by Bigs\")\n",
    "plt.title(\"2pt Attempts\")\n",
    "\n",
    "plt.show()"
   ]
  },
  {
   "cell_type": "code",
   "execution_count": null,
   "metadata": {},
   "outputs": [],
   "source": []
  }
 ],
 "metadata": {
  "kernelspec": {
   "display_name": "Python 3",
   "language": "python",
   "name": "python3"
  },
  "language_info": {
   "codemirror_mode": {
    "name": "ipython",
    "version": 3
   },
   "file_extension": ".py",
   "mimetype": "text/x-python",
   "name": "python",
   "nbconvert_exporter": "python",
   "pygments_lexer": "ipython3",
   "version": "3.7.1"
  }
 },
 "nbformat": 4,
 "nbformat_minor": 2
}
